{
  "nbformat": 4,
  "nbformat_minor": 0,
  "metadata": {
    "colab": {
      "name": "CholletTransferLearningKeras.ipynb",
      "version": "0.3.2",
      "provenance": [],
      "collapsed_sections": [],
      "include_colab_link": true
    },
    "kernelspec": {
      "name": "python3",
      "display_name": "Python 3"
    },
    "accelerator": "GPU"
  },
  "cells": [
    {
      "cell_type": "markdown",
      "metadata": {
        "id": "view-in-github",
        "colab_type": "text"
      },
      "source": [
        "<a href=\"https://colab.research.google.com/github/ActionPace/DeepLearningTests/blob/master/CholletTransferLearningKeras.ipynb\" target=\"_parent\"><img src=\"https://colab.research.google.com/assets/colab-badge.svg\" alt=\"Open In Colab\"/></a>"
      ]
    },
    {
      "cell_type": "code",
      "metadata": {
        "id": "H5Mhy9oXCE4S",
        "colab_type": "code",
        "colab": {}
      },
      "source": [
        ""
      ],
      "execution_count": 0,
      "outputs": []
    },
    {
      "cell_type": "code",
      "metadata": {
        "id": "jMJPZ5zsDLbm",
        "colab_type": "code",
        "outputId": "ab1e51d0-d365-4b21-8cab-e379862b9c1e",
        "colab": {
          "base_uri": "https://localhost:8080/",
          "height": 208
        }
      },
      "source": [
        "!wget https://s3.amazonaws.com/machinelearningfiles/dogsandcats-train.zip"
      ],
      "execution_count": 0,
      "outputs": [
        {
          "output_type": "stream",
          "text": [
            "--2019-04-21 21:39:57--  https://s3.amazonaws.com/machinelearningfiles/dogsandcats-train.zip\n",
            "Resolving s3.amazonaws.com (s3.amazonaws.com)... 52.216.102.149\n",
            "Connecting to s3.amazonaws.com (s3.amazonaws.com)|52.216.102.149|:443... connected.\n",
            "HTTP request sent, awaiting response... 200 OK\n",
            "Length: 569546721 (543M) [application/zip]\n",
            "Saving to: ‘dogsandcats-train.zip’\n",
            "\n",
            "dogsandcats-train.z 100%[===================>] 543.16M  66.2MB/s    in 9.5s    \n",
            "\n",
            "2019-04-21 21:40:07 (56.9 MB/s) - ‘dogsandcats-train.zip’ saved [569546721/569546721]\n",
            "\n"
          ],
          "name": "stdout"
        }
      ]
    },
    {
      "cell_type": "code",
      "metadata": {
        "id": "p6VH2Lu311ci",
        "colab_type": "code",
        "colab": {}
      },
      "source": [
        "\n",
        "!unzip -q dogsandcats-train.zip"
      ],
      "execution_count": 0,
      "outputs": []
    },
    {
      "cell_type": "code",
      "metadata": {
        "id": "bGmzuYu218om",
        "colab_type": "code",
        "colab": {}
      },
      "source": [
        "!rm dogsandcats-train.zip"
      ],
      "execution_count": 0,
      "outputs": []
    },
    {
      "cell_type": "code",
      "metadata": {
        "id": "AOq97OFA1_Yg",
        "colab_type": "code",
        "colab": {}
      },
      "source": [
        "import os, shutil\n",
        "\n",
        "original_dataset_dir = './train'    \n",
        "\n",
        "base_dir = './cats_and_dogs_small'                 \n",
        "os.mkdir(base_dir)\n",
        "\n",
        "train_dir = os.path.join(base_dir, 'train')                                \n",
        "os.mkdir(train_dir)\n",
        "validation_dir = os.path.join(base_dir, 'validation')                      \n",
        "os.mkdir(validation_dir)\n",
        "test_dir = os.path.join(base_dir, 'test')                                  \n",
        "os.mkdir(test_dir)\n",
        "\n",
        "train_cats_dir = os.path.join(train_dir, 'cats')                           \n",
        "os.mkdir(train_cats_dir)                                                   \n",
        "\n",
        "train_dogs_dir = os.path.join(train_dir, 'dogs')                           \n",
        "os.mkdir(train_dogs_dir)                                                   \n",
        "\n",
        "validation_cats_dir = os.path.join(validation_dir, 'cats')                 \n",
        "os.mkdir(validation_cats_dir)                                              \n",
        "\n",
        "validation_dogs_dir = os.path.join(validation_dir, 'dogs')                 \n",
        "os.mkdir(validation_dogs_dir)                                              \n",
        "\n",
        "test_cats_dir = os.path.join(test_dir, 'cats')                             \n",
        "os.mkdir(test_cats_dir)                                                    \n",
        "\n",
        "test_dogs_dir = os.path.join(test_dir, 'dogs')                             \n",
        "os.mkdir(test_dogs_dir)                                                    \n",
        "\n",
        "fnames = ['cat.{}.jpg'.format(i) for i in range(1000)]                     \n",
        "for fname in fnames:                                                       \n",
        "    src = os.path.join(original_dataset_dir, fname)                       \n",
        "    dst = os.path.join(train_cats_dir, fname)                              \n",
        "    shutil.copyfile(src, dst)                                              \n",
        "\n",
        "fnames = ['cat.{}.jpg'.format(i) for i in range(1000, 1500)]               \n",
        "for fname in fnames:                                                       \n",
        "    src = os.path.join(original_dataset_dir, fname)                        \n",
        "    dst = os.path.join(validation_cats_dir, fname)                         \n",
        "    shutil.copyfile(src, dst)                                              \n",
        "\n",
        "fnames = ['cat.{}.jpg'.format(i) for i in range(1500, 2000)]               \n",
        "for fname in fnames:                                                       \n",
        "    src = os.path.join(original_dataset_dir, fname)                        \n",
        "    dst = os.path.join(test_cats_dir, fname)                               \n",
        "    shutil.copyfile(src, dst)                                              \n",
        "\n",
        "fnames = ['dog.{}.jpg'.format(i) for i in range(1000)]                     \n",
        "for fname in fnames:                                                       \n",
        "    src = os.path.join(original_dataset_dir, fname)                        \n",
        "    dst = os.path.join(train_dogs_dir, fname)                              \n",
        "    shutil.copyfile(src, dst)                                              \n",
        "fnames = ['dog.{}.jpg'.format(i) for i in range(1000, 1500)]               \n",
        "for fname in fnames:                                                       \n",
        "    src = os.path.join(original_dataset_dir, fname)                        \n",
        "    dst = os.path.join(validation_dogs_dir, fname)                         \n",
        "    shutil.copyfile(src, dst)                                              \n",
        "\n",
        "fnames = ['dog.{}.jpg'.format(i) for i in range(1500, 2000)]               \n",
        "for fname in fnames:                                                       \n",
        "    src = os.path.join(original_dataset_dir, fname)                        \n",
        "    dst = os.path.join(test_dogs_dir, fname)                               \n",
        "    shutil.copyfile(src, dst)"
      ],
      "execution_count": 0,
      "outputs": []
    },
    {
      "cell_type": "code",
      "metadata": {
        "id": "fi5BETif2HIZ",
        "colab_type": "code",
        "outputId": "baeba5d8-2a30-4a9b-aac4-9939a51b0861",
        "colab": {
          "base_uri": "https://localhost:8080/",
          "height": 35
        }
      },
      "source": [
        "!ls"
      ],
      "execution_count": 0,
      "outputs": [
        {
          "output_type": "stream",
          "text": [
            "cats_and_dogs_small  sample_data  train\n"
          ],
          "name": "stdout"
        }
      ]
    },
    {
      "cell_type": "code",
      "metadata": {
        "id": "FCCwCQ342LRg",
        "colab_type": "code",
        "outputId": "9a38c29a-dfcd-42b8-d6b2-83ebbb2e67b9",
        "colab": {
          "base_uri": "https://localhost:8080/",
          "height": 35
        }
      },
      "source": [
        "!ls cats_and_dogs_small"
      ],
      "execution_count": 0,
      "outputs": [
        {
          "output_type": "stream",
          "text": [
            "test  train  validation\n"
          ],
          "name": "stdout"
        }
      ]
    },
    {
      "cell_type": "code",
      "metadata": {
        "id": "XEqrU5Xu2Onu",
        "colab_type": "code",
        "outputId": "55c20e78-b353-424d-cd7c-5b3d4b84ea30",
        "colab": {
          "base_uri": "https://localhost:8080/",
          "height": 35
        }
      },
      "source": [
        "\n",
        "!ls ./cats_and_dogs_small/test"
      ],
      "execution_count": 0,
      "outputs": [
        {
          "output_type": "stream",
          "text": [
            "cats  dogs\n"
          ],
          "name": "stdout"
        }
      ]
    },
    {
      "cell_type": "code",
      "metadata": {
        "id": "tp5oYfEa2Rm_",
        "colab_type": "code",
        "outputId": "2be97344-3627-4a64-e8ab-a1c24c03bdbd",
        "colab": {
          "base_uri": "https://localhost:8080/",
          "height": 35
        }
      },
      "source": [
        "!ls ./cats_and_dogs_small/train"
      ],
      "execution_count": 0,
      "outputs": [
        {
          "output_type": "stream",
          "text": [
            "cats  dogs\n"
          ],
          "name": "stdout"
        }
      ]
    },
    {
      "cell_type": "code",
      "metadata": {
        "id": "ZWo8O5Cx2UTU",
        "colab_type": "code",
        "outputId": "409c44c5-eec8-4524-f525-e5f2d07b378e",
        "colab": {
          "base_uri": "https://localhost:8080/",
          "height": 35
        }
      },
      "source": [
        "!ls ./cats_and_dogs_small/train/dogs | wc -l"
      ],
      "execution_count": 0,
      "outputs": [
        {
          "output_type": "stream",
          "text": [
            "1000\n"
          ],
          "name": "stdout"
        }
      ]
    },
    {
      "cell_type": "code",
      "metadata": {
        "id": "ecEv-4tq2XuB",
        "colab_type": "code",
        "outputId": "3a935df7-e326-467f-b136-3171a47d0896",
        "colab": {
          "base_uri": "https://localhost:8080/",
          "height": 35
        }
      },
      "source": [
        "!ls ./cats_and_dogs_small/train/cats | wc -l"
      ],
      "execution_count": 0,
      "outputs": [
        {
          "output_type": "stream",
          "text": [
            "1000\n"
          ],
          "name": "stdout"
        }
      ]
    },
    {
      "cell_type": "code",
      "metadata": {
        "id": "uzs5AKGr2aNO",
        "colab_type": "code",
        "outputId": "f768e91a-8808-4048-fa32-a4b7f682aaf4",
        "colab": {
          "base_uri": "https://localhost:8080/",
          "height": 35
        }
      },
      "source": [
        "!ls ./cats_and_dogs_small/test/dogs | wc -l"
      ],
      "execution_count": 0,
      "outputs": [
        {
          "output_type": "stream",
          "text": [
            "500\n"
          ],
          "name": "stdout"
        }
      ]
    },
    {
      "cell_type": "code",
      "metadata": {
        "id": "VziFmYYI2cr-",
        "colab_type": "code",
        "outputId": "cb734309-c318-47f5-db55-651a41b31d76",
        "colab": {
          "base_uri": "https://localhost:8080/",
          "height": 35
        }
      },
      "source": [
        "!ls ./cats_and_dogs_small/test/cats | wc -l"
      ],
      "execution_count": 0,
      "outputs": [
        {
          "output_type": "stream",
          "text": [
            "500\n"
          ],
          "name": "stdout"
        }
      ]
    },
    {
      "cell_type": "code",
      "metadata": {
        "id": "49cL6Xdb2fqP",
        "colab_type": "code",
        "outputId": "22d89d01-a592-43c3-e15b-d97575ad0f61",
        "colab": {
          "base_uri": "https://localhost:8080/",
          "height": 121
        }
      },
      "source": [
        "print('total training cat images:', len(os.listdir(train_cats_dir)))\n",
        "print('total training dog images:', len(os.listdir(train_dogs_dir)))\n",
        "print('total validation cat images:', len(os.listdir(validation_cats_dir)))\n",
        "print('total validation dog images:', len(os.listdir(validation_dogs_dir)))\n",
        "print('total test cat images:', len(os.listdir(test_cats_dir)))\n",
        "print('total test dog images:', len(os.listdir(test_dogs_dir)))"
      ],
      "execution_count": 0,
      "outputs": [
        {
          "output_type": "stream",
          "text": [
            "total training cat images: 1000\n",
            "total training dog images: 1000\n",
            "total validation cat images: 500\n",
            "total validation dog images: 500\n",
            "total test cat images: 500\n",
            "total test dog images: 500\n"
          ],
          "name": "stdout"
        }
      ]
    },
    {
      "cell_type": "code",
      "metadata": {
        "id": "vXrIti_x2jCd",
        "colab_type": "code",
        "outputId": "e5109c48-83c2-4f43-b7d4-0c2dcbd0edbf",
        "colab": {
          "base_uri": "https://localhost:8080/",
          "height": 141
        }
      },
      "source": [
        "from keras.applications import VGG16\n",
        "\n",
        "conv_base = VGG16(weights='imagenet',\n",
        "                  include_top=False,\n",
        "                  input_shape=(150, 150, 3))"
      ],
      "execution_count": 0,
      "outputs": [
        {
          "output_type": "stream",
          "text": [
            "Using TensorFlow backend.\n"
          ],
          "name": "stderr"
        },
        {
          "output_type": "stream",
          "text": [
            "WARNING:tensorflow:From /usr/local/lib/python3.6/dist-packages/tensorflow/python/framework/op_def_library.py:263: colocate_with (from tensorflow.python.framework.ops) is deprecated and will be removed in a future version.\n",
            "Instructions for updating:\n",
            "Colocations handled automatically by placer.\n",
            "Downloading data from https://github.com/fchollet/deep-learning-models/releases/download/v0.1/vgg16_weights_tf_dim_ordering_tf_kernels_notop.h5\n",
            "58892288/58889256 [==============================] - 1s 0us/step\n"
          ],
          "name": "stdout"
        }
      ]
    },
    {
      "cell_type": "code",
      "metadata": {
        "id": "cuc-khK43EVc",
        "colab_type": "code",
        "outputId": "5d3a6d57-f893-4d10-eec6-ff3e308cfab1",
        "colab": {
          "base_uri": "https://localhost:8080/",
          "height": 797
        }
      },
      "source": [
        "conv_base.summary()"
      ],
      "execution_count": 0,
      "outputs": [
        {
          "output_type": "stream",
          "text": [
            "_________________________________________________________________\n",
            "Layer (type)                 Output Shape              Param #   \n",
            "=================================================================\n",
            "input_1 (InputLayer)         (None, 150, 150, 3)       0         \n",
            "_________________________________________________________________\n",
            "block1_conv1 (Conv2D)        (None, 150, 150, 64)      1792      \n",
            "_________________________________________________________________\n",
            "block1_conv2 (Conv2D)        (None, 150, 150, 64)      36928     \n",
            "_________________________________________________________________\n",
            "block1_pool (MaxPooling2D)   (None, 75, 75, 64)        0         \n",
            "_________________________________________________________________\n",
            "block2_conv1 (Conv2D)        (None, 75, 75, 128)       73856     \n",
            "_________________________________________________________________\n",
            "block2_conv2 (Conv2D)        (None, 75, 75, 128)       147584    \n",
            "_________________________________________________________________\n",
            "block2_pool (MaxPooling2D)   (None, 37, 37, 128)       0         \n",
            "_________________________________________________________________\n",
            "block3_conv1 (Conv2D)        (None, 37, 37, 256)       295168    \n",
            "_________________________________________________________________\n",
            "block3_conv2 (Conv2D)        (None, 37, 37, 256)       590080    \n",
            "_________________________________________________________________\n",
            "block3_conv3 (Conv2D)        (None, 37, 37, 256)       590080    \n",
            "_________________________________________________________________\n",
            "block3_pool (MaxPooling2D)   (None, 18, 18, 256)       0         \n",
            "_________________________________________________________________\n",
            "block4_conv1 (Conv2D)        (None, 18, 18, 512)       1180160   \n",
            "_________________________________________________________________\n",
            "block4_conv2 (Conv2D)        (None, 18, 18, 512)       2359808   \n",
            "_________________________________________________________________\n",
            "block4_conv3 (Conv2D)        (None, 18, 18, 512)       2359808   \n",
            "_________________________________________________________________\n",
            "block4_pool (MaxPooling2D)   (None, 9, 9, 512)         0         \n",
            "_________________________________________________________________\n",
            "block5_conv1 (Conv2D)        (None, 9, 9, 512)         2359808   \n",
            "_________________________________________________________________\n",
            "block5_conv2 (Conv2D)        (None, 9, 9, 512)         2359808   \n",
            "_________________________________________________________________\n",
            "block5_conv3 (Conv2D)        (None, 9, 9, 512)         2359808   \n",
            "_________________________________________________________________\n",
            "block5_pool (MaxPooling2D)   (None, 4, 4, 512)         0         \n",
            "=================================================================\n",
            "Total params: 14,714,688\n",
            "Trainable params: 14,714,688\n",
            "Non-trainable params: 0\n",
            "_________________________________________________________________\n"
          ],
          "name": "stdout"
        }
      ]
    },
    {
      "cell_type": "code",
      "metadata": {
        "id": "Yx3r9Y2k3LWj",
        "colab_type": "code",
        "outputId": "ca50e6ab-7be9-471a-e9dd-d329be70050f",
        "colab": {
          "base_uri": "https://localhost:8080/",
          "height": 69
        }
      },
      "source": [
        "import os\n",
        "import numpy as np\n",
        "from keras.preprocessing.image import ImageDataGenerator\n",
        "\n",
        "base_dir = './cats_and_dogs_small'\n",
        "train_dir = os.path.join(base_dir, 'train')\n",
        "validation_dir = os.path.join(base_dir, 'validation')\n",
        "test_dir = os.path.join(base_dir, 'test')\n",
        "\n",
        "datagen = ImageDataGenerator(rescale=1./255)\n",
        "batch_size = 20\n",
        "\n",
        "def extract_features(directory, sample_count):\n",
        "    features = np.zeros(shape=(sample_count, 4, 4, 512))\n",
        "    labels = np.zeros(shape=(sample_count))\n",
        "    generator = datagen.flow_from_directory(\n",
        "        directory,\n",
        "        target_size=(150, 150),\n",
        "        batch_size=batch_size,\n",
        "        class_mode='binary')\n",
        "    i = 0\n",
        "    for inputs_batch, labels_batch in generator:\n",
        "        features_batch = conv_base.predict(inputs_batch)\n",
        "        features[i * batch_size : (i + 1) * batch_size] = features_batch\n",
        "        labels[i * batch_size : (i + 1) * batch_size] = labels_batch\n",
        "        i += 1\n",
        "        if i * batch_size >= sample_count:\n",
        "            break                                                           \n",
        "    return features, labels\n",
        "\n",
        "train_features, train_labels = extract_features(train_dir, 2000)\n",
        "validation_features, validation_labels = extract_features(validation_dir, 1000)\n",
        "test_features, test_labels = extract_features(test_dir, 1000)\n"
      ],
      "execution_count": 0,
      "outputs": [
        {
          "output_type": "stream",
          "text": [
            "Found 2000 images belonging to 2 classes.\n",
            "Found 1000 images belonging to 2 classes.\n",
            "Found 1000 images belonging to 2 classes.\n"
          ],
          "name": "stdout"
        }
      ]
    },
    {
      "cell_type": "code",
      "metadata": {
        "id": "RVw7VP0R3SFw",
        "colab_type": "code",
        "colab": {}
      },
      "source": [
        "train_features = np.reshape(train_features, (2000, 4 * 4 * 512))\n",
        "validation_features = np.reshape(validation_features, (1000, 4 * 4 * 512))\n",
        "test_features = np.reshape(test_features, (1000, 4 * 4 * 512))"
      ],
      "execution_count": 0,
      "outputs": []
    },
    {
      "cell_type": "code",
      "metadata": {
        "id": "UIL6or9S3fHj",
        "colab_type": "code",
        "outputId": "29f69621-f77a-444c-e1c0-0c8047b60ea0",
        "colab": {
          "base_uri": "https://localhost:8080/",
          "height": 1199
        }
      },
      "source": [
        "from keras import models\n",
        "from keras import layers\n",
        "from keras import optimizers\n",
        "\n",
        "model = models.Sequential()\n",
        "model.add(layers.Dense(256, activation='relu', input_dim=4 * 4 * 512))\n",
        "model.add(layers.Dropout(0.5))\n",
        "model.add(layers.Dense(1, activation='sigmoid'))\n",
        "\n",
        "model.compile(optimizer=optimizers.RMSprop(lr=2e-5),\n",
        "              loss='binary_crossentropy',\n",
        "              metrics=['acc'])\n",
        "\n",
        "history = model.fit(train_features, train_labels,\n",
        "                    epochs=30,\n",
        "                    batch_size=20,\n",
        "                    validation_data=(validation_features, validation_labels))"
      ],
      "execution_count": 0,
      "outputs": [
        {
          "output_type": "stream",
          "text": [
            "WARNING:tensorflow:From /usr/local/lib/python3.6/dist-packages/keras/backend/tensorflow_backend.py:3445: calling dropout (from tensorflow.python.ops.nn_ops) with keep_prob is deprecated and will be removed in a future version.\n",
            "Instructions for updating:\n",
            "Please use `rate` instead of `keep_prob`. Rate should be set to `rate = 1 - keep_prob`.\n",
            "WARNING:tensorflow:From /usr/local/lib/python3.6/dist-packages/tensorflow/python/ops/math_ops.py:3066: to_int32 (from tensorflow.python.ops.math_ops) is deprecated and will be removed in a future version.\n",
            "Instructions for updating:\n",
            "Use tf.cast instead.\n",
            "Train on 2000 samples, validate on 1000 samples\n",
            "Epoch 1/30\n",
            "2000/2000 [==============================] - 2s 755us/step - loss: 0.6426 - acc: 0.6215 - val_loss: 0.4666 - val_acc: 0.8190\n",
            "Epoch 2/30\n",
            "2000/2000 [==============================] - 1s 272us/step - loss: 0.4367 - acc: 0.7945 - val_loss: 0.3729 - val_acc: 0.8610\n",
            "Epoch 3/30\n",
            "2000/2000 [==============================] - 1s 264us/step - loss: 0.3770 - acc: 0.8340 - val_loss: 0.3264 - val_acc: 0.8840\n",
            "Epoch 4/30\n",
            "2000/2000 [==============================] - 1s 270us/step - loss: 0.3199 - acc: 0.8675 - val_loss: 0.3044 - val_acc: 0.8850\n",
            "Epoch 5/30\n",
            "2000/2000 [==============================] - 1s 265us/step - loss: 0.2934 - acc: 0.8800 - val_loss: 0.2885 - val_acc: 0.8880\n",
            "Epoch 6/30\n",
            "2000/2000 [==============================] - 1s 269us/step - loss: 0.2720 - acc: 0.8930 - val_loss: 0.2772 - val_acc: 0.8910\n",
            "Epoch 7/30\n",
            "2000/2000 [==============================] - 1s 266us/step - loss: 0.2429 - acc: 0.9080 - val_loss: 0.2634 - val_acc: 0.8970\n",
            "Epoch 8/30\n",
            "2000/2000 [==============================] - 1s 270us/step - loss: 0.2378 - acc: 0.9145 - val_loss: 0.2606 - val_acc: 0.8910\n",
            "Epoch 9/30\n",
            "2000/2000 [==============================] - 1s 266us/step - loss: 0.2169 - acc: 0.9175 - val_loss: 0.2536 - val_acc: 0.9060\n",
            "Epoch 10/30\n",
            "2000/2000 [==============================] - 1s 267us/step - loss: 0.2071 - acc: 0.9285 - val_loss: 0.2499 - val_acc: 0.9070\n",
            "Epoch 11/30\n",
            "2000/2000 [==============================] - 1s 267us/step - loss: 0.2015 - acc: 0.9295 - val_loss: 0.2483 - val_acc: 0.8980\n",
            "Epoch 12/30\n",
            "2000/2000 [==============================] - 1s 264us/step - loss: 0.1891 - acc: 0.9345 - val_loss: 0.2483 - val_acc: 0.8990\n",
            "Epoch 13/30\n",
            "2000/2000 [==============================] - 1s 259us/step - loss: 0.1747 - acc: 0.9350 - val_loss: 0.2493 - val_acc: 0.8990\n",
            "Epoch 14/30\n",
            "2000/2000 [==============================] - 1s 265us/step - loss: 0.1639 - acc: 0.9420 - val_loss: 0.2381 - val_acc: 0.9080\n",
            "Epoch 15/30\n",
            "2000/2000 [==============================] - 1s 260us/step - loss: 0.1617 - acc: 0.9445 - val_loss: 0.2381 - val_acc: 0.9050\n",
            "Epoch 16/30\n",
            "2000/2000 [==============================] - 1s 267us/step - loss: 0.1546 - acc: 0.9450 - val_loss: 0.2420 - val_acc: 0.9050\n",
            "Epoch 17/30\n",
            "2000/2000 [==============================] - 1s 266us/step - loss: 0.1524 - acc: 0.9460 - val_loss: 0.2374 - val_acc: 0.9050\n",
            "Epoch 18/30\n",
            "2000/2000 [==============================] - 1s 266us/step - loss: 0.1415 - acc: 0.9525 - val_loss: 0.2375 - val_acc: 0.9020\n",
            "Epoch 19/30\n",
            "2000/2000 [==============================] - 1s 266us/step - loss: 0.1340 - acc: 0.9565 - val_loss: 0.2362 - val_acc: 0.9050\n",
            "Epoch 20/30\n",
            "2000/2000 [==============================] - 1s 260us/step - loss: 0.1310 - acc: 0.9535 - val_loss: 0.2363 - val_acc: 0.9020\n",
            "Epoch 21/30\n",
            "2000/2000 [==============================] - 1s 265us/step - loss: 0.1272 - acc: 0.9555 - val_loss: 0.2329 - val_acc: 0.9080\n",
            "Epoch 22/30\n",
            "2000/2000 [==============================] - 1s 263us/step - loss: 0.1170 - acc: 0.9600 - val_loss: 0.2339 - val_acc: 0.9060\n",
            "Epoch 23/30\n",
            "2000/2000 [==============================] - 1s 262us/step - loss: 0.1180 - acc: 0.9590 - val_loss: 0.2348 - val_acc: 0.9060\n",
            "Epoch 24/30\n",
            "2000/2000 [==============================] - 1s 261us/step - loss: 0.1079 - acc: 0.9685 - val_loss: 0.2385 - val_acc: 0.9030\n",
            "Epoch 25/30\n",
            "2000/2000 [==============================] - 1s 265us/step - loss: 0.1072 - acc: 0.9670 - val_loss: 0.2463 - val_acc: 0.9050\n",
            "Epoch 26/30\n",
            "2000/2000 [==============================] - 1s 262us/step - loss: 0.1024 - acc: 0.9665 - val_loss: 0.2425 - val_acc: 0.9060\n",
            "Epoch 27/30\n",
            "2000/2000 [==============================] - 1s 267us/step - loss: 0.0974 - acc: 0.9700 - val_loss: 0.2401 - val_acc: 0.9070\n",
            "Epoch 28/30\n",
            "2000/2000 [==============================] - 1s 263us/step - loss: 0.0955 - acc: 0.9720 - val_loss: 0.2360 - val_acc: 0.9040\n",
            "Epoch 29/30\n",
            "2000/2000 [==============================] - 1s 266us/step - loss: 0.0903 - acc: 0.9690 - val_loss: 0.2406 - val_acc: 0.9080\n",
            "Epoch 30/30\n",
            "2000/2000 [==============================] - 1s 263us/step - loss: 0.0868 - acc: 0.9740 - val_loss: 0.2450 - val_acc: 0.9070\n"
          ],
          "name": "stdout"
        }
      ]
    },
    {
      "cell_type": "code",
      "metadata": {
        "id": "m5iuJqNF3je9",
        "colab_type": "code",
        "outputId": "c517581e-5aed-4ff8-9814-3cd5bd914a55",
        "colab": {
          "base_uri": "https://localhost:8080/",
          "height": 545
        }
      },
      "source": [
        "import matplotlib.pyplot as plt\n",
        "\n",
        "acc = history.history['acc']\n",
        "val_acc = history.history['val_acc']\n",
        "loss = history.history['loss']\n",
        "val_loss = history.history['val_loss']\n",
        "\n",
        "epochs = range(1, len(acc) + 1)\n",
        "\n",
        "plt.plot(epochs, acc, 'bo', label='Training acc')\n",
        "plt.plot(epochs, val_acc, 'b', label='Validation acc')\n",
        "plt.title('Training and validation accuracy')\n",
        "plt.legend()\n",
        "\n",
        "plt.figure()\n",
        "\n",
        "plt.plot(epochs, loss, 'bo', label='Training loss')\n",
        "plt.plot(epochs, val_loss, 'b', label='Validation loss')\n",
        "plt.title('Training and validation loss')\n",
        "plt.legend()\n",
        "\n",
        "plt.show()"
      ],
      "execution_count": 0,
      "outputs": [
        {
          "output_type": "display_data",
          "data": {
            "image/png": "[encoded data removed]",
            "text/plain": [
              "<Figure size 432x288 with 1 Axes>"
            ]
          },
          "metadata": {
            "tags": []
          }
        },
        {
          "output_type": "display_data",
          "data": {
            "image/png": "[encoded data removed]",
            "text/plain": [
              "<Figure size 432x288 with 1 Axes>"
            ]
          },
          "metadata": {
            "tags": []
          }
        }
      ]
    },
    {
      "cell_type": "markdown",
      "metadata": {
        "id": "vqdtjO--309R",
        "colab_type": "text"
      },
      "source": [
        "You reach a validation accuracy of about 90%—much better than you achieved in the previous section with the small model trained from scratch.\n",
        "\n",
        "But the plots also indicate that you’re overfitting almost from the start—despite using dropout with a fairly large rate.\n",
        "\n",
        "That’s because this technique doesn’t use data augmentation, which is essential for preventing overfitting with small image datasets."
      ]
    },
    {
      "cell_type": "markdown",
      "metadata": {
        "id": "NzPXjY2h4hOJ",
        "colab_type": "text"
      },
      "source": [
        "##Feature extraction with data augmentation"
      ]
    },
    {
      "cell_type": "code",
      "metadata": {
        "id": "8Q8oJBX03uwc",
        "colab_type": "code",
        "colab": {}
      },
      "source": [
        "from keras import models\n",
        "from keras import layers\n",
        "\n",
        "model = models.Sequential()\n",
        "model.add(conv_base)\n",
        "model.add(layers.Flatten())\n",
        "model.add(layers.Dense(256, activation='relu'))\n",
        "model.add(layers.Dense(1, activation='sigmoid'))"
      ],
      "execution_count": 0,
      "outputs": []
    },
    {
      "cell_type": "code",
      "metadata": {
        "id": "Z0ZRml0p4m8E",
        "colab_type": "code",
        "outputId": "33751b88-dc93-4d20-c76c-9e5fd0e08e2d",
        "colab": {
          "base_uri": "https://localhost:8080/",
          "height": 277
        }
      },
      "source": [
        "model.summary()"
      ],
      "execution_count": 0,
      "outputs": [
        {
          "output_type": "stream",
          "text": [
            "_________________________________________________________________\n",
            "Layer (type)                 Output Shape              Param #   \n",
            "=================================================================\n",
            "vgg16 (Model)                (None, 4, 4, 512)         14714688  \n",
            "_________________________________________________________________\n",
            "flatten_1 (Flatten)          (None, 8192)              0         \n",
            "_________________________________________________________________\n",
            "dense_3 (Dense)              (None, 256)               2097408   \n",
            "_________________________________________________________________\n",
            "dense_4 (Dense)              (None, 1)                 257       \n",
            "=================================================================\n",
            "Total params: 16,812,353\n",
            "Trainable params: 16,812,353\n",
            "Non-trainable params: 0\n",
            "_________________________________________________________________\n"
          ],
          "name": "stdout"
        }
      ]
    },
    {
      "cell_type": "code",
      "metadata": {
        "id": "IWjGzS-94pHE",
        "colab_type": "code",
        "outputId": "a4405398-00a0-434f-b9e6-de8e27058f7e",
        "colab": {
          "base_uri": "https://localhost:8080/",
          "height": 52
        }
      },
      "source": [
        "print('This is the number of trainable weights '\n",
        "         'before freezing the conv base:', len(model.trainable_weights))\n",
        "conv_base.trainable = False\n",
        "print('This is the number of trainable weights '\n",
        "          'after freezing the conv base:', len(model.trainable_weights))"
      ],
      "execution_count": 0,
      "outputs": [
        {
          "output_type": "stream",
          "text": [
            "This is the number of trainable weights before freezing the conv base: 30\n",
            "This is the number of trainable weights after freezing the conv base: 4\n"
          ],
          "name": "stdout"
        }
      ]
    },
    {
      "cell_type": "code",
      "metadata": {
        "id": "jHul7wF24xJ3",
        "colab_type": "code",
        "outputId": "ce844583-3ffe-41b7-9fa4-d25b8ad32980",
        "colab": {
          "base_uri": "https://localhost:8080/",
          "height": 1112
        }
      },
      "source": [
        "from keras.preprocessing.image import ImageDataGenerator\n",
        "from keras import optimizers\n",
        "\n",
        "train_datagen = ImageDataGenerator(\n",
        "      rescale=1./255,\n",
        "      rotation_range=40,\n",
        "      width_shift_range=0.2,\n",
        "      height_shift_range=0.2,\n",
        "      shear_range=0.2,\n",
        "      zoom_range=0.2,\n",
        "      horizontal_flip=True,\n",
        "      fill_mode='nearest')\n",
        "\n",
        "test_datagen = ImageDataGenerator(rescale=1./255)                \n",
        "\n",
        "train_generator = train_datagen.flow_from_directory(\n",
        "        train_dir,                                               \n",
        "        target_size=(150, 150),                                  \n",
        "        batch_size=20,\n",
        "        class_mode='binary')                                     \n",
        "\n",
        "validation_generator = test_datagen.flow_from_directory(\n",
        "        validation_dir,\n",
        "        target_size=(150, 150),\n",
        "        batch_size=20,\n",
        "        class_mode='binary')\n",
        "\n",
        "model.compile(loss='binary_crossentropy',\n",
        "              optimizer=optimizers.RMSprop(lr=2e-5),\n",
        "              metrics=['acc'])\n",
        "\n",
        "history = model.fit_generator(\n",
        "      train_generator,\n",
        "      steps_per_epoch=100,\n",
        "      epochs=30,\n",
        "      validation_data=validation_generator,\n",
        "      validation_steps=50)\n"
      ],
      "execution_count": 0,
      "outputs": [
        {
          "output_type": "stream",
          "text": [
            "Found 2000 images belonging to 2 classes.\n",
            "Found 1000 images belonging to 2 classes.\n",
            "Epoch 1/30\n",
            "100/100 [==============================] - 19s 195ms/step - loss: 0.5931 - acc: 0.6950 - val_loss: 0.4527 - val_acc: 0.8320\n",
            "Epoch 2/30\n",
            "100/100 [==============================] - 18s 178ms/step - loss: 0.4800 - acc: 0.7865 - val_loss: 0.3640 - val_acc: 0.8710\n",
            "Epoch 3/30\n",
            "100/100 [==============================] - 18s 177ms/step - loss: 0.4350 - acc: 0.8070 - val_loss: 0.3379 - val_acc: 0.8640\n",
            "Epoch 4/30\n",
            "100/100 [==============================] - 18s 176ms/step - loss: 0.4085 - acc: 0.8170 - val_loss: 0.3037 - val_acc: 0.8920\n",
            "Epoch 5/30\n",
            "100/100 [==============================] - 19s 185ms/step - loss: 0.3858 - acc: 0.8250 - val_loss: 0.2922 - val_acc: 0.8890\n",
            "Epoch 6/30\n",
            "100/100 [==============================] - 18s 177ms/step - loss: 0.3699 - acc: 0.8385 - val_loss: 0.2850 - val_acc: 0.8810\n",
            "Epoch 7/30\n",
            "100/100 [==============================] - 18s 175ms/step - loss: 0.3561 - acc: 0.8420 - val_loss: 0.2759 - val_acc: 0.8920\n",
            "Epoch 8/30\n",
            "100/100 [==============================] - 17s 173ms/step - loss: 0.3485 - acc: 0.8500 - val_loss: 0.2652 - val_acc: 0.8970\n",
            "Epoch 9/30\n",
            "100/100 [==============================] - 18s 182ms/step - loss: 0.3542 - acc: 0.8470 - val_loss: 0.2607 - val_acc: 0.8990\n",
            "Epoch 10/30\n",
            "100/100 [==============================] - 18s 175ms/step - loss: 0.3357 - acc: 0.8550 - val_loss: 0.2616 - val_acc: 0.8970\n",
            "Epoch 11/30\n",
            "100/100 [==============================] - 17s 173ms/step - loss: 0.3246 - acc: 0.8505 - val_loss: 0.2567 - val_acc: 0.8930\n",
            "Epoch 12/30\n",
            "100/100 [==============================] - 19s 187ms/step - loss: 0.3269 - acc: 0.8630 - val_loss: 0.2595 - val_acc: 0.8930\n",
            "Epoch 13/30\n",
            "100/100 [==============================] - 17s 174ms/step - loss: 0.3155 - acc: 0.8630 - val_loss: 0.2649 - val_acc: 0.8910\n",
            "Epoch 14/30\n",
            "100/100 [==============================] - 19s 185ms/step - loss: 0.3139 - acc: 0.8560 - val_loss: 0.2544 - val_acc: 0.8940\n",
            "Epoch 15/30\n",
            "100/100 [==============================] - 17s 173ms/step - loss: 0.3279 - acc: 0.8595 - val_loss: 0.2538 - val_acc: 0.8980\n",
            "Epoch 16/30\n",
            "100/100 [==============================] - 17s 173ms/step - loss: 0.3048 - acc: 0.8660 - val_loss: 0.2644 - val_acc: 0.8880\n",
            "Epoch 17/30\n",
            "100/100 [==============================] - 17s 174ms/step - loss: 0.3131 - acc: 0.8645 - val_loss: 0.2533 - val_acc: 0.8880\n",
            "Epoch 18/30\n",
            "100/100 [==============================] - 18s 181ms/step - loss: 0.3075 - acc: 0.8595 - val_loss: 0.2473 - val_acc: 0.9020\n",
            "Epoch 19/30\n",
            "100/100 [==============================] - 18s 177ms/step - loss: 0.3049 - acc: 0.8695 - val_loss: 0.2441 - val_acc: 0.9040\n",
            "Epoch 20/30\n",
            "100/100 [==============================] - 17s 172ms/step - loss: 0.2970 - acc: 0.8700 - val_loss: 0.2491 - val_acc: 0.8980\n",
            "Epoch 21/30\n",
            "100/100 [==============================] - 17s 171ms/step - loss: 0.3008 - acc: 0.8730 - val_loss: 0.2435 - val_acc: 0.9070\n",
            "Epoch 22/30\n",
            "100/100 [==============================] - 17s 171ms/step - loss: 0.3027 - acc: 0.8670 - val_loss: 0.2408 - val_acc: 0.9030\n",
            "Epoch 23/30\n",
            "100/100 [==============================] - 19s 185ms/step - loss: 0.2774 - acc: 0.8815 - val_loss: 0.2418 - val_acc: 0.9030\n",
            "Epoch 24/30\n",
            "100/100 [==============================] - 17s 171ms/step - loss: 0.2963 - acc: 0.8700 - val_loss: 0.2417 - val_acc: 0.9020\n",
            "Epoch 25/30\n",
            "100/100 [==============================] - 17s 171ms/step - loss: 0.2918 - acc: 0.8640 - val_loss: 0.2385 - val_acc: 0.9030\n",
            "Epoch 26/30\n",
            "100/100 [==============================] - 17s 171ms/step - loss: 0.2905 - acc: 0.8765 - val_loss: 0.2408 - val_acc: 0.8980\n",
            "Epoch 27/30\n",
            "100/100 [==============================] - 18s 181ms/step - loss: 0.2840 - acc: 0.8840 - val_loss: 0.2397 - val_acc: 0.9010\n",
            "Epoch 28/30\n",
            "100/100 [==============================] - 18s 180ms/step - loss: 0.2839 - acc: 0.8795 - val_loss: 0.2367 - val_acc: 0.9050\n",
            "Epoch 29/30\n",
            "100/100 [==============================] - 17s 172ms/step - loss: 0.2844 - acc: 0.8775 - val_loss: 0.2703 - val_acc: 0.8860\n",
            "Epoch 30/30\n",
            "100/100 [==============================] - 19s 185ms/step - loss: 0.2831 - acc: 0.8780 - val_loss: 0.2508 - val_acc: 0.8940\n"
          ],
          "name": "stdout"
        }
      ]
    },
    {
      "cell_type": "code",
      "metadata": {
        "id": "GAMi90HM473B",
        "colab_type": "code",
        "outputId": "f09f0a16-9a98-4b5e-f79f-ce00c1582fdf",
        "colab": {
          "base_uri": "https://localhost:8080/",
          "height": 545
        }
      },
      "source": [
        "import matplotlib.pyplot as plt\n",
        "\n",
        "acc = history.history['acc']\n",
        "val_acc = history.history['val_acc']\n",
        "loss = history.history['loss']\n",
        "val_loss = history.history['val_loss']\n",
        "\n",
        "epochs = range(1, len(acc) + 1)\n",
        "\n",
        "plt.plot(epochs, acc, 'bo', label='Training acc')\n",
        "plt.plot(epochs, val_acc, 'b', label='Validation acc')\n",
        "plt.title('Training and validation accuracy')\n",
        "plt.legend()\n",
        "\n",
        "plt.figure()\n",
        "\n",
        "plt.plot(epochs, loss, 'bo', label='Training loss')\n",
        "plt.plot(epochs, val_loss, 'b', label='Validation loss')\n",
        "plt.title('Training and validation loss')\n",
        "plt.legend()\n",
        "\n",
        "plt.show()\n"
      ],
      "execution_count": 0,
      "outputs": [
        {
          "output_type": "display_data",
          "data": {
            "image/png": "[encoded data removed]",
            "text/plain": [
              "<Figure size 432x288 with 1 Axes>"
            ]
          },
          "metadata": {
            "tags": []
          }
        },
        {
          "output_type": "display_data",
          "data": {
            "image/png": "[encoded data removed]",
            "text/plain": [
              "<Figure size 432x288 with 1 Axes>"
            ]
          },
          "metadata": {
            "tags": []
          }
        }
      ]
    },
    {
      "cell_type": "markdown",
      "metadata": {
        "id": "A7NKXRVR7SrP",
        "colab_type": "text"
      },
      "source": [
        "## Fine-tuning"
      ]
    },
    {
      "cell_type": "code",
      "metadata": {
        "id": "WpSuw-OE7Hvo",
        "colab_type": "code",
        "outputId": "79801999-3e31-4ea8-d989-2f300de5c57d",
        "colab": {
          "base_uri": "https://localhost:8080/",
          "height": 797
        }
      },
      "source": [
        "conv_base.summary()"
      ],
      "execution_count": 0,
      "outputs": [
        {
          "output_type": "stream",
          "text": [
            "_________________________________________________________________\n",
            "Layer (type)                 Output Shape              Param #   \n",
            "=================================================================\n",
            "input_1 (InputLayer)         (None, 150, 150, 3)       0         \n",
            "_________________________________________________________________\n",
            "block1_conv1 (Conv2D)        (None, 150, 150, 64)      1792      \n",
            "_________________________________________________________________\n",
            "block1_conv2 (Conv2D)        (None, 150, 150, 64)      36928     \n",
            "_________________________________________________________________\n",
            "block1_pool (MaxPooling2D)   (None, 75, 75, 64)        0         \n",
            "_________________________________________________________________\n",
            "block2_conv1 (Conv2D)        (None, 75, 75, 128)       73856     \n",
            "_________________________________________________________________\n",
            "block2_conv2 (Conv2D)        (None, 75, 75, 128)       147584    \n",
            "_________________________________________________________________\n",
            "block2_pool (MaxPooling2D)   (None, 37, 37, 128)       0         \n",
            "_________________________________________________________________\n",
            "block3_conv1 (Conv2D)        (None, 37, 37, 256)       295168    \n",
            "_________________________________________________________________\n",
            "block3_conv2 (Conv2D)        (None, 37, 37, 256)       590080    \n",
            "_________________________________________________________________\n",
            "block3_conv3 (Conv2D)        (None, 37, 37, 256)       590080    \n",
            "_________________________________________________________________\n",
            "block3_pool (MaxPooling2D)   (None, 18, 18, 256)       0         \n",
            "_________________________________________________________________\n",
            "block4_conv1 (Conv2D)        (None, 18, 18, 512)       1180160   \n",
            "_________________________________________________________________\n",
            "block4_conv2 (Conv2D)        (None, 18, 18, 512)       2359808   \n",
            "_________________________________________________________________\n",
            "block4_conv3 (Conv2D)        (None, 18, 18, 512)       2359808   \n",
            "_________________________________________________________________\n",
            "block4_pool (MaxPooling2D)   (None, 9, 9, 512)         0         \n",
            "_________________________________________________________________\n",
            "block5_conv1 (Conv2D)        (None, 9, 9, 512)         2359808   \n",
            "_________________________________________________________________\n",
            "block5_conv2 (Conv2D)        (None, 9, 9, 512)         2359808   \n",
            "_________________________________________________________________\n",
            "block5_conv3 (Conv2D)        (None, 9, 9, 512)         2359808   \n",
            "_________________________________________________________________\n",
            "block5_pool (MaxPooling2D)   (None, 4, 4, 512)         0         \n",
            "=================================================================\n",
            "Total params: 14,714,688\n",
            "Trainable params: 0\n",
            "Non-trainable params: 14,714,688\n",
            "_________________________________________________________________\n"
          ],
          "name": "stdout"
        }
      ]
    },
    {
      "cell_type": "code",
      "metadata": {
        "id": "6UoiUCMo7aRa",
        "colab_type": "code",
        "colab": {}
      },
      "source": [
        "conv_base.trainable = True\n",
        "\n",
        "set_trainable = False\n",
        "for layer in conv_base.layers:\n",
        "    if layer.name == 'block5_conv1':\n",
        "        set_trainable = True\n",
        "    if set_trainable:\n",
        "        layer.trainable = True\n",
        "    else:\n",
        "        layer.trainable = False"
      ],
      "execution_count": 0,
      "outputs": []
    },
    {
      "cell_type": "code",
      "metadata": {
        "id": "N_-UUxxF7jsx",
        "colab_type": "code",
        "outputId": "33ae9273-aae0-44d8-b647-3d532aaaab0f",
        "colab": {
          "base_uri": "https://localhost:8080/",
          "height": 797
        }
      },
      "source": [
        "conv_base.summary()"
      ],
      "execution_count": 0,
      "outputs": [
        {
          "output_type": "stream",
          "text": [
            "_________________________________________________________________\n",
            "Layer (type)                 Output Shape              Param #   \n",
            "=================================================================\n",
            "input_1 (InputLayer)         (None, 150, 150, 3)       0         \n",
            "_________________________________________________________________\n",
            "block1_conv1 (Conv2D)        (None, 150, 150, 64)      1792      \n",
            "_________________________________________________________________\n",
            "block1_conv2 (Conv2D)        (None, 150, 150, 64)      36928     \n",
            "_________________________________________________________________\n",
            "block1_pool (MaxPooling2D)   (None, 75, 75, 64)        0         \n",
            "_________________________________________________________________\n",
            "block2_conv1 (Conv2D)        (None, 75, 75, 128)       73856     \n",
            "_________________________________________________________________\n",
            "block2_conv2 (Conv2D)        (None, 75, 75, 128)       147584    \n",
            "_________________________________________________________________\n",
            "block2_pool (MaxPooling2D)   (None, 37, 37, 128)       0         \n",
            "_________________________________________________________________\n",
            "block3_conv1 (Conv2D)        (None, 37, 37, 256)       295168    \n",
            "_________________________________________________________________\n",
            "block3_conv2 (Conv2D)        (None, 37, 37, 256)       590080    \n",
            "_________________________________________________________________\n",
            "block3_conv3 (Conv2D)        (None, 37, 37, 256)       590080    \n",
            "_________________________________________________________________\n",
            "block3_pool (MaxPooling2D)   (None, 18, 18, 256)       0         \n",
            "_________________________________________________________________\n",
            "block4_conv1 (Conv2D)        (None, 18, 18, 512)       1180160   \n",
            "_________________________________________________________________\n",
            "block4_conv2 (Conv2D)        (None, 18, 18, 512)       2359808   \n",
            "_________________________________________________________________\n",
            "block4_conv3 (Conv2D)        (None, 18, 18, 512)       2359808   \n",
            "_________________________________________________________________\n",
            "block4_pool (MaxPooling2D)   (None, 9, 9, 512)         0         \n",
            "_________________________________________________________________\n",
            "block5_conv1 (Conv2D)        (None, 9, 9, 512)         2359808   \n",
            "_________________________________________________________________\n",
            "block5_conv2 (Conv2D)        (None, 9, 9, 512)         2359808   \n",
            "_________________________________________________________________\n",
            "block5_conv3 (Conv2D)        (None, 9, 9, 512)         2359808   \n",
            "_________________________________________________________________\n",
            "block5_pool (MaxPooling2D)   (None, 4, 4, 512)         0         \n",
            "=================================================================\n",
            "Total params: 14,714,688\n",
            "Trainable params: 7,079,424\n",
            "Non-trainable params: 7,635,264\n",
            "_________________________________________________________________\n"
          ],
          "name": "stdout"
        }
      ]
    },
    {
      "cell_type": "code",
      "metadata": {
        "id": "Bk7XSQ3A7n4_",
        "colab_type": "code",
        "outputId": "021fd857-9170-43e8-e62c-e0bcb9074208",
        "colab": {
          "base_uri": "https://localhost:8080/",
          "height": 3504
        }
      },
      "source": [
        "model.compile(loss='binary_crossentropy',\n",
        "              optimizer=optimizers.RMSprop(lr=1e-5),\n",
        "              metrics=['acc'])\n",
        "\n",
        "history = model.fit_generator(\n",
        "      train_generator,\n",
        "      steps_per_epoch=100,\n",
        "      epochs=100,\n",
        "      validation_data=validation_generator,\n",
        "      validation_steps=50)"
      ],
      "execution_count": 0,
      "outputs": [
        {
          "output_type": "stream",
          "text": [
            "Epoch 1/100\n",
            "100/100 [==============================] - 20s 196ms/step - loss: 0.2816 - acc: 0.8830 - val_loss: 0.2511 - val_acc: 0.9000\n",
            "Epoch 2/100\n",
            "100/100 [==============================] - 19s 185ms/step - loss: 0.2541 - acc: 0.8910 - val_loss: 0.2022 - val_acc: 0.9230\n",
            "Epoch 3/100\n",
            "100/100 [==============================] - 19s 187ms/step - loss: 0.2421 - acc: 0.9005 - val_loss: 0.2030 - val_acc: 0.9160\n",
            "Epoch 4/100\n",
            "100/100 [==============================] - 18s 178ms/step - loss: 0.2230 - acc: 0.9120 - val_loss: 0.2272 - val_acc: 0.9180\n",
            "Epoch 5/100\n",
            "100/100 [==============================] - 19s 192ms/step - loss: 0.2001 - acc: 0.9155 - val_loss: 0.1781 - val_acc: 0.9260\n",
            "Epoch 6/100\n",
            "100/100 [==============================] - 18s 178ms/step - loss: 0.1850 - acc: 0.9275 - val_loss: 0.1911 - val_acc: 0.9290\n",
            "Epoch 7/100\n",
            "100/100 [==============================] - 18s 178ms/step - loss: 0.1861 - acc: 0.9190 - val_loss: 0.1945 - val_acc: 0.9330\n",
            "Epoch 8/100\n",
            "100/100 [==============================] - 19s 189ms/step - loss: 0.1704 - acc: 0.9240 - val_loss: 0.2397 - val_acc: 0.9050\n",
            "Epoch 9/100\n",
            "100/100 [==============================] - 18s 177ms/step - loss: 0.1581 - acc: 0.9375 - val_loss: 0.1863 - val_acc: 0.9310\n",
            "Epoch 10/100\n",
            "100/100 [==============================] - 18s 177ms/step - loss: 0.1626 - acc: 0.9320 - val_loss: 0.1905 - val_acc: 0.9270\n",
            "Epoch 11/100\n",
            "100/100 [==============================] - 18s 177ms/step - loss: 0.1553 - acc: 0.9375 - val_loss: 0.1942 - val_acc: 0.9330\n",
            "Epoch 12/100\n",
            "100/100 [==============================] - 19s 189ms/step - loss: 0.1396 - acc: 0.9445 - val_loss: 0.2041 - val_acc: 0.9290\n",
            "Epoch 13/100\n",
            "100/100 [==============================] - 18s 178ms/step - loss: 0.1339 - acc: 0.9500 - val_loss: 0.2056 - val_acc: 0.9270\n",
            "Epoch 14/100\n",
            "100/100 [==============================] - 18s 178ms/step - loss: 0.1314 - acc: 0.9450 - val_loss: 0.1996 - val_acc: 0.9300\n",
            "Epoch 15/100\n",
            "100/100 [==============================] - 18s 178ms/step - loss: 0.1085 - acc: 0.9585 - val_loss: 0.2734 - val_acc: 0.9100\n",
            "Epoch 16/100\n",
            "100/100 [==============================] - 18s 178ms/step - loss: 0.1205 - acc: 0.9535 - val_loss: 0.1778 - val_acc: 0.9350\n",
            "Epoch 17/100\n",
            "100/100 [==============================] - 19s 187ms/step - loss: 0.1064 - acc: 0.9550 - val_loss: 0.1855 - val_acc: 0.9360\n",
            "Epoch 18/100\n",
            "100/100 [==============================] - 18s 182ms/step - loss: 0.1007 - acc: 0.9605 - val_loss: 0.2087 - val_acc: 0.9230\n",
            "Epoch 19/100\n",
            "100/100 [==============================] - 18s 178ms/step - loss: 0.1022 - acc: 0.9600 - val_loss: 0.1841 - val_acc: 0.9300\n",
            "Epoch 20/100\n",
            "100/100 [==============================] - 18s 176ms/step - loss: 0.0875 - acc: 0.9635 - val_loss: 0.2332 - val_acc: 0.9200\n",
            "Epoch 21/100\n",
            "100/100 [==============================] - 19s 188ms/step - loss: 0.0971 - acc: 0.9610 - val_loss: 0.1858 - val_acc: 0.9330\n",
            "Epoch 22/100\n",
            "100/100 [==============================] - 19s 191ms/step - loss: 0.1089 - acc: 0.9590 - val_loss: 0.1825 - val_acc: 0.9400\n",
            "Epoch 23/100\n",
            "100/100 [==============================] - 18s 176ms/step - loss: 0.0932 - acc: 0.9630 - val_loss: 0.1882 - val_acc: 0.9330\n",
            "Epoch 24/100\n",
            "100/100 [==============================] - 18s 177ms/step - loss: 0.0682 - acc: 0.9760 - val_loss: 0.2118 - val_acc: 0.9300\n",
            "Epoch 25/100\n",
            "100/100 [==============================] - 18s 182ms/step - loss: 0.0775 - acc: 0.9690 - val_loss: 0.2893 - val_acc: 0.9190\n",
            "Epoch 26/100\n",
            "100/100 [==============================] - 18s 182ms/step - loss: 0.0784 - acc: 0.9685 - val_loss: 0.2854 - val_acc: 0.9160\n",
            "Epoch 27/100\n",
            "100/100 [==============================] - 18s 177ms/step - loss: 0.0804 - acc: 0.9675 - val_loss: 0.1971 - val_acc: 0.9400\n",
            "Epoch 28/100\n",
            "100/100 [==============================] - 18s 177ms/step - loss: 0.0637 - acc: 0.9745 - val_loss: 0.2017 - val_acc: 0.9410\n",
            "Epoch 29/100\n",
            "100/100 [==============================] - 18s 178ms/step - loss: 0.0701 - acc: 0.9745 - val_loss: 0.1946 - val_acc: 0.9340\n",
            "Epoch 30/100\n",
            "100/100 [==============================] - 19s 189ms/step - loss: 0.0754 - acc: 0.9690 - val_loss: 0.2671 - val_acc: 0.9210\n",
            "Epoch 31/100\n",
            "100/100 [==============================] - 18s 177ms/step - loss: 0.0764 - acc: 0.9705 - val_loss: 0.1965 - val_acc: 0.9320\n",
            "Epoch 32/100\n",
            "100/100 [==============================] - 18s 177ms/step - loss: 0.0604 - acc: 0.9805 - val_loss: 0.1688 - val_acc: 0.9370\n",
            "Epoch 33/100\n",
            "100/100 [==============================] - 18s 176ms/step - loss: 0.0616 - acc: 0.9775 - val_loss: 0.2063 - val_acc: 0.9370\n",
            "Epoch 34/100\n",
            "100/100 [==============================] - 18s 182ms/step - loss: 0.0607 - acc: 0.9750 - val_loss: 0.2063 - val_acc: 0.9360\n",
            "Epoch 35/100\n",
            "100/100 [==============================] - 19s 188ms/step - loss: 0.0637 - acc: 0.9760 - val_loss: 0.1907 - val_acc: 0.9380\n",
            "Epoch 36/100\n",
            "100/100 [==============================] - 18s 176ms/step - loss: 0.0571 - acc: 0.9785 - val_loss: 0.2065 - val_acc: 0.9330\n",
            "Epoch 37/100\n",
            "100/100 [==============================] - 18s 177ms/step - loss: 0.0552 - acc: 0.9820 - val_loss: 0.1899 - val_acc: 0.9360\n",
            "Epoch 38/100\n",
            "100/100 [==============================] - 18s 177ms/step - loss: 0.0559 - acc: 0.9790 - val_loss: 0.2150 - val_acc: 0.9290\n",
            "Epoch 39/100\n",
            "100/100 [==============================] - 20s 195ms/step - loss: 0.0498 - acc: 0.9820 - val_loss: 0.2658 - val_acc: 0.9260\n",
            "Epoch 40/100\n",
            "100/100 [==============================] - 18s 178ms/step - loss: 0.0519 - acc: 0.9815 - val_loss: 0.2587 - val_acc: 0.9230\n",
            "Epoch 41/100\n",
            "100/100 [==============================] - 18s 177ms/step - loss: 0.0519 - acc: 0.9775 - val_loss: 0.1825 - val_acc: 0.9350\n",
            "Epoch 42/100\n",
            "100/100 [==============================] - 18s 177ms/step - loss: 0.0503 - acc: 0.9815 - val_loss: 0.2149 - val_acc: 0.9260\n",
            "Epoch 43/100\n",
            "100/100 [==============================] - 18s 184ms/step - loss: 0.0354 - acc: 0.9875 - val_loss: 0.2251 - val_acc: 0.9270\n",
            "Epoch 44/100\n",
            "100/100 [==============================] - 18s 180ms/step - loss: 0.0431 - acc: 0.9825 - val_loss: 0.2158 - val_acc: 0.9370\n",
            "Epoch 45/100\n",
            "100/100 [==============================] - 18s 177ms/step - loss: 0.0513 - acc: 0.9830 - val_loss: 0.2701 - val_acc: 0.9270\n",
            "Epoch 46/100\n",
            "100/100 [==============================] - 18s 175ms/step - loss: 0.0389 - acc: 0.9875 - val_loss: 0.1851 - val_acc: 0.9400\n",
            "Epoch 47/100\n",
            "100/100 [==============================] - 18s 176ms/step - loss: 0.0470 - acc: 0.9805 - val_loss: 0.2520 - val_acc: 0.9270\n",
            "Epoch 48/100\n",
            "100/100 [==============================] - 19s 190ms/step - loss: 0.0378 - acc: 0.9870 - val_loss: 0.2328 - val_acc: 0.9280\n",
            "Epoch 49/100\n",
            "100/100 [==============================] - 18s 177ms/step - loss: 0.0378 - acc: 0.9880 - val_loss: 0.2153 - val_acc: 0.9350\n",
            "Epoch 50/100\n",
            "100/100 [==============================] - 18s 177ms/step - loss: 0.0502 - acc: 0.9845 - val_loss: 0.2388 - val_acc: 0.9400\n",
            "Epoch 51/100\n",
            "100/100 [==============================] - 18s 175ms/step - loss: 0.0439 - acc: 0.9825 - val_loss: 0.3112 - val_acc: 0.9280\n",
            "Epoch 52/100\n",
            "100/100 [==============================] - 19s 186ms/step - loss: 0.0384 - acc: 0.9855 - val_loss: 0.2613 - val_acc: 0.9260\n",
            "Epoch 53/100\n",
            "100/100 [==============================] - 18s 179ms/step - loss: 0.0523 - acc: 0.9825 - val_loss: 0.2083 - val_acc: 0.9380\n",
            "Epoch 54/100\n",
            "100/100 [==============================] - 18s 177ms/step - loss: 0.0331 - acc: 0.9885 - val_loss: 0.2631 - val_acc: 0.9250\n",
            "Epoch 55/100\n",
            "100/100 [==============================] - 18s 177ms/step - loss: 0.0396 - acc: 0.9835 - val_loss: 0.2767 - val_acc: 0.9240\n",
            "Epoch 56/100\n",
            "100/100 [==============================] - 18s 183ms/step - loss: 0.0324 - acc: 0.9880 - val_loss: 0.6707 - val_acc: 0.8810\n",
            "Epoch 57/100\n",
            "100/100 [==============================] - 19s 190ms/step - loss: 0.0384 - acc: 0.9850 - val_loss: 0.1910 - val_acc: 0.9440\n",
            "Epoch 58/100\n",
            "100/100 [==============================] - 18s 177ms/step - loss: 0.0433 - acc: 0.9820 - val_loss: 0.2243 - val_acc: 0.9290\n",
            "Epoch 59/100\n",
            "100/100 [==============================] - 18s 177ms/step - loss: 0.0327 - acc: 0.9885 - val_loss: 0.2138 - val_acc: 0.9350\n",
            "Epoch 60/100\n",
            "100/100 [==============================] - 18s 176ms/step - loss: 0.0310 - acc: 0.9885 - val_loss: 0.3156 - val_acc: 0.9320\n",
            "Epoch 61/100\n",
            "100/100 [==============================] - 19s 187ms/step - loss: 0.0273 - acc: 0.9915 - val_loss: 0.2782 - val_acc: 0.9320\n",
            "Epoch 62/100\n",
            "100/100 [==============================] - 18s 177ms/step - loss: 0.0290 - acc: 0.9905 - val_loss: 0.2130 - val_acc: 0.9390\n",
            "Epoch 63/100\n",
            "100/100 [==============================] - 18s 176ms/step - loss: 0.0278 - acc: 0.9905 - val_loss: 0.3184 - val_acc: 0.9220\n",
            "Epoch 64/100\n",
            "100/100 [==============================] - 18s 176ms/step - loss: 0.0252 - acc: 0.9915 - val_loss: 0.2097 - val_acc: 0.9360\n",
            "Epoch 65/100\n",
            "100/100 [==============================] - 18s 176ms/step - loss: 0.0359 - acc: 0.9875 - val_loss: 0.2142 - val_acc: 0.9400\n",
            "Epoch 66/100\n",
            "100/100 [==============================] - 19s 187ms/step - loss: 0.0276 - acc: 0.9900 - val_loss: 0.2128 - val_acc: 0.9380\n",
            "Epoch 67/100\n",
            "100/100 [==============================] - 18s 176ms/step - loss: 0.0265 - acc: 0.9895 - val_loss: 0.2203 - val_acc: 0.9310\n",
            "Epoch 68/100\n",
            "100/100 [==============================] - 18s 176ms/step - loss: 0.0296 - acc: 0.9910 - val_loss: 0.2541 - val_acc: 0.9300\n",
            "Epoch 69/100\n",
            "100/100 [==============================] - 18s 183ms/step - loss: 0.0267 - acc: 0.9900 - val_loss: 0.3730 - val_acc: 0.9120\n",
            "Epoch 70/100\n",
            "100/100 [==============================] - 19s 188ms/step - loss: 0.0227 - acc: 0.9920 - val_loss: 0.2134 - val_acc: 0.9470\n",
            "Epoch 71/100\n",
            "100/100 [==============================] - 18s 177ms/step - loss: 0.0214 - acc: 0.9925 - val_loss: 0.2169 - val_acc: 0.9330\n",
            "Epoch 72/100\n",
            "100/100 [==============================] - 18s 177ms/step - loss: 0.0288 - acc: 0.9895 - val_loss: 0.2137 - val_acc: 0.9380\n",
            "Epoch 73/100\n",
            "100/100 [==============================] - 18s 175ms/step - loss: 0.0290 - acc: 0.9905 - val_loss: 0.2492 - val_acc: 0.9260\n",
            "Epoch 74/100\n",
            "100/100 [==============================] - 19s 190ms/step - loss: 0.0285 - acc: 0.9900 - val_loss: 0.2246 - val_acc: 0.9380\n",
            "Epoch 75/100\n",
            "100/100 [==============================] - 19s 187ms/step - loss: 0.0332 - acc: 0.9890 - val_loss: 0.2205 - val_acc: 0.9400\n",
            "Epoch 76/100\n",
            "100/100 [==============================] - 18s 176ms/step - loss: 0.0209 - acc: 0.9915 - val_loss: 0.2287 - val_acc: 0.9390\n",
            "Epoch 77/100\n",
            "100/100 [==============================] - 18s 177ms/step - loss: 0.0237 - acc: 0.9920 - val_loss: 0.2291 - val_acc: 0.9410\n",
            "Epoch 78/100\n",
            "100/100 [==============================] - 18s 176ms/step - loss: 0.0220 - acc: 0.9900 - val_loss: 0.3506 - val_acc: 0.9190\n",
            "Epoch 79/100\n",
            "100/100 [==============================] - 19s 188ms/step - loss: 0.0238 - acc: 0.9905 - val_loss: 0.2115 - val_acc: 0.9370\n",
            "Epoch 80/100\n",
            "100/100 [==============================] - 18s 176ms/step - loss: 0.0285 - acc: 0.9930 - val_loss: 0.5152 - val_acc: 0.9020\n",
            "Epoch 81/100\n",
            "100/100 [==============================] - 18s 177ms/step - loss: 0.0275 - acc: 0.9900 - val_loss: 0.2428 - val_acc: 0.9380\n",
            "Epoch 82/100\n",
            "100/100 [==============================] - 18s 177ms/step - loss: 0.0306 - acc: 0.9890 - val_loss: 0.2181 - val_acc: 0.9440\n",
            "Epoch 83/100\n",
            "100/100 [==============================] - 18s 178ms/step - loss: 0.0255 - acc: 0.9915 - val_loss: 0.2673 - val_acc: 0.9360\n",
            "Epoch 84/100\n",
            "100/100 [==============================] - 19s 186ms/step - loss: 0.0180 - acc: 0.9955 - val_loss: 0.2683 - val_acc: 0.9330\n",
            "Epoch 85/100\n",
            "100/100 [==============================] - 18s 177ms/step - loss: 0.0268 - acc: 0.9900 - val_loss: 0.5626 - val_acc: 0.9060\n",
            "Epoch 86/100\n",
            "100/100 [==============================] - 18s 182ms/step - loss: 0.0236 - acc: 0.9930 - val_loss: 0.2846 - val_acc: 0.9390\n",
            "Epoch 87/100\n",
            "100/100 [==============================] - 18s 177ms/step - loss: 0.0275 - acc: 0.9885 - val_loss: 0.2402 - val_acc: 0.9370\n",
            "Epoch 88/100\n",
            "100/100 [==============================] - 19s 189ms/step - loss: 0.0153 - acc: 0.9945 - val_loss: 0.2624 - val_acc: 0.9410\n",
            "Epoch 89/100\n",
            "100/100 [==============================] - 18s 178ms/step - loss: 0.0197 - acc: 0.9915 - val_loss: 0.3071 - val_acc: 0.9360\n",
            "Epoch 90/100\n",
            "100/100 [==============================] - 18s 177ms/step - loss: 0.0168 - acc: 0.9950 - val_loss: 0.2822 - val_acc: 0.9380\n",
            "Epoch 91/100\n",
            "100/100 [==============================] - 19s 192ms/step - loss: 0.0186 - acc: 0.9930 - val_loss: 0.2663 - val_acc: 0.9400\n",
            "Epoch 92/100\n",
            "100/100 [==============================] - 18s 183ms/step - loss: 0.0171 - acc: 0.9945 - val_loss: 0.3256 - val_acc: 0.9380\n",
            "Epoch 93/100\n",
            "100/100 [==============================] - 18s 183ms/step - loss: 0.0160 - acc: 0.9950 - val_loss: 0.2805 - val_acc: 0.9370\n",
            "Epoch 94/100\n",
            "100/100 [==============================] - 18s 178ms/step - loss: 0.0254 - acc: 0.9920 - val_loss: 0.4120 - val_acc: 0.9210\n",
            "Epoch 95/100\n",
            "100/100 [==============================] - 18s 177ms/step - loss: 0.0316 - acc: 0.9910 - val_loss: 0.2706 - val_acc: 0.9330\n",
            "Epoch 96/100\n",
            "100/100 [==============================] - 18s 177ms/step - loss: 0.0236 - acc: 0.9930 - val_loss: 0.2456 - val_acc: 0.9360\n",
            "Epoch 97/100\n",
            "100/100 [==============================] - 19s 190ms/step - loss: 0.0156 - acc: 0.9950 - val_loss: 0.2838 - val_acc: 0.9310\n",
            "Epoch 98/100\n",
            "100/100 [==============================] - 18s 177ms/step - loss: 0.0203 - acc: 0.9945 - val_loss: 0.2662 - val_acc: 0.9330\n",
            "Epoch 99/100\n",
            "100/100 [==============================] - 18s 176ms/step - loss: 0.0162 - acc: 0.9940 - val_loss: 0.2626 - val_acc: 0.9430\n",
            "Epoch 100/100\n",
            "100/100 [==============================] - 18s 176ms/step - loss: 0.0229 - acc: 0.9895 - val_loss: 0.2932 - val_acc: 0.9300\n"
          ],
          "name": "stdout"
        }
      ]
    },
    {
      "cell_type": "code",
      "metadata": {
        "id": "xRZqKl6E7y4t",
        "colab_type": "code",
        "colab": {}
      },
      "source": [
        "model.save('cats_and_dogs_small_3.h5')"
      ],
      "execution_count": 0,
      "outputs": []
    },
    {
      "cell_type": "code",
      "metadata": {
        "id": "xRuNlwMIDC42",
        "colab_type": "code",
        "outputId": "52fb268b-ed7b-4393-895a-9a9395484241",
        "colab": {
          "base_uri": "https://localhost:8080/",
          "height": 545
        }
      },
      "source": [
        "import matplotlib.pyplot as plt\n",
        "\n",
        "acc = history.history['acc']\n",
        "val_acc = history.history['val_acc']\n",
        "loss = history.history['loss']\n",
        "val_loss = history.history['val_loss']\n",
        "\n",
        "epochs = range(1, len(acc) + 1)\n",
        "\n",
        "plt.plot(epochs, acc, 'bo', label='Training acc')\n",
        "plt.plot(epochs, val_acc, 'b', label='Validation acc')\n",
        "plt.title('Training and validation accuracy')\n",
        "plt.legend()\n",
        "\n",
        "plt.figure()\n",
        "\n",
        "plt.plot(epochs, loss, 'bo', label='Training loss')\n",
        "plt.plot(epochs, val_loss, 'b', label='Validation loss')\n",
        "plt.title('Training and validation loss')\n",
        "plt.legend()\n",
        "\n",
        "plt.show()\n"
      ],
      "execution_count": 0,
      "outputs": [
        {
          "output_type": "display_data",
          "data": {
            "image/png": "[encoded data removed]",
            "text/plain": [
              "<Figure size 432x288 with 1 Axes>"
            ]
          },
          "metadata": {
            "tags": []
          }
        },
        {
          "output_type": "display_data",
          "data": {
            "image/png": "[encoded data removed]",
            "text/plain": [
              "<Figure size 432x288 with 1 Axes>"
            ]
          },
          "metadata": {
            "tags": []
          }
        }
      ]
    },
    {
      "cell_type": "code",
      "metadata": {
        "id": "hBjzymExDILe",
        "colab_type": "code",
        "outputId": "a204ffd8-9a11-4630-c701-d391716d1b80",
        "colab": {
          "base_uri": "https://localhost:8080/",
          "height": 545
        }
      },
      "source": [
        "def smooth_curve(points, factor=0.8):\n",
        "  smoothed_points = []\n",
        "  for point in points:\n",
        "    if smoothed_points:\n",
        "      previous = smoothed_points[-1]\n",
        "      smoothed_points.append(previous * factor + point * (1 - factor))\n",
        "    else:\n",
        "      smoothed_points.append(point)\n",
        "  return smoothed_points\n",
        "\n",
        "plt.plot(epochs,\n",
        "         smooth_curve(acc), 'bo', label='Smoothed training acc')\n",
        "plt.plot(epochs,\n",
        "         smooth_curve(val_acc), 'b', label='Smoothed validation acc')\n",
        "plt.title('Training and validation accuracy')\n",
        "plt.legend()\n",
        "\n",
        "plt.figure()\n",
        "\n",
        "plt.plot(epochs,\n",
        "         smooth_curve(loss), 'bo', label='Smoothed training loss')\n",
        "plt.plot(epochs,\n",
        "         smooth_curve(val_loss), 'b', label='Smoothed validation loss')\n",
        "plt.title('Training and validation loss')\n",
        "plt.legend()\n",
        "\n",
        "plt.show()"
      ],
      "execution_count": 0,
      "outputs": [
        {
          "output_type": "display_data",
          "data": {
            "image/png": "[encoded data removed]",
            "text/plain": [
              "<Figure size 432x288 with 1 Axes>"
            ]
          },
          "metadata": {
            "tags": []
          }
        },
        {
          "output_type": "display_data",
          "data": {
            "image/png": "[encoded data removed]",
            "text/plain": [
              "<Figure size 432x288 with 1 Axes>"
            ]
          },
          "metadata": {
            "tags": []
          }
        }
      ]
    },
    {
      "cell_type": "markdown",
      "metadata": {
        "id": "IEFkPtq3DXDe",
        "colab_type": "text"
      },
      "source": [
        "The validation accuracy curve look much cleaner. You’re seeing a nice 1% absolute improvement in accuracy, from about 96% to above 97%.\n",
        "\n",
        "Note that the loss curve doesn’t show any real improvement (in fact, it’s deteriorating).\n",
        "\n",
        "You may wonder, how could accuracy stay stable or improve if the loss isn’t decreasing?\n",
        "\n",
        "The answer is simple: what you display is an average of pointwise loss values; but what matters for accuracy is the distribution of the loss values, not their average, because accuracy is the result of a binary thresholding of the class probability predicted by the model.\n",
        "\n",
        "The model may still be improving even if this isn’t reflected in the average loss.\n",
        "\n",
        "You can now finally evaluate this model on the test data:"
      ]
    },
    {
      "cell_type": "code",
      "metadata": {
        "id": "4tWT4BH1DPMv",
        "colab_type": "code",
        "outputId": "ee4bbb0a-79d7-40b0-bb75-6737d7afe8f8",
        "colab": {
          "base_uri": "https://localhost:8080/",
          "height": 52
        }
      },
      "source": [
        "test_generator = test_datagen.flow_from_directory(\n",
        "        test_dir,\n",
        "        target_size=(150, 150),\n",
        "        batch_size=20,\n",
        "        class_mode='binary')\n",
        "\n",
        "test_loss, test_acc = model.evaluate_generator(test_generator, steps=50)\n",
        "print('test acc:', test_acc)"
      ],
      "execution_count": 0,
      "outputs": [
        {
          "output_type": "stream",
          "text": [
            "Found 1000 images belonging to 2 classes.\n",
            "test acc: 0.9369999921321869\n"
          ],
          "name": "stdout"
        }
      ]
    },
    {
      "cell_type": "markdown",
      "metadata": {
        "id": "26YFeU-mDgTC",
        "colab_type": "text"
      },
      "source": [
        "Here you get a test accuracy of 97%.\n",
        "\n",
        "In the original Kaggle competition around this dataset, this would have been one of the top results.\n",
        "\n",
        "But using modern deep-learning techniques, you managed to reach this result using only a small fraction of the training data available (about 10%).\n",
        "\n",
        "There is a huge difference between being able to train on 20,000 samples compared to 2,000 samples!"
      ]
    },
    {
      "cell_type": "code",
      "metadata": {
        "id": "GSXxBbQMDbP5",
        "colab_type": "code",
        "colab": {}
      },
      "source": [
        ""
      ],
      "execution_count": 0,
      "outputs": []
    }
  ]
}