{
  "nbformat": 4,
  "nbformat_minor": 0,
  "metadata": {
    "colab": {
      "name": "GeronCh11_training_deep_neural_networks.ipynb",
      "version": "0.3.2",
      "provenance": [],
      "collapsed_sections": [],
      "include_colab_link": true
    },
    "language_info": {
      "codemirror_mode": {
        "name": "ipython",
        "version": 3
      },
      "file_extension": ".py",
      "mimetype": "text/x-python",
      "name": "python",
      "nbconvert_exporter": "python",
      "pygments_lexer": "ipython3",
      "version": "3.6.8"
    },
    "kernelspec": {
      "name": "python3",
      "display_name": "Python 3"
    },
    "accelerator": "GPU"
  },
  "cells": [
    {
      "cell_type": "markdown",
      "metadata": {
        "id": "view-in-github",
        "colab_type": "text"
      },
      "source": [
        "<a href=\"https://colab.research.google.com/github/ActionPace/DeepLearningTests/blob/master/GeronCh11_training_deep_neural_networks.ipynb\" target=\"_parent\"><img src=\"https://colab.research.google.com/assets/colab-badge.svg\" alt=\"Open In Colab\"/></a>"
      ]
    },
    {
      "metadata": {
        "id": "Il3MCrnsRwFO",
        "colab_type": "text"
      },
      "cell_type": "markdown",
      "source": [
        "**Chapter 11 – Training Deep Neural Networks**"
      ]
    },
    {
      "metadata": {
        "id": "8NeNMVrjRwFU",
        "colab_type": "text"
      },
      "cell_type": "markdown",
      "source": [
        "_This notebook contains all the sample code and solutions to the exercises in chapter 11._"
      ]
    },
    {
      "metadata": {
        "id": "pBIFuMjORwFY",
        "colab_type": "text"
      },
      "cell_type": "markdown",
      "source": [
        "# Setup"
      ]
    },
    {
      "metadata": {
        "id": "xauVTq4FRwFa",
        "colab_type": "text"
      },
      "cell_type": "markdown",
      "source": [
        "First, let's import a few common modules, ensure MatplotLib plots figures inline and prepare a function to save the figures. We also check that Python 3.5 or later is installed (although Python 2.x may work, it is deprecated so we strongly recommend you use Python 3 instead), as well as Scikit-Learn ≥0.20 and TensorFlow ≥2.0-preview."
      ]
    },
    {
      "metadata": {
        "id": "KFyw22JISZfJ",
        "colab_type": "code",
        "outputId": "658adf54-1d76-4546-d449-f0ec539e97a6",
        "colab": {
          "base_uri": "https://localhost:8080/",
          "height": 721
        }
      },
      "cell_type": "code",
      "source": [
        "!pip install tensorflow==2.0.0-alpha0 "
      ],
      "execution_count": 0,
      "outputs": [
        {
          "output_type": "stream",
          "text": [
            "Collecting tensorflow==2.0.0-alpha0\n",
            "\u001b[?25l  Downloading https://files.pythonhosted.org/packages/29/39/f99185d39131b8333afcfe1dcdb0629c2ffc4ecfb0e4c14ca210d620e56c/tensorflow-2.0.0a0-cp36-cp36m-manylinux1_x86_64.whl (79.9MB)\n",
            "\u001b[K    100% |████████████████████████████████| 79.9MB 607kB/s \n",
            "\u001b[?25hCollecting tf-estimator-nightly<1.14.0.dev2019030116,>=1.14.0.dev2019030115 (from tensorflow==2.0.0-alpha0)\n",
            "\u001b[?25l  Downloading https://files.pythonhosted.org/packages/13/82/f16063b4eed210dc2ab057930ac1da4fbe1e91b7b051a6c8370b401e6ae7/tf_estimator_nightly-1.14.0.dev2019030115-py2.py3-none-any.whl (411kB)\n",
            "\u001b[K    100% |████████████████████████████████| 419kB 19.5MB/s \n",
            "\u001b[?25hRequirement already satisfied: numpy<2.0,>=1.14.5 in /usr/local/lib/python3.6/dist-packages (from tensorflow==2.0.0-alpha0) (1.16.2)\n",
            "Requirement already satisfied: gast>=0.2.0 in /usr/local/lib/python3.6/dist-packages (from tensorflow==2.0.0-alpha0) (0.2.2)\n",
            "Collecting tb-nightly<1.14.0a20190302,>=1.14.0a20190301 (from tensorflow==2.0.0-alpha0)\n",
            "\u001b[?25l  Downloading https://files.pythonhosted.org/packages/a9/51/aa1d756644bf4624c03844115e4ac4058eff77acd786b26315f051a4b195/tb_nightly-1.14.0a20190301-py3-none-any.whl (3.0MB)\n",
            "\u001b[K    100% |████████████████████████████████| 3.0MB 11.5MB/s \n",
            "\u001b[?25hRequirement already satisfied: keras-preprocessing>=1.0.5 in /usr/local/lib/python3.6/dist-packages (from tensorflow==2.0.0-alpha0) (1.0.9)\n",
            "Requirement already satisfied: astor>=0.6.0 in /usr/local/lib/python3.6/dist-packages (from tensorflow==2.0.0-alpha0) (0.7.1)\n",
            "Requirement already satisfied: protobuf>=3.6.1 in /usr/local/lib/python3.6/dist-packages (from tensorflow==2.0.0-alpha0) (3.7.1)\n",
            "Requirement already satisfied: termcolor>=1.1.0 in /usr/local/lib/python3.6/dist-packages (from tensorflow==2.0.0-alpha0) (1.1.0)\n",
            "Requirement already satisfied: absl-py>=0.7.0 in /usr/local/lib/python3.6/dist-packages (from tensorflow==2.0.0-alpha0) (0.7.1)\n",
            "Requirement already satisfied: six>=1.10.0 in /usr/local/lib/python3.6/dist-packages (from tensorflow==2.0.0-alpha0) (1.11.0)\n",
            "Requirement already satisfied: keras-applications>=1.0.6 in /usr/local/lib/python3.6/dist-packages (from tensorflow==2.0.0-alpha0) (1.0.7)\n",
            "Collecting google-pasta>=0.1.2 (from tensorflow==2.0.0-alpha0)\n",
            "\u001b[?25l  Downloading https://files.pythonhosted.org/packages/64/bb/f1bbc131d6294baa6085a222d29abadd012696b73dcbf8cf1bf56b9f082a/google_pasta-0.1.5-py3-none-any.whl (51kB)\n",
            "\u001b[K    100% |████████████████████████████████| 61kB 31.8MB/s \n",
            "\u001b[?25hRequirement already satisfied: grpcio>=1.8.6 in /usr/local/lib/python3.6/dist-packages (from tensorflow==2.0.0-alpha0) (1.15.0)\n",
            "Requirement already satisfied: wheel>=0.26 in /usr/local/lib/python3.6/dist-packages (from tensorflow==2.0.0-alpha0) (0.33.1)\n",
            "Requirement already satisfied: werkzeug>=0.11.15 in /usr/local/lib/python3.6/dist-packages (from tb-nightly<1.14.0a20190302,>=1.14.0a20190301->tensorflow==2.0.0-alpha0) (0.15.2)\n",
            "Requirement already satisfied: markdown>=2.6.8 in /usr/local/lib/python3.6/dist-packages (from tb-nightly<1.14.0a20190302,>=1.14.0a20190301->tensorflow==2.0.0-alpha0) (3.1)\n",
            "Requirement already satisfied: setuptools in /usr/local/lib/python3.6/dist-packages (from protobuf>=3.6.1->tensorflow==2.0.0-alpha0) (40.9.0)\n",
            "Requirement already satisfied: h5py in /usr/local/lib/python3.6/dist-packages (from keras-applications>=1.0.6->tensorflow==2.0.0-alpha0) (2.8.0)\n",
            "Installing collected packages: tf-estimator-nightly, tb-nightly, google-pasta, tensorflow\n",
            "  Found existing installation: tensorflow 1.13.1\n",
            "    Uninstalling tensorflow-1.13.1:\n",
            "      Successfully uninstalled tensorflow-1.13.1\n",
            "Successfully installed google-pasta-0.1.5 tb-nightly-1.14.0a20190301 tensorflow-2.0.0a0 tf-estimator-nightly-1.14.0.dev2019030115\n"
          ],
          "name": "stdout"
        },
        {
          "output_type": "display_data",
          "data": {
            "application/vnd.colab-display-data+json": {
              "pip_warning": {
                "packages": [
                  "tensorflow",
                  "tensorflow_estimator"
                ]
              }
            }
          },
          "metadata": {
            "tags": []
          }
        }
      ]
    },
    {
      "metadata": {
        "id": "11uj2beiRwFe",
        "colab_type": "code",
        "colab": {}
      },
      "cell_type": "code",
      "source": [
        "# Python ≥3.5 is required\n",
        "import sys\n",
        "assert sys.version_info >= (3, 5)\n",
        "\n",
        "# Scikit-Learn ≥0.20 is required\n",
        "import sklearn\n",
        "assert sklearn.__version__ >= \"0.20\"\n",
        "\n",
        "# TensorFlow ≥2.0-preview is required\n",
        "import tensorflow as tf\n",
        "from tensorflow import keras\n",
        "assert tf.__version__ >= \"2.0\"\n",
        "\n",
        "# Common imports\n",
        "import numpy as np\n",
        "import os\n",
        "\n",
        "# to make this notebook's output stable across runs\n",
        "np.random.seed(42)\n",
        "\n",
        "# To plot pretty figures\n",
        "%matplotlib inline\n",
        "import matplotlib as mpl\n",
        "import matplotlib.pyplot as plt\n",
        "mpl.rc('axes', labelsize=14)\n",
        "mpl.rc('xtick', labelsize=12)\n",
        "mpl.rc('ytick', labelsize=12)\n",
        "\n",
        "# Where to save the figures\n",
        "PROJECT_ROOT_DIR = \".\"\n",
        "CHAPTER_ID = \"deep\"\n",
        "IMAGES_PATH = os.path.join(PROJECT_ROOT_DIR, \"images\", CHAPTER_ID)\n",
        "os.makedirs(IMAGES_PATH, exist_ok=True)\n",
        "\n",
        "def save_fig(fig_id, tight_layout=True, fig_extension=\"png\", resolution=300):\n",
        "    path = os.path.join(IMAGES_PATH, fig_id + \".\" + fig_extension)\n",
        "    print(\"Saving figure\", fig_id)\n",
        "    if tight_layout:\n",
        "        plt.tight_layout()\n",
        "    plt.savefig(path, format=fig_extension, dpi=resolution)"
      ],
      "execution_count": 0,
      "outputs": []
    },
    {
      "metadata": {
        "id": "Li5__nBDRwFo",
        "colab_type": "text"
      },
      "cell_type": "markdown",
      "source": [
        "# Vanishing/Exploding Gradients Problem"
      ]
    },
    {
      "metadata": {
        "id": "S0UYQx0_RwFq",
        "colab_type": "code",
        "colab": {}
      },
      "cell_type": "code",
      "source": [
        "def logit(z):\n",
        "    return 1 / (1 + np.exp(-z))"
      ],
      "execution_count": 0,
      "outputs": []
    },
    {
      "metadata": {
        "id": "kMYzl90HRwFy",
        "colab_type": "code",
        "outputId": "81a39209-b010-4518-9f06-6ebc6ca922a5",
        "colab": {
          "base_uri": "https://localhost:8080/",
          "height": 316
        }
      },
      "cell_type": "code",
      "source": [
        "z = np.linspace(-5, 5, 200)\n",
        "\n",
        "plt.plot([-5, 5], [0, 0], 'k-')\n",
        "plt.plot([-5, 5], [1, 1], 'k--')\n",
        "plt.plot([0, 0], [-0.2, 1.2], 'k-')\n",
        "plt.plot([-5, 5], [-3/4, 7/4], 'g--')\n",
        "plt.plot(z, logit(z), \"b-\", linewidth=2)\n",
        "props = dict(facecolor='black', shrink=0.1)\n",
        "plt.annotate('Saturating', xytext=(3.5, 0.7), xy=(5, 1), arrowprops=props, fontsize=14, ha=\"center\")\n",
        "plt.annotate('Saturating', xytext=(-3.5, 0.3), xy=(-5, 0), arrowprops=props, fontsize=14, ha=\"center\")\n",
        "plt.annotate('Linear', xytext=(2, 0.2), xy=(0, 0.5), arrowprops=props, fontsize=14, ha=\"center\")\n",
        "plt.grid(True)\n",
        "plt.title(\"Sigmoid activation function\", fontsize=14)\n",
        "plt.axis([-5, 5, -0.2, 1.2])\n",
        "\n",
        "save_fig(\"sigmoid_saturation_plot\")\n",
        "plt.show()"
      ],
      "execution_count": 0,
      "outputs": [
        {
          "output_type": "stream",
          "text": [
            "Saving figure sigmoid_saturation_plot\n"
          ],
          "name": "stdout"
        },
        {
          "output_type": "display_data",
          "data": {
            "image/png": "[encoded data removed]",
            "text/plain": [
              "<Figure size 432x288 with 1 Axes>"
            ]
          },
          "metadata": {
            "tags": []
          }
        }
      ]
    },
    {
      "metadata": {
        "id": "w4BQZddYRwF9",
        "colab_type": "text"
      },
      "cell_type": "markdown",
      "source": [
        "## Xavier and He Initialization"
      ]
    },
    {
      "metadata": {
        "id": "MvKMdcVXRwGA",
        "colab_type": "code",
        "outputId": "d25a5707-f20d-4303-9b9c-38e6894a0716",
        "colab": {
          "base_uri": "https://localhost:8080/",
          "height": 499
        }
      },
      "cell_type": "code",
      "source": [
        "[name for name in dir(keras.initializers) if not name.startswith(\"_\")]"
      ],
      "execution_count": 0,
      "outputs": [
        {
          "output_type": "execute_result",
          "data": {
            "text/plain": [
              "['Constant',\n",
              " 'GlorotNormal',\n",
              " 'GlorotUniform',\n",
              " 'Identity',\n",
              " 'Initializer',\n",
              " 'Ones',\n",
              " 'Orthogonal',\n",
              " 'RandomNormal',\n",
              " 'RandomUniform',\n",
              " 'TruncatedNormal',\n",
              " 'VarianceScaling',\n",
              " 'Zeros',\n",
              " 'constant',\n",
              " 'deserialize',\n",
              " 'get',\n",
              " 'glorot_normal',\n",
              " 'glorot_uniform',\n",
              " 'he_normal',\n",
              " 'he_uniform',\n",
              " 'identity',\n",
              " 'lecun_normal',\n",
              " 'lecun_uniform',\n",
              " 'ones',\n",
              " 'orthogonal',\n",
              " 'serialize',\n",
              " 'zeros']"
            ]
          },
          "metadata": {
            "tags": []
          },
          "execution_count": 4
        }
      ]
    },
    {
      "metadata": {
        "id": "OY3FKgaBRwGH",
        "colab_type": "code",
        "outputId": "23dc892b-4423-4497-8a49-3c6bc0beeab9",
        "colab": {
          "base_uri": "https://localhost:8080/",
          "height": 36
        }
      },
      "cell_type": "code",
      "source": [
        "keras.layers.Dense(10, activation=\"relu\", kernel_initializer=\"he_normal\")"
      ],
      "execution_count": 0,
      "outputs": [
        {
          "output_type": "execute_result",
          "data": {
            "text/plain": [
              "<tensorflow.python.keras.layers.core.Dense at 0x7f6ec2b81550>"
            ]
          },
          "metadata": {
            "tags": []
          },
          "execution_count": 5
        }
      ]
    },
    {
      "metadata": {
        "id": "tt3E5LbbRwGU",
        "colab_type": "code",
        "outputId": "89815a0b-ce60-48e6-dccf-d85dd26287c2",
        "colab": {
          "base_uri": "https://localhost:8080/",
          "height": 36
        }
      },
      "cell_type": "code",
      "source": [
        "init = keras.initializers.VarianceScaling(scale=2., mode='fan_avg',\n",
        "                                          distribution='uniform')\n",
        "keras.layers.Dense(10, activation=\"relu\", kernel_initializer=init)"
      ],
      "execution_count": 0,
      "outputs": [
        {
          "output_type": "execute_result",
          "data": {
            "text/plain": [
              "<tensorflow.python.keras.layers.core.Dense at 0x7f6ec33de908>"
            ]
          },
          "metadata": {
            "tags": []
          },
          "execution_count": 6
        }
      ]
    },
    {
      "metadata": {
        "id": "dr4Cj_peRwGf",
        "colab_type": "text"
      },
      "cell_type": "markdown",
      "source": [
        "## Nonsaturating Activation Functions"
      ]
    },
    {
      "metadata": {
        "id": "Y1ujjy4tRwGj",
        "colab_type": "text"
      },
      "cell_type": "markdown",
      "source": [
        "### Leaky ReLU"
      ]
    },
    {
      "metadata": {
        "id": "XY99CGxHRwGn",
        "colab_type": "code",
        "colab": {}
      },
      "cell_type": "code",
      "source": [
        "def leaky_relu(z, alpha=0.01):\n",
        "    return np.maximum(alpha*z, z)"
      ],
      "execution_count": 0,
      "outputs": []
    },
    {
      "metadata": {
        "id": "ngDoDCzTRwGw",
        "colab_type": "code",
        "outputId": "a9aefa51-7a66-4bfc-84b5-cde0f70a93fa",
        "colab": {
          "base_uri": "https://localhost:8080/",
          "height": 316
        }
      },
      "cell_type": "code",
      "source": [
        "plt.plot(z, leaky_relu(z, 0.05), \"b-\", linewidth=2)\n",
        "plt.plot([-5, 5], [0, 0], 'k-')\n",
        "plt.plot([0, 0], [-0.5, 4.2], 'k-')\n",
        "plt.grid(True)\n",
        "props = dict(facecolor='black', shrink=0.1)\n",
        "plt.annotate('Leak', xytext=(-3.5, 0.5), xy=(-5, -0.2), arrowprops=props, fontsize=14, ha=\"center\")\n",
        "plt.title(\"Leaky ReLU activation function\", fontsize=14)\n",
        "plt.axis([-5, 5, -0.5, 4.2])\n",
        "\n",
        "save_fig(\"leaky_relu_plot\")\n",
        "plt.show()"
      ],
      "execution_count": 0,
      "outputs": [
        {
          "output_type": "stream",
          "text": [
            "Saving figure leaky_relu_plot\n"
          ],
          "name": "stdout"
        },
        {
          "output_type": "display_data",
          "data": {
            "image/png": "[encoded data removed]",
            "text/plain": [
              "<Figure size 432x288 with 1 Axes>"
            ]
          },
          "metadata": {
            "tags": []
          }
        }
      ]
    },
    {
      "metadata": {
        "id": "tdh3Jj9kRwG2",
        "colab_type": "code",
        "outputId": "031918ca-d22d-4719-ba05-27f4404ebb08",
        "colab": {
          "base_uri": "https://localhost:8080/",
          "height": 276
        }
      },
      "cell_type": "code",
      "source": [
        "[m for m in dir(keras.activations) if not m.startswith(\"_\")]"
      ],
      "execution_count": 0,
      "outputs": [
        {
          "output_type": "execute_result",
          "data": {
            "text/plain": [
              "['deserialize',\n",
              " 'elu',\n",
              " 'exponential',\n",
              " 'get',\n",
              " 'hard_sigmoid',\n",
              " 'linear',\n",
              " 'relu',\n",
              " 'selu',\n",
              " 'serialize',\n",
              " 'sigmoid',\n",
              " 'softmax',\n",
              " 'softplus',\n",
              " 'softsign',\n",
              " 'tanh']"
            ]
          },
          "metadata": {
            "tags": []
          },
          "execution_count": 9
        }
      ]
    },
    {
      "metadata": {
        "id": "Kiyo1-9FRwG_",
        "colab_type": "code",
        "outputId": "d00b4a0f-cd92-4b7c-8ec1-5c5e96b3e093",
        "colab": {
          "base_uri": "https://localhost:8080/",
          "height": 36
        }
      },
      "cell_type": "code",
      "source": [
        "[m for m in dir(keras.layers) if \"relu\" in m.lower()]"
      ],
      "execution_count": 0,
      "outputs": [
        {
          "output_type": "execute_result",
          "data": {
            "text/plain": [
              "['LeakyReLU', 'PReLU', 'ReLU', 'ThresholdedReLU']"
            ]
          },
          "metadata": {
            "tags": []
          },
          "execution_count": 10
        }
      ]
    },
    {
      "metadata": {
        "id": "rVq1D-FKRwHG",
        "colab_type": "code",
        "colab": {}
      },
      "cell_type": "code",
      "source": [
        "leaky_relu = keras.layers.LeakyReLU(alpha=0.2)\n",
        "layer = keras.layers.Dense(10, activation=leaky_relu)"
      ],
      "execution_count": 0,
      "outputs": []
    },
    {
      "metadata": {
        "id": "t47Em-KjRwHM",
        "colab_type": "code",
        "outputId": "9a4044e0-9c96-4fc3-fcff-bb449814b353",
        "colab": {
          "base_uri": "https://localhost:8080/",
          "height": 36
        }
      },
      "cell_type": "code",
      "source": [
        "layer.activation"
      ],
      "execution_count": 0,
      "outputs": [
        {
          "output_type": "execute_result",
          "data": {
            "text/plain": [
              "<tensorflow.python.keras.layers.advanced_activations.LeakyReLU at 0x7f6eaaffc518>"
            ]
          },
          "metadata": {
            "tags": []
          },
          "execution_count": 12
        }
      ]
    },
    {
      "metadata": {
        "id": "Q4CNTjQ4RwHT",
        "colab_type": "text"
      },
      "cell_type": "markdown",
      "source": [
        "Let's train a neural network on Fashion MNIST using the Leaky ReLU:"
      ]
    },
    {
      "metadata": {
        "id": "sVePHdBORwHV",
        "colab_type": "code",
        "outputId": "f6c0babc-0bac-4126-8a38-7a186efb4616",
        "colab": {
          "base_uri": "https://localhost:8080/",
          "height": 165
        }
      },
      "cell_type": "code",
      "source": [
        "(X_train_full, y_train_full), (X_test, y_test) = keras.datasets.fashion_mnist.load_data()\n",
        "X_train_full = X_train_full / 255.0\n",
        "X_test = X_test / 255.0\n",
        "X_valid, X_train = X_train_full[:5000], X_train_full[5000:]\n",
        "y_valid, y_train = y_train_full[:5000], y_train_full[5000:]"
      ],
      "execution_count": 0,
      "outputs": [
        {
          "output_type": "stream",
          "text": [
            "Downloading data from https://storage.googleapis.com/tensorflow/tf-keras-datasets/train-labels-idx1-ubyte.gz\n",
            "32768/29515 [=================================] - 0s 0us/step\n",
            "Downloading data from https://storage.googleapis.com/tensorflow/tf-keras-datasets/train-images-idx3-ubyte.gz\n",
            "26427392/26421880 [==============================] - 0s 0us/step\n",
            "Downloading data from https://storage.googleapis.com/tensorflow/tf-keras-datasets/t10k-labels-idx1-ubyte.gz\n",
            "8192/5148 [===============================================] - 0s 0us/step\n",
            "Downloading data from https://storage.googleapis.com/tensorflow/tf-keras-datasets/t10k-images-idx3-ubyte.gz\n",
            "4423680/4422102 [==============================] - 0s 0us/step\n"
          ],
          "name": "stdout"
        }
      ]
    },
    {
      "metadata": {
        "id": "dyPZ7t7-RwHb",
        "colab_type": "code",
        "colab": {}
      },
      "cell_type": "code",
      "source": [
        "model = keras.models.Sequential([\n",
        "    keras.layers.Flatten(input_shape=[28, 28]),\n",
        "    keras.layers.Dense(300, activation=leaky_relu),\n",
        "    keras.layers.Dense(100, activation=leaky_relu),\n",
        "    keras.layers.Dense(10, activation=\"softmax\")\n",
        "])"
      ],
      "execution_count": 0,
      "outputs": []
    },
    {
      "metadata": {
        "id": "IRGUzDiqRwHm",
        "colab_type": "code",
        "colab": {}
      },
      "cell_type": "code",
      "source": [
        "model.compile(loss=\"sparse_categorical_crossentropy\", optimizer=\"sgd\",\n",
        "              metrics=[\"accuracy\"])"
      ],
      "execution_count": 0,
      "outputs": []
    },
    {
      "metadata": {
        "id": "0i5oUkUhRwHv",
        "colab_type": "code",
        "outputId": "78f0063b-a358-4518-edbc-0f385db2b56d",
        "colab": {
          "base_uri": "https://localhost:8080/",
          "height": 426
        }
      },
      "cell_type": "code",
      "source": [
        "history = model.fit(X_train, y_train, epochs=10,\n",
        "                    validation_data=(X_valid, y_valid))"
      ],
      "execution_count": 0,
      "outputs": [
        {
          "output_type": "stream",
          "text": [
            "Train on 55000 samples, validate on 5000 samples\n",
            "Epoch 1/10\n",
            "55000/55000 [==============================] - 5s 94us/sample - loss: 1.3638 - accuracy: 0.6008 - val_loss: 0.9190 - val_accuracy: 0.7156\n",
            "Epoch 2/10\n",
            "55000/55000 [==============================] - 5s 86us/sample - loss: 0.8236 - accuracy: 0.7333 - val_loss: 0.7321 - val_accuracy: 0.7606\n",
            "Epoch 3/10\n",
            "55000/55000 [==============================] - 5s 87us/sample - loss: 0.7021 - accuracy: 0.7700 - val_loss: 0.6501 - val_accuracy: 0.7900\n",
            "Epoch 4/10\n",
            "55000/55000 [==============================] - 5s 86us/sample - loss: 0.6375 - accuracy: 0.7905 - val_loss: 0.5995 - val_accuracy: 0.8100\n",
            "Epoch 5/10\n",
            "55000/55000 [==============================] - 5s 87us/sample - loss: 0.5946 - accuracy: 0.8044 - val_loss: 0.5660 - val_accuracy: 0.8192\n",
            "Epoch 6/10\n",
            "55000/55000 [==============================] - 5s 88us/sample - loss: 0.5641 - accuracy: 0.8142 - val_loss: 0.5410 - val_accuracy: 0.8244\n",
            "Epoch 7/10\n",
            "55000/55000 [==============================] - 5s 91us/sample - loss: 0.5408 - accuracy: 0.8198 - val_loss: 0.5206 - val_accuracy: 0.8346\n",
            "Epoch 8/10\n",
            "55000/55000 [==============================] - 5s 90us/sample - loss: 0.5226 - accuracy: 0.8251 - val_loss: 0.5044 - val_accuracy: 0.8372\n",
            "Epoch 9/10\n",
            "55000/55000 [==============================] - 5s 90us/sample - loss: 0.5078 - accuracy: 0.8292 - val_loss: 0.4915 - val_accuracy: 0.8394\n",
            "Epoch 10/10\n",
            "55000/55000 [==============================] - 6s 108us/sample - loss: 0.4956 - accuracy: 0.8319 - val_loss: 0.4841 - val_accuracy: 0.8414\n"
          ],
          "name": "stdout"
        }
      ]
    },
    {
      "metadata": {
        "id": "diZXbkDTRwH5",
        "colab_type": "text"
      },
      "cell_type": "markdown",
      "source": [
        "### ELU"
      ]
    },
    {
      "metadata": {
        "id": "_-Vy6oyFRwH6",
        "colab_type": "code",
        "colab": {}
      },
      "cell_type": "code",
      "source": [
        "def elu(z, alpha=1):\n",
        "    return np.where(z < 0, alpha * (np.exp(z) - 1), z)"
      ],
      "execution_count": 0,
      "outputs": []
    },
    {
      "metadata": {
        "id": "2G6IibtXRwH_",
        "colab_type": "code",
        "outputId": "1ca2881f-a6fc-4b72-bec6-98d9a42388bc",
        "colab": {
          "base_uri": "https://localhost:8080/",
          "height": 316
        }
      },
      "cell_type": "code",
      "source": [
        "plt.plot(z, elu(z), \"b-\", linewidth=2)\n",
        "plt.plot([-5, 5], [0, 0], 'k-')\n",
        "plt.plot([-5, 5], [-1, -1], 'k--')\n",
        "plt.plot([0, 0], [-2.2, 3.2], 'k-')\n",
        "plt.grid(True)\n",
        "plt.title(r\"ELU activation function ($\\alpha=1$)\", fontsize=14)\n",
        "plt.axis([-5, 5, -2.2, 3.2])\n",
        "\n",
        "save_fig(\"elu_plot\")\n",
        "plt.show()"
      ],
      "execution_count": 0,
      "outputs": [
        {
          "output_type": "stream",
          "text": [
            "Saving figure elu_plot\n"
          ],
          "name": "stdout"
        },
        {
          "output_type": "display_data",
          "data": {
            "image/png": "[encoded data removed]",
            "text/plain": [
              "<Figure size 432x288 with 1 Axes>"
            ]
          },
          "metadata": {
            "tags": []
          }
        }
      ]
    },
    {
      "metadata": {
        "id": "3Q_RlKxRRwII",
        "colab_type": "text"
      },
      "cell_type": "markdown",
      "source": [
        "Implementing ELU in TensorFlow is trivial, just specify the activation function when building each layer:"
      ]
    },
    {
      "metadata": {
        "id": "UDNKuv_cRwIJ",
        "colab_type": "code",
        "outputId": "78485c13-abce-45d0-9605-75e9421658fa",
        "colab": {
          "base_uri": "https://localhost:8080/",
          "height": 36
        }
      },
      "cell_type": "code",
      "source": [
        "keras.layers.Dense(10, activation=\"elu\")"
      ],
      "execution_count": 0,
      "outputs": [
        {
          "output_type": "execute_result",
          "data": {
            "text/plain": [
              "<tensorflow.python.keras.layers.core.Dense at 0x7f6eaafa1e80>"
            ]
          },
          "metadata": {
            "tags": []
          },
          "execution_count": 19
        }
      ]
    },
    {
      "metadata": {
        "id": "k_CLlxLHRwIR",
        "colab_type": "text"
      },
      "cell_type": "markdown",
      "source": [
        "### SELU"
      ]
    },
    {
      "metadata": {
        "id": "bDZlAeELRwIS",
        "colab_type": "text"
      },
      "cell_type": "markdown",
      "source": [
        "This activation function was proposed in this [great paper](https://arxiv.org/pdf/1706.02515.pdf) by Günter Klambauer, Thomas Unterthiner and Andreas Mayr, published in June 2017. During training, a neural network composed exclusively of a stack of dense layers using the SELU activation function and LeCun initialization will self-normalize: the output of each layer will tend to preserve the same mean and variance during training, which solves the vanishing/exploding gradients problem. As a result, this activation function outperforms the other activation functions very significantly for such neural nets, so you should really try it out. Unfortunately, the self-normalizing property of the SELU activation function is easily broken: you cannot use ℓ<sub>1</sub> or ℓ<sub>2</sub> regularization, regular dropout, max-norm, skip connections or other non-sequential topologies (so recurrent neural networks won't self-normalize). However, in practice it works quite well with sequential CNNs. If you break self-normalization, SELU will not necessarily outperform other activation functions."
      ]
    },
    {
      "metadata": {
        "id": "SLWxayPtRwIT",
        "colab_type": "code",
        "colab": {}
      },
      "cell_type": "code",
      "source": [
        "from scipy.special import erfc\n",
        "\n",
        "# alpha and scale to self normalize with mean 0 and standard deviation 1\n",
        "# (see equation 14 in the paper):\n",
        "alpha_0_1 = -np.sqrt(2 / np.pi) / (erfc(1/np.sqrt(2)) * np.exp(1/2) - 1)\n",
        "scale_0_1 = (1 - erfc(1 / np.sqrt(2)) * np.sqrt(np.e)) * np.sqrt(2 * np.pi) * (2 * erfc(np.sqrt(2))*np.e**2 + np.pi*erfc(1/np.sqrt(2))**2*np.e - 2*(2+np.pi)*erfc(1/np.sqrt(2))*np.sqrt(np.e)+np.pi+2)**(-1/2)"
      ],
      "execution_count": 0,
      "outputs": []
    },
    {
      "metadata": {
        "id": "ulgT1PsGRwIW",
        "colab_type": "code",
        "colab": {}
      },
      "cell_type": "code",
      "source": [
        "def selu(z, scale=scale_0_1, alpha=alpha_0_1):\n",
        "    return scale * elu(z, alpha)"
      ],
      "execution_count": 0,
      "outputs": []
    },
    {
      "metadata": {
        "id": "0htg9GzaRwIh",
        "colab_type": "code",
        "outputId": "7e6cb086-e784-401d-dd64-773679137ab4",
        "colab": {
          "base_uri": "https://localhost:8080/",
          "height": 316
        }
      },
      "cell_type": "code",
      "source": [
        "plt.plot(z, selu(z), \"b-\", linewidth=2)\n",
        "plt.plot([-5, 5], [0, 0], 'k-')\n",
        "plt.plot([-5, 5], [-1.758, -1.758], 'k--')\n",
        "plt.plot([0, 0], [-2.2, 3.2], 'k-')\n",
        "plt.grid(True)\n",
        "plt.title(\"SELU activation function\", fontsize=14)\n",
        "plt.axis([-5, 5, -2.2, 3.2])\n",
        "\n",
        "save_fig(\"selu_plot\")\n",
        "plt.show()"
      ],
      "execution_count": 0,
      "outputs": [
        {
          "output_type": "stream",
          "text": [
            "Saving figure selu_plot\n"
          ],
          "name": "stdout"
        },
        {
          "output_type": "display_data",
          "data": {
            "image/png": "[encoded data removed]",
            "text/plain": [
              "<Figure size 432x288 with 1 Axes>"
            ]
          },
          "metadata": {
            "tags": []
          }
        }
      ]
    },
    {
      "metadata": {
        "id": "QlmoxejJRwIm",
        "colab_type": "text"
      },
      "cell_type": "markdown",
      "source": [
        "By default, the SELU hyperparameters (`scale` and `alpha`) are tuned in such a way that the mean output of each neuron remains close to 0, and the standard deviation remains close to 1 (assuming the inputs are standardized with mean 0 and standard deviation 1 too). Using this activation function, even a 1,000 layer deep neural network preserves roughly mean 0 and standard deviation 1 across all layers, avoiding the exploding/vanishing gradients problem:"
      ]
    },
    {
      "metadata": {
        "id": "kuuisLaYRwIp",
        "colab_type": "code",
        "outputId": "2b60fe06-0fd9-4356-f466-2fbc46a70f09",
        "colab": {
          "base_uri": "https://localhost:8080/",
          "height": 202
        }
      },
      "cell_type": "code",
      "source": [
        "np.random.seed(42)\n",
        "Z = np.random.normal(size=(500, 100)) # standardized inputs\n",
        "for layer in range(1000):\n",
        "    W = np.random.normal(size=(100, 100), scale=np.sqrt(1 / 100)) # LeCun initialization\n",
        "    Z = selu(np.dot(Z, W))\n",
        "    means = np.mean(Z, axis=0).mean()\n",
        "    stds = np.std(Z, axis=0).mean()\n",
        "    if layer % 100 == 0:\n",
        "        print(\"Layer {}: mean {:.2f}, std deviation {:.2f}\".format(layer, means, stds))"
      ],
      "execution_count": 0,
      "outputs": [
        {
          "output_type": "stream",
          "text": [
            "Layer 0: mean -0.00, std deviation 1.00\n",
            "Layer 100: mean 0.02, std deviation 0.96\n",
            "Layer 200: mean 0.01, std deviation 0.90\n",
            "Layer 300: mean -0.02, std deviation 0.92\n",
            "Layer 400: mean 0.05, std deviation 0.89\n",
            "Layer 500: mean 0.01, std deviation 0.93\n",
            "Layer 600: mean 0.02, std deviation 0.92\n",
            "Layer 700: mean -0.02, std deviation 0.90\n",
            "Layer 800: mean 0.05, std deviation 0.83\n",
            "Layer 900: mean 0.02, std deviation 1.00\n"
          ],
          "name": "stdout"
        }
      ]
    },
    {
      "metadata": {
        "id": "XWAgCMLPRwIu",
        "colab_type": "text"
      },
      "cell_type": "markdown",
      "source": [
        "Using SELU is easy:"
      ]
    },
    {
      "metadata": {
        "id": "jqtQKnxyRwIv",
        "colab_type": "code",
        "outputId": "9690158f-74ff-4bab-dc9f-1104225adae0",
        "colab": {
          "base_uri": "https://localhost:8080/",
          "height": 36
        }
      },
      "cell_type": "code",
      "source": [
        "keras.layers.Dense(10, activation=\"selu\",\n",
        "                   kernel_initializer=\"lecun_normal\")"
      ],
      "execution_count": 0,
      "outputs": [
        {
          "output_type": "execute_result",
          "data": {
            "text/plain": [
              "<tensorflow.python.keras.layers.core.Dense at 0x7f6e9db63a20>"
            ]
          },
          "metadata": {
            "tags": []
          },
          "execution_count": 24
        }
      ]
    },
    {
      "metadata": {
        "id": "eKkTkd1aRwI2",
        "colab_type": "text"
      },
      "cell_type": "markdown",
      "source": [
        "Let's create a neural net for Fashion MNIST with 100 hidden layers, using the SELU activation function:"
      ]
    },
    {
      "metadata": {
        "id": "34sKPe5dRwI3",
        "colab_type": "code",
        "colab": {}
      },
      "cell_type": "code",
      "source": [
        "np.random.seed(42)\n",
        "tf.random.set_seed(42)"
      ],
      "execution_count": 0,
      "outputs": []
    },
    {
      "metadata": {
        "id": "DB6MePyCRwI5",
        "colab_type": "code",
        "colab": {}
      },
      "cell_type": "code",
      "source": [
        "model = keras.models.Sequential()\n",
        "model.add(keras.layers.Flatten(input_shape=[28, 28]))\n",
        "model.add(keras.layers.Dense(300, activation=\"selu\",\n",
        "                             kernel_initializer=\"lecun_normal\"))\n",
        "for layer in range(99):\n",
        "    model.add(keras.layers.Dense(100, activation=\"selu\",\n",
        "                                 kernel_initializer=\"lecun_normal\"))\n",
        "model.add(keras.layers.Dense(10, activation=\"softmax\"))"
      ],
      "execution_count": 0,
      "outputs": []
    },
    {
      "metadata": {
        "id": "z6oTF9WvRwI8",
        "colab_type": "code",
        "colab": {}
      },
      "cell_type": "code",
      "source": [
        "model.compile(loss=\"sparse_categorical_crossentropy\", optimizer=\"sgd\",\n",
        "              metrics=[\"accuracy\"])"
      ],
      "execution_count": 0,
      "outputs": []
    },
    {
      "metadata": {
        "id": "FRyrUwGVRwI_",
        "colab_type": "text"
      },
      "cell_type": "markdown",
      "source": [
        "Now let's train it. Do not forget to scale the inputs to mean 0 and standard deviation 1:"
      ]
    },
    {
      "metadata": {
        "id": "tUTm_aQdRwJA",
        "colab_type": "code",
        "colab": {}
      },
      "cell_type": "code",
      "source": [
        "pixel_means = X_train.mean(axis=0, keepdims=True)\n",
        "pixel_stds = X_train.std(axis=0, keepdims=True)\n",
        "X_train_scaled = (X_train - pixel_means) / pixel_stds\n",
        "X_valid_scaled = (X_valid - pixel_means) / pixel_stds\n",
        "X_test_scaled = (X_test - pixel_means) / pixel_stds"
      ],
      "execution_count": 0,
      "outputs": []
    },
    {
      "metadata": {
        "id": "XBIMEKgPRwJD",
        "colab_type": "code",
        "outputId": "c6ba1b1f-a3c7-4cec-99a2-75a202ff4f81",
        "colab": {
          "base_uri": "https://localhost:8080/",
          "height": 241
        }
      },
      "cell_type": "code",
      "source": [
        "history = model.fit(X_train_scaled, y_train, epochs=5,\n",
        "                    validation_data=(X_valid_scaled, y_valid))"
      ],
      "execution_count": 0,
      "outputs": [
        {
          "output_type": "stream",
          "text": [
            "Train on 55000 samples, validate on 5000 samples\n",
            "Epoch 1/5\n",
            "55000/55000 [==============================] - 81s 1ms/sample - loss: 1.4818 - accuracy: 0.3958 - val_loss: 1.5240 - val_accuracy: 0.2844\n",
            "Epoch 2/5\n",
            "55000/55000 [==============================] - 78s 1ms/sample - loss: 1.5991 - accuracy: 0.3461 - val_loss: 1.7466 - val_accuracy: 0.2812\n",
            "Epoch 3/5\n",
            "55000/55000 [==============================] - 82s 1ms/sample - loss: 1.1952 - accuracy: 0.5124 - val_loss: 1.0862 - val_accuracy: 0.5702\n",
            "Epoch 4/5\n",
            "55000/55000 [==============================] - 78s 1ms/sample - loss: 1.0782 - accuracy: 0.5695 - val_loss: 0.8320 - val_accuracy: 0.7062\n",
            "Epoch 5/5\n",
            "55000/55000 [==============================] - 78s 1ms/sample - loss: 0.7530 - accuracy: 0.7193 - val_loss: 0.7538 - val_accuracy: 0.7122\n"
          ],
          "name": "stdout"
        }
      ]
    },
    {
      "metadata": {
        "id": "dSIxTcz4RwJI",
        "colab_type": "text"
      },
      "cell_type": "markdown",
      "source": [
        "Now look at what happens if we try to use the ReLU activation function instead:"
      ]
    },
    {
      "metadata": {
        "id": "b77nY1FmRwJJ",
        "colab_type": "code",
        "colab": {}
      },
      "cell_type": "code",
      "source": [
        "np.random.seed(42)\n",
        "tf.random.set_seed(42)"
      ],
      "execution_count": 0,
      "outputs": []
    },
    {
      "metadata": {
        "id": "gT1593N3RwJN",
        "colab_type": "code",
        "colab": {}
      },
      "cell_type": "code",
      "source": [
        "model = keras.models.Sequential()\n",
        "model.add(keras.layers.Flatten(input_shape=[28, 28]))\n",
        "model.add(keras.layers.Dense(300, activation=\"relu\", kernel_initializer=\"he_normal\"))\n",
        "for layer in range(99):\n",
        "    model.add(keras.layers.Dense(100, activation=\"relu\", kernel_initializer=\"he_normal\"))\n",
        "model.add(keras.layers.Dense(10, activation=\"softmax\"))"
      ],
      "execution_count": 0,
      "outputs": []
    },
    {
      "metadata": {
        "id": "HtrS5AmxRwJW",
        "colab_type": "code",
        "colab": {}
      },
      "cell_type": "code",
      "source": [
        "model.compile(loss=\"sparse_categorical_crossentropy\", optimizer=\"sgd\",\n",
        "              metrics=[\"accuracy\"])"
      ],
      "execution_count": 0,
      "outputs": []
    },
    {
      "metadata": {
        "id": "4ejPG2WXRwJZ",
        "colab_type": "code",
        "outputId": "26aed068-b5c1-45c4-a503-a203c4bef11e",
        "colab": {
          "base_uri": "https://localhost:8080/",
          "height": 241
        }
      },
      "cell_type": "code",
      "source": [
        "history = model.fit(X_train_scaled, y_train, epochs=5,\n",
        "                    validation_data=(X_valid_scaled, y_valid))"
      ],
      "execution_count": 0,
      "outputs": [
        {
          "output_type": "stream",
          "text": [
            "Train on 55000 samples, validate on 5000 samples\n",
            "Epoch 1/5\n",
            "55000/55000 [==============================] - 45s 817us/sample - loss: 1.7793 - accuracy: 0.2765 - val_loss: 1.6866 - val_accuracy: 0.3002\n",
            "Epoch 2/5\n",
            "55000/55000 [==============================] - 46s 830us/sample - loss: 1.1687 - accuracy: 0.5045 - val_loss: 1.7109 - val_accuracy: 0.4454\n",
            "Epoch 3/5\n",
            "55000/55000 [==============================] - 45s 814us/sample - loss: 1.0323 - accuracy: 0.5653 - val_loss: 1.1129 - val_accuracy: 0.5040\n",
            "Epoch 4/5\n",
            "55000/55000 [==============================] - 46s 830us/sample - loss: 0.9160 - accuracy: 0.6231 - val_loss: 0.9224 - val_accuracy: 0.6530\n",
            "Epoch 5/5\n",
            "55000/55000 [==============================] - 45s 824us/sample - loss: 0.7820 - accuracy: 0.6891 - val_loss: 0.7141 - val_accuracy: 0.7244\n"
          ],
          "name": "stdout"
        }
      ]
    },
    {
      "metadata": {
        "id": "tMACazgARwJe",
        "colab_type": "text"
      },
      "cell_type": "markdown",
      "source": [
        "Not great at all, we suffered from the vanishing/exploding gradients problem."
      ]
    },
    {
      "metadata": {
        "id": "lJ67w7O8RwJf",
        "colab_type": "text"
      },
      "cell_type": "markdown",
      "source": [
        "# Batch Normalization"
      ]
    },
    {
      "metadata": {
        "id": "qnkvVI9JRwJg",
        "colab_type": "code",
        "colab": {}
      },
      "cell_type": "code",
      "source": [
        "model = keras.models.Sequential([\n",
        "    keras.layers.Flatten(input_shape=[28, 28]),\n",
        "    keras.layers.BatchNormalization(),\n",
        "    keras.layers.Dense(300, activation=\"relu\"),\n",
        "    keras.layers.BatchNormalization(),\n",
        "    keras.layers.Dense(100, activation=\"relu\"),\n",
        "    keras.layers.BatchNormalization(),\n",
        "    keras.layers.Dense(10, activation=\"softmax\")\n",
        "])"
      ],
      "execution_count": 0,
      "outputs": []
    },
    {
      "metadata": {
        "id": "j1oF8oyVRwJk",
        "colab_type": "code",
        "outputId": "64d7235a-fe4b-44d4-8981-b95210319a20",
        "colab": {
          "base_uri": "https://localhost:8080/",
          "height": 425
        }
      },
      "cell_type": "code",
      "source": [
        "model.summary()"
      ],
      "execution_count": 0,
      "outputs": [
        {
          "output_type": "stream",
          "text": [
            "Model: \"sequential_5\"\n",
            "_________________________________________________________________\n",
            "Layer (type)                 Output Shape              Param #   \n",
            "=================================================================\n",
            "flatten_5 (Flatten)          (None, 784)               0         \n",
            "_________________________________________________________________\n",
            "batch_normalization_v2 (Batc (None, 784)               3136      \n",
            "_________________________________________________________________\n",
            "dense_412 (Dense)            (None, 300)               235500    \n",
            "_________________________________________________________________\n",
            "batch_normalization_v2_1 (Ba (None, 300)               1200      \n",
            "_________________________________________________________________\n",
            "dense_413 (Dense)            (None, 100)               30100     \n",
            "_________________________________________________________________\n",
            "batch_normalization_v2_2 (Ba (None, 100)               400       \n",
            "_________________________________________________________________\n",
            "dense_414 (Dense)            (None, 10)                1010      \n",
            "=================================================================\n",
            "Total params: 271,346\n",
            "Trainable params: 268,978\n",
            "Non-trainable params: 2,368\n",
            "_________________________________________________________________\n"
          ],
          "name": "stdout"
        }
      ]
    },
    {
      "metadata": {
        "id": "IQadeb46RwJp",
        "colab_type": "code",
        "outputId": "057c9d88-bee2-458f-8717-7aa7048d99c4",
        "colab": {
          "base_uri": "https://localhost:8080/",
          "height": 91
        }
      },
      "cell_type": "code",
      "source": [
        "bn1 = model.layers[1]\n",
        "[(var.name, var.trainable) for var in bn1.variables]"
      ],
      "execution_count": 0,
      "outputs": [
        {
          "output_type": "execute_result",
          "data": {
            "text/plain": [
              "[('batch_normalization_v2/gamma:0', True),\n",
              " ('batch_normalization_v2/beta:0', True),\n",
              " ('batch_normalization_v2/moving_mean:0', False),\n",
              " ('batch_normalization_v2/moving_variance:0', False)]"
            ]
          },
          "metadata": {
            "tags": []
          },
          "execution_count": 45
        }
      ]
    },
    {
      "metadata": {
        "id": "a2eC5rbFRwJs",
        "colab_type": "code",
        "outputId": "6a3cd575-25f6-4e64-e5f6-5daf6161a51f",
        "colab": {
          "base_uri": "https://localhost:8080/",
          "height": 56
        }
      },
      "cell_type": "code",
      "source": [
        "bn1.updates"
      ],
      "execution_count": 0,
      "outputs": [
        {
          "output_type": "execute_result",
          "data": {
            "text/plain": [
              "ListWrapper([<tf.Operation 'batch_normalization_v2/cond_2/Identity' type=Identity>, <tf.Operation 'batch_normalization_v2/cond_3/Identity' type=Identity>])"
            ]
          },
          "metadata": {
            "tags": []
          },
          "execution_count": 46
        }
      ]
    },
    {
      "metadata": {
        "id": "3JqC_oUfRwJv",
        "colab_type": "code",
        "colab": {}
      },
      "cell_type": "code",
      "source": [
        "model.compile(loss=\"sparse_categorical_crossentropy\", optimizer=\"sgd\",\n",
        "              metrics=[\"accuracy\"])"
      ],
      "execution_count": 0,
      "outputs": []
    },
    {
      "metadata": {
        "id": "oflbQG79RwJx",
        "colab_type": "code",
        "outputId": "2c6ee884-c01c-4e99-d9eb-d39cbd524e0d",
        "colab": {
          "base_uri": "https://localhost:8080/",
          "height": 426
        }
      },
      "cell_type": "code",
      "source": [
        "history = model.fit(X_train, y_train, epochs=10,\n",
        "                    validation_data=(X_valid, y_valid))"
      ],
      "execution_count": 0,
      "outputs": [
        {
          "output_type": "stream",
          "text": [
            "Train on 55000 samples, validate on 5000 samples\n",
            "Epoch 1/10\n",
            "55000/55000 [==============================] - 8s 147us/sample - loss: 0.8756 - accuracy: 0.7140 - val_loss: 0.5515 - val_accuracy: 0.8216\n",
            "Epoch 2/10\n",
            "55000/55000 [==============================] - 7s 136us/sample - loss: 0.5765 - accuracy: 0.8033 - val_loss: 0.4742 - val_accuracy: 0.8432\n",
            "Epoch 3/10\n",
            "55000/55000 [==============================] - 8s 138us/sample - loss: 0.5146 - accuracy: 0.8214 - val_loss: 0.4382 - val_accuracy: 0.8528\n",
            "Epoch 4/10\n",
            "55000/55000 [==============================] - 7s 136us/sample - loss: 0.4820 - accuracy: 0.8325 - val_loss: 0.4169 - val_accuracy: 0.8598\n",
            "Epoch 5/10\n",
            "55000/55000 [==============================] - 7s 136us/sample - loss: 0.4589 - accuracy: 0.8403 - val_loss: 0.4003 - val_accuracy: 0.8654\n",
            "Epoch 6/10\n",
            "55000/55000 [==============================] - 7s 136us/sample - loss: 0.4427 - accuracy: 0.8457 - val_loss: 0.3883 - val_accuracy: 0.8700\n",
            "Epoch 7/10\n",
            "55000/55000 [==============================] - 7s 136us/sample - loss: 0.4219 - accuracy: 0.8522 - val_loss: 0.3794 - val_accuracy: 0.8722\n",
            "Epoch 8/10\n",
            "55000/55000 [==============================] - 7s 136us/sample - loss: 0.4150 - accuracy: 0.8549 - val_loss: 0.3696 - val_accuracy: 0.8758\n",
            "Epoch 9/10\n",
            "55000/55000 [==============================] - 8s 137us/sample - loss: 0.4013 - accuracy: 0.8589 - val_loss: 0.3631 - val_accuracy: 0.8736\n",
            "Epoch 10/10\n",
            "55000/55000 [==============================] - 9s 164us/sample - loss: 0.3931 - accuracy: 0.8616 - val_loss: 0.3581 - val_accuracy: 0.8766\n"
          ],
          "name": "stdout"
        }
      ]
    },
    {
      "metadata": {
        "id": "ZUWkq21LRwJ2",
        "colab_type": "text"
      },
      "cell_type": "markdown",
      "source": [
        "Sometimes applying BN before the activation function works better (there's a debate on this topic). Moreover, the layer before a `BatchNormalization` layer does not need to have bias terms, since the `BatchNormalization` layer some as well, it would be a waste of parameters, so you can set `use_bias=False` when creating those layers:"
      ]
    },
    {
      "metadata": {
        "id": "R6WFZsyURwJ3",
        "colab_type": "code",
        "colab": {}
      },
      "cell_type": "code",
      "source": [
        "model = keras.models.Sequential([\n",
        "    keras.layers.Flatten(input_shape=[28, 28]),\n",
        "    keras.layers.BatchNormalization(),\n",
        "    keras.layers.Dense(300, use_bias=False),\n",
        "    keras.layers.BatchNormalization(),\n",
        "    keras.layers.Activation(\"relu\"),\n",
        "    keras.layers.Dense(100, use_bias=False),\n",
        "    keras.layers.Activation(\"relu\"),\n",
        "    keras.layers.BatchNormalization(),\n",
        "    keras.layers.Dense(10, activation=\"softmax\")\n",
        "])"
      ],
      "execution_count": 0,
      "outputs": []
    },
    {
      "metadata": {
        "id": "s9ZaL1RhRwJ6",
        "colab_type": "code",
        "colab": {}
      },
      "cell_type": "code",
      "source": [
        "model.compile(loss=\"sparse_categorical_crossentropy\", optimizer=\"sgd\",\n",
        "              metrics=[\"accuracy\"])"
      ],
      "execution_count": 0,
      "outputs": []
    },
    {
      "metadata": {
        "id": "9ETo3GG8RwJ8",
        "colab_type": "code",
        "outputId": "b9b039c6-81b5-43bc-804b-25f19f8abfec",
        "colab": {
          "base_uri": "https://localhost:8080/",
          "height": 426
        }
      },
      "cell_type": "code",
      "source": [
        "history = model.fit(X_train, y_train, epochs=10,\n",
        "                    validation_data=(X_valid, y_valid))"
      ],
      "execution_count": 0,
      "outputs": [
        {
          "output_type": "stream",
          "text": [
            "Train on 55000 samples, validate on 5000 samples\n",
            "Epoch 1/10\n",
            "55000/55000 [==============================] - 8s 146us/sample - loss: 0.8618 - accuracy: 0.7092 - val_loss: 0.5658 - val_accuracy: 0.8086\n",
            "Epoch 2/10\n",
            "55000/55000 [==============================] - 7s 135us/sample - loss: 0.5809 - accuracy: 0.8008 - val_loss: 0.4837 - val_accuracy: 0.8350\n",
            "Epoch 3/10\n",
            "55000/55000 [==============================] - 8s 137us/sample - loss: 0.5161 - accuracy: 0.8202 - val_loss: 0.4465 - val_accuracy: 0.8480\n",
            "Epoch 4/10\n",
            "55000/55000 [==============================] - 8s 137us/sample - loss: 0.4851 - accuracy: 0.8301 - val_loss: 0.4257 - val_accuracy: 0.8552\n",
            "Epoch 5/10\n",
            "55000/55000 [==============================] - 9s 164us/sample - loss: 0.4581 - accuracy: 0.8401 - val_loss: 0.4112 - val_accuracy: 0.8604\n",
            "Epoch 6/10\n",
            "55000/55000 [==============================] - 8s 142us/sample - loss: 0.4411 - accuracy: 0.8458 - val_loss: 0.3982 - val_accuracy: 0.8612\n",
            "Epoch 7/10\n",
            "55000/55000 [==============================] - 7s 136us/sample - loss: 0.4299 - accuracy: 0.8481 - val_loss: 0.3926 - val_accuracy: 0.8656\n",
            "Epoch 8/10\n",
            "55000/55000 [==============================] - 8s 138us/sample - loss: 0.4129 - accuracy: 0.8559 - val_loss: 0.3840 - val_accuracy: 0.8664\n",
            "Epoch 9/10\n",
            "55000/55000 [==============================] - 8s 137us/sample - loss: 0.4011 - accuracy: 0.8593 - val_loss: 0.3772 - val_accuracy: 0.8694\n",
            "Epoch 10/10\n",
            "55000/55000 [==============================] - 7s 135us/sample - loss: 0.3932 - accuracy: 0.8623 - val_loss: 0.3714 - val_accuracy: 0.8698\n"
          ],
          "name": "stdout"
        }
      ]
    },
    {
      "metadata": {
        "id": "H6X83yAMRwKC",
        "colab_type": "text"
      },
      "cell_type": "markdown",
      "source": [
        "## Gradient Clipping"
      ]
    },
    {
      "metadata": {
        "id": "pTAp4KlARwKD",
        "colab_type": "text"
      },
      "cell_type": "markdown",
      "source": [
        "All Keras optimizers accept `clipnorm` or `clipvalue` arguments:"
      ]
    },
    {
      "metadata": {
        "id": "DdKkR3I2RwKE",
        "colab_type": "code",
        "colab": {}
      },
      "cell_type": "code",
      "source": [
        "optimizer = keras.optimizers.SGD(clipvalue=1.0)"
      ],
      "execution_count": 0,
      "outputs": []
    },
    {
      "metadata": {
        "id": "pVYNcshyRwKS",
        "colab_type": "code",
        "colab": {}
      },
      "cell_type": "code",
      "source": [
        "optimizer = keras.optimizers.SGD(clipnorm=1.0)"
      ],
      "execution_count": 0,
      "outputs": []
    },
    {
      "metadata": {
        "id": "jIax6cP_RwKb",
        "colab_type": "text"
      },
      "cell_type": "markdown",
      "source": [
        "## Reusing Pretrained Layers"
      ]
    },
    {
      "metadata": {
        "id": "6gqshRNrRwKe",
        "colab_type": "text"
      },
      "cell_type": "markdown",
      "source": [
        "### Reusing a Keras model"
      ]
    },
    {
      "metadata": {
        "id": "91nPWTNoRwKe",
        "colab_type": "text"
      },
      "cell_type": "markdown",
      "source": [
        "Let's split the fashion MNIST training set in two:\n",
        "* `X_train_A`: all images of all items except for sandals and shirts (classes 5 and 6).\n",
        "* `X_train_B`: a much smaller training set of just the first 200 images of sandals or shirts.\n",
        "\n",
        "The validation set and the test set are also split this way, but without restricting the number of images.\n",
        "\n",
        "We will train a model on set A (classification task with 8 classes), and try to reuse it to tackle set B (binary classification). We hope to transfer a little bit of knowledge from task A to task B, since classes in set A (sneakers, ankle boots, coats, t-shirts, etc.) are somewhat similar to classes in set B (sandals and shirts). However, since we are using `Dense` layers, only patterns that occur at the same location can be reused (in contrast, convolutional layers will transfer much better, since learned patterns can be detected anywhere on the image, as we will see in the CNN chapter)."
      ]
    },
    {
      "metadata": {
        "id": "zfh8RjuFRwKg",
        "colab_type": "code",
        "colab": {}
      },
      "cell_type": "code",
      "source": [
        "def split_dataset(X, y):\n",
        "    y_5_or_6 = (y == 5) | (y == 6) # sandals or shirts\n",
        "    y_A = y[~y_5_or_6]\n",
        "    y_A[y_A > 6] -= 2 # class indices 7, 8, 9 should be moved to 5, 6, 7\n",
        "    y_B = (y[y_5_or_6] == 6).astype(np.float32) # binary classification task: is it a shirt (class 6)?\n",
        "    return ((X[~y_5_or_6], y_A),\n",
        "            (X[y_5_or_6], y_B))\n",
        "\n",
        "(X_train_A, y_train_A), (X_train_B, y_train_B) = split_dataset(X_train, y_train)\n",
        "(X_valid_A, y_valid_A), (X_valid_B, y_valid_B) = split_dataset(X_valid, y_valid)\n",
        "(X_test_A, y_test_A), (X_test_B, y_test_B) = split_dataset(X_test, y_test)\n",
        "X_train_B = X_train_B[:200]\n",
        "y_train_B = y_train_B[:200]"
      ],
      "execution_count": 0,
      "outputs": []
    },
    {
      "metadata": {
        "id": "voHVEDC1RwKk",
        "colab_type": "code",
        "outputId": "b45cd38d-7f6f-4b0d-b500-235ca79f73c4",
        "colab": {
          "base_uri": "https://localhost:8080/",
          "height": 36
        }
      },
      "cell_type": "code",
      "source": [
        "X_train_A.shape"
      ],
      "execution_count": 0,
      "outputs": [
        {
          "output_type": "execute_result",
          "data": {
            "text/plain": [
              "(43986, 28, 28)"
            ]
          },
          "metadata": {
            "tags": []
          },
          "execution_count": 55
        }
      ]
    },
    {
      "metadata": {
        "id": "h_z0tJKJRwKp",
        "colab_type": "code",
        "outputId": "90698949-d946-4df9-dca4-cd809eb3c3b3",
        "colab": {
          "base_uri": "https://localhost:8080/",
          "height": 36
        }
      },
      "cell_type": "code",
      "source": [
        "X_train_B.shape"
      ],
      "execution_count": 0,
      "outputs": [
        {
          "output_type": "execute_result",
          "data": {
            "text/plain": [
              "(200, 28, 28)"
            ]
          },
          "metadata": {
            "tags": []
          },
          "execution_count": 56
        }
      ]
    },
    {
      "metadata": {
        "id": "BKcNJtH7RwKw",
        "colab_type": "code",
        "outputId": "e70e466e-7ea0-4f21-ca44-7d3b097091bc",
        "colab": {
          "base_uri": "https://localhost:8080/",
          "height": 54
        }
      },
      "cell_type": "code",
      "source": [
        "y_train_A[:30]"
      ],
      "execution_count": 0,
      "outputs": [
        {
          "output_type": "execute_result",
          "data": {
            "text/plain": [
              "array([4, 0, 5, 7, 7, 7, 4, 4, 3, 4, 0, 1, 6, 3, 4, 3, 2, 6, 5, 3, 4, 5,\n",
              "       1, 3, 4, 2, 0, 6, 7, 1], dtype=uint8)"
            ]
          },
          "metadata": {
            "tags": []
          },
          "execution_count": 57
        }
      ]
    },
    {
      "metadata": {
        "id": "0UlMABE9RwKz",
        "colab_type": "code",
        "outputId": "39072ffc-30de-40bc-d5c1-f9b5ffd5c0f3",
        "colab": {
          "base_uri": "https://localhost:8080/",
          "height": 54
        }
      },
      "cell_type": "code",
      "source": [
        "y_train_B[:30]"
      ],
      "execution_count": 0,
      "outputs": [
        {
          "output_type": "execute_result",
          "data": {
            "text/plain": [
              "array([1., 1., 0., 0., 0., 0., 1., 1., 1., 0., 0., 1., 1., 0., 0., 0., 0.,\n",
              "       0., 0., 1., 1., 0., 0., 1., 1., 0., 1., 1., 1., 1.], dtype=float32)"
            ]
          },
          "metadata": {
            "tags": []
          },
          "execution_count": 58
        }
      ]
    },
    {
      "metadata": {
        "id": "RSKCqr_9RwK9",
        "colab_type": "code",
        "colab": {}
      },
      "cell_type": "code",
      "source": [
        "tf.random.set_seed(42)\n",
        "np.random.seed(42)"
      ],
      "execution_count": 0,
      "outputs": []
    },
    {
      "metadata": {
        "id": "SpH81mcpRwLE",
        "colab_type": "code",
        "colab": {}
      },
      "cell_type": "code",
      "source": [
        "model_A = keras.models.Sequential()\n",
        "model_A.add(keras.layers.Flatten(input_shape=[28, 28]))\n",
        "for n_hidden in (300, 100, 50, 50, 50):\n",
        "    model_A.add(keras.layers.Dense(n_hidden, activation=\"selu\"))\n",
        "model_A.add(keras.layers.Dense(8, activation=\"softmax\"))"
      ],
      "execution_count": 0,
      "outputs": []
    },
    {
      "metadata": {
        "id": "Yvp7iuQvRwLI",
        "colab_type": "code",
        "colab": {}
      },
      "cell_type": "code",
      "source": [
        "model_A.compile(loss=\"sparse_categorical_crossentropy\", optimizer=\"sgd\",\n",
        "              metrics=[\"accuracy\"])"
      ],
      "execution_count": 0,
      "outputs": []
    },
    {
      "metadata": {
        "id": "gNnT9sSSRwLL",
        "colab_type": "code",
        "outputId": "5bd3d9ec-6d78-4cda-8414-72351ceb06ef",
        "colab": {
          "base_uri": "https://localhost:8080/",
          "height": 797
        }
      },
      "cell_type": "code",
      "source": [
        "history = model_A.fit(X_train_A, y_train_A, epochs=20,\n",
        "                    validation_data=(X_valid_A, y_valid_A))"
      ],
      "execution_count": 0,
      "outputs": [
        {
          "output_type": "stream",
          "text": [
            "Train on 43986 samples, validate on 4014 samples\n",
            "Epoch 1/20\n",
            "43986/43986 [==============================] - 5s 115us/sample - loss: 0.5887 - accuracy: 0.8123 - val_loss: 0.3749 - val_accuracy: 0.8734\n",
            "Epoch 2/20\n",
            "43986/43986 [==============================] - 5s 106us/sample - loss: 0.3516 - accuracy: 0.8793 - val_loss: 0.3223 - val_accuracy: 0.8874\n",
            "Epoch 3/20\n",
            "43986/43986 [==============================] - 5s 105us/sample - loss: 0.3160 - accuracy: 0.8895 - val_loss: 0.3009 - val_accuracy: 0.8954\n",
            "Epoch 4/20\n",
            "43986/43986 [==============================] - 5s 104us/sample - loss: 0.2963 - accuracy: 0.8977 - val_loss: 0.2849 - val_accuracy: 0.9038\n",
            "Epoch 5/20\n",
            "43986/43986 [==============================] - 5s 105us/sample - loss: 0.2825 - accuracy: 0.9035 - val_loss: 0.2767 - val_accuracy: 0.9078\n",
            "Epoch 6/20\n",
            "43986/43986 [==============================] - 5s 104us/sample - loss: 0.2719 - accuracy: 0.9069 - val_loss: 0.2673 - val_accuracy: 0.9096\n",
            "Epoch 7/20\n",
            "43986/43986 [==============================] - 5s 106us/sample - loss: 0.2639 - accuracy: 0.9090 - val_loss: 0.2657 - val_accuracy: 0.9101\n",
            "Epoch 8/20\n",
            "43986/43986 [==============================] - 5s 106us/sample - loss: 0.2570 - accuracy: 0.9122 - val_loss: 0.2592 - val_accuracy: 0.9113\n",
            "Epoch 9/20\n",
            "43986/43986 [==============================] - 5s 104us/sample - loss: 0.2514 - accuracy: 0.9138 - val_loss: 0.2567 - val_accuracy: 0.9133\n",
            "Epoch 10/20\n",
            "43986/43986 [==============================] - 6s 130us/sample - loss: 0.2465 - accuracy: 0.9167 - val_loss: 0.2561 - val_accuracy: 0.9106\n",
            "Epoch 11/20\n",
            "43986/43986 [==============================] - 5s 124us/sample - loss: 0.2418 - accuracy: 0.9178 - val_loss: 0.2485 - val_accuracy: 0.9180\n",
            "Epoch 12/20\n",
            "43986/43986 [==============================] - 5s 106us/sample - loss: 0.2379 - accuracy: 0.9190 - val_loss: 0.2459 - val_accuracy: 0.9175\n",
            "Epoch 13/20\n",
            "43986/43986 [==============================] - 5s 106us/sample - loss: 0.2343 - accuracy: 0.9200 - val_loss: 0.2425 - val_accuracy: 0.9183\n",
            "Epoch 14/20\n",
            "43986/43986 [==============================] - 5s 106us/sample - loss: 0.2313 - accuracy: 0.9213 - val_loss: 0.2410 - val_accuracy: 0.9190\n",
            "Epoch 15/20\n",
            "43986/43986 [==============================] - 5s 105us/sample - loss: 0.2281 - accuracy: 0.9223 - val_loss: 0.2385 - val_accuracy: 0.9173\n",
            "Epoch 16/20\n",
            "43986/43986 [==============================] - 5s 110us/sample - loss: 0.2252 - accuracy: 0.9224 - val_loss: 0.2360 - val_accuracy: 0.9208\n",
            "Epoch 17/20\n",
            "43986/43986 [==============================] - 5s 106us/sample - loss: 0.2229 - accuracy: 0.9232 - val_loss: 0.2419 - val_accuracy: 0.9160\n",
            "Epoch 18/20\n",
            "43986/43986 [==============================] - 5s 105us/sample - loss: 0.2195 - accuracy: 0.9251 - val_loss: 0.2358 - val_accuracy: 0.9170\n",
            "Epoch 19/20\n",
            "43986/43986 [==============================] - 5s 106us/sample - loss: 0.2177 - accuracy: 0.9251 - val_loss: 0.2332 - val_accuracy: 0.9210\n",
            "Epoch 20/20\n",
            "43986/43986 [==============================] - 5s 104us/sample - loss: 0.2154 - accuracy: 0.9261 - val_loss: 0.2372 - val_accuracy: 0.9158\n"
          ],
          "name": "stdout"
        }
      ]
    },
    {
      "metadata": {
        "id": "BDKcWVYHRwLO",
        "colab_type": "code",
        "colab": {}
      },
      "cell_type": "code",
      "source": [
        "model_A.save(\"my_model_A.h5\")"
      ],
      "execution_count": 0,
      "outputs": []
    },
    {
      "metadata": {
        "id": "jd2WXWnHRwLS",
        "colab_type": "code",
        "colab": {}
      },
      "cell_type": "code",
      "source": [
        "model_B = keras.models.Sequential()\n",
        "model_B.add(keras.layers.Flatten(input_shape=[28, 28]))\n",
        "for n_hidden in (300, 100, 50, 50, 50):\n",
        "    model_B.add(keras.layers.Dense(n_hidden, activation=\"selu\"))\n",
        "model_B.add(keras.layers.Dense(1, activation=\"sigmoid\"))"
      ],
      "execution_count": 0,
      "outputs": []
    },
    {
      "metadata": {
        "id": "TiEZ1VC4RwLc",
        "colab_type": "code",
        "colab": {}
      },
      "cell_type": "code",
      "source": [
        "model_B.compile(loss=\"binary_crossentropy\", optimizer=\"sgd\",\n",
        "              metrics=[\"accuracy\"])"
      ],
      "execution_count": 0,
      "outputs": []
    },
    {
      "metadata": {
        "id": "36KtLaeVRwLe",
        "colab_type": "code",
        "outputId": "2ed65f69-0919-4438-bea4-f1e8ce183053",
        "colab": {
          "base_uri": "https://localhost:8080/",
          "height": 797
        }
      },
      "cell_type": "code",
      "source": [
        "history = model_B.fit(X_train_B, y_train_B, epochs=20,\n",
        "                      validation_data=(X_valid_B, y_valid_B))"
      ],
      "execution_count": 0,
      "outputs": [
        {
          "output_type": "stream",
          "text": [
            "Train on 200 samples, validate on 986 samples\n",
            "Epoch 1/20\n",
            "200/200 [==============================] - 0s 2ms/sample - loss: 0.9537 - accuracy: 0.4800 - val_loss: 0.6472 - val_accuracy: 0.5710\n",
            "Epoch 2/20\n",
            "200/200 [==============================] - 0s 471us/sample - loss: 0.5805 - accuracy: 0.6850 - val_loss: 0.4863 - val_accuracy: 0.8428\n",
            "Epoch 3/20\n",
            "200/200 [==============================] - 0s 439us/sample - loss: 0.4561 - accuracy: 0.8750 - val_loss: 0.4116 - val_accuracy: 0.8905\n",
            "Epoch 4/20\n",
            "200/200 [==============================] - 0s 435us/sample - loss: 0.3885 - accuracy: 0.9100 - val_loss: 0.3650 - val_accuracy: 0.9148\n",
            "Epoch 5/20\n",
            "200/200 [==============================] - 0s 470us/sample - loss: 0.3426 - accuracy: 0.9250 - val_loss: 0.3308 - val_accuracy: 0.9270\n",
            "Epoch 6/20\n",
            "200/200 [==============================] - 0s 421us/sample - loss: 0.3084 - accuracy: 0.9300 - val_loss: 0.3044 - val_accuracy: 0.9371\n",
            "Epoch 7/20\n",
            "200/200 [==============================] - 0s 422us/sample - loss: 0.2810 - accuracy: 0.9400 - val_loss: 0.2806 - val_accuracy: 0.9432\n",
            "Epoch 8/20\n",
            "200/200 [==============================] - 0s 425us/sample - loss: 0.2572 - accuracy: 0.9500 - val_loss: 0.2607 - val_accuracy: 0.9462\n",
            "Epoch 9/20\n",
            "200/200 [==============================] - 0s 434us/sample - loss: 0.2372 - accuracy: 0.9600 - val_loss: 0.2439 - val_accuracy: 0.9513\n",
            "Epoch 10/20\n",
            "200/200 [==============================] - 0s 457us/sample - loss: 0.2202 - accuracy: 0.9600 - val_loss: 0.2290 - val_accuracy: 0.9523\n",
            "Epoch 11/20\n",
            "200/200 [==============================] - 0s 429us/sample - loss: 0.2047 - accuracy: 0.9650 - val_loss: 0.2161 - val_accuracy: 0.9564\n",
            "Epoch 12/20\n",
            "200/200 [==============================] - 0s 426us/sample - loss: 0.1917 - accuracy: 0.9700 - val_loss: 0.2046 - val_accuracy: 0.9584\n",
            "Epoch 13/20\n",
            "200/200 [==============================] - 0s 434us/sample - loss: 0.1798 - accuracy: 0.9750 - val_loss: 0.1944 - val_accuracy: 0.9604\n",
            "Epoch 14/20\n",
            "200/200 [==============================] - 0s 430us/sample - loss: 0.1690 - accuracy: 0.9750 - val_loss: 0.1860 - val_accuracy: 0.9604\n",
            "Epoch 15/20\n",
            "200/200 [==============================] - 0s 434us/sample - loss: 0.1594 - accuracy: 0.9850 - val_loss: 0.1774 - val_accuracy: 0.9635\n",
            "Epoch 16/20\n",
            "200/200 [==============================] - 0s 461us/sample - loss: 0.1508 - accuracy: 0.9850 - val_loss: 0.1691 - val_accuracy: 0.9675\n",
            "Epoch 17/20\n",
            "200/200 [==============================] - 0s 430us/sample - loss: 0.1426 - accuracy: 0.9900 - val_loss: 0.1621 - val_accuracy: 0.9686\n",
            "Epoch 18/20\n",
            "200/200 [==============================] - 0s 432us/sample - loss: 0.1355 - accuracy: 0.9900 - val_loss: 0.1558 - val_accuracy: 0.9706\n",
            "Epoch 19/20\n",
            "200/200 [==============================] - 0s 426us/sample - loss: 0.1288 - accuracy: 0.9900 - val_loss: 0.1505 - val_accuracy: 0.9706\n",
            "Epoch 20/20\n",
            "200/200 [==============================] - 0s 414us/sample - loss: 0.1230 - accuracy: 0.9900 - val_loss: 0.1454 - val_accuracy: 0.9716\n"
          ],
          "name": "stdout"
        }
      ]
    },
    {
      "metadata": {
        "id": "SOZMdRnjRwLh",
        "colab_type": "code",
        "outputId": "748891c6-6374-40c4-cc4b-f88a5c82a9e8",
        "colab": {
          "base_uri": "https://localhost:8080/",
          "height": 499
        }
      },
      "cell_type": "code",
      "source": [
        "model.summary()"
      ],
      "execution_count": 0,
      "outputs": [
        {
          "output_type": "stream",
          "text": [
            "Model: \"sequential_6\"\n",
            "_________________________________________________________________\n",
            "Layer (type)                 Output Shape              Param #   \n",
            "=================================================================\n",
            "flatten_6 (Flatten)          (None, 784)               0         \n",
            "_________________________________________________________________\n",
            "batch_normalization_v2_3 (Ba (None, 784)               3136      \n",
            "_________________________________________________________________\n",
            "dense_415 (Dense)            (None, 300)               235200    \n",
            "_________________________________________________________________\n",
            "batch_normalization_v2_4 (Ba (None, 300)               1200      \n",
            "_________________________________________________________________\n",
            "activation (Activation)      (None, 300)               0         \n",
            "_________________________________________________________________\n",
            "dense_416 (Dense)            (None, 100)               30000     \n",
            "_________________________________________________________________\n",
            "activation_1 (Activation)    (None, 100)               0         \n",
            "_________________________________________________________________\n",
            "batch_normalization_v2_5 (Ba (None, 100)               400       \n",
            "_________________________________________________________________\n",
            "dense_417 (Dense)            (None, 10)                1010      \n",
            "=================================================================\n",
            "Total params: 270,946\n",
            "Trainable params: 268,578\n",
            "Non-trainable params: 2,368\n",
            "_________________________________________________________________\n"
          ],
          "name": "stdout"
        }
      ]
    },
    {
      "metadata": {
        "id": "UlvmpwHhRwLo",
        "colab_type": "code",
        "colab": {}
      },
      "cell_type": "code",
      "source": [
        "model_A = keras.models.load_model(\"my_model_A.h5\")\n",
        "model_B_on_A = keras.models.Sequential(model_A.layers[:-1])\n",
        "model_B_on_A.add(keras.layers.Dense(1, activation=\"sigmoid\"))"
      ],
      "execution_count": 0,
      "outputs": []
    },
    {
      "metadata": {
        "id": "XINVSfhrRwLq",
        "colab_type": "code",
        "colab": {}
      },
      "cell_type": "code",
      "source": [
        "model_A_clone = keras.models.clone_model(model_A)\n",
        "model_A_clone.set_weights(model_A.get_weights())"
      ],
      "execution_count": 0,
      "outputs": []
    },
    {
      "metadata": {
        "id": "rza7plDPRwL4",
        "colab_type": "code",
        "colab": {}
      },
      "cell_type": "code",
      "source": [
        "for layer in model_B_on_A.layers[:-1]:\n",
        "    layer.trainable = False\n",
        "\n",
        "model_B_on_A.compile(loss=\"binary_crossentropy\", optimizer=\"sgd\",\n",
        "                     metrics=[\"accuracy\"])"
      ],
      "execution_count": 0,
      "outputs": []
    },
    {
      "metadata": {
        "id": "uCKwxo5cRwL6",
        "colab_type": "code",
        "outputId": "f0f28c2e-aa20-48e4-9d99-185d087f04ad",
        "colab": {
          "base_uri": "https://localhost:8080/",
          "height": 815
        }
      },
      "cell_type": "code",
      "source": [
        "history = model_B_on_A.fit(X_train_B, y_train_B, epochs=4,\n",
        "                           validation_data=(X_valid_B, y_valid_B))\n",
        "\n",
        "for layer in model_B_on_A.layers[:-1]:\n",
        "    layer.trainable = True\n",
        "\n",
        "model_B_on_A.compile(loss=\"binary_crossentropy\", optimizer=\"sgd\",\n",
        "                     metrics=[\"accuracy\"])\n",
        "history = model_B_on_A.fit(X_train_B, y_train_B, epochs=16,\n",
        "                           validation_data=(X_valid_B, y_valid_B))"
      ],
      "execution_count": 0,
      "outputs": [
        {
          "output_type": "stream",
          "text": [
            "Train on 200 samples, validate on 986 samples\n",
            "Epoch 1/4\n",
            "200/200 [==============================] - 0s 2ms/sample - loss: 0.5837 - accuracy: 0.6650 - val_loss: 0.5838 - val_accuracy: 0.6329\n",
            "Epoch 2/4\n",
            "200/200 [==============================] - 0s 358us/sample - loss: 0.5473 - accuracy: 0.6850 - val_loss: 0.5469 - val_accuracy: 0.6785\n",
            "Epoch 3/4\n",
            "200/200 [==============================] - 0s 358us/sample - loss: 0.5107 - accuracy: 0.7300 - val_loss: 0.5130 - val_accuracy: 0.7170\n",
            "Epoch 4/4\n",
            "200/200 [==============================] - 0s 403us/sample - loss: 0.4773 - accuracy: 0.7550 - val_loss: 0.4849 - val_accuracy: 0.7404\n",
            "Train on 200 samples, validate on 986 samples\n",
            "Epoch 1/16\n",
            "200/200 [==============================] - 0s 2ms/sample - loss: 0.3986 - accuracy: 0.8050 - val_loss: 0.3414 - val_accuracy: 0.8682\n",
            "Epoch 2/16\n",
            "200/200 [==============================] - 0s 390us/sample - loss: 0.2792 - accuracy: 0.9300 - val_loss: 0.2620 - val_accuracy: 0.9320\n",
            "Epoch 3/16\n",
            "200/200 [==============================] - 0s 410us/sample - loss: 0.2125 - accuracy: 0.9650 - val_loss: 0.2146 - val_accuracy: 0.9544\n",
            "Epoch 4/16\n",
            "200/200 [==============================] - 0s 402us/sample - loss: 0.1717 - accuracy: 0.9800 - val_loss: 0.1823 - val_accuracy: 0.9635\n",
            "Epoch 5/16\n",
            "200/200 [==============================] - 0s 386us/sample - loss: 0.1434 - accuracy: 0.9800 - val_loss: 0.1584 - val_accuracy: 0.9736\n",
            "Epoch 6/16\n",
            "200/200 [==============================] - 0s 393us/sample - loss: 0.1230 - accuracy: 0.9850 - val_loss: 0.1406 - val_accuracy: 0.9807\n",
            "Epoch 7/16\n",
            "200/200 [==============================] - 0s 406us/sample - loss: 0.1074 - accuracy: 0.9900 - val_loss: 0.1270 - val_accuracy: 0.9828\n",
            "Epoch 8/16\n",
            "200/200 [==============================] - 0s 395us/sample - loss: 0.0953 - accuracy: 0.9950 - val_loss: 0.1158 - val_accuracy: 0.9848\n",
            "Epoch 9/16\n",
            "200/200 [==============================] - 0s 436us/sample - loss: 0.0854 - accuracy: 1.0000 - val_loss: 0.1076 - val_accuracy: 0.9878\n",
            "Epoch 10/16\n",
            "200/200 [==============================] - 0s 406us/sample - loss: 0.0780 - accuracy: 1.0000 - val_loss: 0.1006 - val_accuracy: 0.9888\n",
            "Epoch 11/16\n",
            "200/200 [==============================] - 0s 418us/sample - loss: 0.0717 - accuracy: 1.0000 - val_loss: 0.0944 - val_accuracy: 0.9899\n",
            "Epoch 12/16\n",
            "200/200 [==============================] - 0s 421us/sample - loss: 0.0661 - accuracy: 1.0000 - val_loss: 0.0890 - val_accuracy: 0.9899\n",
            "Epoch 13/16\n",
            "200/200 [==============================] - 0s 401us/sample - loss: 0.0613 - accuracy: 1.0000 - val_loss: 0.0846 - val_accuracy: 0.9899\n",
            "Epoch 14/16\n",
            "200/200 [==============================] - 0s 393us/sample - loss: 0.0573 - accuracy: 1.0000 - val_loss: 0.0806 - val_accuracy: 0.9899\n",
            "Epoch 15/16\n",
            "200/200 [==============================] - 0s 391us/sample - loss: 0.0537 - accuracy: 1.0000 - val_loss: 0.0769 - val_accuracy: 0.9899\n",
            "Epoch 16/16\n",
            "200/200 [==============================] - 0s 400us/sample - loss: 0.0505 - accuracy: 1.0000 - val_loss: 0.0739 - val_accuracy: 0.9899\n"
          ],
          "name": "stdout"
        }
      ]
    },
    {
      "metadata": {
        "id": "GV8wH3OgRwL-",
        "colab_type": "text"
      },
      "cell_type": "markdown",
      "source": [
        "So, what's the final verdict?"
      ]
    },
    {
      "metadata": {
        "id": "xyrAj0uoRwMC",
        "colab_type": "code",
        "outputId": "b45852cf-e776-480b-b23c-db1b8e2045f4",
        "colab": {
          "base_uri": "https://localhost:8080/",
          "height": 54
        }
      },
      "cell_type": "code",
      "source": [
        "model_B.evaluate(X_test_B, y_test_B)"
      ],
      "execution_count": 0,
      "outputs": [
        {
          "output_type": "stream",
          "text": [
            "2000/2000 [==============================] - 0s 58us/sample - loss: 0.1431 - accuracy: 0.9705\n"
          ],
          "name": "stdout"
        },
        {
          "output_type": "execute_result",
          "data": {
            "text/plain": [
              "[0.14306601071357727, 0.9705]"
            ]
          },
          "metadata": {
            "tags": []
          },
          "execution_count": 86
        }
      ]
    },
    {
      "metadata": {
        "id": "vWEh4Hf0RwMG",
        "colab_type": "code",
        "outputId": "6d149a2c-02f3-4326-aad0-70ae3174538a",
        "colab": {
          "base_uri": "https://localhost:8080/",
          "height": 54
        }
      },
      "cell_type": "code",
      "source": [
        "model_B_on_A.evaluate(X_test_B, y_test_B)"
      ],
      "execution_count": 0,
      "outputs": [
        {
          "output_type": "stream",
          "text": [
            "2000/2000 [==============================] - 0s 63us/sample - loss: 0.0690 - accuracy: 0.9925\n"
          ],
          "name": "stdout"
        },
        {
          "output_type": "execute_result",
          "data": {
            "text/plain": [
              "[0.06896067446470261, 0.9925]"
            ]
          },
          "metadata": {
            "tags": []
          },
          "execution_count": 87
        }
      ]
    },
    {
      "metadata": {
        "id": "-uv5NxjNRwMJ",
        "colab_type": "text"
      },
      "cell_type": "markdown",
      "source": [
        "Great! We got quite a bit of transfer: the error rate dropped by a factor of almost 4!"
      ]
    },
    {
      "metadata": {
        "id": "46bekHiVRwML",
        "colab_type": "code",
        "outputId": "ba681ec1-cf6b-4fcf-9816-cf4011ec0f8d",
        "colab": {
          "base_uri": "https://localhost:8080/",
          "height": 36
        }
      },
      "cell_type": "code",
      "source": [
        "(100 - 97.05) / (100 - 99.25)"
      ],
      "execution_count": 0,
      "outputs": [
        {
          "output_type": "execute_result",
          "data": {
            "text/plain": [
              "3.933333333333337"
            ]
          },
          "metadata": {
            "tags": []
          },
          "execution_count": 88
        }
      ]
    },
    {
      "metadata": {
        "id": "b__kXivRRwMP",
        "colab_type": "text"
      },
      "cell_type": "markdown",
      "source": [
        "# Faster Optimizers"
      ]
    },
    {
      "metadata": {
        "id": "PE6y0IcmRwMP",
        "colab_type": "text"
      },
      "cell_type": "markdown",
      "source": [
        "## Momentum optimization"
      ]
    },
    {
      "metadata": {
        "id": "1mN_KqEtRwMR",
        "colab_type": "code",
        "colab": {}
      },
      "cell_type": "code",
      "source": [
        "optimizer = keras.optimizers.SGD(lr=0.001, momentum=0.9)"
      ],
      "execution_count": 0,
      "outputs": []
    },
    {
      "metadata": {
        "id": "GnUkKl2wRwMS",
        "colab_type": "text"
      },
      "cell_type": "markdown",
      "source": [
        "## Nesterov Accelerated Gradient"
      ]
    },
    {
      "metadata": {
        "id": "BW462TbNRwMT",
        "colab_type": "code",
        "colab": {}
      },
      "cell_type": "code",
      "source": [
        "optimizer = keras.optimizers.SGD(lr=0.001, momentum=0.9, nesterov=True)"
      ],
      "execution_count": 0,
      "outputs": []
    },
    {
      "metadata": {
        "id": "VRXFp-G_RwMV",
        "colab_type": "text"
      },
      "cell_type": "markdown",
      "source": [
        "## AdaGrad"
      ]
    },
    {
      "metadata": {
        "id": "UUK_xa0wRwMV",
        "colab_type": "code",
        "colab": {}
      },
      "cell_type": "code",
      "source": [
        "optimizer = keras.optimizers.Adagrad(lr=0.001)"
      ],
      "execution_count": 0,
      "outputs": []
    },
    {
      "metadata": {
        "id": "cFIa9gzKRwMX",
        "colab_type": "text"
      },
      "cell_type": "markdown",
      "source": [
        "## RMSProp"
      ]
    },
    {
      "metadata": {
        "id": "ieUnK1-cRwMX",
        "colab_type": "code",
        "colab": {}
      },
      "cell_type": "code",
      "source": [
        "optimizer = keras.optimizers.RMSprop(lr=0.001, rho=0.9)"
      ],
      "execution_count": 0,
      "outputs": []
    },
    {
      "metadata": {
        "id": "ZstXiw_6RwMZ",
        "colab_type": "text"
      },
      "cell_type": "markdown",
      "source": [
        "## Adam Optimization"
      ]
    },
    {
      "metadata": {
        "id": "Nvb2KavKRwMa",
        "colab_type": "code",
        "colab": {}
      },
      "cell_type": "code",
      "source": [
        "optimizer = keras.optimizers.Adam(lr=0.001, beta_1=0.9, beta_2=0.999)"
      ],
      "execution_count": 0,
      "outputs": []
    },
    {
      "metadata": {
        "id": "-BChPWXJRwMc",
        "colab_type": "text"
      },
      "cell_type": "markdown",
      "source": [
        "## Adamax Optimization"
      ]
    },
    {
      "metadata": {
        "id": "I2UrsBdSRwMc",
        "colab_type": "code",
        "colab": {}
      },
      "cell_type": "code",
      "source": [
        "optimizer = keras.optimizers.Adamax(lr=0.001, beta_1=0.9, beta_2=0.999)"
      ],
      "execution_count": 0,
      "outputs": []
    },
    {
      "metadata": {
        "id": "djD6xv6tRwMe",
        "colab_type": "text"
      },
      "cell_type": "markdown",
      "source": [
        "## Nadam Optimization"
      ]
    },
    {
      "metadata": {
        "id": "C-n6l-3WRwMe",
        "colab_type": "code",
        "colab": {}
      },
      "cell_type": "code",
      "source": [
        "optimizer = keras.optimizers.Nadam(lr=0.001, beta_1=0.9, beta_2=0.999)"
      ],
      "execution_count": 0,
      "outputs": []
    },
    {
      "metadata": {
        "id": "e7F7t3PRRwMg",
        "colab_type": "text"
      },
      "cell_type": "markdown",
      "source": [
        "## Learning Rate Scheduling"
      ]
    },
    {
      "metadata": {
        "id": "2gMnPSzrRwMh",
        "colab_type": "text"
      },
      "cell_type": "markdown",
      "source": [
        "### Power Scheduling"
      ]
    },
    {
      "metadata": {
        "id": "UJuergXaRwMh",
        "colab_type": "text"
      },
      "cell_type": "markdown",
      "source": [
        "```lr = lr0 / (1 + steps / s)**c```\n",
        "* Keras uses `c=1` and `s = 1 / decay`"
      ]
    },
    {
      "metadata": {
        "id": "iy6uv8Z4RwMh",
        "colab_type": "code",
        "colab": {}
      },
      "cell_type": "code",
      "source": [
        "optimizer = keras.optimizers.SGD(lr=0.01, decay=1e-4)"
      ],
      "execution_count": 0,
      "outputs": []
    },
    {
      "metadata": {
        "id": "tfzyEP5XRwMj",
        "colab_type": "code",
        "colab": {}
      },
      "cell_type": "code",
      "source": [
        "model = keras.models.Sequential([\n",
        "    keras.layers.Flatten(input_shape=[28, 28]),\n",
        "    keras.layers.Dense(300, activation=\"selu\", kernel_initializer=\"lecun_normal\"),\n",
        "    keras.layers.Dense(100, activation=\"selu\", kernel_initializer=\"lecun_normal\"),\n",
        "    keras.layers.Dense(10, activation=\"softmax\")\n",
        "])\n",
        "model.compile(loss=\"sparse_categorical_crossentropy\", optimizer=optimizer, metrics=[\"accuracy\"])"
      ],
      "execution_count": 0,
      "outputs": []
    },
    {
      "metadata": {
        "id": "Oj6lWxRVRwMk",
        "colab_type": "code",
        "outputId": "5505a275-5d62-475d-96b7-8c9ed3cc2217",
        "colab": {
          "base_uri": "https://localhost:8080/",
          "height": 982
        }
      },
      "cell_type": "code",
      "source": [
        "n_epochs = 25\n",
        "history = model.fit(X_train_scaled, y_train, epochs=n_epochs,\n",
        "                    validation_data=(X_valid_scaled, y_valid))"
      ],
      "execution_count": 0,
      "outputs": [
        {
          "output_type": "stream",
          "text": [
            "Train on 55000 samples, validate on 5000 samples\n",
            "Epoch 1/25\n",
            "55000/55000 [==============================] - 6s 102us/sample - loss: 0.4869 - accuracy: 0.8294 - val_loss: 0.4033 - val_accuracy: 0.8594\n",
            "Epoch 2/25\n",
            "55000/55000 [==============================] - 6s 116us/sample - loss: 0.3800 - accuracy: 0.8652 - val_loss: 0.3881 - val_accuracy: 0.8622\n",
            "Epoch 3/25\n",
            "55000/55000 [==============================] - 6s 114us/sample - loss: 0.3470 - accuracy: 0.8771 - val_loss: 0.3601 - val_accuracy: 0.8768\n",
            "Epoch 4/25\n",
            "55000/55000 [==============================] - 5s 97us/sample - loss: 0.3254 - accuracy: 0.8843 - val_loss: 0.3497 - val_accuracy: 0.8766\n",
            "Epoch 5/25\n",
            "55000/55000 [==============================] - 6s 108us/sample - loss: 0.3101 - accuracy: 0.8896 - val_loss: 0.3484 - val_accuracy: 0.8768\n",
            "Epoch 6/25\n",
            "55000/55000 [==============================] - 6s 117us/sample - loss: 0.2978 - accuracy: 0.8942 - val_loss: 0.3419 - val_accuracy: 0.8774\n",
            "Epoch 7/25\n",
            "55000/55000 [==============================] - 5s 98us/sample - loss: 0.2864 - accuracy: 0.8982 - val_loss: 0.3343 - val_accuracy: 0.8796\n",
            "Epoch 8/25\n",
            "55000/55000 [==============================] - 5s 98us/sample - loss: 0.2777 - accuracy: 0.9021 - val_loss: 0.3427 - val_accuracy: 0.8830\n",
            "Epoch 9/25\n",
            "55000/55000 [==============================] - 6s 102us/sample - loss: 0.2703 - accuracy: 0.9033 - val_loss: 0.3308 - val_accuracy: 0.8826\n",
            "Epoch 10/25\n",
            "55000/55000 [==============================] - 5s 100us/sample - loss: 0.2632 - accuracy: 0.9069 - val_loss: 0.3259 - val_accuracy: 0.8862\n",
            "Epoch 11/25\n",
            "55000/55000 [==============================] - 6s 111us/sample - loss: 0.2570 - accuracy: 0.9089 - val_loss: 0.3243 - val_accuracy: 0.8846\n",
            "Epoch 12/25\n",
            "55000/55000 [==============================] - 6s 103us/sample - loss: 0.2514 - accuracy: 0.9119 - val_loss: 0.3245 - val_accuracy: 0.8830\n",
            "Epoch 13/25\n",
            "55000/55000 [==============================] - 5s 98us/sample - loss: 0.2461 - accuracy: 0.9133 - val_loss: 0.3225 - val_accuracy: 0.8850\n",
            "Epoch 14/25\n",
            "55000/55000 [==============================] - 5s 99us/sample - loss: 0.2418 - accuracy: 0.9153 - val_loss: 0.3235 - val_accuracy: 0.8884\n",
            "Epoch 15/25\n",
            "55000/55000 [==============================] - 5s 99us/sample - loss: 0.2373 - accuracy: 0.9161 - val_loss: 0.3274 - val_accuracy: 0.8886\n",
            "Epoch 16/25\n",
            "55000/55000 [==============================] - 5s 98us/sample - loss: 0.2332 - accuracy: 0.9177 - val_loss: 0.3223 - val_accuracy: 0.8894\n",
            "Epoch 17/25\n",
            "55000/55000 [==============================] - 5s 99us/sample - loss: 0.2292 - accuracy: 0.9194 - val_loss: 0.3233 - val_accuracy: 0.8868\n",
            "Epoch 18/25\n",
            "55000/55000 [==============================] - 5s 99us/sample - loss: 0.2256 - accuracy: 0.9207 - val_loss: 0.3192 - val_accuracy: 0.8866\n",
            "Epoch 19/25\n",
            "55000/55000 [==============================] - 6s 102us/sample - loss: 0.2226 - accuracy: 0.9214 - val_loss: 0.3178 - val_accuracy: 0.8900\n",
            "Epoch 20/25\n",
            "55000/55000 [==============================] - 6s 117us/sample - loss: 0.2195 - accuracy: 0.9225 - val_loss: 0.3181 - val_accuracy: 0.8892\n",
            "Epoch 21/25\n",
            "55000/55000 [==============================] - 6s 109us/sample - loss: 0.2162 - accuracy: 0.9245 - val_loss: 0.3211 - val_accuracy: 0.8872\n",
            "Epoch 22/25\n",
            "55000/55000 [==============================] - 6s 104us/sample - loss: 0.2134 - accuracy: 0.9256 - val_loss: 0.3195 - val_accuracy: 0.8882\n",
            "Epoch 23/25\n",
            "55000/55000 [==============================] - 6s 103us/sample - loss: 0.2111 - accuracy: 0.9261 - val_loss: 0.3162 - val_accuracy: 0.8896\n",
            "Epoch 24/25\n",
            "55000/55000 [==============================] - 5s 96us/sample - loss: 0.2080 - accuracy: 0.9280 - val_loss: 0.3191 - val_accuracy: 0.8902\n",
            "Epoch 25/25\n",
            "55000/55000 [==============================] - 5s 97us/sample - loss: 0.2057 - accuracy: 0.9283 - val_loss: 0.3169 - val_accuracy: 0.8896\n"
          ],
          "name": "stdout"
        }
      ]
    },
    {
      "metadata": {
        "id": "y-qJMCZ-RwM1",
        "colab_type": "code",
        "outputId": "5c34ca95-c608-45b9-e819-8fe74c22fd1b",
        "colab": {
          "base_uri": "https://localhost:8080/",
          "height": 303
        }
      },
      "cell_type": "code",
      "source": [
        "learning_rate = 0.01\n",
        "decay = 1e-4\n",
        "batch_size = 32\n",
        "n_steps_per_epoch = len(X_train) // batch_size\n",
        "epochs = np.arange(n_epochs)\n",
        "lrs = learning_rate / (1 + decay * epochs * n_steps_per_epoch)\n",
        "\n",
        "plt.plot(epochs, lrs,  \"o-\")\n",
        "plt.axis([0, n_epochs - 1, 0, 0.01])\n",
        "plt.xlabel(\"Epoch\")\n",
        "plt.ylabel(\"Learning Rate\")\n",
        "plt.title(\"Power Scheduling\", fontsize=14)\n",
        "plt.grid(True)\n",
        "plt.show()"
      ],
      "execution_count": 0,
      "outputs": [
        {
          "output_type": "display_data",
          "data": {
            "image/png": "[encoded data removed]",
            "text/plain": [
              "<Figure size 432x288 with 1 Axes>"
            ]
          },
          "metadata": {
            "tags": []
          }
        }
      ]
    },
    {
      "metadata": {
        "id": "hORSkPbWRwM4",
        "colab_type": "text"
      },
      "cell_type": "markdown",
      "source": [
        "### Exponential Scheduling"
      ]
    },
    {
      "metadata": {
        "id": "VYO8BhEyRwM5",
        "colab_type": "text"
      },
      "cell_type": "markdown",
      "source": [
        "```lr = lr0 * 0.1**(epoch / s)```"
      ]
    },
    {
      "metadata": {
        "id": "QlrIXjJZRwM5",
        "colab_type": "code",
        "colab": {}
      },
      "cell_type": "code",
      "source": [
        "def exponential_decay_fn(epoch):\n",
        "    return 0.01 * 0.1**(epoch / 20)"
      ],
      "execution_count": 0,
      "outputs": []
    },
    {
      "metadata": {
        "id": "wAP5S7GhRwM6",
        "colab_type": "code",
        "colab": {}
      },
      "cell_type": "code",
      "source": [
        "def exponential_decay(lr0, s):\n",
        "    def exponential_decay_fn(epoch):\n",
        "        return lr0 * 0.1**(epoch / s)\n",
        "    return exponential_decay_fn\n",
        "\n",
        "exponential_decay_fn = exponential_decay(lr0=0.01, s=20)"
      ],
      "execution_count": 0,
      "outputs": []
    },
    {
      "metadata": {
        "id": "dGwBbzvyRwM9",
        "colab_type": "code",
        "colab": {}
      },
      "cell_type": "code",
      "source": [
        "model = keras.models.Sequential([\n",
        "    keras.layers.Flatten(input_shape=[28, 28]),\n",
        "    keras.layers.Dense(300, activation=\"selu\", kernel_initializer=\"lecun_normal\"),\n",
        "    keras.layers.Dense(100, activation=\"selu\", kernel_initializer=\"lecun_normal\"),\n",
        "    keras.layers.Dense(10, activation=\"softmax\")\n",
        "])\n",
        "model.compile(loss=\"sparse_categorical_crossentropy\", optimizer=\"nadam\", metrics=[\"accuracy\"])\n",
        "n_epochs = 25"
      ],
      "execution_count": 0,
      "outputs": []
    },
    {
      "metadata": {
        "id": "x3HcJdKCRwM_",
        "colab_type": "code",
        "outputId": "19aef27f-959f-41a4-b5d2-12448a26df7d",
        "colab": {
          "base_uri": "https://localhost:8080/",
          "height": 982
        }
      },
      "cell_type": "code",
      "source": [
        "lr_scheduler = keras.callbacks.LearningRateScheduler(exponential_decay_fn)\n",
        "history = model.fit(X_train_scaled, y_train, epochs=n_epochs,\n",
        "                    validation_data=(X_valid_scaled, y_valid),\n",
        "                    callbacks=[lr_scheduler])"
      ],
      "execution_count": 0,
      "outputs": [
        {
          "output_type": "stream",
          "text": [
            "Train on 55000 samples, validate on 5000 samples\n",
            "Epoch 1/25\n",
            "55000/55000 [==============================] - 9s 158us/sample - loss: 0.8623 - accuracy: 0.7554 - val_loss: 1.4451 - val_accuracy: 0.7426\n",
            "Epoch 2/25\n",
            "55000/55000 [==============================] - 9s 156us/sample - loss: 0.7047 - accuracy: 0.7889 - val_loss: 0.6948 - val_accuracy: 0.8198\n",
            "Epoch 3/25\n",
            "55000/55000 [==============================] - 9s 156us/sample - loss: 0.6160 - accuracy: 0.8109 - val_loss: 0.5809 - val_accuracy: 0.8214\n",
            "Epoch 4/25\n",
            "55000/55000 [==============================] - 9s 157us/sample - loss: 0.6028 - accuracy: 0.8201 - val_loss: 0.9157 - val_accuracy: 0.7334\n",
            "Epoch 5/25\n",
            "55000/55000 [==============================] - 9s 158us/sample - loss: 0.6135 - accuracy: 0.8212 - val_loss: 0.7253 - val_accuracy: 0.8254\n",
            "Epoch 6/25\n",
            "55000/55000 [==============================] - 9s 156us/sample - loss: 0.4852 - accuracy: 0.8492 - val_loss: 0.5630 - val_accuracy: 0.8374\n",
            "Epoch 7/25\n",
            "55000/55000 [==============================] - 9s 157us/sample - loss: 0.4277 - accuracy: 0.8621 - val_loss: 0.4656 - val_accuracy: 0.8640\n",
            "Epoch 8/25\n",
            "55000/55000 [==============================] - 9s 155us/sample - loss: 0.3894 - accuracy: 0.8723 - val_loss: 0.4693 - val_accuracy: 0.8622\n",
            "Epoch 9/25\n",
            "55000/55000 [==============================] - 10s 179us/sample - loss: 0.3506 - accuracy: 0.8825 - val_loss: 0.5129 - val_accuracy: 0.8558\n",
            "Epoch 10/25\n",
            "55000/55000 [==============================] - 9s 158us/sample - loss: 0.3433 - accuracy: 0.8867 - val_loss: 0.8301 - val_accuracy: 0.8668\n",
            "Epoch 11/25\n",
            "55000/55000 [==============================] - 9s 155us/sample - loss: 0.3094 - accuracy: 0.8985 - val_loss: 0.4594 - val_accuracy: 0.8854\n",
            "Epoch 12/25\n",
            "55000/55000 [==============================] - 8s 154us/sample - loss: 0.2935 - accuracy: 0.9021 - val_loss: 0.4999 - val_accuracy: 0.8700\n",
            "Epoch 13/25\n",
            "55000/55000 [==============================] - 8s 152us/sample - loss: 0.2686 - accuracy: 0.9092 - val_loss: 0.5222 - val_accuracy: 0.8758\n",
            "Epoch 14/25\n",
            "55000/55000 [==============================] - 9s 164us/sample - loss: 0.2520 - accuracy: 0.9147 - val_loss: 0.4590 - val_accuracy: 0.8886\n",
            "Epoch 15/25\n",
            "55000/55000 [==============================] - 10s 178us/sample - loss: 0.2279 - accuracy: 0.9217 - val_loss: 0.4396 - val_accuracy: 0.8794\n",
            "Epoch 16/25\n",
            "55000/55000 [==============================] - 9s 155us/sample - loss: 0.2139 - accuracy: 0.9266 - val_loss: 0.4883 - val_accuracy: 0.8818\n",
            "Epoch 17/25\n",
            "55000/55000 [==============================] - 9s 155us/sample - loss: 0.1978 - accuracy: 0.9322 - val_loss: 0.5028 - val_accuracy: 0.8894\n",
            "Epoch 18/25\n",
            "55000/55000 [==============================] - 10s 175us/sample - loss: 0.1859 - accuracy: 0.9374 - val_loss: 0.4945 - val_accuracy: 0.8886\n",
            "Epoch 19/25\n",
            "55000/55000 [==============================] - 9s 159us/sample - loss: 0.1710 - accuracy: 0.9411 - val_loss: 0.5028 - val_accuracy: 0.8910\n",
            "Epoch 20/25\n",
            "55000/55000 [==============================] - 9s 170us/sample - loss: 0.1602 - accuracy: 0.9471 - val_loss: 0.5477 - val_accuracy: 0.8932\n",
            "Epoch 21/25\n",
            "55000/55000 [==============================] - 8s 155us/sample - loss: 0.1486 - accuracy: 0.9499 - val_loss: 0.5466 - val_accuracy: 0.8924\n",
            "Epoch 22/25\n",
            "55000/55000 [==============================] - 9s 155us/sample - loss: 0.1381 - accuracy: 0.9544 - val_loss: 0.5284 - val_accuracy: 0.8904\n",
            "Epoch 23/25\n",
            "55000/55000 [==============================] - 8s 154us/sample - loss: 0.1322 - accuracy: 0.9566 - val_loss: 0.5772 - val_accuracy: 0.8936\n",
            "Epoch 24/25\n",
            "55000/55000 [==============================] - 8s 153us/sample - loss: 0.1215 - accuracy: 0.9602 - val_loss: 0.5826 - val_accuracy: 0.8896\n",
            "Epoch 25/25\n",
            "55000/55000 [==============================] - 8s 153us/sample - loss: 0.1153 - accuracy: 0.9632 - val_loss: 0.5869 - val_accuracy: 0.8936\n"
          ],
          "name": "stdout"
        }
      ]
    },
    {
      "metadata": {
        "id": "WF6hd18HRwNA",
        "colab_type": "code",
        "outputId": "28334307-1a49-448a-e404-200f808c1d55",
        "colab": {
          "base_uri": "https://localhost:8080/",
          "height": 303
        }
      },
      "cell_type": "code",
      "source": [
        "plt.plot(history.epoch, history.history[\"lr\"], \"o-\")\n",
        "plt.axis([0, n_epochs - 1, 0, 0.011])\n",
        "plt.xlabel(\"Epoch\")\n",
        "plt.ylabel(\"Learning Rate\")\n",
        "plt.title(\"Exponential Scheduling\", fontsize=14)\n",
        "plt.grid(True)\n",
        "plt.show()"
      ],
      "execution_count": 0,
      "outputs": [
        {
          "output_type": "display_data",
          "data": {
            "image/png": "[encoded data removed]",
            "text/plain": [
              "<Figure size 432x288 with 1 Axes>"
            ]
          },
          "metadata": {
            "tags": []
          }
        }
      ]
    },
    {
      "metadata": {
        "id": "Pe2Ys1YLRwND",
        "colab_type": "text"
      },
      "cell_type": "markdown",
      "source": [
        "The schedule function can take the current learning rate as a second argument:"
      ]
    },
    {
      "metadata": {
        "id": "mPL_opb6RwND",
        "colab_type": "code",
        "colab": {}
      },
      "cell_type": "code",
      "source": [
        "def exponential_decay_fn(epoch, lr):\n",
        "    return lr * 0.1**(1 / 20)"
      ],
      "execution_count": 0,
      "outputs": []
    },
    {
      "metadata": {
        "id": "vWCHbBg5RwNG",
        "colab_type": "text"
      },
      "cell_type": "markdown",
      "source": [
        "If you want to update the learning rate at each iteration rather than at each epoch, you must write your own callback class:"
      ]
    },
    {
      "metadata": {
        "id": "eyNZMja8RwNG",
        "colab_type": "code",
        "outputId": "c784ac38-28c2-4016-e132-311bd513bf28",
        "colab": {
          "base_uri": "https://localhost:8080/",
          "height": 982
        }
      },
      "cell_type": "code",
      "source": [
        "K = keras.backend\n",
        "\n",
        "class ExponentialDecay(keras.callbacks.Callback):\n",
        "    def __init__(self, s=40000):\n",
        "        super().__init__()\n",
        "        self.s = s\n",
        "\n",
        "    def on_batch_begin(self, batch, logs=None):\n",
        "        # Note: the `batch` argument is reset at each epoch\n",
        "        lr = K.get_value(self.model.optimizer.lr)\n",
        "        K.set_value(self.model.optimizer.lr, lr * 0.1**(1 / s))\n",
        "\n",
        "    def on_epoch_end(self, epoch, logs=None):\n",
        "        logs = logs or {}\n",
        "        logs['lr'] = K.get_value(self.model.optimizer.lr)\n",
        "\n",
        "model = keras.models.Sequential([\n",
        "    keras.layers.Flatten(input_shape=[28, 28]),\n",
        "    keras.layers.Dense(300, activation=\"selu\", kernel_initializer=\"lecun_normal\"),\n",
        "    keras.layers.Dense(100, activation=\"selu\", kernel_initializer=\"lecun_normal\"),\n",
        "    keras.layers.Dense(10, activation=\"softmax\")\n",
        "])\n",
        "lr0 = 0.01\n",
        "optimizer = keras.optimizers.Nadam(lr=lr0)\n",
        "model.compile(loss=\"sparse_categorical_crossentropy\", optimizer=optimizer, metrics=[\"accuracy\"])\n",
        "n_epochs = 25\n",
        "\n",
        "s = 20 * len(X_train) // 32 # number of steps in 20 epochs (batch size = 32)\n",
        "exp_decay = ExponentialDecay(s)\n",
        "history = model.fit(X_train_scaled, y_train, epochs=n_epochs,\n",
        "                    validation_data=(X_valid_scaled, y_valid),\n",
        "                    callbacks=[exp_decay])"
      ],
      "execution_count": 0,
      "outputs": [
        {
          "output_type": "stream",
          "text": [
            "Train on 55000 samples, validate on 5000 samples\n",
            "Epoch 1/25\n",
            "55000/55000 [==============================] - 9s 168us/sample - loss: 0.8122 - accuracy: 0.7642 - val_loss: 0.6646 - val_accuracy: 0.7872\n",
            "Epoch 2/25\n",
            "55000/55000 [==============================] - 9s 160us/sample - loss: 0.6513 - accuracy: 0.8033 - val_loss: 0.6050 - val_accuracy: 0.7960\n",
            "Epoch 3/25\n",
            "55000/55000 [==============================] - 10s 175us/sample - loss: 0.5594 - accuracy: 0.8241 - val_loss: 0.6042 - val_accuracy: 0.8204\n",
            "Epoch 4/25\n",
            "55000/55000 [==============================] - 9s 171us/sample - loss: 0.5343 - accuracy: 0.8340 - val_loss: 0.6596 - val_accuracy: 0.8074\n",
            "Epoch 5/25\n",
            "55000/55000 [==============================] - 9s 162us/sample - loss: 0.4716 - accuracy: 0.8506 - val_loss: 0.5701 - val_accuracy: 0.8484\n",
            "Epoch 6/25\n",
            "55000/55000 [==============================] - 9s 162us/sample - loss: 0.4443 - accuracy: 0.8578 - val_loss: 0.4518 - val_accuracy: 0.8538\n",
            "Epoch 7/25\n",
            "55000/55000 [==============================] - 9s 164us/sample - loss: 0.3922 - accuracy: 0.8703 - val_loss: 0.4749 - val_accuracy: 0.8538\n",
            "Epoch 8/25\n",
            "55000/55000 [==============================] - 9s 162us/sample - loss: 0.3656 - accuracy: 0.8788 - val_loss: 0.4911 - val_accuracy: 0.8640\n",
            "Epoch 9/25\n",
            "55000/55000 [==============================] - 9s 160us/sample - loss: 0.3424 - accuracy: 0.8857 - val_loss: 0.6337 - val_accuracy: 0.8598\n",
            "Epoch 10/25\n",
            "55000/55000 [==============================] - 9s 161us/sample - loss: 0.3225 - accuracy: 0.8921 - val_loss: 0.4504 - val_accuracy: 0.8642\n",
            "Epoch 11/25\n",
            "55000/55000 [==============================] - 9s 160us/sample - loss: 0.2973 - accuracy: 0.9007 - val_loss: 0.4547 - val_accuracy: 0.8654\n",
            "Epoch 12/25\n",
            "55000/55000 [==============================] - 10s 175us/sample - loss: 0.2769 - accuracy: 0.9056 - val_loss: 0.4345 - val_accuracy: 0.8836\n",
            "Epoch 13/25\n",
            "55000/55000 [==============================] - 9s 165us/sample - loss: 0.2502 - accuracy: 0.9134 - val_loss: 0.4568 - val_accuracy: 0.8802\n",
            "Epoch 14/25\n",
            "55000/55000 [==============================] - 9s 158us/sample - loss: 0.2367 - accuracy: 0.9187 - val_loss: 0.4483 - val_accuracy: 0.8898\n",
            "Epoch 15/25\n",
            "55000/55000 [==============================] - 9s 159us/sample - loss: 0.2157 - accuracy: 0.9246 - val_loss: 0.4847 - val_accuracy: 0.8862\n",
            "Epoch 16/25\n",
            "55000/55000 [==============================] - 9s 170us/sample - loss: 0.2021 - accuracy: 0.9294 - val_loss: 0.4458 - val_accuracy: 0.8950\n",
            "Epoch 17/25\n",
            "55000/55000 [==============================] - 10s 181us/sample - loss: 0.1887 - accuracy: 0.9347 - val_loss: 0.4876 - val_accuracy: 0.8878\n",
            "Epoch 18/25\n",
            "55000/55000 [==============================] - 9s 161us/sample - loss: 0.1750 - accuracy: 0.9393 - val_loss: 0.5012 - val_accuracy: 0.8912\n",
            "Epoch 19/25\n",
            "55000/55000 [==============================] - 9s 159us/sample - loss: 0.1630 - accuracy: 0.9441 - val_loss: 0.4597 - val_accuracy: 0.8938\n",
            "Epoch 20/25\n",
            "55000/55000 [==============================] - 9s 160us/sample - loss: 0.1524 - accuracy: 0.9483 - val_loss: 0.4952 - val_accuracy: 0.8932\n",
            "Epoch 21/25\n",
            "55000/55000 [==============================] - 10s 184us/sample - loss: 0.1434 - accuracy: 0.9511 - val_loss: 0.5246 - val_accuracy: 0.8952\n",
            "Epoch 22/25\n",
            "55000/55000 [==============================] - 9s 167us/sample - loss: 0.1334 - accuracy: 0.9541 - val_loss: 0.5431 - val_accuracy: 0.8950\n",
            "Epoch 23/25\n",
            "55000/55000 [==============================] - 13s 237us/sample - loss: 0.1238 - accuracy: 0.9581 - val_loss: 0.5884 - val_accuracy: 0.8962\n",
            "Epoch 24/25\n",
            "55000/55000 [==============================] - 9s 159us/sample - loss: 0.1162 - accuracy: 0.9613 - val_loss: 0.5765 - val_accuracy: 0.8924\n",
            "Epoch 25/25\n",
            "55000/55000 [==============================] - 9s 160us/sample - loss: 0.1065 - accuracy: 0.9645 - val_loss: 0.5844 - val_accuracy: 0.8974\n"
          ],
          "name": "stdout"
        }
      ]
    },
    {
      "metadata": {
        "id": "llTw-NcFRwNI",
        "colab_type": "code",
        "colab": {}
      },
      "cell_type": "code",
      "source": [
        "n_steps = n_epochs * len(X_train) // 32\n",
        "steps = np.arange(n_steps)\n",
        "lrs = lr0 * 0.1**(steps / s)"
      ],
      "execution_count": 0,
      "outputs": []
    },
    {
      "metadata": {
        "scrolled": true,
        "id": "NrxFRbs7RwNK",
        "colab_type": "code",
        "outputId": "6240cb2f-9667-4a60-fd40-c99af57925c5",
        "colab": {
          "base_uri": "https://localhost:8080/",
          "height": 303
        }
      },
      "cell_type": "code",
      "source": [
        "plt.plot(steps, lrs, \"-\", linewidth=2)\n",
        "plt.axis([0, n_steps - 1, 0, lr0 * 1.1])\n",
        "plt.xlabel(\"Batch\")\n",
        "plt.ylabel(\"Learning Rate\")\n",
        "plt.title(\"Exponential Scheduling (per batch)\", fontsize=14)\n",
        "plt.grid(True)\n",
        "plt.show()"
      ],
      "execution_count": 0,
      "outputs": [
        {
          "output_type": "display_data",
          "data": {
            "image/png": "[encoded data removed]",
            "text/plain": [
              "<Figure size 432x288 with 1 Axes>"
            ]
          },
          "metadata": {
            "tags": []
          }
        }
      ]
    },
    {
      "metadata": {
        "id": "kialxDVNRwNM",
        "colab_type": "text"
      },
      "cell_type": "markdown",
      "source": [
        "### Piecewise Constant Scheduling"
      ]
    },
    {
      "metadata": {
        "id": "jwD-Aq4ARwNO",
        "colab_type": "code",
        "colab": {}
      },
      "cell_type": "code",
      "source": [
        "def piecewise_constant_fn(epoch):\n",
        "    if epoch < 5:\n",
        "        return 0.01\n",
        "    elif epoch < 15:\n",
        "        return 0.005\n",
        "    else:\n",
        "        return 0.001"
      ],
      "execution_count": 0,
      "outputs": []
    },
    {
      "metadata": {
        "id": "HRliBWq_RwNQ",
        "colab_type": "code",
        "colab": {}
      },
      "cell_type": "code",
      "source": [
        "def piecewise_constant(boundaries, values):\n",
        "    boundaries = np.array([0] + boundaries)\n",
        "    values = np.array(values)\n",
        "    def piecewise_constant_fn(epoch):\n",
        "        return values[np.argmax(boundaries > epoch) - 1]\n",
        "    return piecewise_constant_fn\n",
        "\n",
        "piecewise_constant_fn = piecewise_constant([5, 15], [0.01, 0.005, 0.001])"
      ],
      "execution_count": 0,
      "outputs": []
    },
    {
      "metadata": {
        "id": "aRB1cM-LRwNR",
        "colab_type": "code",
        "outputId": "3eae5985-352f-4500-8b46-a7d64579c5f9",
        "colab": {
          "base_uri": "https://localhost:8080/",
          "height": 982
        }
      },
      "cell_type": "code",
      "source": [
        "lr_scheduler = keras.callbacks.LearningRateScheduler(piecewise_constant_fn)\n",
        "\n",
        "model = keras.models.Sequential([\n",
        "    keras.layers.Flatten(input_shape=[28, 28]),\n",
        "    keras.layers.Dense(300, activation=\"selu\", kernel_initializer=\"lecun_normal\"),\n",
        "    keras.layers.Dense(100, activation=\"selu\", kernel_initializer=\"lecun_normal\"),\n",
        "    keras.layers.Dense(10, activation=\"softmax\")\n",
        "])\n",
        "model.compile(loss=\"sparse_categorical_crossentropy\", optimizer=\"nadam\", metrics=[\"accuracy\"])\n",
        "n_epochs = 25\n",
        "history = model.fit(X_train_scaled, y_train, epochs=n_epochs,\n",
        "                    validation_data=(X_valid_scaled, y_valid),\n",
        "                    callbacks=[lr_scheduler])"
      ],
      "execution_count": 0,
      "outputs": [
        {
          "output_type": "stream",
          "text": [
            "Train on 55000 samples, validate on 5000 samples\n",
            "Epoch 1/25\n",
            "55000/55000 [==============================] - 9s 159us/sample - loss: 0.8756 - accuracy: 0.7524 - val_loss: 0.8918 - val_accuracy: 0.7766\n",
            "Epoch 2/25\n",
            "55000/55000 [==============================] - 8s 151us/sample - loss: 0.8555 - accuracy: 0.7578 - val_loss: 1.2542 - val_accuracy: 0.7864\n",
            "Epoch 3/25\n",
            "55000/55000 [==============================] - 8s 149us/sample - loss: 0.9163 - accuracy: 0.7350 - val_loss: 0.7189 - val_accuracy: 0.7826\n",
            "Epoch 4/25\n",
            "55000/55000 [==============================] - 9s 166us/sample - loss: 0.9085 - accuracy: 0.7340 - val_loss: 0.8384 - val_accuracy: 0.7172\n",
            "Epoch 5/25\n",
            "55000/55000 [==============================] - 9s 161us/sample - loss: 0.8598 - accuracy: 0.7484 - val_loss: 0.9351 - val_accuracy: 0.7756\n",
            "Epoch 6/25\n",
            "55000/55000 [==============================] - 8s 149us/sample - loss: 0.6056 - accuracy: 0.8113 - val_loss: 0.6527 - val_accuracy: 0.8086\n",
            "Epoch 7/25\n",
            "55000/55000 [==============================] - 9s 166us/sample - loss: 0.5567 - accuracy: 0.8304 - val_loss: 0.6955 - val_accuracy: 0.8024\n",
            "Epoch 8/25\n",
            "55000/55000 [==============================] - 9s 166us/sample - loss: 0.5331 - accuracy: 0.8339 - val_loss: 0.5901 - val_accuracy: 0.8346\n",
            "Epoch 9/25\n",
            "55000/55000 [==============================] - 8s 152us/sample - loss: 0.5278 - accuracy: 0.8423 - val_loss: 0.6391 - val_accuracy: 0.8266\n",
            "Epoch 10/25\n",
            "55000/55000 [==============================] - 8s 149us/sample - loss: 0.5033 - accuracy: 0.8445 - val_loss: 0.6013 - val_accuracy: 0.8436\n",
            "Epoch 11/25\n",
            "55000/55000 [==============================] - 8s 153us/sample - loss: 0.4908 - accuracy: 0.8485 - val_loss: 0.6353 - val_accuracy: 0.8456\n",
            "Epoch 12/25\n",
            "55000/55000 [==============================] - 9s 162us/sample - loss: 0.4931 - accuracy: 0.8543 - val_loss: 0.5919 - val_accuracy: 0.8462\n",
            "Epoch 13/25\n",
            "55000/55000 [==============================] - 9s 160us/sample - loss: 0.4883 - accuracy: 0.8556 - val_loss: 0.5782 - val_accuracy: 0.8522\n",
            "Epoch 14/25\n",
            "55000/55000 [==============================] - 9s 167us/sample - loss: 0.4621 - accuracy: 0.8589 - val_loss: 0.7027 - val_accuracy: 0.8340\n",
            "Epoch 15/25\n",
            "55000/55000 [==============================] - 8s 149us/sample - loss: 0.4490 - accuracy: 0.8650 - val_loss: 0.5968 - val_accuracy: 0.8520\n",
            "Epoch 16/25\n",
            "55000/55000 [==============================] - 8s 151us/sample - loss: 0.3373 - accuracy: 0.8928 - val_loss: 0.5148 - val_accuracy: 0.8684\n",
            "Epoch 17/25\n",
            "55000/55000 [==============================] - 8s 149us/sample - loss: 0.3034 - accuracy: 0.9009 - val_loss: 0.5065 - val_accuracy: 0.8722\n",
            "Epoch 18/25\n",
            "55000/55000 [==============================] - 8s 149us/sample - loss: 0.2941 - accuracy: 0.9035 - val_loss: 0.5489 - val_accuracy: 0.8700\n",
            "Epoch 19/25\n",
            "55000/55000 [==============================] - 8s 150us/sample - loss: 0.2849 - accuracy: 0.9067 - val_loss: 0.5131 - val_accuracy: 0.8736\n",
            "Epoch 20/25\n",
            "55000/55000 [==============================] - 8s 149us/sample - loss: 0.2780 - accuracy: 0.9093 - val_loss: 0.5250 - val_accuracy: 0.8726\n",
            "Epoch 21/25\n",
            "55000/55000 [==============================] - 8s 151us/sample - loss: 0.2723 - accuracy: 0.9115 - val_loss: 0.5175 - val_accuracy: 0.8762\n",
            "Epoch 22/25\n",
            "55000/55000 [==============================] - 8s 151us/sample - loss: 0.2644 - accuracy: 0.9133 - val_loss: 0.5525 - val_accuracy: 0.8728\n",
            "Epoch 23/25\n",
            "55000/55000 [==============================] - 9s 170us/sample - loss: 0.2615 - accuracy: 0.9150 - val_loss: 0.5539 - val_accuracy: 0.8728\n",
            "Epoch 24/25\n",
            "55000/55000 [==============================] - 9s 156us/sample - loss: 0.2539 - accuracy: 0.9179 - val_loss: 0.5782 - val_accuracy: 0.8696\n",
            "Epoch 25/25\n",
            "55000/55000 [==============================] - 8s 150us/sample - loss: 0.2514 - accuracy: 0.9189 - val_loss: 0.5723 - val_accuracy: 0.8738\n"
          ],
          "name": "stdout"
        }
      ]
    },
    {
      "metadata": {
        "id": "INxukUvARwNT",
        "colab_type": "code",
        "outputId": "d290ceed-1e79-42e5-faef-07c06ab0225a",
        "colab": {
          "base_uri": "https://localhost:8080/",
          "height": 303
        }
      },
      "cell_type": "code",
      "source": [
        "plt.plot(history.epoch, [piecewise_constant_fn(epoch) for epoch in history.epoch], \"o-\")\n",
        "plt.axis([0, n_epochs - 1, 0, 0.011])\n",
        "plt.xlabel(\"Epoch\")\n",
        "plt.ylabel(\"Learning Rate\")\n",
        "plt.title(\"Piecewise Constant Scheduling\", fontsize=14)\n",
        "plt.grid(True)\n",
        "plt.show()"
      ],
      "execution_count": 0,
      "outputs": [
        {
          "output_type": "display_data",
          "data": {
            "image/png": "[encoded data removed]",
            "text/plain": [
              "<Figure size 432x288 with 1 Axes>"
            ]
          },
          "metadata": {
            "tags": []
          }
        }
      ]
    },
    {
      "metadata": {
        "id": "2TpBQrfzRwNV",
        "colab_type": "text"
      },
      "cell_type": "markdown",
      "source": [
        "### Performance Scheduling"
      ]
    },
    {
      "metadata": {
        "id": "9AGPIj3rRwNW",
        "colab_type": "code",
        "colab": {}
      },
      "cell_type": "code",
      "source": [
        "tf.random.set_seed(42)\n",
        "np.random.seed(42)"
      ],
      "execution_count": 0,
      "outputs": []
    },
    {
      "metadata": {
        "id": "zgxLyFOvRwNX",
        "colab_type": "code",
        "outputId": "0f9ea5a0-f795-4acb-b79c-1393188706bc",
        "colab": {
          "base_uri": "https://localhost:8080/",
          "height": 982
        }
      },
      "cell_type": "code",
      "source": [
        "lr_scheduler = keras.callbacks.ReduceLROnPlateau(factor=0.5, patience=5)\n",
        "\n",
        "model = keras.models.Sequential([\n",
        "    keras.layers.Flatten(input_shape=[28, 28]),\n",
        "    keras.layers.Dense(300, activation=\"selu\", kernel_initializer=\"lecun_normal\"),\n",
        "    keras.layers.Dense(100, activation=\"selu\", kernel_initializer=\"lecun_normal\"),\n",
        "    keras.layers.Dense(10, activation=\"softmax\")\n",
        "])\n",
        "optimizer = keras.optimizers.SGD(lr=0.02, momentum=0.9)\n",
        "model.compile(loss=\"sparse_categorical_crossentropy\", optimizer=optimizer, metrics=[\"accuracy\"])\n",
        "n_epochs = 25\n",
        "history = model.fit(X_train_scaled, y_train, epochs=n_epochs,\n",
        "                    validation_data=(X_valid_scaled, y_valid),\n",
        "                    callbacks=[lr_scheduler])"
      ],
      "execution_count": 0,
      "outputs": [
        {
          "output_type": "stream",
          "text": [
            "Train on 55000 samples, validate on 5000 samples\n",
            "Epoch 1/25\n",
            "55000/55000 [==============================] - 6s 104us/sample - loss: 0.5968 - accuracy: 0.8075 - val_loss: 0.5433 - val_accuracy: 0.8212\n",
            "Epoch 2/25\n",
            "55000/55000 [==============================] - 5s 99us/sample - loss: 0.5250 - accuracy: 0.8356 - val_loss: 0.4772 - val_accuracy: 0.8558\n",
            "Epoch 3/25\n",
            "55000/55000 [==============================] - 5s 100us/sample - loss: 0.5208 - accuracy: 0.8423 - val_loss: 0.5324 - val_accuracy: 0.8468\n",
            "Epoch 4/25\n",
            "55000/55000 [==============================] - 6s 101us/sample - loss: 0.5383 - accuracy: 0.8440 - val_loss: 0.9670 - val_accuracy: 0.8304\n",
            "Epoch 5/25\n",
            "55000/55000 [==============================] - 5s 98us/sample - loss: 0.5281 - accuracy: 0.8503 - val_loss: 0.5353 - val_accuracy: 0.8492\n",
            "Epoch 6/25\n",
            "55000/55000 [==============================] - 6s 101us/sample - loss: 0.5198 - accuracy: 0.8496 - val_loss: 0.5268 - val_accuracy: 0.8482\n",
            "Epoch 7/25\n",
            "55000/55000 [==============================] - 6s 101us/sample - loss: 0.5156 - accuracy: 0.8552 - val_loss: 0.8378 - val_accuracy: 0.8270\n",
            "Epoch 8/25\n",
            "55000/55000 [==============================] - 6s 101us/sample - loss: 0.3124 - accuracy: 0.8918 - val_loss: 0.4112 - val_accuracy: 0.8736\n",
            "Epoch 9/25\n",
            "55000/55000 [==============================] - 5s 100us/sample - loss: 0.2564 - accuracy: 0.9077 - val_loss: 0.4131 - val_accuracy: 0.8828\n",
            "Epoch 10/25\n",
            "55000/55000 [==============================] - 6s 100us/sample - loss: 0.2394 - accuracy: 0.9119 - val_loss: 0.3803 - val_accuracy: 0.8894\n",
            "Epoch 11/25\n",
            "55000/55000 [==============================] - 6s 102us/sample - loss: 0.2197 - accuracy: 0.9189 - val_loss: 0.4208 - val_accuracy: 0.8902\n",
            "Epoch 12/25\n",
            "55000/55000 [==============================] - 5s 100us/sample - loss: 0.2072 - accuracy: 0.9228 - val_loss: 0.4173 - val_accuracy: 0.8886\n",
            "Epoch 13/25\n",
            "55000/55000 [==============================] - 6s 118us/sample - loss: 0.1946 - accuracy: 0.9264 - val_loss: 0.4700 - val_accuracy: 0.8824\n",
            "Epoch 14/25\n",
            "55000/55000 [==============================] - 6s 115us/sample - loss: 0.1878 - accuracy: 0.9289 - val_loss: 0.4384 - val_accuracy: 0.8816\n",
            "Epoch 15/25\n",
            "55000/55000 [==============================] - 6s 107us/sample - loss: 0.1788 - accuracy: 0.9347 - val_loss: 0.5007 - val_accuracy: 0.8892\n",
            "Epoch 16/25\n",
            "55000/55000 [==============================] - 7s 125us/sample - loss: 0.1260 - accuracy: 0.9515 - val_loss: 0.4424 - val_accuracy: 0.8940\n",
            "Epoch 17/25\n",
            "55000/55000 [==============================] - 6s 104us/sample - loss: 0.1090 - accuracy: 0.9567 - val_loss: 0.4580 - val_accuracy: 0.8954\n",
            "Epoch 18/25\n",
            "55000/55000 [==============================] - 5s 99us/sample - loss: 0.0994 - accuracy: 0.9611 - val_loss: 0.4659 - val_accuracy: 0.8950\n",
            "Epoch 19/25\n",
            "55000/55000 [==============================] - 5s 98us/sample - loss: 0.0936 - accuracy: 0.9635 - val_loss: 0.5127 - val_accuracy: 0.8920\n",
            "Epoch 20/25\n",
            "55000/55000 [==============================] - 5s 99us/sample - loss: 0.0878 - accuracy: 0.9655 - val_loss: 0.5208 - val_accuracy: 0.8968\n",
            "Epoch 21/25\n",
            "55000/55000 [==============================] - 6s 115us/sample - loss: 0.0689 - accuracy: 0.9738 - val_loss: 0.5228 - val_accuracy: 0.8962\n",
            "Epoch 22/25\n",
            "55000/55000 [==============================] - 6s 105us/sample - loss: 0.0629 - accuracy: 0.9761 - val_loss: 0.5397 - val_accuracy: 0.8940\n",
            "Epoch 23/25\n",
            "55000/55000 [==============================] - 5s 99us/sample - loss: 0.0589 - accuracy: 0.9782 - val_loss: 0.5459 - val_accuracy: 0.8942\n",
            "Epoch 24/25\n",
            "55000/55000 [==============================] - 5s 99us/sample - loss: 0.0561 - accuracy: 0.9789 - val_loss: 0.5476 - val_accuracy: 0.8910\n",
            "Epoch 25/25\n",
            "55000/55000 [==============================] - 6s 101us/sample - loss: 0.0532 - accuracy: 0.9805 - val_loss: 0.5685 - val_accuracy: 0.8910\n"
          ],
          "name": "stdout"
        }
      ]
    },
    {
      "metadata": {
        "id": "BfOkaIEnRwNZ",
        "colab_type": "code",
        "outputId": "3bd204bb-7a3e-491c-fdc4-b4e0050f8828",
        "colab": {
          "base_uri": "https://localhost:8080/",
          "height": 303
        }
      },
      "cell_type": "code",
      "source": [
        "plt.plot(history.epoch, history.history[\"lr\"], \"bo-\")\n",
        "plt.xlabel(\"Epoch\")\n",
        "plt.ylabel(\"Learning Rate\", color='b')\n",
        "plt.tick_params('y', colors='b')\n",
        "plt.gca().set_xlim(0, n_epochs - 1)\n",
        "plt.grid(True)\n",
        "\n",
        "ax2 = plt.gca().twinx()\n",
        "ax2.plot(history.epoch, history.history[\"val_loss\"], \"r^-\")\n",
        "ax2.set_ylabel('Validation Loss', color='r')\n",
        "ax2.tick_params('y', colors='r')\n",
        "\n",
        "plt.title(\"Reduce LR on Plateau\", fontsize=14)\n",
        "plt.show()"
      ],
      "execution_count": 0,
      "outputs": [
        {
          "output_type": "display_data",
          "data": {
            "image/png": "[encoded data removed]",
            "text/plain": [
              "<Figure size 432x288 with 2 Axes>"
            ]
          },
          "metadata": {
            "tags": []
          }
        }
      ]
    },
    {
      "metadata": {
        "id": "xsASAa8KRwNc",
        "colab_type": "text"
      },
      "cell_type": "markdown",
      "source": [
        "### tf.keras schedulers"
      ]
    },
    {
      "metadata": {
        "id": "XP_g7zXLRwNc",
        "colab_type": "code",
        "outputId": "5d53f483-e056-4d29-8b27-e1bc08442c50",
        "colab": {
          "base_uri": "https://localhost:8080/",
          "height": 982
        }
      },
      "cell_type": "code",
      "source": [
        "model = keras.models.Sequential([\n",
        "    keras.layers.Flatten(input_shape=[28, 28]),\n",
        "    keras.layers.Dense(300, activation=\"selu\", kernel_initializer=\"lecun_normal\"),\n",
        "    keras.layers.Dense(100, activation=\"selu\", kernel_initializer=\"lecun_normal\"),\n",
        "    keras.layers.Dense(10, activation=\"softmax\")\n",
        "])\n",
        "s = 20 * len(X_train) // 32 # number of steps in 20 epochs (batch size = 32)\n",
        "learning_rate = keras.optimizers.schedules.ExponentialDecay(0.01, s, 0.1)\n",
        "optimizer = keras.optimizers.SGD(learning_rate)\n",
        "model.compile(loss=\"sparse_categorical_crossentropy\", optimizer=optimizer, metrics=[\"accuracy\"])\n",
        "n_epochs = 25\n",
        "history = model.fit(X_train_scaled, y_train, epochs=n_epochs,\n",
        "                    validation_data=(X_valid_scaled, y_valid))"
      ],
      "execution_count": 0,
      "outputs": [
        {
          "output_type": "stream",
          "text": [
            "Train on 55000 samples, validate on 5000 samples\n",
            "Epoch 1/25\n",
            "55000/55000 [==============================] - 6s 100us/sample - loss: 0.4887 - accuracy: 0.8282 - val_loss: 0.4244 - val_accuracy: 0.8526\n",
            "Epoch 2/25\n",
            "55000/55000 [==============================] - 5s 96us/sample - loss: 0.3830 - accuracy: 0.8642 - val_loss: 0.3802 - val_accuracy: 0.8680\n",
            "Epoch 3/25\n",
            "55000/55000 [==============================] - 5s 96us/sample - loss: 0.3491 - accuracy: 0.8755 - val_loss: 0.3647 - val_accuracy: 0.8738\n",
            "Epoch 4/25\n",
            "55000/55000 [==============================] - 5s 95us/sample - loss: 0.3267 - accuracy: 0.8840 - val_loss: 0.3563 - val_accuracy: 0.8742\n",
            "Epoch 5/25\n",
            "55000/55000 [==============================] - 5s 95us/sample - loss: 0.3103 - accuracy: 0.8894 - val_loss: 0.3493 - val_accuracy: 0.8774\n",
            "Epoch 6/25\n",
            "55000/55000 [==============================] - 5s 95us/sample - loss: 0.2970 - accuracy: 0.8940 - val_loss: 0.3401 - val_accuracy: 0.8816\n",
            "Epoch 7/25\n",
            "55000/55000 [==============================] - 5s 95us/sample - loss: 0.2855 - accuracy: 0.8986 - val_loss: 0.3386 - val_accuracy: 0.8834\n",
            "Epoch 8/25\n",
            "55000/55000 [==============================] - 5s 95us/sample - loss: 0.2765 - accuracy: 0.9026 - val_loss: 0.3370 - val_accuracy: 0.8836\n",
            "Epoch 9/25\n",
            "55000/55000 [==============================] - 5s 95us/sample - loss: 0.2684 - accuracy: 0.9041 - val_loss: 0.3338 - val_accuracy: 0.8844\n",
            "Epoch 10/25\n",
            "55000/55000 [==============================] - 5s 96us/sample - loss: 0.2614 - accuracy: 0.9069 - val_loss: 0.3276 - val_accuracy: 0.8864\n",
            "Epoch 11/25\n",
            "55000/55000 [==============================] - 5s 97us/sample - loss: 0.2555 - accuracy: 0.9083 - val_loss: 0.3269 - val_accuracy: 0.8854\n",
            "Epoch 12/25\n",
            "55000/55000 [==============================] - 5s 95us/sample - loss: 0.2501 - accuracy: 0.9110 - val_loss: 0.3241 - val_accuracy: 0.8842\n",
            "Epoch 13/25\n",
            "55000/55000 [==============================] - 6s 100us/sample - loss: 0.2455 - accuracy: 0.9124 - val_loss: 0.3191 - val_accuracy: 0.8902\n",
            "Epoch 14/25\n",
            "55000/55000 [==============================] - 6s 117us/sample - loss: 0.2414 - accuracy: 0.9143 - val_loss: 0.3224 - val_accuracy: 0.8876\n",
            "Epoch 15/25\n",
            "55000/55000 [==============================] - 6s 102us/sample - loss: 0.2378 - accuracy: 0.9156 - val_loss: 0.3230 - val_accuracy: 0.8862\n",
            "Epoch 16/25\n",
            "55000/55000 [==============================] - 5s 96us/sample - loss: 0.2347 - accuracy: 0.9179 - val_loss: 0.3204 - val_accuracy: 0.8892\n",
            "Epoch 17/25\n",
            "55000/55000 [==============================] - 5s 97us/sample - loss: 0.2317 - accuracy: 0.9179 - val_loss: 0.3191 - val_accuracy: 0.8886\n",
            "Epoch 18/25\n",
            "55000/55000 [==============================] - 5s 97us/sample - loss: 0.2293 - accuracy: 0.9194 - val_loss: 0.3180 - val_accuracy: 0.8902\n",
            "Epoch 19/25\n",
            "55000/55000 [==============================] - 5s 97us/sample - loss: 0.2272 - accuracy: 0.9202 - val_loss: 0.3192 - val_accuracy: 0.8888\n",
            "Epoch 20/25\n",
            "55000/55000 [==============================] - 5s 96us/sample - loss: 0.2253 - accuracy: 0.9204 - val_loss: 0.3186 - val_accuracy: 0.8920\n",
            "Epoch 21/25\n",
            "55000/55000 [==============================] - 5s 96us/sample - loss: 0.2235 - accuracy: 0.9215 - val_loss: 0.3173 - val_accuracy: 0.8910\n",
            "Epoch 22/25\n",
            "55000/55000 [==============================] - 5s 98us/sample - loss: 0.2219 - accuracy: 0.9220 - val_loss: 0.3178 - val_accuracy: 0.8896\n",
            "Epoch 23/25\n",
            "55000/55000 [==============================] - 5s 96us/sample - loss: 0.2205 - accuracy: 0.9227 - val_loss: 0.3183 - val_accuracy: 0.8892\n",
            "Epoch 24/25\n",
            "55000/55000 [==============================] - 5s 96us/sample - loss: 0.2192 - accuracy: 0.9231 - val_loss: 0.3165 - val_accuracy: 0.8906\n",
            "Epoch 25/25\n",
            "55000/55000 [==============================] - 5s 96us/sample - loss: 0.2181 - accuracy: 0.9236 - val_loss: 0.3168 - val_accuracy: 0.8898\n"
          ],
          "name": "stdout"
        }
      ]
    },
    {
      "metadata": {
        "id": "xVjwWJlWRwNe",
        "colab_type": "text"
      },
      "cell_type": "markdown",
      "source": [
        "For piecewise constant scheduling, try this:"
      ]
    },
    {
      "metadata": {
        "id": "2ndW3DcIRwNe",
        "colab_type": "code",
        "colab": {}
      },
      "cell_type": "code",
      "source": [
        "learning_rate = keras.optimizers.schedules.PiecewiseConstantDecay(\n",
        "    boundaries=[5. * n_steps_per_epoch, 15. * n_steps_per_epoch], values=[0.01, 0.005, 0.001])"
      ],
      "execution_count": 0,
      "outputs": []
    },
    {
      "metadata": {
        "id": "xcRUVrv0RwNg",
        "colab_type": "text"
      },
      "cell_type": "markdown",
      "source": [
        "# Avoiding Overfitting Through Regularization"
      ]
    },
    {
      "metadata": {
        "id": "CTTv1P2MRwNh",
        "colab_type": "text"
      },
      "cell_type": "markdown",
      "source": [
        "## $\\ell_1$ and $\\ell_2$ regularization"
      ]
    },
    {
      "metadata": {
        "id": "AW-EUw3ARwNh",
        "colab_type": "code",
        "colab": {}
      },
      "cell_type": "code",
      "source": [
        "layer = keras.layers.Dense(100, activation=\"elu\",\n",
        "                           kernel_initializer=\"he_normal\",\n",
        "                           kernel_regularizer=keras.regularizers.l2(0.01))\n",
        "# or l1(0.1) for ℓ1 regularization with a factor or 0.1\n",
        "# or l1_l2(0.1, 0.01) for both ℓ1 and ℓ2 regularization, with factors 0.1 and 0.01 respectively"
      ],
      "execution_count": 0,
      "outputs": []
    },
    {
      "metadata": {
        "id": "Q2VXs4y-RwNi",
        "colab_type": "code",
        "outputId": "d1d846d8-1455-4036-c686-9e2f8770cfb9",
        "colab": {
          "base_uri": "https://localhost:8080/",
          "height": 130
        }
      },
      "cell_type": "code",
      "source": [
        "model = keras.models.Sequential([\n",
        "    keras.layers.Flatten(input_shape=[28, 28]),\n",
        "    keras.layers.Dense(300, activation=\"elu\",\n",
        "                       kernel_initializer=\"he_normal\",\n",
        "                       kernel_regularizer=keras.regularizers.l2(0.01)),\n",
        "    keras.layers.Dense(100, activation=\"elu\",\n",
        "                       kernel_initializer=\"he_normal\",\n",
        "                       kernel_regularizer=keras.regularizers.l2(0.01)),\n",
        "    keras.layers.Dense(10, activation=\"softmax\",\n",
        "                       kernel_regularizer=keras.regularizers.l2(0.01))\n",
        "])\n",
        "model.compile(loss=\"sparse_categorical_crossentropy\", optimizer=\"nadam\", metrics=[\"accuracy\"])\n",
        "n_epochs = 2\n",
        "history = model.fit(X_train_scaled, y_train, epochs=n_epochs,\n",
        "                    validation_data=(X_valid_scaled, y_valid))"
      ],
      "execution_count": 0,
      "outputs": [
        {
          "output_type": "stream",
          "text": [
            "Train on 55000 samples, validate on 5000 samples\n",
            "Epoch 1/2\n",
            "55000/55000 [==============================] - 18s 327us/sample - loss: 1.6073 - accuracy: 0.8112 - val_loss: 0.7314 - val_accuracy: 0.8242\n",
            "Epoch 2/2\n",
            "55000/55000 [==============================] - 16s 300us/sample - loss: 0.7193 - accuracy: 0.8256 - val_loss: 0.7029 - val_accuracy: 0.8304\n"
          ],
          "name": "stdout"
        }
      ]
    },
    {
      "metadata": {
        "id": "6QP7DUz8RwNk",
        "colab_type": "code",
        "outputId": "02ed5152-08be-407a-95fe-6ddb8b787490",
        "colab": {
          "base_uri": "https://localhost:8080/",
          "height": 130
        }
      },
      "cell_type": "code",
      "source": [
        "from functools import partial\n",
        "\n",
        "RegularizedDense = partial(keras.layers.Dense,\n",
        "                           activation=\"elu\",\n",
        "                           kernel_initializer=\"he_normal\",\n",
        "                           kernel_regularizer=keras.regularizers.l2(0.01))\n",
        "\n",
        "model = keras.models.Sequential([\n",
        "    keras.layers.Flatten(input_shape=[28, 28]),\n",
        "    RegularizedDense(300),\n",
        "    RegularizedDense(100),\n",
        "    RegularizedDense(10, activation=\"softmax\")\n",
        "])\n",
        "model.compile(loss=\"sparse_categorical_crossentropy\", optimizer=\"nadam\", metrics=[\"accuracy\"])\n",
        "n_epochs = 2\n",
        "history = model.fit(X_train_scaled, y_train, epochs=n_epochs,\n",
        "                    validation_data=(X_valid_scaled, y_valid))"
      ],
      "execution_count": 0,
      "outputs": [
        {
          "output_type": "stream",
          "text": [
            "Train on 55000 samples, validate on 5000 samples\n",
            "Epoch 1/2\n",
            "55000/55000 [==============================] - 17s 306us/sample - loss: 1.6597 - accuracy: 0.8128 - val_loss: 0.7630 - val_accuracy: 0.8080\n",
            "Epoch 2/2\n",
            "55000/55000 [==============================] - 16s 298us/sample - loss: 0.7176 - accuracy: 0.8271 - val_loss: 0.6848 - val_accuracy: 0.8360\n"
          ],
          "name": "stdout"
        }
      ]
    },
    {
      "metadata": {
        "id": "6XfOKCeZRwNn",
        "colab_type": "text"
      },
      "cell_type": "markdown",
      "source": [
        "## Dropout"
      ]
    },
    {
      "metadata": {
        "id": "xMrJKnYgRwNo",
        "colab_type": "code",
        "outputId": "edb5c6ea-21a7-4623-91f1-d218c20dff0c",
        "colab": {
          "base_uri": "https://localhost:8080/",
          "height": 130
        }
      },
      "cell_type": "code",
      "source": [
        "model = keras.models.Sequential([\n",
        "    keras.layers.Flatten(input_shape=[28, 28]),\n",
        "    keras.layers.Dropout(rate=0.2),\n",
        "    keras.layers.Dense(300, activation=\"elu\", kernel_initializer=\"he_normal\"),\n",
        "    keras.layers.Dropout(rate=0.2),\n",
        "    keras.layers.Dense(100, activation=\"elu\", kernel_initializer=\"he_normal\"),\n",
        "    keras.layers.Dropout(rate=0.2),\n",
        "    keras.layers.Dense(10, activation=\"softmax\")\n",
        "])\n",
        "model.compile(loss=\"sparse_categorical_crossentropy\", optimizer=\"nadam\", metrics=[\"accuracy\"])\n",
        "n_epochs = 2\n",
        "history = model.fit(X_train_scaled, y_train, epochs=n_epochs,\n",
        "                    validation_data=(X_valid_scaled, y_valid))"
      ],
      "execution_count": 0,
      "outputs": [
        {
          "output_type": "stream",
          "text": [
            "Train on 55000 samples, validate on 5000 samples\n",
            "Epoch 1/2\n",
            "55000/55000 [==============================] - 16s 283us/sample - loss: 0.5703 - accuracy: 0.8050 - val_loss: 0.3723 - val_accuracy: 0.8646\n",
            "Epoch 2/2\n",
            "55000/55000 [==============================] - 14s 260us/sample - loss: 0.4235 - accuracy: 0.8449 - val_loss: 0.3402 - val_accuracy: 0.8706\n"
          ],
          "name": "stdout"
        }
      ]
    },
    {
      "metadata": {
        "id": "9MJY8IpTRwNq",
        "colab_type": "text"
      },
      "cell_type": "markdown",
      "source": [
        "## Alpha Dropout"
      ]
    },
    {
      "metadata": {
        "id": "TVPABkkYRwNr",
        "colab_type": "code",
        "colab": {}
      },
      "cell_type": "code",
      "source": [
        "tf.random.set_seed(42)\n",
        "np.random.seed(42)"
      ],
      "execution_count": 0,
      "outputs": []
    },
    {
      "metadata": {
        "id": "igtVGGb-RwNt",
        "colab_type": "code",
        "outputId": "feebb46b-f461-4b6a-b487-68d0290f5486",
        "colab": {
          "base_uri": "https://localhost:8080/",
          "height": 797
        }
      },
      "cell_type": "code",
      "source": [
        "model = keras.models.Sequential([\n",
        "    keras.layers.Flatten(input_shape=[28, 28]),\n",
        "    keras.layers.AlphaDropout(rate=0.2),\n",
        "    keras.layers.Dense(300, activation=\"selu\", kernel_initializer=\"lecun_normal\"),\n",
        "    keras.layers.AlphaDropout(rate=0.2),\n",
        "    keras.layers.Dense(100, activation=\"selu\", kernel_initializer=\"lecun_normal\"),\n",
        "    keras.layers.AlphaDropout(rate=0.2),\n",
        "    keras.layers.Dense(10, activation=\"softmax\")\n",
        "])\n",
        "optimizer = keras.optimizers.SGD(lr=0.01, momentum=0.9, nesterov=True)\n",
        "model.compile(loss=\"sparse_categorical_crossentropy\", optimizer=optimizer, metrics=[\"accuracy\"])\n",
        "n_epochs = 20\n",
        "history = model.fit(X_train_scaled, y_train, epochs=n_epochs,\n",
        "                    validation_data=(X_valid_scaled, y_valid))"
      ],
      "execution_count": 0,
      "outputs": [
        {
          "output_type": "stream",
          "text": [
            "Train on 55000 samples, validate on 5000 samples\n",
            "Epoch 1/20\n",
            "55000/55000 [==============================] - 11s 198us/sample - loss: 0.6640 - accuracy: 0.7583 - val_loss: 0.5812 - val_accuracy: 0.8418\n",
            "Epoch 2/20\n",
            "55000/55000 [==============================] - 12s 217us/sample - loss: 0.5517 - accuracy: 0.7971 - val_loss: 0.5782 - val_accuracy: 0.8434\n",
            "Epoch 3/20\n",
            "55000/55000 [==============================] - 11s 192us/sample - loss: 0.5262 - accuracy: 0.8063 - val_loss: 0.5230 - val_accuracy: 0.8494\n",
            "Epoch 4/20\n",
            "55000/55000 [==============================] - 11s 193us/sample - loss: 0.5054 - accuracy: 0.8137 - val_loss: 0.4724 - val_accuracy: 0.8624\n",
            "Epoch 5/20\n",
            "55000/55000 [==============================] - 11s 193us/sample - loss: 0.4892 - accuracy: 0.8195 - val_loss: 0.5161 - val_accuracy: 0.8592\n",
            "Epoch 6/20\n",
            "55000/55000 [==============================] - 11s 193us/sample - loss: 0.4807 - accuracy: 0.8221 - val_loss: 0.4882 - val_accuracy: 0.8522\n",
            "Epoch 7/20\n",
            "55000/55000 [==============================] - 11s 194us/sample - loss: 0.4688 - accuracy: 0.8251 - val_loss: 0.4751 - val_accuracy: 0.8560\n",
            "Epoch 8/20\n",
            "55000/55000 [==============================] - 11s 208us/sample - loss: 0.4711 - accuracy: 0.8241 - val_loss: 0.4235 - val_accuracy: 0.8634\n",
            "Epoch 9/20\n",
            "55000/55000 [==============================] - 13s 235us/sample - loss: 0.4509 - accuracy: 0.8310 - val_loss: 0.4752 - val_accuracy: 0.8706\n",
            "Epoch 10/20\n",
            "55000/55000 [==============================] - 11s 209us/sample - loss: 0.4511 - accuracy: 0.8311 - val_loss: 0.4940 - val_accuracy: 0.8594\n",
            "Epoch 11/20\n",
            "55000/55000 [==============================] - 11s 193us/sample - loss: 0.4483 - accuracy: 0.8337 - val_loss: 0.4459 - val_accuracy: 0.8672\n",
            "Epoch 12/20\n",
            "55000/55000 [==============================] - 11s 192us/sample - loss: 0.4426 - accuracy: 0.8366 - val_loss: 0.4689 - val_accuracy: 0.8638\n",
            "Epoch 13/20\n",
            "55000/55000 [==============================] - 11s 193us/sample - loss: 0.4412 - accuracy: 0.8371 - val_loss: 0.4311 - val_accuracy: 0.8698\n",
            "Epoch 14/20\n",
            "55000/55000 [==============================] - 11s 194us/sample - loss: 0.4387 - accuracy: 0.8366 - val_loss: 0.4203 - val_accuracy: 0.8734\n",
            "Epoch 15/20\n",
            "55000/55000 [==============================] - 7s 131us/sample - loss: 0.4325 - accuracy: 0.8382 - val_loss: 0.4932 - val_accuracy: 0.8696\n",
            "Epoch 16/20\n",
            "55000/55000 [==============================] - 7s 130us/sample - loss: 0.4321 - accuracy: 0.8394 - val_loss: 0.4401 - val_accuracy: 0.8768\n",
            "Epoch 17/20\n",
            "55000/55000 [==============================] - 8s 150us/sample - loss: 0.4244 - accuracy: 0.8419 - val_loss: 0.4384 - val_accuracy: 0.8738\n",
            "Epoch 18/20\n",
            "55000/55000 [==============================] - 8s 142us/sample - loss: 0.4241 - accuracy: 0.8431 - val_loss: 0.4075 - val_accuracy: 0.8716\n",
            "Epoch 19/20\n",
            "55000/55000 [==============================] - 7s 129us/sample - loss: 0.4210 - accuracy: 0.8436 - val_loss: 0.4711 - val_accuracy: 0.8700\n",
            "Epoch 20/20\n",
            "55000/55000 [==============================] - 7s 127us/sample - loss: 0.4190 - accuracy: 0.8457 - val_loss: 0.4188 - val_accuracy: 0.8800\n"
          ],
          "name": "stdout"
        }
      ]
    },
    {
      "metadata": {
        "id": "xOD5KnOZRwNx",
        "colab_type": "code",
        "outputId": "e3075cd0-8a44-49b2-e33a-af0d83436c68",
        "colab": {
          "base_uri": "https://localhost:8080/",
          "height": 54
        }
      },
      "cell_type": "code",
      "source": [
        "model.evaluate(X_test_scaled, y_test)"
      ],
      "execution_count": 0,
      "outputs": [
        {
          "output_type": "stream",
          "text": [
            "10000/10000 [==============================] - 1s 54us/sample - loss: 0.4580 - accuracy: 0.8663\n"
          ],
          "name": "stdout"
        },
        {
          "output_type": "execute_result",
          "data": {
            "text/plain": [
              "[0.4579802789211273, 0.8663]"
            ]
          },
          "metadata": {
            "tags": []
          },
          "execution_count": 126
        }
      ]
    },
    {
      "metadata": {
        "id": "4Fwci151RwN1",
        "colab_type": "code",
        "outputId": "982545be-a0ea-4e0f-d83d-ed0093149ca4",
        "colab": {
          "base_uri": "https://localhost:8080/",
          "height": 54
        }
      },
      "cell_type": "code",
      "source": [
        "model.evaluate(X_train_scaled, y_train)"
      ],
      "execution_count": 0,
      "outputs": [
        {
          "output_type": "stream",
          "text": [
            "55000/55000 [==============================] - 3s 54us/sample - loss: 0.3429 - accuracy: 0.8863\n"
          ],
          "name": "stdout"
        },
        {
          "output_type": "execute_result",
          "data": {
            "text/plain": [
              "[0.342865064716881, 0.88634545]"
            ]
          },
          "metadata": {
            "tags": []
          },
          "execution_count": 127
        }
      ]
    },
    {
      "metadata": {
        "id": "IedKpIvPRwN3",
        "colab_type": "code",
        "colab": {}
      },
      "cell_type": "code",
      "source": [
        "#with keras.backend.learning_phase_scope(1):  # TODO: check https://github.com/tensorflow/tensorflow/issues/25754\n",
        "#    history = model.fit(X_train_scaled, y_train)"
      ],
      "execution_count": 0,
      "outputs": []
    },
    {
      "metadata": {
        "id": "Y3YwPoMDRwN6",
        "colab_type": "text"
      },
      "cell_type": "markdown",
      "source": [
        "## MC Dropout"
      ]
    },
    {
      "metadata": {
        "id": "yAFYwvkuRwN6",
        "colab_type": "code",
        "colab": {}
      },
      "cell_type": "code",
      "source": [
        "tf.random.set_seed(42)\n",
        "np.random.seed(42)"
      ],
      "execution_count": 0,
      "outputs": []
    },
    {
      "metadata": {
        "id": "VUkm-QDMRwN7",
        "colab_type": "code",
        "colab": {}
      },
      "cell_type": "code",
      "source": [
        "with keras.backend.learning_phase_scope(1):  # TODO: check https://github.com/tensorflow/tensorflow/issues/25754\n",
        "    y_probas = np.stack([model.predict(X_test_scaled) for sample in range(100)])\n",
        "y_proba = y_probas.mean(axis=0)\n",
        "y_std = y_probas.std(axis=0)"
      ],
      "execution_count": 0,
      "outputs": []
    },
    {
      "metadata": {
        "id": "EZYuKxWVRwN9",
        "colab_type": "code",
        "outputId": "7432cb09-f785-4992-8230-069b839f45cd",
        "colab": {
          "base_uri": "https://localhost:8080/",
          "height": 54
        }
      },
      "cell_type": "code",
      "source": [
        "np.round(model.predict(X_test_scaled[:1]), 2)"
      ],
      "execution_count": 0,
      "outputs": [
        {
          "output_type": "execute_result",
          "data": {
            "text/plain": [
              "array([[0.  , 0.  , 0.  , 0.  , 0.  , 0.  , 0.  , 0.  , 0.  , 0.99]],\n",
              "      dtype=float32)"
            ]
          },
          "metadata": {
            "tags": []
          },
          "execution_count": 131
        }
      ]
    },
    {
      "metadata": {
        "id": "D0FwNDMKRwN_",
        "colab_type": "code",
        "outputId": "d6e3621b-3702-41c5-ba9f-d9ad4c969b14",
        "colab": {
          "base_uri": "https://localhost:8080/",
          "height": 3724
        }
      },
      "cell_type": "code",
      "source": [
        "np.round(y_probas[:, :1], 2)"
      ],
      "execution_count": 0,
      "outputs": [
        {
          "output_type": "execute_result",
          "data": {
            "text/plain": [
              "array([[[0.  , 0.  , 0.  , 0.  , 0.  , 0.  , 0.  , 0.  , 0.  , 0.99]],\n",
              "\n",
              "       [[0.  , 0.  , 0.  , 0.  , 0.  , 0.  , 0.  , 0.  , 0.  , 0.99]],\n",
              "\n",
              "       [[0.  , 0.  , 0.  , 0.  , 0.  , 0.  , 0.  , 0.  , 0.  , 0.99]],\n",
              "\n",
              "       [[0.  , 0.  , 0.  , 0.  , 0.  , 0.  , 0.  , 0.  , 0.  , 0.99]],\n",
              "\n",
              "       [[0.  , 0.  , 0.  , 0.  , 0.  , 0.  , 0.  , 0.  , 0.  , 0.99]],\n",
              "\n",
              "       [[0.  , 0.  , 0.  , 0.  , 0.  , 0.  , 0.  , 0.  , 0.  , 0.99]],\n",
              "\n",
              "       [[0.  , 0.  , 0.  , 0.  , 0.  , 0.  , 0.  , 0.  , 0.  , 0.99]],\n",
              "\n",
              "       [[0.  , 0.  , 0.  , 0.  , 0.  , 0.  , 0.  , 0.  , 0.  , 0.99]],\n",
              "\n",
              "       [[0.  , 0.  , 0.  , 0.  , 0.  , 0.  , 0.  , 0.  , 0.  , 0.99]],\n",
              "\n",
              "       [[0.  , 0.  , 0.  , 0.  , 0.  , 0.  , 0.  , 0.  , 0.  , 0.99]],\n",
              "\n",
              "       [[0.  , 0.  , 0.  , 0.  , 0.  , 0.  , 0.  , 0.  , 0.  , 0.99]],\n",
              "\n",
              "       [[0.  , 0.  , 0.  , 0.  , 0.  , 0.  , 0.  , 0.  , 0.  , 0.99]],\n",
              "\n",
              "       [[0.  , 0.  , 0.  , 0.  , 0.  , 0.  , 0.  , 0.  , 0.  , 0.99]],\n",
              "\n",
              "       [[0.  , 0.  , 0.  , 0.  , 0.  , 0.  , 0.  , 0.  , 0.  , 0.99]],\n",
              "\n",
              "       [[0.  , 0.  , 0.  , 0.  , 0.  , 0.  , 0.  , 0.  , 0.  , 0.99]],\n",
              "\n",
              "       [[0.  , 0.  , 0.  , 0.  , 0.  , 0.  , 0.  , 0.  , 0.  , 0.99]],\n",
              "\n",
              "       [[0.  , 0.  , 0.  , 0.  , 0.  , 0.  , 0.  , 0.  , 0.  , 0.99]],\n",
              "\n",
              "       [[0.  , 0.  , 0.  , 0.  , 0.  , 0.  , 0.  , 0.  , 0.  , 0.99]],\n",
              "\n",
              "       [[0.  , 0.  , 0.  , 0.  , 0.  , 0.  , 0.  , 0.  , 0.  , 0.99]],\n",
              "\n",
              "       [[0.  , 0.  , 0.  , 0.  , 0.  , 0.  , 0.  , 0.  , 0.  , 0.99]],\n",
              "\n",
              "       [[0.  , 0.  , 0.  , 0.  , 0.  , 0.  , 0.  , 0.  , 0.  , 0.99]],\n",
              "\n",
              "       [[0.  , 0.  , 0.  , 0.  , 0.  , 0.  , 0.  , 0.  , 0.  , 0.99]],\n",
              "\n",
              "       [[0.  , 0.  , 0.  , 0.  , 0.  , 0.  , 0.  , 0.  , 0.  , 0.99]],\n",
              "\n",
              "       [[0.  , 0.  , 0.  , 0.  , 0.  , 0.  , 0.  , 0.  , 0.  , 0.99]],\n",
              "\n",
              "       [[0.  , 0.  , 0.  , 0.  , 0.  , 0.  , 0.  , 0.  , 0.  , 0.99]],\n",
              "\n",
              "       [[0.  , 0.  , 0.  , 0.  , 0.  , 0.  , 0.  , 0.  , 0.  , 0.99]],\n",
              "\n",
              "       [[0.  , 0.  , 0.  , 0.  , 0.  , 0.  , 0.  , 0.  , 0.  , 0.99]],\n",
              "\n",
              "       [[0.  , 0.  , 0.  , 0.  , 0.  , 0.  , 0.  , 0.  , 0.  , 0.99]],\n",
              "\n",
              "       [[0.  , 0.  , 0.  , 0.  , 0.  , 0.  , 0.  , 0.  , 0.  , 0.99]],\n",
              "\n",
              "       [[0.  , 0.  , 0.  , 0.  , 0.  , 0.  , 0.  , 0.  , 0.  , 0.99]],\n",
              "\n",
              "       [[0.  , 0.  , 0.  , 0.  , 0.  , 0.  , 0.  , 0.  , 0.  , 0.99]],\n",
              "\n",
              "       [[0.  , 0.  , 0.  , 0.  , 0.  , 0.  , 0.  , 0.  , 0.  , 0.99]],\n",
              "\n",
              "       [[0.  , 0.  , 0.  , 0.  , 0.  , 0.  , 0.  , 0.  , 0.  , 0.99]],\n",
              "\n",
              "       [[0.  , 0.  , 0.  , 0.  , 0.  , 0.  , 0.  , 0.  , 0.  , 0.99]],\n",
              "\n",
              "       [[0.  , 0.  , 0.  , 0.  , 0.  , 0.  , 0.  , 0.  , 0.  , 0.99]],\n",
              "\n",
              "       [[0.  , 0.  , 0.  , 0.  , 0.  , 0.  , 0.  , 0.  , 0.  , 0.99]],\n",
              "\n",
              "       [[0.  , 0.  , 0.  , 0.  , 0.  , 0.  , 0.  , 0.  , 0.  , 0.99]],\n",
              "\n",
              "       [[0.  , 0.  , 0.  , 0.  , 0.  , 0.  , 0.  , 0.  , 0.  , 0.99]],\n",
              "\n",
              "       [[0.  , 0.  , 0.  , 0.  , 0.  , 0.  , 0.  , 0.  , 0.  , 0.99]],\n",
              "\n",
              "       [[0.  , 0.  , 0.  , 0.  , 0.  , 0.  , 0.  , 0.  , 0.  , 0.99]],\n",
              "\n",
              "       [[0.  , 0.  , 0.  , 0.  , 0.  , 0.  , 0.  , 0.  , 0.  , 0.99]],\n",
              "\n",
              "       [[0.  , 0.  , 0.  , 0.  , 0.  , 0.  , 0.  , 0.  , 0.  , 0.99]],\n",
              "\n",
              "       [[0.  , 0.  , 0.  , 0.  , 0.  , 0.  , 0.  , 0.  , 0.  , 0.99]],\n",
              "\n",
              "       [[0.  , 0.  , 0.  , 0.  , 0.  , 0.  , 0.  , 0.  , 0.  , 0.99]],\n",
              "\n",
              "       [[0.  , 0.  , 0.  , 0.  , 0.  , 0.  , 0.  , 0.  , 0.  , 0.99]],\n",
              "\n",
              "       [[0.  , 0.  , 0.  , 0.  , 0.  , 0.  , 0.  , 0.  , 0.  , 0.99]],\n",
              "\n",
              "       [[0.  , 0.  , 0.  , 0.  , 0.  , 0.  , 0.  , 0.  , 0.  , 0.99]],\n",
              "\n",
              "       [[0.  , 0.  , 0.  , 0.  , 0.  , 0.  , 0.  , 0.  , 0.  , 0.99]],\n",
              "\n",
              "       [[0.  , 0.  , 0.  , 0.  , 0.  , 0.  , 0.  , 0.  , 0.  , 0.99]],\n",
              "\n",
              "       [[0.  , 0.  , 0.  , 0.  , 0.  , 0.  , 0.  , 0.  , 0.  , 0.99]],\n",
              "\n",
              "       [[0.  , 0.  , 0.  , 0.  , 0.  , 0.  , 0.  , 0.  , 0.  , 0.99]],\n",
              "\n",
              "       [[0.  , 0.  , 0.  , 0.  , 0.  , 0.  , 0.  , 0.  , 0.  , 0.99]],\n",
              "\n",
              "       [[0.  , 0.  , 0.  , 0.  , 0.  , 0.  , 0.  , 0.  , 0.  , 0.99]],\n",
              "\n",
              "       [[0.  , 0.  , 0.  , 0.  , 0.  , 0.  , 0.  , 0.  , 0.  , 0.99]],\n",
              "\n",
              "       [[0.  , 0.  , 0.  , 0.  , 0.  , 0.  , 0.  , 0.  , 0.  , 0.99]],\n",
              "\n",
              "       [[0.  , 0.  , 0.  , 0.  , 0.  , 0.  , 0.  , 0.  , 0.  , 0.99]],\n",
              "\n",
              "       [[0.  , 0.  , 0.  , 0.  , 0.  , 0.  , 0.  , 0.  , 0.  , 0.99]],\n",
              "\n",
              "       [[0.  , 0.  , 0.  , 0.  , 0.  , 0.  , 0.  , 0.  , 0.  , 0.99]],\n",
              "\n",
              "       [[0.  , 0.  , 0.  , 0.  , 0.  , 0.  , 0.  , 0.  , 0.  , 0.99]],\n",
              "\n",
              "       [[0.  , 0.  , 0.  , 0.  , 0.  , 0.  , 0.  , 0.  , 0.  , 0.99]],\n",
              "\n",
              "       [[0.  , 0.  , 0.  , 0.  , 0.  , 0.  , 0.  , 0.  , 0.  , 0.99]],\n",
              "\n",
              "       [[0.  , 0.  , 0.  , 0.  , 0.  , 0.  , 0.  , 0.  , 0.  , 0.99]],\n",
              "\n",
              "       [[0.  , 0.  , 0.  , 0.  , 0.  , 0.  , 0.  , 0.  , 0.  , 0.99]],\n",
              "\n",
              "       [[0.  , 0.  , 0.  , 0.  , 0.  , 0.  , 0.  , 0.  , 0.  , 0.99]],\n",
              "\n",
              "       [[0.  , 0.  , 0.  , 0.  , 0.  , 0.  , 0.  , 0.  , 0.  , 0.99]],\n",
              "\n",
              "       [[0.  , 0.  , 0.  , 0.  , 0.  , 0.  , 0.  , 0.  , 0.  , 0.99]],\n",
              "\n",
              "       [[0.  , 0.  , 0.  , 0.  , 0.  , 0.  , 0.  , 0.  , 0.  , 0.99]],\n",
              "\n",
              "       [[0.  , 0.  , 0.  , 0.  , 0.  , 0.  , 0.  , 0.  , 0.  , 0.99]],\n",
              "\n",
              "       [[0.  , 0.  , 0.  , 0.  , 0.  , 0.  , 0.  , 0.  , 0.  , 0.99]],\n",
              "\n",
              "       [[0.  , 0.  , 0.  , 0.  , 0.  , 0.  , 0.  , 0.  , 0.  , 0.99]],\n",
              "\n",
              "       [[0.  , 0.  , 0.  , 0.  , 0.  , 0.  , 0.  , 0.  , 0.  , 0.99]],\n",
              "\n",
              "       [[0.  , 0.  , 0.  , 0.  , 0.  , 0.  , 0.  , 0.  , 0.  , 0.99]],\n",
              "\n",
              "       [[0.  , 0.  , 0.  , 0.  , 0.  , 0.  , 0.  , 0.  , 0.  , 0.99]],\n",
              "\n",
              "       [[0.  , 0.  , 0.  , 0.  , 0.  , 0.  , 0.  , 0.  , 0.  , 0.99]],\n",
              "\n",
              "       [[0.  , 0.  , 0.  , 0.  , 0.  , 0.  , 0.  , 0.  , 0.  , 0.99]],\n",
              "\n",
              "       [[0.  , 0.  , 0.  , 0.  , 0.  , 0.  , 0.  , 0.  , 0.  , 0.99]],\n",
              "\n",
              "       [[0.  , 0.  , 0.  , 0.  , 0.  , 0.  , 0.  , 0.  , 0.  , 0.99]],\n",
              "\n",
              "       [[0.  , 0.  , 0.  , 0.  , 0.  , 0.  , 0.  , 0.  , 0.  , 0.99]],\n",
              "\n",
              "       [[0.  , 0.  , 0.  , 0.  , 0.  , 0.  , 0.  , 0.  , 0.  , 0.99]],\n",
              "\n",
              "       [[0.  , 0.  , 0.  , 0.  , 0.  , 0.  , 0.  , 0.  , 0.  , 0.99]],\n",
              "\n",
              "       [[0.  , 0.  , 0.  , 0.  , 0.  , 0.  , 0.  , 0.  , 0.  , 0.99]],\n",
              "\n",
              "       [[0.  , 0.  , 0.  , 0.  , 0.  , 0.  , 0.  , 0.  , 0.  , 0.99]],\n",
              "\n",
              "       [[0.  , 0.  , 0.  , 0.  , 0.  , 0.  , 0.  , 0.  , 0.  , 0.99]],\n",
              "\n",
              "       [[0.  , 0.  , 0.  , 0.  , 0.  , 0.  , 0.  , 0.  , 0.  , 0.99]],\n",
              "\n",
              "       [[0.  , 0.  , 0.  , 0.  , 0.  , 0.  , 0.  , 0.  , 0.  , 0.99]],\n",
              "\n",
              "       [[0.  , 0.  , 0.  , 0.  , 0.  , 0.  , 0.  , 0.  , 0.  , 0.99]],\n",
              "\n",
              "       [[0.  , 0.  , 0.  , 0.  , 0.  , 0.  , 0.  , 0.  , 0.  , 0.99]],\n",
              "\n",
              "       [[0.  , 0.  , 0.  , 0.  , 0.  , 0.  , 0.  , 0.  , 0.  , 0.99]],\n",
              "\n",
              "       [[0.  , 0.  , 0.  , 0.  , 0.  , 0.  , 0.  , 0.  , 0.  , 0.99]],\n",
              "\n",
              "       [[0.  , 0.  , 0.  , 0.  , 0.  , 0.  , 0.  , 0.  , 0.  , 0.99]],\n",
              "\n",
              "       [[0.  , 0.  , 0.  , 0.  , 0.  , 0.  , 0.  , 0.  , 0.  , 0.99]],\n",
              "\n",
              "       [[0.  , 0.  , 0.  , 0.  , 0.  , 0.  , 0.  , 0.  , 0.  , 0.99]],\n",
              "\n",
              "       [[0.  , 0.  , 0.  , 0.  , 0.  , 0.  , 0.  , 0.  , 0.  , 0.99]],\n",
              "\n",
              "       [[0.  , 0.  , 0.  , 0.  , 0.  , 0.  , 0.  , 0.  , 0.  , 0.99]],\n",
              "\n",
              "       [[0.  , 0.  , 0.  , 0.  , 0.  , 0.  , 0.  , 0.  , 0.  , 0.99]],\n",
              "\n",
              "       [[0.  , 0.  , 0.  , 0.  , 0.  , 0.  , 0.  , 0.  , 0.  , 0.99]],\n",
              "\n",
              "       [[0.  , 0.  , 0.  , 0.  , 0.  , 0.  , 0.  , 0.  , 0.  , 0.99]],\n",
              "\n",
              "       [[0.  , 0.  , 0.  , 0.  , 0.  , 0.  , 0.  , 0.  , 0.  , 0.99]],\n",
              "\n",
              "       [[0.  , 0.  , 0.  , 0.  , 0.  , 0.  , 0.  , 0.  , 0.  , 0.99]],\n",
              "\n",
              "       [[0.  , 0.  , 0.  , 0.  , 0.  , 0.  , 0.  , 0.  , 0.  , 0.99]]],\n",
              "      dtype=float32)"
            ]
          },
          "metadata": {
            "tags": []
          },
          "execution_count": 132
        }
      ]
    },
    {
      "metadata": {
        "id": "jvEt98epRwOC",
        "colab_type": "code",
        "outputId": "4049945d-0fdd-4734-a403-f0fc9907a713",
        "colab": {
          "base_uri": "https://localhost:8080/",
          "height": 54
        }
      },
      "cell_type": "code",
      "source": [
        "np.round(y_proba[:1], 2)"
      ],
      "execution_count": 0,
      "outputs": [
        {
          "output_type": "execute_result",
          "data": {
            "text/plain": [
              "array([[0.  , 0.  , 0.  , 0.  , 0.  , 0.  , 0.  , 0.  , 0.  , 0.99]],\n",
              "      dtype=float32)"
            ]
          },
          "metadata": {
            "tags": []
          },
          "execution_count": 133
        }
      ]
    },
    {
      "metadata": {
        "id": "agHSO2gnRwOE",
        "colab_type": "code",
        "outputId": "95f27c16-3f90-40b2-94ee-c7e7edd4ca13",
        "colab": {
          "base_uri": "https://localhost:8080/",
          "height": 36
        }
      },
      "cell_type": "code",
      "source": [
        "y_std = y_probas.std(axis=0)\n",
        "np.round(y_std[:1], 2)"
      ],
      "execution_count": 0,
      "outputs": [
        {
          "output_type": "execute_result",
          "data": {
            "text/plain": [
              "array([[0., 0., 0., 0., 0., 0., 0., 0., 0., 0.]], dtype=float32)"
            ]
          },
          "metadata": {
            "tags": []
          },
          "execution_count": 134
        }
      ]
    },
    {
      "metadata": {
        "id": "rA7ByU_jRwOT",
        "colab_type": "code",
        "colab": {}
      },
      "cell_type": "code",
      "source": [
        "y_pred = np.argmax(y_proba, axis=1)"
      ],
      "execution_count": 0,
      "outputs": []
    },
    {
      "metadata": {
        "id": "W8IpyL9pRwOU",
        "colab_type": "code",
        "outputId": "c4d57a2b-ebf4-4edc-85f4-d61d85ab6db5",
        "colab": {
          "base_uri": "https://localhost:8080/",
          "height": 36
        }
      },
      "cell_type": "code",
      "source": [
        "accuracy = np.sum(y_pred == y_test) / len(y_test)\n",
        "accuracy"
      ],
      "execution_count": 0,
      "outputs": [
        {
          "output_type": "execute_result",
          "data": {
            "text/plain": [
              "0.8663"
            ]
          },
          "metadata": {
            "tags": []
          },
          "execution_count": 136
        }
      ]
    },
    {
      "metadata": {
        "id": "T1She6VMRwOW",
        "colab_type": "code",
        "colab": {}
      },
      "cell_type": "code",
      "source": [
        "class MCDropout(keras.layers.Dropout):\n",
        "    def call(self, inputs):\n",
        "        return super().call(inputs, training=True)\n",
        "\n",
        "class MCAlphaDropout(keras.layers.AlphaDropout):\n",
        "    def call(self, inputs):\n",
        "        return super().call(inputs, training=True)"
      ],
      "execution_count": 0,
      "outputs": []
    },
    {
      "metadata": {
        "id": "6N_W6jZeRwOY",
        "colab_type": "code",
        "colab": {}
      },
      "cell_type": "code",
      "source": [
        "tf.random.set_seed(42)\n",
        "np.random.seed(42)"
      ],
      "execution_count": 0,
      "outputs": []
    },
    {
      "metadata": {
        "id": "cN4ZtUJeRwOb",
        "colab_type": "code",
        "colab": {}
      },
      "cell_type": "code",
      "source": [
        "mc_model = keras.models.Sequential([\n",
        "    MCAlphaDropout(layer.rate) if isinstance(layer, keras.layers.AlphaDropout) else layer\n",
        "    for layer in model.layers\n",
        "])"
      ],
      "execution_count": 0,
      "outputs": []
    },
    {
      "metadata": {
        "id": "6Jv50R2tRwOc",
        "colab_type": "code",
        "outputId": "f63e2e9e-07af-4e79-978f-66832784ea32",
        "colab": {
          "base_uri": "https://localhost:8080/",
          "height": 425
        }
      },
      "cell_type": "code",
      "source": [
        "mc_model.summary()"
      ],
      "execution_count": 0,
      "outputs": [
        {
          "output_type": "stream",
          "text": [
            "Model: \"sequential_22\"\n",
            "_________________________________________________________________\n",
            "Layer (type)                 Output Shape              Param #   \n",
            "=================================================================\n",
            "flatten_20 (Flatten)         (None, 784)               0         \n",
            "_________________________________________________________________\n",
            "mc_alpha_dropout (MCAlphaDro (None, 784)               0         \n",
            "_________________________________________________________________\n",
            "dense_465 (Dense)            (None, 300)               235500    \n",
            "_________________________________________________________________\n",
            "mc_alpha_dropout_1 (MCAlphaD (None, 300)               0         \n",
            "_________________________________________________________________\n",
            "dense_466 (Dense)            (None, 100)               30100     \n",
            "_________________________________________________________________\n",
            "mc_alpha_dropout_2 (MCAlphaD (None, 100)               0         \n",
            "_________________________________________________________________\n",
            "dense_467 (Dense)            (None, 10)                1010      \n",
            "=================================================================\n",
            "Total params: 266,610\n",
            "Trainable params: 266,610\n",
            "Non-trainable params: 0\n",
            "_________________________________________________________________\n"
          ],
          "name": "stdout"
        }
      ]
    },
    {
      "metadata": {
        "id": "X1a0Pm-mRwOf",
        "colab_type": "code",
        "colab": {}
      },
      "cell_type": "code",
      "source": [
        "optimizer = keras.optimizers.SGD(lr=0.01, momentum=0.9, nesterov=True)\n",
        "mc_model.compile(loss=\"sparse_categorical_crossentropy\", optimizer=optimizer, metrics=[\"accuracy\"])"
      ],
      "execution_count": 0,
      "outputs": []
    },
    {
      "metadata": {
        "id": "i8if1TimRwOg",
        "colab_type": "code",
        "colab": {}
      },
      "cell_type": "code",
      "source": [
        "mc_model.set_weights(model.get_weights())"
      ],
      "execution_count": 0,
      "outputs": []
    },
    {
      "metadata": {
        "id": "Lm2tQFl8RwOi",
        "colab_type": "text"
      },
      "cell_type": "markdown",
      "source": [
        "Now we can use the model with MC Dropout:"
      ]
    },
    {
      "metadata": {
        "id": "BJfbN6EnRwOi",
        "colab_type": "code",
        "outputId": "2045023b-e35c-4f45-d742-fb6aff1988c1",
        "colab": {
          "base_uri": "https://localhost:8080/",
          "height": 54
        }
      },
      "cell_type": "code",
      "source": [
        "np.round(np.mean([mc_model.predict(X_test_scaled[:1]) for sample in range(100)], axis=0), 2)"
      ],
      "execution_count": 0,
      "outputs": [
        {
          "output_type": "execute_result",
          "data": {
            "text/plain": [
              "array([[0.  , 0.  , 0.  , 0.  , 0.  , 0.29, 0.  , 0.14, 0.  , 0.56]],\n",
              "      dtype=float32)"
            ]
          },
          "metadata": {
            "tags": []
          },
          "execution_count": 143
        }
      ]
    },
    {
      "metadata": {
        "id": "Mr7K17QgRwOl",
        "colab_type": "text"
      },
      "cell_type": "markdown",
      "source": [
        "## Max norm"
      ]
    },
    {
      "metadata": {
        "id": "MMP2D3EPRwOm",
        "colab_type": "code",
        "colab": {}
      },
      "cell_type": "code",
      "source": [
        "layer = keras.layers.Dense(100, activation=\"selu\", kernel_initializer=\"lecun_normal\",\n",
        "                           kernel_constraint=keras.constraints.max_norm(1.))"
      ],
      "execution_count": 0,
      "outputs": []
    },
    {
      "metadata": {
        "id": "fkKV4zRGRwOn",
        "colab_type": "code",
        "outputId": "2bd90a9e-6a8f-4c0a-c75a-5ab5200b227b",
        "colab": {
          "base_uri": "https://localhost:8080/",
          "height": 130
        }
      },
      "cell_type": "code",
      "source": [
        "MaxNormDense = partial(keras.layers.Dense,\n",
        "                       activation=\"selu\", kernel_initializer=\"lecun_normal\",\n",
        "                       kernel_constraint=keras.constraints.max_norm(1.))\n",
        "\n",
        "model = keras.models.Sequential([\n",
        "    keras.layers.Flatten(input_shape=[28, 28]),\n",
        "    MaxNormDense(300),\n",
        "    MaxNormDense(100),\n",
        "    keras.layers.Dense(10, activation=\"softmax\")\n",
        "])\n",
        "model.compile(loss=\"sparse_categorical_crossentropy\", optimizer=\"nadam\", metrics=[\"accuracy\"])\n",
        "n_epochs = 2\n",
        "history = model.fit(X_train_scaled, y_train, epochs=n_epochs,\n",
        "                    validation_data=(X_valid_scaled, y_valid))"
      ],
      "execution_count": 0,
      "outputs": [
        {
          "output_type": "stream",
          "text": [
            "Train on 55000 samples, validate on 5000 samples\n",
            "Epoch 1/2\n",
            "55000/55000 [==============================] - 10s 185us/sample - loss: 0.4744 - accuracy: 0.8323 - val_loss: 0.4000 - val_accuracy: 0.8580\n",
            "Epoch 2/2\n",
            "55000/55000 [==============================] - 10s 180us/sample - loss: 0.3559 - accuracy: 0.8697 - val_loss: 0.3655 - val_accuracy: 0.8678\n"
          ],
          "name": "stdout"
        }
      ]
    },
    {
      "metadata": {
        "collapsed": true,
        "id": "bgZb7xtHRwOp",
        "colab_type": "text"
      },
      "cell_type": "markdown",
      "source": [
        "# Exercises"
      ]
    },
    {
      "metadata": {
        "id": "BJNwWlcTRwOp",
        "colab_type": "text"
      },
      "cell_type": "markdown",
      "source": [
        "## 1. to 7."
      ]
    },
    {
      "metadata": {
        "id": "RADuHGa9RwOq",
        "colab_type": "text"
      },
      "cell_type": "markdown",
      "source": [
        "See appendix A."
      ]
    },
    {
      "metadata": {
        "id": "_Fcd19UGRwOq",
        "colab_type": "text"
      },
      "cell_type": "markdown",
      "source": [
        "## 8. Deep Learning"
      ]
    },
    {
      "metadata": {
        "id": "_H6W0S5CRwOr",
        "colab_type": "text"
      },
      "cell_type": "markdown",
      "source": [
        "### 8.1."
      ]
    },
    {
      "metadata": {
        "id": "8vc1_EBsRwOr",
        "colab_type": "text"
      },
      "cell_type": "markdown",
      "source": [
        "_Exercise: Build a DNN with five hidden layers of 100 neurons each, He initialization, and the ELU activation function._"
      ]
    },
    {
      "metadata": {
        "id": "rOSiI7ndRwOr",
        "colab_type": "code",
        "colab": {}
      },
      "cell_type": "code",
      "source": [
        ""
      ],
      "execution_count": 0,
      "outputs": []
    },
    {
      "metadata": {
        "id": "MOGkgx5zRwOt",
        "colab_type": "code",
        "colab": {}
      },
      "cell_type": "code",
      "source": [
        ""
      ],
      "execution_count": 0,
      "outputs": []
    },
    {
      "metadata": {
        "id": "Lebcz_nORwOu",
        "colab_type": "code",
        "colab": {}
      },
      "cell_type": "code",
      "source": [
        ""
      ],
      "execution_count": 0,
      "outputs": []
    },
    {
      "metadata": {
        "id": "9Nh9IP1yRwOw",
        "colab_type": "text"
      },
      "cell_type": "markdown",
      "source": [
        "### 8.2."
      ]
    },
    {
      "metadata": {
        "id": "57LgdDBDRwOx",
        "colab_type": "text"
      },
      "cell_type": "markdown",
      "source": [
        "_Exercise: Using Adam optimization and early stopping, try training it on MNIST but only on digits 0 to 4, as we will use transfer learning for digits 5 to 9 in the next exercise. You will need a softmax output layer with five neurons, and as always make sure to save checkpoints at regular intervals and save the final model so you can reuse it later._"
      ]
    },
    {
      "metadata": {
        "id": "wvvzKP3ARwOx",
        "colab_type": "code",
        "colab": {}
      },
      "cell_type": "code",
      "source": [
        ""
      ],
      "execution_count": 0,
      "outputs": []
    },
    {
      "metadata": {
        "id": "CU9qAB9rRwOz",
        "colab_type": "code",
        "colab": {}
      },
      "cell_type": "code",
      "source": [
        ""
      ],
      "execution_count": 0,
      "outputs": []
    },
    {
      "metadata": {
        "id": "bL5OweDaRwO1",
        "colab_type": "code",
        "colab": {}
      },
      "cell_type": "code",
      "source": [
        ""
      ],
      "execution_count": 0,
      "outputs": []
    },
    {
      "metadata": {
        "id": "LUY8xPquRwO2",
        "colab_type": "text"
      },
      "cell_type": "markdown",
      "source": [
        "### 8.3."
      ]
    },
    {
      "metadata": {
        "id": "KVSMWcSWRwO3",
        "colab_type": "text"
      },
      "cell_type": "markdown",
      "source": [
        "_Exercise: Tune the hyperparameters using cross-validation and see what precision you can achieve._"
      ]
    },
    {
      "metadata": {
        "id": "mO9VUcOJRwO3",
        "colab_type": "code",
        "colab": {}
      },
      "cell_type": "code",
      "source": [
        ""
      ],
      "execution_count": 0,
      "outputs": []
    },
    {
      "metadata": {
        "id": "Fb_pfdmcRwO7",
        "colab_type": "code",
        "colab": {}
      },
      "cell_type": "code",
      "source": [
        ""
      ],
      "execution_count": 0,
      "outputs": []
    },
    {
      "metadata": {
        "id": "CdQm30zxRwO9",
        "colab_type": "code",
        "colab": {}
      },
      "cell_type": "code",
      "source": [
        ""
      ],
      "execution_count": 0,
      "outputs": []
    },
    {
      "metadata": {
        "id": "0fnm1fsmRwO-",
        "colab_type": "text"
      },
      "cell_type": "markdown",
      "source": [
        "### 8.4."
      ]
    },
    {
      "metadata": {
        "id": "g5brSgt2RwPA",
        "colab_type": "text"
      },
      "cell_type": "markdown",
      "source": [
        "_Exercise: Now try adding Batch Normalization and compare the learning curves: is it converging faster than before? Does it produce a better model?_"
      ]
    },
    {
      "metadata": {
        "id": "c59aAxM1RwPB",
        "colab_type": "code",
        "colab": {}
      },
      "cell_type": "code",
      "source": [
        ""
      ],
      "execution_count": 0,
      "outputs": []
    },
    {
      "metadata": {
        "id": "a3c3wrXRRwPD",
        "colab_type": "code",
        "colab": {}
      },
      "cell_type": "code",
      "source": [
        ""
      ],
      "execution_count": 0,
      "outputs": []
    },
    {
      "metadata": {
        "id": "XQoGPEUZRwPF",
        "colab_type": "code",
        "colab": {}
      },
      "cell_type": "code",
      "source": [
        ""
      ],
      "execution_count": 0,
      "outputs": []
    },
    {
      "metadata": {
        "id": "ilcwK_yBRwPH",
        "colab_type": "text"
      },
      "cell_type": "markdown",
      "source": [
        "### 8.5."
      ]
    },
    {
      "metadata": {
        "id": "1V8TebqNRwPH",
        "colab_type": "text"
      },
      "cell_type": "markdown",
      "source": [
        "_Exercise: is the model overfitting the training set? Try adding dropout to every layer and try again. Does it help?_"
      ]
    },
    {
      "metadata": {
        "id": "WI2eFAFKRwPI",
        "colab_type": "code",
        "colab": {}
      },
      "cell_type": "code",
      "source": [
        ""
      ],
      "execution_count": 0,
      "outputs": []
    },
    {
      "metadata": {
        "id": "HmAyc6IHRwPJ",
        "colab_type": "code",
        "colab": {}
      },
      "cell_type": "code",
      "source": [
        ""
      ],
      "execution_count": 0,
      "outputs": []
    },
    {
      "metadata": {
        "id": "JssmzQp2RwPL",
        "colab_type": "code",
        "colab": {}
      },
      "cell_type": "code",
      "source": [
        ""
      ],
      "execution_count": 0,
      "outputs": []
    },
    {
      "metadata": {
        "collapsed": true,
        "id": "o6p5_TJARwPM",
        "colab_type": "text"
      },
      "cell_type": "markdown",
      "source": [
        "## 9. Transfer learning"
      ]
    },
    {
      "metadata": {
        "id": "SRd8WuudRwPO",
        "colab_type": "text"
      },
      "cell_type": "markdown",
      "source": [
        "### 9.1."
      ]
    },
    {
      "metadata": {
        "id": "jHa3S3vfRwPO",
        "colab_type": "text"
      },
      "cell_type": "markdown",
      "source": [
        "_Exercise: create a new DNN that reuses all the pretrained hidden layers of the previous model, freezes them, and replaces the softmax output layer with a new one._"
      ]
    },
    {
      "metadata": {
        "id": "o64oP9WERwPP",
        "colab_type": "code",
        "colab": {}
      },
      "cell_type": "code",
      "source": [
        ""
      ],
      "execution_count": 0,
      "outputs": []
    },
    {
      "metadata": {
        "id": "fsHoIGr3RwPR",
        "colab_type": "code",
        "colab": {}
      },
      "cell_type": "code",
      "source": [
        ""
      ],
      "execution_count": 0,
      "outputs": []
    },
    {
      "metadata": {
        "id": "Y0J-uw6cRwPU",
        "colab_type": "code",
        "colab": {}
      },
      "cell_type": "code",
      "source": [
        ""
      ],
      "execution_count": 0,
      "outputs": []
    },
    {
      "metadata": {
        "id": "G8hHBFwXRwPW",
        "colab_type": "text"
      },
      "cell_type": "markdown",
      "source": [
        "### 9.2."
      ]
    },
    {
      "metadata": {
        "id": "92HoLJuvRwPW",
        "colab_type": "text"
      },
      "cell_type": "markdown",
      "source": [
        "_Exercise: train this new DNN on digits 5 to 9, using only 100 images per digit, and time how long it takes. Despite this small number of examples, can you achieve high precision?_"
      ]
    },
    {
      "metadata": {
        "id": "UgTsAlPURwPX",
        "colab_type": "code",
        "colab": {}
      },
      "cell_type": "code",
      "source": [
        ""
      ],
      "execution_count": 0,
      "outputs": []
    },
    {
      "metadata": {
        "id": "hxjin-lqRwPY",
        "colab_type": "code",
        "colab": {}
      },
      "cell_type": "code",
      "source": [
        ""
      ],
      "execution_count": 0,
      "outputs": []
    },
    {
      "metadata": {
        "id": "wGcmJEAfRwPZ",
        "colab_type": "code",
        "colab": {}
      },
      "cell_type": "code",
      "source": [
        ""
      ],
      "execution_count": 0,
      "outputs": []
    },
    {
      "metadata": {
        "id": "eO6xKjfIRwPc",
        "colab_type": "text"
      },
      "cell_type": "markdown",
      "source": [
        "### 9.3."
      ]
    },
    {
      "metadata": {
        "id": "tpJWqn_2RwPd",
        "colab_type": "text"
      },
      "cell_type": "markdown",
      "source": [
        "_Exercise: try caching the frozen layers, and train the model again: how much faster is it now?_"
      ]
    },
    {
      "metadata": {
        "id": "A60NOT_mRwPd",
        "colab_type": "code",
        "colab": {}
      },
      "cell_type": "code",
      "source": [
        ""
      ],
      "execution_count": 0,
      "outputs": []
    },
    {
      "metadata": {
        "id": "gSdLKB2YRwPf",
        "colab_type": "code",
        "colab": {}
      },
      "cell_type": "code",
      "source": [
        ""
      ],
      "execution_count": 0,
      "outputs": []
    },
    {
      "metadata": {
        "id": "gwSr82PERwPg",
        "colab_type": "code",
        "colab": {}
      },
      "cell_type": "code",
      "source": [
        ""
      ],
      "execution_count": 0,
      "outputs": []
    },
    {
      "metadata": {
        "id": "H6N2bBKkRwPi",
        "colab_type": "text"
      },
      "cell_type": "markdown",
      "source": [
        "### 9.4."
      ]
    },
    {
      "metadata": {
        "id": "1_lOU6pLRwPi",
        "colab_type": "text"
      },
      "cell_type": "markdown",
      "source": [
        "_Exercise: try again reusing just four hidden layers instead of five. Can you achieve a higher precision?_"
      ]
    },
    {
      "metadata": {
        "id": "4YO9MtX8RwPj",
        "colab_type": "code",
        "colab": {}
      },
      "cell_type": "code",
      "source": [
        ""
      ],
      "execution_count": 0,
      "outputs": []
    },
    {
      "metadata": {
        "id": "AtfCPduHRwPk",
        "colab_type": "code",
        "colab": {}
      },
      "cell_type": "code",
      "source": [
        ""
      ],
      "execution_count": 0,
      "outputs": []
    },
    {
      "metadata": {
        "id": "aEsvDP7xRwPm",
        "colab_type": "code",
        "colab": {}
      },
      "cell_type": "code",
      "source": [
        ""
      ],
      "execution_count": 0,
      "outputs": []
    },
    {
      "metadata": {
        "id": "Jy5myoRRRwPn",
        "colab_type": "text"
      },
      "cell_type": "markdown",
      "source": [
        "### 9.5."
      ]
    },
    {
      "metadata": {
        "id": "mXiHBTsyRwPn",
        "colab_type": "text"
      },
      "cell_type": "markdown",
      "source": [
        "_Exercise: now unfreeze the top two hidden layers and continue training: can you get the model to perform even better?_"
      ]
    },
    {
      "metadata": {
        "id": "kkuQaYo_RwPo",
        "colab_type": "code",
        "colab": {}
      },
      "cell_type": "code",
      "source": [
        ""
      ],
      "execution_count": 0,
      "outputs": []
    },
    {
      "metadata": {
        "id": "pTFe4J2iRwPp",
        "colab_type": "code",
        "colab": {}
      },
      "cell_type": "code",
      "source": [
        ""
      ],
      "execution_count": 0,
      "outputs": []
    },
    {
      "metadata": {
        "id": "dYpqV9jnRwPr",
        "colab_type": "code",
        "colab": {}
      },
      "cell_type": "code",
      "source": [
        ""
      ],
      "execution_count": 0,
      "outputs": []
    },
    {
      "metadata": {
        "id": "hQxXEvHaRwPt",
        "colab_type": "text"
      },
      "cell_type": "markdown",
      "source": [
        "## 10. Pretraining on an auxiliary task"
      ]
    },
    {
      "metadata": {
        "id": "P0ryhuW0RwPt",
        "colab_type": "text"
      },
      "cell_type": "markdown",
      "source": [
        "In this exercise you will build a DNN that compares two MNIST digit images and predicts whether they represent the same digit or not. Then you will reuse the lower layers of this network to train an MNIST classifier using very little training data."
      ]
    },
    {
      "metadata": {
        "id": "8SyTadJcRwPt",
        "colab_type": "text"
      },
      "cell_type": "markdown",
      "source": [
        "### 10.1.\n",
        "Exercise: _Start by building two DNNs (let's call them DNN A and B), both similar to the one you built earlier but without the output layer: each DNN should have five hidden layers of 100 neurons each, He initialization, and ELU activation. Next, add one more hidden layer with 10 units on top of both DNNs. You should use the `keras.layers.concatenate()` function to concatenate the outputs of both DNNs, then feed the result to the hidden layer. Finally, add an output layer with a single neuron using the logistic activation function._"
      ]
    },
    {
      "metadata": {
        "id": "JuTtjY6tRwPu",
        "colab_type": "code",
        "colab": {}
      },
      "cell_type": "code",
      "source": [
        ""
      ],
      "execution_count": 0,
      "outputs": []
    },
    {
      "metadata": {
        "id": "QYZaKIviRwPw",
        "colab_type": "code",
        "colab": {}
      },
      "cell_type": "code",
      "source": [
        ""
      ],
      "execution_count": 0,
      "outputs": []
    },
    {
      "metadata": {
        "id": "_oWfvbzgRwPx",
        "colab_type": "code",
        "colab": {}
      },
      "cell_type": "code",
      "source": [
        ""
      ],
      "execution_count": 0,
      "outputs": []
    },
    {
      "metadata": {
        "id": "8dUvqeV1RwPz",
        "colab_type": "text"
      },
      "cell_type": "markdown",
      "source": [
        "### 10.2.\n",
        "_Exercise: split the MNIST training set in two sets: split #1 should containing 55,000 images, and split #2 should contain contain 5,000 images. Create a function that generates a training batch where each instance is a pair of MNIST images picked from split #1. Half of the training instances should be pairs of images that belong to the same class, while the other half should be images from different classes. For each pair, the training label should be 0 if the images are from the same class, or 1 if they are from different classes._"
      ]
    },
    {
      "metadata": {
        "id": "iUDK2oTORwP0",
        "colab_type": "code",
        "colab": {}
      },
      "cell_type": "code",
      "source": [
        ""
      ],
      "execution_count": 0,
      "outputs": []
    },
    {
      "metadata": {
        "id": "i-FhodmoRwP1",
        "colab_type": "code",
        "colab": {}
      },
      "cell_type": "code",
      "source": [
        ""
      ],
      "execution_count": 0,
      "outputs": []
    },
    {
      "metadata": {
        "id": "rbnFP_-LRwP2",
        "colab_type": "code",
        "colab": {}
      },
      "cell_type": "code",
      "source": [
        ""
      ],
      "execution_count": 0,
      "outputs": []
    },
    {
      "metadata": {
        "id": "HcQ_O5WkRwP4",
        "colab_type": "text"
      },
      "cell_type": "markdown",
      "source": [
        "### 10.3.\n",
        "_Exercise: train the DNN on this training set. For each image pair, you can simultaneously feed the first image to DNN A and the second image to DNN B. The whole network will gradually learn to tell whether two images belong to the same class or not._"
      ]
    },
    {
      "metadata": {
        "id": "HRtO0JGdRwP5",
        "colab_type": "code",
        "colab": {}
      },
      "cell_type": "code",
      "source": [
        ""
      ],
      "execution_count": 0,
      "outputs": []
    },
    {
      "metadata": {
        "id": "pjsY17N-RwP6",
        "colab_type": "code",
        "colab": {}
      },
      "cell_type": "code",
      "source": [
        ""
      ],
      "execution_count": 0,
      "outputs": []
    },
    {
      "metadata": {
        "id": "MwA4rU1LRwP9",
        "colab_type": "code",
        "colab": {}
      },
      "cell_type": "code",
      "source": [
        ""
      ],
      "execution_count": 0,
      "outputs": []
    },
    {
      "metadata": {
        "id": "_oCqv7JURwP-",
        "colab_type": "text"
      },
      "cell_type": "markdown",
      "source": [
        "### 10.4.\n",
        "_Exercise: now create a new DNN by reusing and freezing the hidden layers of DNN A and adding a softmax output layer on top with 10 neurons. Train this network on split #2 and see if you can achieve high performance despite having only 500 images per class._"
      ]
    },
    {
      "metadata": {
        "id": "l8_HTpnkRwP_",
        "colab_type": "code",
        "colab": {}
      },
      "cell_type": "code",
      "source": [
        ""
      ],
      "execution_count": 0,
      "outputs": []
    },
    {
      "metadata": {
        "id": "jEjoTLoeRwQA",
        "colab_type": "code",
        "colab": {}
      },
      "cell_type": "code",
      "source": [
        ""
      ],
      "execution_count": 0,
      "outputs": []
    },
    {
      "metadata": {
        "id": "EIqj3SKZRwQC",
        "colab_type": "code",
        "colab": {}
      },
      "cell_type": "code",
      "source": [
        ""
      ],
      "execution_count": 0,
      "outputs": []
    }
  ]
}