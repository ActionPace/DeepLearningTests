{
  "nbformat": 4,
  "nbformat_minor": 0,
  "metadata": {
    "colab": {
      "name": "CNN with Transfer Learning.ipynb",
      "version": "0.3.2",
      "provenance": [],
      "include_colab_link": true
    },
    "kernelspec": {
      "name": "python3",
      "display_name": "Python 3"
    },
    "accelerator": "GPU"
  },
  "cells": [
    {
      "cell_type": "markdown",
      "metadata": {
        "id": "view-in-github",
        "colab_type": "text"
      },
      "source": [
        "<a href=\"https://colab.research.google.com/github/ActionPace/DeepLearningTests/blob/master/CNN_with_Transfer_Learning.ipynb\" target=\"_parent\"><img src=\"https://colab.research.google.com/assets/colab-badge.svg\" alt=\"Open In Colab\"/></a>"
      ]
    },
    {
      "metadata": {
        "id": "CgjOS0AQj0CI",
        "colab_type": "code",
        "outputId": "662d09ad-aee0-4370-f500-eb8a498a5b94",
        "colab": {
          "base_uri": "https://localhost:8080/",
          "height": 35
        }
      },
      "cell_type": "code",
      "source": [
        "import glob\n",
        "import numpy as np\n",
        "import matplotlib.pyplot as plt\n",
        "from keras.preprocessing.image import ImageDataGenerator, load_img, img_to_array, array_to_img\n",
        "\n",
        "%matplotlib inline"
      ],
      "execution_count": 0,
      "outputs": [
        {
          "output_type": "stream",
          "text": [
            "Using TensorFlow backend.\n"
          ],
          "name": "stderr"
        }
      ]
    },
    {
      "metadata": {
        "id": "34lAzdxHj0CP",
        "colab_type": "code",
        "outputId": "171ceac3-81db-4f74-c748-af16fa77dcbb",
        "colab": {
          "base_uri": "https://localhost:8080/",
          "height": 35
        }
      },
      "cell_type": "code",
      "source": [
        "IMG_DIM = (150, 150)\n",
        "\n",
        "train_files = glob.glob('/mnt/TransferLearning/training_data/*')\n",
        "train_imgs = [img_to_array(load_img(img, target_size=IMG_DIM)) for img in train_files]\n",
        "train_imgs = np.array(train_imgs)\n",
        "train_labels = [fn.split('/')[1].split('.')[0].strip() for fn in train_files]\n",
        "\n",
        "validation_files = glob.glob('/mnt/TransferLearning/validation_data/*')\n",
        "validation_imgs = [img_to_array(load_img(img, target_size=IMG_DIM)) for img in validation_files]\n",
        "validation_imgs = np.array(validation_imgs)\n",
        "validation_labels = [fn.split('/')[1].split('.')[0].strip() for fn in validation_files]\n",
        "\n",
        "print('Train dataset shape:', train_imgs.shape, \n",
        "      '\\tValidation dataset shape:', validation_imgs.shape)"
      ],
      "execution_count": 0,
      "outputs": [
        {
          "output_type": "stream",
          "text": [
            "Train dataset shape: (0,) \tValidation dataset shape: (0,)\n"
          ],
          "name": "stdout"
        }
      ]
    },
    {
      "metadata": {
        "id": "rbDDSKCkj0CV",
        "colab_type": "code",
        "colab": {}
      },
      "cell_type": "code",
      "source": [
        "train_imgs_scaled = train_imgs.astype('float32')\n",
        "validation_imgs_scaled = validation_imgs.astype('float32')\n",
        "train_imgs_scaled /= 255\n",
        "validation_imgs_scaled /= 255"
      ],
      "execution_count": 0,
      "outputs": []
    },
    {
      "metadata": {
        "id": "XiWMec0Fj0CZ",
        "colab_type": "code",
        "outputId": "c12ad019-fb0a-4878-dc8c-08b4839bff4d",
        "colab": {
          "base_uri": "https://localhost:8080/",
          "height": 35
        }
      },
      "cell_type": "code",
      "source": [
        "batch_size = 30\n",
        "num_classes = 2\n",
        "epochs = 30\n",
        "input_shape = (150, 150, 3)\n",
        "\n",
        "from sklearn.preprocessing import LabelEncoder\n",
        "\n",
        "le = LabelEncoder()\n",
        "le.fit(train_labels)\n",
        "# encode wine type labels\n",
        "train_labels_enc = le.transform(train_labels)\n",
        "validation_labels_enc = le.transform(validation_labels)\n",
        "\n",
        "print(train_labels[0:5], train_labels_enc[0:5])"
      ],
      "execution_count": 0,
      "outputs": [
        {
          "output_type": "stream",
          "text": [
            "[] []\n"
          ],
          "name": "stdout"
        }
      ]
    },
    {
      "metadata": {
        "id": "AveYORvxj0Ce",
        "colab_type": "code",
        "outputId": "2c9d41f1-2546-47c0-a9f7-a6e7329db6b5",
        "colab": {
          "base_uri": "https://localhost:8080/",
          "height": 939
        }
      },
      "cell_type": "code",
      "source": [
        "from keras.applications import vgg16\n",
        "from keras.models import Model\n",
        "import keras\n",
        "\n",
        "vgg = vgg16.VGG16(include_top=False, weights='imagenet', \n",
        "                                     input_shape=input_shape)\n",
        "\n",
        "output = vgg.layers[-1].output\n",
        "output = keras.layers.Flatten()(output)\n",
        "\n",
        "vgg_model = Model(vgg.input, output)\n",
        "vgg_model.trainable = False\n",
        "\n",
        "for layer in vgg_model.layers:\n",
        "    layer.trainable = False\n",
        "\n",
        "vgg_model.summary()"
      ],
      "execution_count": 0,
      "outputs": [
        {
          "output_type": "stream",
          "text": [
            "WARNING:tensorflow:From /usr/local/lib/python3.6/dist-packages/tensorflow/python/framework/op_def_library.py:263: colocate_with (from tensorflow.python.framework.ops) is deprecated and will be removed in a future version.\n",
            "Instructions for updating:\n",
            "Colocations handled automatically by placer.\n",
            "Downloading data from https://github.com/fchollet/deep-learning-models/releases/download/v0.1/vgg16_weights_tf_dim_ordering_tf_kernels_notop.h5\n",
            "58892288/58889256 [==============================] - 2s 0us/step\n",
            "_________________________________________________________________\n",
            "Layer (type)                 Output Shape              Param #   \n",
            "=================================================================\n",
            "input_1 (InputLayer)         (None, 150, 150, 3)       0         \n",
            "_________________________________________________________________\n",
            "block1_conv1 (Conv2D)        (None, 150, 150, 64)      1792      \n",
            "_________________________________________________________________\n",
            "block1_conv2 (Conv2D)        (None, 150, 150, 64)      36928     \n",
            "_________________________________________________________________\n",
            "block1_pool (MaxPooling2D)   (None, 75, 75, 64)        0         \n",
            "_________________________________________________________________\n",
            "block2_conv1 (Conv2D)        (None, 75, 75, 128)       73856     \n",
            "_________________________________________________________________\n",
            "block2_conv2 (Conv2D)        (None, 75, 75, 128)       147584    \n",
            "_________________________________________________________________\n",
            "block2_pool (MaxPooling2D)   (None, 37, 37, 128)       0         \n",
            "_________________________________________________________________\n",
            "block3_conv1 (Conv2D)        (None, 37, 37, 256)       295168    \n",
            "_________________________________________________________________\n",
            "block3_conv2 (Conv2D)        (None, 37, 37, 256)       590080    \n",
            "_________________________________________________________________\n",
            "block3_conv3 (Conv2D)        (None, 37, 37, 256)       590080    \n",
            "_________________________________________________________________\n",
            "block3_pool (MaxPooling2D)   (None, 18, 18, 256)       0         \n",
            "_________________________________________________________________\n",
            "block4_conv1 (Conv2D)        (None, 18, 18, 512)       1180160   \n",
            "_________________________________________________________________\n",
            "block4_conv2 (Conv2D)        (None, 18, 18, 512)       2359808   \n",
            "_________________________________________________________________\n",
            "block4_conv3 (Conv2D)        (None, 18, 18, 512)       2359808   \n",
            "_________________________________________________________________\n",
            "block4_pool (MaxPooling2D)   (None, 9, 9, 512)         0         \n",
            "_________________________________________________________________\n",
            "block5_conv1 (Conv2D)        (None, 9, 9, 512)         2359808   \n",
            "_________________________________________________________________\n",
            "block5_conv2 (Conv2D)        (None, 9, 9, 512)         2359808   \n",
            "_________________________________________________________________\n",
            "block5_conv3 (Conv2D)        (None, 9, 9, 512)         2359808   \n",
            "_________________________________________________________________\n",
            "block5_pool (MaxPooling2D)   (None, 4, 4, 512)         0         \n",
            "_________________________________________________________________\n",
            "flatten_1 (Flatten)          (None, 8192)              0         \n",
            "=================================================================\n",
            "Total params: 14,714,688\n",
            "Trainable params: 0\n",
            "Non-trainable params: 14,714,688\n",
            "_________________________________________________________________\n"
          ],
          "name": "stdout"
        }
      ]
    },
    {
      "metadata": {
        "id": "6xSEcBJ1j0Ck",
        "colab_type": "code",
        "outputId": "953c5044-b187-4c41-e82f-3e10a1ce5c82",
        "colab": {
          "base_uri": "https://localhost:8080/",
          "height": 662
        }
      },
      "cell_type": "code",
      "source": [
        "import pandas as pd\n",
        "pd.set_option('max_colwidth', -1)\n",
        "\n",
        "layers = [(layer, layer.name, layer.trainable) for layer in vgg_model.layers]\n",
        "pd.DataFrame(layers, columns=['Layer Type', 'Layer Name', 'Layer Trainable'])"
      ],
      "execution_count": 0,
      "outputs": [
        {
          "output_type": "execute_result",
          "data": {
            "text/html": [
              "<div>\n",
              "<style scoped>\n",
              "    .dataframe tbody tr th:only-of-type {\n",
              "        vertical-align: middle;\n",
              "    }\n",
              "\n",
              "    .dataframe tbody tr th {\n",
              "        vertical-align: top;\n",
              "    }\n",
              "\n",
              "    .dataframe thead th {\n",
              "        text-align: right;\n",
              "    }\n",
              "</style>\n",
              "<table border=\"1\" class=\"dataframe\">\n",
              "  <thead>\n",
              "    <tr style=\"text-align: right;\">\n",
              "      <th></th>\n",
              "      <th>Layer Type</th>\n",
              "      <th>Layer Name</th>\n",
              "      <th>Layer Trainable</th>\n",
              "    </tr>\n",
              "  </thead>\n",
              "  <tbody>\n",
              "    <tr>\n",
              "      <th>0</th>\n",
              "      <td>&lt;keras.engine.input_layer.InputLayer object at 0x7f42349b6e10&gt;</td>\n",
              "      <td>input_1</td>\n",
              "      <td>False</td>\n",
              "    </tr>\n",
              "    <tr>\n",
              "      <th>1</th>\n",
              "      <td>&lt;keras.layers.convolutional.Conv2D object at 0x7f42349cf358&gt;</td>\n",
              "      <td>block1_conv1</td>\n",
              "      <td>False</td>\n",
              "    </tr>\n",
              "    <tr>\n",
              "      <th>2</th>\n",
              "      <td>&lt;keras.layers.convolutional.Conv2D object at 0x7f42349cf1d0&gt;</td>\n",
              "      <td>block1_conv2</td>\n",
              "      <td>False</td>\n",
              "    </tr>\n",
              "    <tr>\n",
              "      <th>3</th>\n",
              "      <td>&lt;keras.layers.pooling.MaxPooling2D object at 0x7f4234977a58&gt;</td>\n",
              "      <td>block1_pool</td>\n",
              "      <td>False</td>\n",
              "    </tr>\n",
              "    <tr>\n",
              "      <th>4</th>\n",
              "      <td>&lt;keras.layers.convolutional.Conv2D object at 0x7f42349775c0&gt;</td>\n",
              "      <td>block2_conv1</td>\n",
              "      <td>False</td>\n",
              "    </tr>\n",
              "    <tr>\n",
              "      <th>5</th>\n",
              "      <td>&lt;keras.layers.convolutional.Conv2D object at 0x7f423492d3c8&gt;</td>\n",
              "      <td>block2_conv2</td>\n",
              "      <td>False</td>\n",
              "    </tr>\n",
              "    <tr>\n",
              "      <th>6</th>\n",
              "      <td>&lt;keras.layers.pooling.MaxPooling2D object at 0x7f4234942e80&gt;</td>\n",
              "      <td>block2_pool</td>\n",
              "      <td>False</td>\n",
              "    </tr>\n",
              "    <tr>\n",
              "      <th>7</th>\n",
              "      <td>&lt;keras.layers.convolutional.Conv2D object at 0x7f4234942b00&gt;</td>\n",
              "      <td>block3_conv1</td>\n",
              "      <td>False</td>\n",
              "    </tr>\n",
              "    <tr>\n",
              "      <th>8</th>\n",
              "      <td>&lt;keras.layers.convolutional.Conv2D object at 0x7f42348ee9b0&gt;</td>\n",
              "      <td>block3_conv2</td>\n",
              "      <td>False</td>\n",
              "    </tr>\n",
              "    <tr>\n",
              "      <th>9</th>\n",
              "      <td>&lt;keras.layers.convolutional.Conv2D object at 0x7f42349044e0&gt;</td>\n",
              "      <td>block3_conv3</td>\n",
              "      <td>False</td>\n",
              "    </tr>\n",
              "    <tr>\n",
              "      <th>10</th>\n",
              "      <td>&lt;keras.layers.pooling.MaxPooling2D object at 0x7f42348b49b0&gt;</td>\n",
              "      <td>block3_pool</td>\n",
              "      <td>False</td>\n",
              "    </tr>\n",
              "    <tr>\n",
              "      <th>11</th>\n",
              "      <td>&lt;keras.layers.convolutional.Conv2D object at 0x7f42348b4208&gt;</td>\n",
              "      <td>block4_conv1</td>\n",
              "      <td>False</td>\n",
              "    </tr>\n",
              "    <tr>\n",
              "      <th>12</th>\n",
              "      <td>&lt;keras.layers.convolutional.Conv2D object at 0x7f42348df208&gt;</td>\n",
              "      <td>block4_conv2</td>\n",
              "      <td>False</td>\n",
              "    </tr>\n",
              "    <tr>\n",
              "      <th>13</th>\n",
              "      <td>&lt;keras.layers.convolutional.Conv2D object at 0x7f4234876828&gt;</td>\n",
              "      <td>block4_conv3</td>\n",
              "      <td>False</td>\n",
              "    </tr>\n",
              "    <tr>\n",
              "      <th>14</th>\n",
              "      <td>&lt;keras.layers.pooling.MaxPooling2D object at 0x7f42348a24e0&gt;</td>\n",
              "      <td>block4_pool</td>\n",
              "      <td>False</td>\n",
              "    </tr>\n",
              "    <tr>\n",
              "      <th>15</th>\n",
              "      <td>&lt;keras.layers.convolutional.Conv2D object at 0x7f42348a2710&gt;</td>\n",
              "      <td>block5_conv1</td>\n",
              "      <td>False</td>\n",
              "    </tr>\n",
              "    <tr>\n",
              "      <th>16</th>\n",
              "      <td>&lt;keras.layers.convolutional.Conv2D object at 0x7f423484e198&gt;</td>\n",
              "      <td>block5_conv2</td>\n",
              "      <td>False</td>\n",
              "    </tr>\n",
              "    <tr>\n",
              "      <th>17</th>\n",
              "      <td>&lt;keras.layers.convolutional.Conv2D object at 0x7f42347e57b8&gt;</td>\n",
              "      <td>block5_conv3</td>\n",
              "      <td>False</td>\n",
              "    </tr>\n",
              "    <tr>\n",
              "      <th>18</th>\n",
              "      <td>&lt;keras.layers.pooling.MaxPooling2D object at 0x7f42347fdf28&gt;</td>\n",
              "      <td>block5_pool</td>\n",
              "      <td>False</td>\n",
              "    </tr>\n",
              "    <tr>\n",
              "      <th>19</th>\n",
              "      <td>&lt;keras.layers.core.Flatten object at 0x7f42347a80b8&gt;</td>\n",
              "      <td>flatten_1</td>\n",
              "      <td>False</td>\n",
              "    </tr>\n",
              "  </tbody>\n",
              "</table>\n",
              "</div>"
            ],
            "text/plain": [
              "                                                        Layer Type  \\\n",
              "0   <keras.engine.input_layer.InputLayer object at 0x7f42349b6e10>   \n",
              "1   <keras.layers.convolutional.Conv2D object at 0x7f42349cf358>     \n",
              "2   <keras.layers.convolutional.Conv2D object at 0x7f42349cf1d0>     \n",
              "3   <keras.layers.pooling.MaxPooling2D object at 0x7f4234977a58>     \n",
              "4   <keras.layers.convolutional.Conv2D object at 0x7f42349775c0>     \n",
              "5   <keras.layers.convolutional.Conv2D object at 0x7f423492d3c8>     \n",
              "6   <keras.layers.pooling.MaxPooling2D object at 0x7f4234942e80>     \n",
              "7   <keras.layers.convolutional.Conv2D object at 0x7f4234942b00>     \n",
              "8   <keras.layers.convolutional.Conv2D object at 0x7f42348ee9b0>     \n",
              "9   <keras.layers.convolutional.Conv2D object at 0x7f42349044e0>     \n",
              "10  <keras.layers.pooling.MaxPooling2D object at 0x7f42348b49b0>     \n",
              "11  <keras.layers.convolutional.Conv2D object at 0x7f42348b4208>     \n",
              "12  <keras.layers.convolutional.Conv2D object at 0x7f42348df208>     \n",
              "13  <keras.layers.convolutional.Conv2D object at 0x7f4234876828>     \n",
              "14  <keras.layers.pooling.MaxPooling2D object at 0x7f42348a24e0>     \n",
              "15  <keras.layers.convolutional.Conv2D object at 0x7f42348a2710>     \n",
              "16  <keras.layers.convolutional.Conv2D object at 0x7f423484e198>     \n",
              "17  <keras.layers.convolutional.Conv2D object at 0x7f42347e57b8>     \n",
              "18  <keras.layers.pooling.MaxPooling2D object at 0x7f42347fdf28>     \n",
              "19  <keras.layers.core.Flatten object at 0x7f42347a80b8>             \n",
              "\n",
              "      Layer Name  Layer Trainable  \n",
              "0   input_1       False            \n",
              "1   block1_conv1  False            \n",
              "2   block1_conv2  False            \n",
              "3   block1_pool   False            \n",
              "4   block2_conv1  False            \n",
              "5   block2_conv2  False            \n",
              "6   block2_pool   False            \n",
              "7   block3_conv1  False            \n",
              "8   block3_conv2  False            \n",
              "9   block3_conv3  False            \n",
              "10  block3_pool   False            \n",
              "11  block4_conv1  False            \n",
              "12  block4_conv2  False            \n",
              "13  block4_conv3  False            \n",
              "14  block4_pool   False            \n",
              "15  block5_conv1  False            \n",
              "16  block5_conv2  False            \n",
              "17  block5_conv3  False            \n",
              "18  block5_pool   False            \n",
              "19  flatten_1     False            "
            ]
          },
          "metadata": {
            "tags": []
          },
          "execution_count": 6
        }
      ]
    },
    {
      "metadata": {
        "id": "3VQe2CZoj0Cp",
        "colab_type": "code",
        "outputId": "df70761f-1ebd-4782-c230-aab19a98bf23",
        "colab": {
          "base_uri": "https://localhost:8080/",
          "height": 35
        }
      },
      "cell_type": "code",
      "source": [
        "print(\"Trainable layers:\", vgg_model.trainable_weights)"
      ],
      "execution_count": 0,
      "outputs": [
        {
          "output_type": "stream",
          "text": [
            "Trainable layers: []\n"
          ],
          "name": "stdout"
        }
      ]
    },
    {
      "metadata": {
        "id": "3b9ivjMjj0Cv",
        "colab_type": "code",
        "outputId": "c04f1804-c03b-415d-a759-94dfeab03f52",
        "colab": {
          "base_uri": "https://localhost:8080/",
          "height": 585
        }
      },
      "cell_type": "code",
      "source": [
        "bottleneck_feature_example = vgg.predict(train_imgs_scaled[0:1])\n",
        "print(bottleneck_feature_example.shape)\n",
        "plt.imshow(bottleneck_feature_example[0][:,:,0])"
      ],
      "execution_count": 0,
      "outputs": [
        {
          "output_type": "error",
          "ename": "ValueError",
          "evalue": "ignored",
          "traceback": [
            "\u001b[0;31m---------------------------------------------------------------------------\u001b[0m",
            "\u001b[0;31mValueError\u001b[0m                                Traceback (most recent call last)",
            "\u001b[0;32m<ipython-input-8-67e7d21e16f5>\u001b[0m in \u001b[0;36m<module>\u001b[0;34m()\u001b[0m\n\u001b[0;32m----> 1\u001b[0;31m \u001b[0mbottleneck_feature_example\u001b[0m \u001b[0;34m=\u001b[0m \u001b[0mvgg\u001b[0m\u001b[0;34m.\u001b[0m\u001b[0mpredict\u001b[0m\u001b[0;34m(\u001b[0m\u001b[0mtrain_imgs_scaled\u001b[0m\u001b[0;34m[\u001b[0m\u001b[0;36m0\u001b[0m\u001b[0;34m:\u001b[0m\u001b[0;36m1\u001b[0m\u001b[0;34m]\u001b[0m\u001b[0;34m)\u001b[0m\u001b[0;34m\u001b[0m\u001b[0;34m\u001b[0m\u001b[0m\n\u001b[0m\u001b[1;32m      2\u001b[0m \u001b[0mprint\u001b[0m\u001b[0;34m(\u001b[0m\u001b[0mbottleneck_feature_example\u001b[0m\u001b[0;34m.\u001b[0m\u001b[0mshape\u001b[0m\u001b[0;34m)\u001b[0m\u001b[0;34m\u001b[0m\u001b[0;34m\u001b[0m\u001b[0m\n\u001b[1;32m      3\u001b[0m \u001b[0mplt\u001b[0m\u001b[0;34m.\u001b[0m\u001b[0mimshow\u001b[0m\u001b[0;34m(\u001b[0m\u001b[0mbottleneck_feature_example\u001b[0m\u001b[0;34m[\u001b[0m\u001b[0;36m0\u001b[0m\u001b[0;34m]\u001b[0m\u001b[0;34m[\u001b[0m\u001b[0;34m:\u001b[0m\u001b[0;34m,\u001b[0m\u001b[0;34m:\u001b[0m\u001b[0;34m,\u001b[0m\u001b[0;36m0\u001b[0m\u001b[0;34m]\u001b[0m\u001b[0;34m)\u001b[0m\u001b[0;34m\u001b[0m\u001b[0;34m\u001b[0m\u001b[0m\n",
            "\u001b[0;32m/usr/local/lib/python3.6/dist-packages/keras/engine/training.py\u001b[0m in \u001b[0;36mpredict\u001b[0;34m(self, x, batch_size, verbose, steps)\u001b[0m\n\u001b[1;32m   1147\u001b[0m                              'argument.')\n\u001b[1;32m   1148\u001b[0m         \u001b[0;31m# Validate user data.\u001b[0m\u001b[0;34m\u001b[0m\u001b[0;34m\u001b[0m\u001b[0;34m\u001b[0m\u001b[0m\n\u001b[0;32m-> 1149\u001b[0;31m         \u001b[0mx\u001b[0m\u001b[0;34m,\u001b[0m \u001b[0m_\u001b[0m\u001b[0;34m,\u001b[0m \u001b[0m_\u001b[0m \u001b[0;34m=\u001b[0m \u001b[0mself\u001b[0m\u001b[0;34m.\u001b[0m\u001b[0m_standardize_user_data\u001b[0m\u001b[0;34m(\u001b[0m\u001b[0mx\u001b[0m\u001b[0;34m)\u001b[0m\u001b[0;34m\u001b[0m\u001b[0;34m\u001b[0m\u001b[0m\n\u001b[0m\u001b[1;32m   1150\u001b[0m         \u001b[0;32mif\u001b[0m \u001b[0mself\u001b[0m\u001b[0;34m.\u001b[0m\u001b[0mstateful\u001b[0m\u001b[0;34m:\u001b[0m\u001b[0;34m\u001b[0m\u001b[0;34m\u001b[0m\u001b[0m\n\u001b[1;32m   1151\u001b[0m             \u001b[0;32mif\u001b[0m \u001b[0mx\u001b[0m\u001b[0;34m[\u001b[0m\u001b[0;36m0\u001b[0m\u001b[0;34m]\u001b[0m\u001b[0;34m.\u001b[0m\u001b[0mshape\u001b[0m\u001b[0;34m[\u001b[0m\u001b[0;36m0\u001b[0m\u001b[0;34m]\u001b[0m \u001b[0;34m>\u001b[0m \u001b[0mbatch_size\u001b[0m \u001b[0;32mand\u001b[0m \u001b[0mx\u001b[0m\u001b[0;34m[\u001b[0m\u001b[0;36m0\u001b[0m\u001b[0;34m]\u001b[0m\u001b[0;34m.\u001b[0m\u001b[0mshape\u001b[0m\u001b[0;34m[\u001b[0m\u001b[0;36m0\u001b[0m\u001b[0;34m]\u001b[0m \u001b[0;34m%\u001b[0m \u001b[0mbatch_size\u001b[0m \u001b[0;34m!=\u001b[0m \u001b[0;36m0\u001b[0m\u001b[0;34m:\u001b[0m\u001b[0;34m\u001b[0m\u001b[0;34m\u001b[0m\u001b[0m\n",
            "\u001b[0;32m/usr/local/lib/python3.6/dist-packages/keras/engine/training.py\u001b[0m in \u001b[0;36m_standardize_user_data\u001b[0;34m(self, x, y, sample_weight, class_weight, check_array_lengths, batch_size)\u001b[0m\n\u001b[1;32m    749\u001b[0m             \u001b[0mfeed_input_shapes\u001b[0m\u001b[0;34m,\u001b[0m\u001b[0;34m\u001b[0m\u001b[0;34m\u001b[0m\u001b[0m\n\u001b[1;32m    750\u001b[0m             \u001b[0mcheck_batch_axis\u001b[0m\u001b[0;34m=\u001b[0m\u001b[0;32mFalse\u001b[0m\u001b[0;34m,\u001b[0m  \u001b[0;31m# Don't enforce the batch size.\u001b[0m\u001b[0;34m\u001b[0m\u001b[0;34m\u001b[0m\u001b[0m\n\u001b[0;32m--> 751\u001b[0;31m             exception_prefix='input')\n\u001b[0m\u001b[1;32m    752\u001b[0m \u001b[0;34m\u001b[0m\u001b[0m\n\u001b[1;32m    753\u001b[0m         \u001b[0;32mif\u001b[0m \u001b[0my\u001b[0m \u001b[0;32mis\u001b[0m \u001b[0;32mnot\u001b[0m \u001b[0;32mNone\u001b[0m\u001b[0;34m:\u001b[0m\u001b[0;34m\u001b[0m\u001b[0;34m\u001b[0m\u001b[0m\n",
            "\u001b[0;32m/usr/local/lib/python3.6/dist-packages/keras/engine/training_utils.py\u001b[0m in \u001b[0;36mstandardize_input_data\u001b[0;34m(data, names, shapes, check_batch_axis, exception_prefix)\u001b[0m\n\u001b[1;32m    126\u001b[0m                         \u001b[0;34m': expected '\u001b[0m \u001b[0;34m+\u001b[0m \u001b[0mnames\u001b[0m\u001b[0;34m[\u001b[0m\u001b[0mi\u001b[0m\u001b[0;34m]\u001b[0m \u001b[0;34m+\u001b[0m \u001b[0;34m' to have '\u001b[0m \u001b[0;34m+\u001b[0m\u001b[0;34m\u001b[0m\u001b[0;34m\u001b[0m\u001b[0m\n\u001b[1;32m    127\u001b[0m                         \u001b[0mstr\u001b[0m\u001b[0;34m(\u001b[0m\u001b[0mlen\u001b[0m\u001b[0;34m(\u001b[0m\u001b[0mshape\u001b[0m\u001b[0;34m)\u001b[0m\u001b[0;34m)\u001b[0m \u001b[0;34m+\u001b[0m \u001b[0;34m' dimensions, but got array '\u001b[0m\u001b[0;34m\u001b[0m\u001b[0;34m\u001b[0m\u001b[0m\n\u001b[0;32m--> 128\u001b[0;31m                         'with shape ' + str(data_shape))\n\u001b[0m\u001b[1;32m    129\u001b[0m                 \u001b[0;32mif\u001b[0m \u001b[0;32mnot\u001b[0m \u001b[0mcheck_batch_axis\u001b[0m\u001b[0;34m:\u001b[0m\u001b[0;34m\u001b[0m\u001b[0;34m\u001b[0m\u001b[0m\n\u001b[1;32m    130\u001b[0m                     \u001b[0mdata_shape\u001b[0m \u001b[0;34m=\u001b[0m \u001b[0mdata_shape\u001b[0m\u001b[0;34m[\u001b[0m\u001b[0;36m1\u001b[0m\u001b[0;34m:\u001b[0m\u001b[0;34m]\u001b[0m\u001b[0;34m\u001b[0m\u001b[0;34m\u001b[0m\u001b[0m\n",
            "\u001b[0;31mValueError\u001b[0m: Error when checking input: expected input_1 to have 4 dimensions, but got array with shape (0, 1)"
          ]
        }
      ]
    },
    {
      "metadata": {
        "id": "anpwyo-kj0C1",
        "colab_type": "code",
        "colab": {}
      },
      "cell_type": "code",
      "source": [
        "def get_bottleneck_features(model, input_imgs):\n",
        "    \n",
        "    features = model.predict(input_imgs, verbose=0)\n",
        "    return features"
      ],
      "execution_count": 0,
      "outputs": []
    },
    {
      "metadata": {
        "scrolled": true,
        "id": "vJ4m6DlTj0C6",
        "colab_type": "code",
        "outputId": "f5a33f80-dfe7-416d-f2bd-b0c13c848f82",
        "colab": {
          "base_uri": "https://localhost:8080/",
          "height": 399
        }
      },
      "cell_type": "code",
      "source": [
        "!wget https://s3.amazonaws.com/machinelearningfiles/train-vgg.pkl\n",
        "!wget https://s3.amazonaws.com/machinelearningfiles/validation-vgg.pkl"
      ],
      "execution_count": 0,
      "outputs": [
        {
          "output_type": "stream",
          "text": [
            "--2019-04-16 14:32:42--  https://s3.amazonaws.com/machinelearningfiles/train-vgg.pkl\n",
            "Resolving s3.amazonaws.com (s3.amazonaws.com)... 52.216.169.229\n",
            "Connecting to s3.amazonaws.com (s3.amazonaws.com)|52.216.169.229|:443... connected.\n",
            "HTTP request sent, awaiting response... 200 OK\n",
            "Length: 98304162 (94M) [application/x-www-form-urlencoded]\n",
            "Saving to: ‘train-vgg.pkl’\n",
            "\n",
            "train-vgg.pkl       100%[===================>]  93.75M  29.6MB/s    in 3.2s    \n",
            "\n",
            "2019-04-16 14:32:45 (29.6 MB/s) - ‘train-vgg.pkl’ saved [98304162/98304162]\n",
            "\n",
            "--2019-04-16 14:32:47--  https://s3.amazonaws.com/machinelearningfiles/validation-vgg.pkl\n",
            "Resolving s3.amazonaws.com (s3.amazonaws.com)... 52.216.81.115\n",
            "Connecting to s3.amazonaws.com (s3.amazonaws.com)|52.216.81.115|:443... connected.\n",
            "HTTP request sent, awaiting response... 200 OK\n",
            "Length: 63930530 (61M) [application/x-www-form-urlencoded]\n",
            "Saving to: ‘validation-vgg.pkl’\n",
            "\n",
            "validation-vgg.pkl  100%[===================>]  60.97M  22.3MB/s    in 2.7s    \n",
            "\n",
            "2019-04-16 14:32:50 (22.3 MB/s) - ‘validation-vgg.pkl’ saved [63930530/63930530]\n",
            "\n"
          ],
          "name": "stdout"
        }
      ]
    },
    {
      "metadata": {
        "id": "KZupwXIYj0DA",
        "colab_type": "code",
        "colab": {}
      },
      "cell_type": "code",
      "source": [
        "import pickle\n",
        "with open('train-vgg.pkl', 'rb') as f:\n",
        "    train_features_vgg = pickle.load(f)\n",
        "with open('validation-vgg.pkl', 'rb') as f:\n",
        "    validation_features_vgg = pickle.load(f)"
      ],
      "execution_count": 0,
      "outputs": []
    },
    {
      "metadata": {
        "id": "EyLFJUMYj0DE",
        "colab_type": "code",
        "outputId": "1b0d135e-3b51-4a70-f68f-01c1d5f5b01a",
        "colab": {
          "base_uri": "https://localhost:8080/",
          "height": 35
        }
      },
      "cell_type": "code",
      "source": [
        "#train_features_vgg = get_bottleneck_features(vgg_model, train_imgs_scaled)\n",
        "#validation_features_vgg = get_bottleneck_features(vgg_model, validation_imgs_scaled)\n",
        "\n",
        "print('Train Bottleneck Features:', train_features_vgg.shape, \n",
        "      '\\tValidation Bottleneck Features:', validation_features_vgg.shape)"
      ],
      "execution_count": 0,
      "outputs": [
        {
          "output_type": "stream",
          "text": [
            "Train Bottleneck Features: (3000, 8192) \tValidation Bottleneck Features: (1951, 8192)\n"
          ],
          "name": "stdout"
        }
      ]
    },
    {
      "metadata": {
        "id": "uexU6DaYj0DO",
        "colab_type": "code",
        "colab": {}
      },
      "cell_type": "code",
      "source": [
        "#import pickle\n",
        "#with open('train-vgg.pkl', 'wb') as f:\n",
        "#    pickle.dump(train_features_vgg, f)\n",
        "#with open('validation-vgg.pkl', 'wb') as f:\n",
        "#    pickle.dump(validation_features_vgg, f)"
      ],
      "execution_count": 0,
      "outputs": []
    },
    {
      "metadata": {
        "id": "MMfZl-aTj0DR",
        "colab_type": "code",
        "outputId": "a90e977e-378b-4b68-e0f0-3c1ef414c906",
        "colab": {
          "base_uri": "https://localhost:8080/",
          "height": 384
        }
      },
      "cell_type": "code",
      "source": [
        "from keras.layers import Conv2D, MaxPooling2D, Flatten, Dense, Dropout, InputLayer\n",
        "from keras.models import Sequential\n",
        "from keras import optimizers\n",
        "\n",
        "input_shape = vgg_model.output_shape[1]\n",
        "\n",
        "model = Sequential()\n",
        "model.add(InputLayer(input_shape=(input_shape,)))\n",
        "model.add(Dense(512, activation='relu', input_dim=input_shape))\n",
        "model.add(Dropout(0.3))\n",
        "model.add(Dense(512, activation='relu'))\n",
        "model.add(Dropout(0.3))\n",
        "model.add(Dense(1, activation='sigmoid'))\n",
        "\n",
        "model.compile(loss='binary_crossentropy',\n",
        "              optimizer=optimizers.RMSprop(lr=1e-4),\n",
        "              metrics=['accuracy'])\n",
        "\n",
        "model.summary()"
      ],
      "execution_count": 0,
      "outputs": [
        {
          "output_type": "stream",
          "text": [
            "WARNING:tensorflow:From /usr/local/lib/python3.6/dist-packages/keras/backend/tensorflow_backend.py:3445: calling dropout (from tensorflow.python.ops.nn_ops) with keep_prob is deprecated and will be removed in a future version.\n",
            "Instructions for updating:\n",
            "Please use `rate` instead of `keep_prob`. Rate should be set to `rate = 1 - keep_prob`.\n",
            "_________________________________________________________________\n",
            "Layer (type)                 Output Shape              Param #   \n",
            "=================================================================\n",
            "dense_1 (Dense)              (None, 512)               4194816   \n",
            "_________________________________________________________________\n",
            "dropout_1 (Dropout)          (None, 512)               0         \n",
            "_________________________________________________________________\n",
            "dense_2 (Dense)              (None, 512)               262656    \n",
            "_________________________________________________________________\n",
            "dropout_2 (Dropout)          (None, 512)               0         \n",
            "_________________________________________________________________\n",
            "dense_3 (Dense)              (None, 1)                 513       \n",
            "=================================================================\n",
            "Total params: 4,457,985\n",
            "Trainable params: 4,457,985\n",
            "Non-trainable params: 0\n",
            "_________________________________________________________________\n"
          ],
          "name": "stdout"
        }
      ]
    },
    {
      "metadata": {
        "id": "03rSMt-Bj0DZ",
        "colab_type": "code",
        "outputId": "bd2cd133-32de-4b58-e20a-f4a274b012da",
        "colab": {
          "base_uri": "https://localhost:8080/",
          "height": 585
        }
      },
      "cell_type": "code",
      "source": [
        "history = model.fit(x=train_features_vgg, y=train_labels_enc,\n",
        "                    validation_data=(validation_features_vgg, validation_labels_enc),\n",
        "                    batch_size=batch_size,\n",
        "                    epochs=epochs,\n",
        "                    verbose=1)"
      ],
      "execution_count": 0,
      "outputs": [
        {
          "output_type": "error",
          "ename": "ValueError",
          "evalue": "ignored",
          "traceback": [
            "\u001b[0;31m---------------------------------------------------------------------------\u001b[0m",
            "\u001b[0;31mValueError\u001b[0m                                Traceback (most recent call last)",
            "\u001b[0;32m<ipython-input-14-536d8b284398>\u001b[0m in \u001b[0;36m<module>\u001b[0;34m()\u001b[0m\n\u001b[1;32m      3\u001b[0m                     \u001b[0mbatch_size\u001b[0m\u001b[0;34m=\u001b[0m\u001b[0mbatch_size\u001b[0m\u001b[0;34m,\u001b[0m\u001b[0;34m\u001b[0m\u001b[0;34m\u001b[0m\u001b[0m\n\u001b[1;32m      4\u001b[0m                     \u001b[0mepochs\u001b[0m\u001b[0;34m=\u001b[0m\u001b[0mepochs\u001b[0m\u001b[0;34m,\u001b[0m\u001b[0;34m\u001b[0m\u001b[0;34m\u001b[0m\u001b[0m\n\u001b[0;32m----> 5\u001b[0;31m                     verbose=1)\n\u001b[0m",
            "\u001b[0;32m/usr/local/lib/python3.6/dist-packages/keras/engine/training.py\u001b[0m in \u001b[0;36mfit\u001b[0;34m(self, x, y, batch_size, epochs, verbose, callbacks, validation_split, validation_data, shuffle, class_weight, sample_weight, initial_epoch, steps_per_epoch, validation_steps, **kwargs)\u001b[0m\n\u001b[1;32m    950\u001b[0m             \u001b[0msample_weight\u001b[0m\u001b[0;34m=\u001b[0m\u001b[0msample_weight\u001b[0m\u001b[0;34m,\u001b[0m\u001b[0;34m\u001b[0m\u001b[0;34m\u001b[0m\u001b[0m\n\u001b[1;32m    951\u001b[0m             \u001b[0mclass_weight\u001b[0m\u001b[0;34m=\u001b[0m\u001b[0mclass_weight\u001b[0m\u001b[0;34m,\u001b[0m\u001b[0;34m\u001b[0m\u001b[0;34m\u001b[0m\u001b[0m\n\u001b[0;32m--> 952\u001b[0;31m             batch_size=batch_size)\n\u001b[0m\u001b[1;32m    953\u001b[0m         \u001b[0;31m# Prepare validation data.\u001b[0m\u001b[0;34m\u001b[0m\u001b[0;34m\u001b[0m\u001b[0;34m\u001b[0m\u001b[0m\n\u001b[1;32m    954\u001b[0m         \u001b[0mdo_validation\u001b[0m \u001b[0;34m=\u001b[0m \u001b[0;32mFalse\u001b[0m\u001b[0;34m\u001b[0m\u001b[0;34m\u001b[0m\u001b[0m\n",
            "\u001b[0;32m/usr/local/lib/python3.6/dist-packages/keras/engine/training.py\u001b[0m in \u001b[0;36m_standardize_user_data\u001b[0;34m(self, x, y, sample_weight, class_weight, check_array_lengths, batch_size)\u001b[0m\n\u001b[1;32m    802\u001b[0m             ]\n\u001b[1;32m    803\u001b[0m             \u001b[0;31m# Check that all arrays have the same length.\u001b[0m\u001b[0;34m\u001b[0m\u001b[0;34m\u001b[0m\u001b[0;34m\u001b[0m\u001b[0m\n\u001b[0;32m--> 804\u001b[0;31m             \u001b[0mcheck_array_length_consistency\u001b[0m\u001b[0;34m(\u001b[0m\u001b[0mx\u001b[0m\u001b[0;34m,\u001b[0m \u001b[0my\u001b[0m\u001b[0;34m,\u001b[0m \u001b[0msample_weights\u001b[0m\u001b[0;34m)\u001b[0m\u001b[0;34m\u001b[0m\u001b[0;34m\u001b[0m\u001b[0m\n\u001b[0m\u001b[1;32m    805\u001b[0m             \u001b[0;32mif\u001b[0m \u001b[0mself\u001b[0m\u001b[0;34m.\u001b[0m\u001b[0m_is_graph_network\u001b[0m\u001b[0;34m:\u001b[0m\u001b[0;34m\u001b[0m\u001b[0;34m\u001b[0m\u001b[0m\n\u001b[1;32m    806\u001b[0m                 \u001b[0;31m# Additional checks to avoid users mistakenly\u001b[0m\u001b[0;34m\u001b[0m\u001b[0;34m\u001b[0m\u001b[0;34m\u001b[0m\u001b[0m\n",
            "\u001b[0;32m/usr/local/lib/python3.6/dist-packages/keras/engine/training_utils.py\u001b[0m in \u001b[0;36mcheck_array_length_consistency\u001b[0;34m(inputs, targets, weights)\u001b[0m\n\u001b[1;32m    235\u001b[0m                          \u001b[0;34m'the same number of samples as target arrays. '\u001b[0m\u001b[0;34m\u001b[0m\u001b[0;34m\u001b[0m\u001b[0m\n\u001b[1;32m    236\u001b[0m                          \u001b[0;34m'Found '\u001b[0m \u001b[0;34m+\u001b[0m \u001b[0mstr\u001b[0m\u001b[0;34m(\u001b[0m\u001b[0mlist\u001b[0m\u001b[0;34m(\u001b[0m\u001b[0mset_x\u001b[0m\u001b[0;34m)\u001b[0m\u001b[0;34m[\u001b[0m\u001b[0;36m0\u001b[0m\u001b[0;34m]\u001b[0m\u001b[0;34m)\u001b[0m \u001b[0;34m+\u001b[0m \u001b[0;34m' input samples '\u001b[0m\u001b[0;34m\u001b[0m\u001b[0;34m\u001b[0m\u001b[0m\n\u001b[0;32m--> 237\u001b[0;31m                          'and ' + str(list(set_y)[0]) + ' target samples.')\n\u001b[0m\u001b[1;32m    238\u001b[0m     \u001b[0;32mif\u001b[0m \u001b[0mlen\u001b[0m\u001b[0;34m(\u001b[0m\u001b[0mset_w\u001b[0m\u001b[0;34m)\u001b[0m \u001b[0;34m>\u001b[0m \u001b[0;36m1\u001b[0m\u001b[0;34m:\u001b[0m\u001b[0;34m\u001b[0m\u001b[0;34m\u001b[0m\u001b[0m\n\u001b[1;32m    239\u001b[0m         raise ValueError('All sample_weight arrays should have '\n",
            "\u001b[0;31mValueError\u001b[0m: Input arrays should have the same number of samples as target arrays. Found 3000 input samples and 0 target samples."
          ]
        }
      ]
    },
    {
      "metadata": {
        "id": "cj9TNNmkj0Dh",
        "colab_type": "code",
        "outputId": "dc89d838-e5bc-46b2-ba27-f94e688fad42",
        "colab": {}
      },
      "cell_type": "code",
      "source": [
        "f, (ax1, ax2) = plt.subplots(1, 2, figsize=(12, 4))\n",
        "t = f.suptitle('Pre-trained CNN (Transfer Learning) Performance', fontsize=12)\n",
        "f.subplots_adjust(top=0.85, wspace=0.3)\n",
        "\n",
        "epoch_list = list(range(1,31))\n",
        "ax1.plot(epoch_list, history.history['acc'], label='Train Accuracy')\n",
        "ax1.plot(epoch_list, history.history['val_acc'], label='Validation Accuracy')\n",
        "ax1.set_xticks(np.arange(0, 31, 5))\n",
        "ax1.set_ylabel('Accuracy Value')\n",
        "ax1.set_xlabel('Epoch')\n",
        "ax1.set_title('Accuracy')\n",
        "l1 = ax1.legend(loc=\"best\")\n",
        "\n",
        "ax2.plot(epoch_list, history.history['loss'], label='Train Loss')\n",
        "ax2.plot(epoch_list, history.history['val_loss'], label='Validation Loss')\n",
        "ax2.set_xticks(np.arange(0, 31, 5))\n",
        "ax2.set_ylabel('Loss Value')\n",
        "ax2.set_xlabel('Epoch')\n",
        "ax2.set_title('Loss')\n",
        "l2 = ax2.legend(loc=\"best\")"
      ],
      "execution_count": 0,
      "outputs": [
        {
          "output_type": "display_data",
          "data": {
            "image/png": "[encoded data removed]",
            "text/plain": [
              "<Figure size 864x288 with 2 Axes>"
            ]
          },
          "metadata": {
            "tags": [],
            "needs_background": "light"
          }
        }
      ]
    },
    {
      "metadata": {
        "id": "97Gg1kDMj0Dn",
        "colab_type": "code",
        "colab": {}
      },
      "cell_type": "code",
      "source": [
        "model.save('cats_dogs_tlearn_basic_cnn.h5')"
      ],
      "execution_count": 0,
      "outputs": []
    },
    {
      "metadata": {
        "id": "0FDoab6Nj0Dr",
        "colab_type": "code",
        "colab": {}
      },
      "cell_type": "code",
      "source": [
        "train_datagen = ImageDataGenerator(rescale=1./255, zoom_range=0.3, rotation_range=50,\n",
        "                                   width_shift_range=0.2, height_shift_range=0.2, shear_range=0.2, \n",
        "                                   horizontal_flip=True, fill_mode='nearest')\n",
        "\n",
        "val_datagen = ImageDataGenerator(rescale=1./255)\n",
        "\n",
        "train_generator = train_datagen.flow(train_imgs, train_labels_enc, batch_size=30)\n",
        "val_generator = val_datagen.flow(validation_imgs, validation_labels_enc, batch_size=20)"
      ],
      "execution_count": 0,
      "outputs": []
    },
    {
      "metadata": {
        "id": "OhnqPGl8j0Dv",
        "colab_type": "code",
        "outputId": "7a34a864-a6a3-4c78-9f5d-38bf6a9b31e0",
        "colab": {}
      },
      "cell_type": "code",
      "source": [
        "from keras.layers import Conv2D, MaxPooling2D, Flatten, Dense, Dropout, InputLayer\n",
        "from keras.models import Sequential\n",
        "from keras import optimizers\n",
        "\n",
        "model = Sequential()\n",
        "model.add(vgg_model)\n",
        "model.add(Dense(512, activation='relu', input_dim=input_shape))\n",
        "model.add(Dropout(0.3))\n",
        "model.add(Dense(512, activation='relu'))\n",
        "model.add(Dropout(0.3))\n",
        "model.add(Dense(1, activation='sigmoid'))\n",
        "\n",
        "model.compile(loss='binary_crossentropy',\n",
        "              optimizer=optimizers.RMSprop(lr=2e-5),\n",
        "              metrics=['accuracy'])\n",
        "\n",
        "model.summary()"
      ],
      "execution_count": 0,
      "outputs": [
        {
          "output_type": "stream",
          "text": [
            "_________________________________________________________________\n",
            "Layer (type)                 Output Shape              Param #   \n",
            "=================================================================\n",
            "model_1 (Model)              (None, 8192)              14714688  \n",
            "_________________________________________________________________\n",
            "dense_4 (Dense)              (None, 512)               4194816   \n",
            "_________________________________________________________________\n",
            "dropout_3 (Dropout)          (None, 512)               0         \n",
            "_________________________________________________________________\n",
            "dense_5 (Dense)              (None, 512)               262656    \n",
            "_________________________________________________________________\n",
            "dropout_4 (Dropout)          (None, 512)               0         \n",
            "_________________________________________________________________\n",
            "dense_6 (Dense)              (None, 1)                 513       \n",
            "=================================================================\n",
            "Total params: 19,172,673\n",
            "Trainable params: 4,457,985\n",
            "Non-trainable params: 14,714,688\n",
            "_________________________________________________________________\n"
          ],
          "name": "stdout"
        }
      ]
    },
    {
      "metadata": {
        "id": "ZnRLybi2j0D1",
        "colab_type": "code",
        "outputId": "cb16a2d7-5784-49dd-c03e-07c0133f54b1",
        "colab": {}
      },
      "cell_type": "code",
      "source": [
        "history = model.fit_generator(train_generator, steps_per_epoch=100, epochs=100,\n",
        "                              validation_data=val_generator, validation_steps=50, verbose=1)"
      ],
      "execution_count": 0,
      "outputs": [
        {
          "output_type": "stream",
          "text": [
            "Epoch 1/100\n",
            " 76/100 [=====================>........] - ETA: 1:15 - loss: 0.0309 - acc: 0.9965"
          ],
          "name": "stdout"
        }
      ]
    },
    {
      "metadata": {
        "id": "Y3DAJeEEj0EB",
        "colab_type": "code",
        "colab": {}
      },
      "cell_type": "code",
      "source": [
        "f, (ax1, ax2) = plt.subplots(1, 2, figsize=(12, 4))\n",
        "t = f.suptitle('Pre-trained CNN (Transfer Learning) with Image Augmentation Performance', fontsize=12)\n",
        "f.subplots_adjust(top=0.85, wspace=0.3)\n",
        "\n",
        "epoch_list = list(range(1,101))\n",
        "ax1.plot(epoch_list, history.history['acc'], label='Train Accuracy')\n",
        "ax1.plot(epoch_list, history.history['val_acc'], label='Validation Accuracy')\n",
        "ax1.set_xticks(np.arange(0, 101, 10))\n",
        "ax1.set_ylabel('Accuracy Value')\n",
        "ax1.set_xlabel('Epoch')\n",
        "ax1.set_title('Accuracy')\n",
        "l1 = ax1.legend(loc=\"best\")\n",
        "\n",
        "ax2.plot(epoch_list, history.history['loss'], label='Train Loss')\n",
        "ax2.plot(epoch_list, history.history['val_loss'], label='Validation Loss')\n",
        "ax2.set_xticks(np.arange(0, 101, 10))\n",
        "ax2.set_ylabel('Loss Value')\n",
        "ax2.set_xlabel('Epoch')\n",
        "ax2.set_title('Loss')\n",
        "l2 = ax2.legend(loc=\"best\")"
      ],
      "execution_count": 0,
      "outputs": []
    },
    {
      "metadata": {
        "id": "jAEr6Gtyj0EF",
        "colab_type": "code",
        "colab": {}
      },
      "cell_type": "code",
      "source": [
        "model.save('cats_dogs_tlearn_img_aug_cnn.h5')"
      ],
      "execution_count": 0,
      "outputs": []
    },
    {
      "metadata": {
        "id": "4ATi2dhzj0EI",
        "colab_type": "code",
        "outputId": "26199a06-0afa-485f-87d2-b7fa9f87ed8d",
        "colab": {}
      },
      "cell_type": "code",
      "source": [
        "vgg_model.trainable = True\n",
        "\n",
        "set_trainable = False\n",
        "for layer in vgg_model.layers:\n",
        "    if layer.name in ['block5_conv1', 'block4_conv1']:\n",
        "        set_trainable = True\n",
        "    if set_trainable:\n",
        "        layer.trainable = True\n",
        "    else:\n",
        "        layer.trainable = False\n",
        "        \n",
        "print(\"Trainable layers:\", vgg_model.trainable_weights)"
      ],
      "execution_count": 0,
      "outputs": [
        {
          "output_type": "stream",
          "text": [
            "Trainable layers: [<tf.Variable 'block4_conv1/kernel:0' shape=(3, 3, 256, 512) dtype=float32_ref>, <tf.Variable 'block4_conv1/bias:0' shape=(512,) dtype=float32_ref>, <tf.Variable 'block4_conv2/kernel:0' shape=(3, 3, 512, 512) dtype=float32_ref>, <tf.Variable 'block4_conv2/bias:0' shape=(512,) dtype=float32_ref>, <tf.Variable 'block4_conv3/kernel:0' shape=(3, 3, 512, 512) dtype=float32_ref>, <tf.Variable 'block4_conv3/bias:0' shape=(512,) dtype=float32_ref>, <tf.Variable 'block5_conv1/kernel:0' shape=(3, 3, 512, 512) dtype=float32_ref>, <tf.Variable 'block5_conv1/bias:0' shape=(512,) dtype=float32_ref>, <tf.Variable 'block5_conv2/kernel:0' shape=(3, 3, 512, 512) dtype=float32_ref>, <tf.Variable 'block5_conv2/bias:0' shape=(512,) dtype=float32_ref>, <tf.Variable 'block5_conv3/kernel:0' shape=(3, 3, 512, 512) dtype=float32_ref>, <tf.Variable 'block5_conv3/bias:0' shape=(512,) dtype=float32_ref>]\n"
          ],
          "name": "stdout"
        }
      ]
    },
    {
      "metadata": {
        "id": "p7NHC77Tj0EN",
        "colab_type": "code",
        "outputId": "a1c25e58-396d-43a3-b27b-decd30155877",
        "colab": {}
      },
      "cell_type": "code",
      "source": [
        "layers = [(layer, layer.name, layer.trainable) for layer in vgg_model.layers]\n",
        "pd.DataFrame(layers, columns=['Layer Type', 'Layer Name', 'Layer Trainable'])"
      ],
      "execution_count": 0,
      "outputs": [
        {
          "output_type": "execute_result",
          "data": {
            "text/html": [
              "<div>\n",
              "<style>\n",
              "    .dataframe thead tr:only-child th {\n",
              "        text-align: right;\n",
              "    }\n",
              "\n",
              "    .dataframe thead th {\n",
              "        text-align: left;\n",
              "    }\n",
              "\n",
              "    .dataframe tbody tr th {\n",
              "        vertical-align: top;\n",
              "    }\n",
              "</style>\n",
              "<table border=\"1\" class=\"dataframe\">\n",
              "  <thead>\n",
              "    <tr style=\"text-align: right;\">\n",
              "      <th></th>\n",
              "      <th>Layer Type</th>\n",
              "      <th>Layer Name</th>\n",
              "      <th>Layer Trainable</th>\n",
              "    </tr>\n",
              "  </thead>\n",
              "  <tbody>\n",
              "    <tr>\n",
              "      <th>0</th>\n",
              "      <td>&lt;keras.engine.topology.InputLayer object at 0x7f26c86b2518&gt;</td>\n",
              "      <td>input_1</td>\n",
              "      <td>False</td>\n",
              "    </tr>\n",
              "    <tr>\n",
              "      <th>1</th>\n",
              "      <td>&lt;keras.layers.convolutional.Conv2D object at 0x7f277c9fc080&gt;</td>\n",
              "      <td>block1_conv1</td>\n",
              "      <td>False</td>\n",
              "    </tr>\n",
              "    <tr>\n",
              "      <th>2</th>\n",
              "      <td>&lt;keras.layers.convolutional.Conv2D object at 0x7f26c86b26d8&gt;</td>\n",
              "      <td>block1_conv2</td>\n",
              "      <td>False</td>\n",
              "    </tr>\n",
              "    <tr>\n",
              "      <th>3</th>\n",
              "      <td>&lt;keras.layers.pooling.MaxPooling2D object at 0x7f26c86e6c88&gt;</td>\n",
              "      <td>block1_pool</td>\n",
              "      <td>False</td>\n",
              "    </tr>\n",
              "    <tr>\n",
              "      <th>4</th>\n",
              "      <td>&lt;keras.layers.convolutional.Conv2D object at 0x7f26c867dc18&gt;</td>\n",
              "      <td>block2_conv1</td>\n",
              "      <td>False</td>\n",
              "    </tr>\n",
              "    <tr>\n",
              "      <th>5</th>\n",
              "      <td>&lt;keras.layers.convolutional.Conv2D object at 0x7f26c8690f28&gt;</td>\n",
              "      <td>block2_conv2</td>\n",
              "      <td>False</td>\n",
              "    </tr>\n",
              "    <tr>\n",
              "      <th>6</th>\n",
              "      <td>&lt;keras.layers.pooling.MaxPooling2D object at 0x7f26c869e5c0&gt;</td>\n",
              "      <td>block2_pool</td>\n",
              "      <td>False</td>\n",
              "    </tr>\n",
              "    <tr>\n",
              "      <th>7</th>\n",
              "      <td>&lt;keras.layers.convolutional.Conv2D object at 0x7f26c863f828&gt;</td>\n",
              "      <td>block3_conv1</td>\n",
              "      <td>False</td>\n",
              "    </tr>\n",
              "    <tr>\n",
              "      <th>8</th>\n",
              "      <td>&lt;keras.layers.convolutional.Conv2D object at 0x7f26c863f128&gt;</td>\n",
              "      <td>block3_conv2</td>\n",
              "      <td>False</td>\n",
              "    </tr>\n",
              "    <tr>\n",
              "      <th>9</th>\n",
              "      <td>&lt;keras.layers.convolutional.Conv2D object at 0x7f26c86607b8&gt;</td>\n",
              "      <td>block3_conv3</td>\n",
              "      <td>False</td>\n",
              "    </tr>\n",
              "    <tr>\n",
              "      <th>10</th>\n",
              "      <td>&lt;keras.layers.pooling.MaxPooling2D object at 0x7f26c83d7d68&gt;</td>\n",
              "      <td>block3_pool</td>\n",
              "      <td>False</td>\n",
              "    </tr>\n",
              "    <tr>\n",
              "      <th>11</th>\n",
              "      <td>&lt;keras.layers.convolutional.Conv2D object at 0x7f26c83fd358&gt;</td>\n",
              "      <td>block4_conv1</td>\n",
              "      <td>True</td>\n",
              "    </tr>\n",
              "    <tr>\n",
              "      <th>12</th>\n",
              "      <td>&lt;keras.layers.convolutional.Conv2D object at 0x7f26c83fddd8&gt;</td>\n",
              "      <td>block4_conv2</td>\n",
              "      <td>True</td>\n",
              "    </tr>\n",
              "    <tr>\n",
              "      <th>13</th>\n",
              "      <td>&lt;keras.layers.convolutional.Conv2D object at 0x7f26c839da20&gt;</td>\n",
              "      <td>block4_conv3</td>\n",
              "      <td>True</td>\n",
              "    </tr>\n",
              "    <tr>\n",
              "      <th>14</th>\n",
              "      <td>&lt;keras.layers.pooling.MaxPooling2D object at 0x7f26c83ac1d0&gt;</td>\n",
              "      <td>block4_pool</td>\n",
              "      <td>True</td>\n",
              "    </tr>\n",
              "    <tr>\n",
              "      <th>15</th>\n",
              "      <td>&lt;keras.layers.convolutional.Conv2D object at 0x7f26c834e978&gt;</td>\n",
              "      <td>block5_conv1</td>\n",
              "      <td>True</td>\n",
              "    </tr>\n",
              "    <tr>\n",
              "      <th>16</th>\n",
              "      <td>&lt;keras.layers.convolutional.Conv2D object at 0x7f271a15eb38&gt;</td>\n",
              "      <td>block5_conv2</td>\n",
              "      <td>True</td>\n",
              "    </tr>\n",
              "    <tr>\n",
              "      <th>17</th>\n",
              "      <td>&lt;keras.layers.convolutional.Conv2D object at 0x7f26c8371d68&gt;</td>\n",
              "      <td>block5_conv3</td>\n",
              "      <td>True</td>\n",
              "    </tr>\n",
              "    <tr>\n",
              "      <th>18</th>\n",
              "      <td>&lt;keras.layers.pooling.MaxPooling2D object at 0x7f26c8314b00&gt;</td>\n",
              "      <td>block5_pool</td>\n",
              "      <td>True</td>\n",
              "    </tr>\n",
              "    <tr>\n",
              "      <th>19</th>\n",
              "      <td>&lt;keras.layers.core.Flatten object at 0x7f26c828bda0&gt;</td>\n",
              "      <td>flatten_1</td>\n",
              "      <td>True</td>\n",
              "    </tr>\n",
              "  </tbody>\n",
              "</table>\n",
              "</div>"
            ],
            "text/plain": [
              "                                                      Layer Type  \\\n",
              "0   <keras.engine.topology.InputLayer object at 0x7f26c86b2518>    \n",
              "1   <keras.layers.convolutional.Conv2D object at 0x7f277c9fc080>   \n",
              "2   <keras.layers.convolutional.Conv2D object at 0x7f26c86b26d8>   \n",
              "3   <keras.layers.pooling.MaxPooling2D object at 0x7f26c86e6c88>   \n",
              "4   <keras.layers.convolutional.Conv2D object at 0x7f26c867dc18>   \n",
              "5   <keras.layers.convolutional.Conv2D object at 0x7f26c8690f28>   \n",
              "6   <keras.layers.pooling.MaxPooling2D object at 0x7f26c869e5c0>   \n",
              "7   <keras.layers.convolutional.Conv2D object at 0x7f26c863f828>   \n",
              "8   <keras.layers.convolutional.Conv2D object at 0x7f26c863f128>   \n",
              "9   <keras.layers.convolutional.Conv2D object at 0x7f26c86607b8>   \n",
              "10  <keras.layers.pooling.MaxPooling2D object at 0x7f26c83d7d68>   \n",
              "11  <keras.layers.convolutional.Conv2D object at 0x7f26c83fd358>   \n",
              "12  <keras.layers.convolutional.Conv2D object at 0x7f26c83fddd8>   \n",
              "13  <keras.layers.convolutional.Conv2D object at 0x7f26c839da20>   \n",
              "14  <keras.layers.pooling.MaxPooling2D object at 0x7f26c83ac1d0>   \n",
              "15  <keras.layers.convolutional.Conv2D object at 0x7f26c834e978>   \n",
              "16  <keras.layers.convolutional.Conv2D object at 0x7f271a15eb38>   \n",
              "17  <keras.layers.convolutional.Conv2D object at 0x7f26c8371d68>   \n",
              "18  <keras.layers.pooling.MaxPooling2D object at 0x7f26c8314b00>   \n",
              "19  <keras.layers.core.Flatten object at 0x7f26c828bda0>           \n",
              "\n",
              "      Layer Name  Layer Trainable  \n",
              "0   input_1       False            \n",
              "1   block1_conv1  False            \n",
              "2   block1_conv2  False            \n",
              "3   block1_pool   False            \n",
              "4   block2_conv1  False            \n",
              "5   block2_conv2  False            \n",
              "6   block2_pool   False            \n",
              "7   block3_conv1  False            \n",
              "8   block3_conv2  False            \n",
              "9   block3_conv3  False            \n",
              "10  block3_pool   False            \n",
              "11  block4_conv1  True             \n",
              "12  block4_conv2  True             \n",
              "13  block4_conv3  True             \n",
              "14  block4_pool   True             \n",
              "15  block5_conv1  True             \n",
              "16  block5_conv2  True             \n",
              "17  block5_conv3  True             \n",
              "18  block5_pool   True             \n",
              "19  flatten_1     True             "
            ]
          },
          "metadata": {
            "tags": []
          },
          "execution_count": 21
        }
      ]
    },
    {
      "metadata": {
        "id": "4akGA_3fj0ER",
        "colab_type": "code",
        "colab": {}
      },
      "cell_type": "code",
      "source": [
        "train_datagen = ImageDataGenerator(rescale=1./255, zoom_range=0.3, rotation_range=50,\n",
        "                                   width_shift_range=0.2, height_shift_range=0.2, shear_range=0.2, \n",
        "                                   horizontal_flip=True, fill_mode='nearest')\n",
        "\n",
        "val_datagen = ImageDataGenerator(rescale=1./255)\n",
        "\n",
        "train_generator = train_datagen.flow(train_imgs, train_labels_enc, batch_size=30)\n",
        "val_generator = val_datagen.flow(validation_imgs, validation_labels_enc, batch_size=20)"
      ],
      "execution_count": 0,
      "outputs": []
    },
    {
      "metadata": {
        "id": "6W457XuTj0EV",
        "colab_type": "code",
        "outputId": "6388620f-accc-44be-c9fe-c88cc3fe4093",
        "colab": {}
      },
      "cell_type": "code",
      "source": [
        "from keras.layers import Conv2D, MaxPooling2D, Flatten, Dense, Dropout, InputLayer\n",
        "from keras.models import Sequential\n",
        "from keras import optimizers\n",
        "\n",
        "model = Sequential()\n",
        "model.add(vgg_model)\n",
        "model.add(Dense(512, activation='relu', input_dim=input_shape))\n",
        "model.add(Dropout(0.3))\n",
        "model.add(Dense(512, activation='relu'))\n",
        "model.add(Dropout(0.3))\n",
        "model.add(Dense(1, activation='sigmoid'))\n",
        "\n",
        "model.compile(loss='binary_crossentropy',\n",
        "              optimizer=optimizers.RMSprop(lr=1e-5),\n",
        "              metrics=['accuracy'])\n",
        "\n",
        "model.summary()"
      ],
      "execution_count": 0,
      "outputs": [
        {
          "output_type": "stream",
          "text": [
            "_________________________________________________________________\n",
            "Layer (type)                 Output Shape              Param #   \n",
            "=================================================================\n",
            "model_1 (Model)              (None, 8192)              14714688  \n",
            "_________________________________________________________________\n",
            "dense_7 (Dense)              (None, 512)               4194816   \n",
            "_________________________________________________________________\n",
            "dropout_5 (Dropout)          (None, 512)               0         \n",
            "_________________________________________________________________\n",
            "dense_8 (Dense)              (None, 512)               262656    \n",
            "_________________________________________________________________\n",
            "dropout_6 (Dropout)          (None, 512)               0         \n",
            "_________________________________________________________________\n",
            "dense_9 (Dense)              (None, 1)                 513       \n",
            "=================================================================\n",
            "Total params: 19,172,673\n",
            "Trainable params: 17,437,185\n",
            "Non-trainable params: 1,735,488\n",
            "_________________________________________________________________\n"
          ],
          "name": "stdout"
        }
      ]
    },
    {
      "metadata": {
        "id": "fUjVdCjOj0Ea",
        "colab_type": "code",
        "outputId": "00734c11-a2e9-4e81-8a6a-0a25ab813d20",
        "colab": {}
      },
      "cell_type": "code",
      "source": [
        "history = model.fit_generator(train_generator, steps_per_epoch=100, epochs=100,\n",
        "                              validation_data=val_generator, validation_steps=50, verbose=1)"
      ],
      "execution_count": 0,
      "outputs": [
        {
          "output_type": "stream",
          "text": [
            "Epoch 1/100\n",
            "100/100 [==============================] - 64s 642ms/step - loss: 0.6070 - acc: 0.6547 - val_loss: 0.4029 - val_acc: 0.8250\n",
            "Epoch 2/100\n",
            "100/100 [==============================] - 63s 630ms/step - loss: 0.3976 - acc: 0.8103 - val_loss: 0.2273 - val_acc: 0.9030\n",
            "Epoch 3/100\n",
            "100/100 [==============================] - 63s 631ms/step - loss: 0.3440 - acc: 0.8530 - val_loss: 0.2221 - val_acc: 0.9150\n",
            "Epoch 4/100\n",
            "100/100 [==============================] - 63s 630ms/step - loss: 0.2948 - acc: 0.8773 - val_loss: 0.2226 - val_acc: 0.9170\n",
            "Epoch 5/100\n",
            "100/100 [==============================] - 63s 631ms/step - loss: 0.2514 - acc: 0.8933 - val_loss: 0.1539 - val_acc: 0.9440\n",
            "Epoch 6/100\n",
            "100/100 [==============================] - 63s 630ms/step - loss: 0.2396 - acc: 0.8980 - val_loss: 0.2022 - val_acc: 0.9290\n",
            "Epoch 7/100\n",
            "100/100 [==============================] - 63s 631ms/step - loss: 0.2209 - acc: 0.9107 - val_loss: 0.1316 - val_acc: 0.9460\n",
            "Epoch 8/100\n",
            "100/100 [==============================] - 63s 630ms/step - loss: 0.2143 - acc: 0.9180 - val_loss: 0.1362 - val_acc: 0.9530\n",
            "Epoch 9/100\n",
            "100/100 [==============================] - 63s 631ms/step - loss: 0.1908 - acc: 0.9277 - val_loss: 0.1713 - val_acc: 0.9410\n",
            "Epoch 10/100\n",
            "100/100 [==============================] - 63s 630ms/step - loss: 0.1893 - acc: 0.9233 - val_loss: 0.1211 - val_acc: 0.9540\n",
            "Epoch 11/100\n",
            "100/100 [==============================] - 63s 632ms/step - loss: 0.1688 - acc: 0.9337 - val_loss: 0.1256 - val_acc: 0.9480\n",
            "Epoch 12/100\n",
            "100/100 [==============================] - 63s 629ms/step - loss: 0.1586 - acc: 0.9310 - val_loss: 0.1481 - val_acc: 0.9470\n",
            "Epoch 13/100\n",
            "100/100 [==============================] - 63s 631ms/step - loss: 0.1431 - acc: 0.9423 - val_loss: 0.1526 - val_acc: 0.9440\n",
            "Epoch 14/100\n",
            "100/100 [==============================] - 63s 630ms/step - loss: 0.1520 - acc: 0.9397 - val_loss: 0.4011 - val_acc: 0.8820\n",
            "Epoch 15/100\n",
            "100/100 [==============================] - 63s 631ms/step - loss: 0.1299 - acc: 0.9483 - val_loss: 0.1051 - val_acc: 0.9610\n",
            "Epoch 16/100\n",
            "100/100 [==============================] - 63s 631ms/step - loss: 0.1298 - acc: 0.9437 - val_loss: 0.1191 - val_acc: 0.9560\n",
            "Epoch 17/100\n",
            "100/100 [==============================] - 63s 631ms/step - loss: 0.1203 - acc: 0.9527 - val_loss: 0.1511 - val_acc: 0.9520\n",
            "Epoch 18/100\n",
            "100/100 [==============================] - 63s 630ms/step - loss: 0.1234 - acc: 0.9487 - val_loss: 0.1937 - val_acc: 0.9390\n",
            "Epoch 19/100\n",
            "100/100 [==============================] - 63s 631ms/step - loss: 0.1095 - acc: 0.9573 - val_loss: 0.1352 - val_acc: 0.9550\n",
            "Epoch 20/100\n",
            "100/100 [==============================] - 63s 631ms/step - loss: 0.1226 - acc: 0.9557 - val_loss: 0.1414 - val_acc: 0.9540\n",
            "Epoch 21/100\n",
            "100/100 [==============================] - 63s 631ms/step - loss: 0.1045 - acc: 0.9600 - val_loss: 0.1101 - val_acc: 0.9620\n",
            "Epoch 22/100\n",
            "100/100 [==============================] - 63s 630ms/step - loss: 0.0936 - acc: 0.9580 - val_loss: 0.1191 - val_acc: 0.9590\n",
            "Epoch 23/100\n",
            "100/100 [==============================] - 63s 630ms/step - loss: 0.1040 - acc: 0.9567 - val_loss: 0.1236 - val_acc: 0.9570\n",
            "Epoch 24/100\n",
            "100/100 [==============================] - 63s 630ms/step - loss: 0.0962 - acc: 0.9643 - val_loss: 0.1576 - val_acc: 0.9500\n",
            "Epoch 25/100\n",
            "100/100 [==============================] - 63s 630ms/step - loss: 0.0835 - acc: 0.9683 - val_loss: 0.1194 - val_acc: 0.9610\n",
            "Epoch 26/100\n",
            "100/100 [==============================] - 63s 631ms/step - loss: 0.0770 - acc: 0.9723 - val_loss: 0.1303 - val_acc: 0.9580\n",
            "Epoch 27/100\n",
            "100/100 [==============================] - 63s 630ms/step - loss: 0.0783 - acc: 0.9717 - val_loss: 0.1900 - val_acc: 0.9440\n",
            "Epoch 28/100\n",
            "100/100 [==============================] - 63s 630ms/step - loss: 0.0742 - acc: 0.9693 - val_loss: 0.1768 - val_acc: 0.9480\n",
            "Epoch 29/100\n",
            "100/100 [==============================] - 63s 629ms/step - loss: 0.0898 - acc: 0.9650 - val_loss: 0.1129 - val_acc: 0.9660\n",
            "Epoch 30/100\n",
            "100/100 [==============================] - 63s 630ms/step - loss: 0.0716 - acc: 0.9720 - val_loss: 0.2432 - val_acc: 0.9330\n",
            "Epoch 31/100\n",
            "100/100 [==============================] - 63s 630ms/step - loss: 0.0747 - acc: 0.9727 - val_loss: 0.1230 - val_acc: 0.9610\n",
            "Epoch 32/100\n",
            "100/100 [==============================] - 63s 631ms/step - loss: 0.0609 - acc: 0.9737 - val_loss: 0.1688 - val_acc: 0.9560\n",
            "Epoch 33/100\n",
            "100/100 [==============================] - 63s 630ms/step - loss: 0.0676 - acc: 0.9760 - val_loss: 0.1749 - val_acc: 0.9540\n",
            "Epoch 34/100\n",
            "100/100 [==============================] - 63s 630ms/step - loss: 0.0643 - acc: 0.9750 - val_loss: 0.2389 - val_acc: 0.9480\n",
            "Epoch 35/100\n",
            "100/100 [==============================] - 63s 630ms/step - loss: 0.0640 - acc: 0.9777 - val_loss: 0.1715 - val_acc: 0.9640\n",
            "Epoch 36/100\n",
            "100/100 [==============================] - 63s 629ms/step - loss: 0.0739 - acc: 0.9763 - val_loss: 0.1542 - val_acc: 0.9640\n",
            "Epoch 37/100\n",
            "100/100 [==============================] - 63s 629ms/step - loss: 0.0623 - acc: 0.9773 - val_loss: 0.1290 - val_acc: 0.9650\n",
            "Epoch 38/100\n",
            "100/100 [==============================] - 63s 630ms/step - loss: 0.0528 - acc: 0.9787 - val_loss: 0.1594 - val_acc: 0.9580\n",
            "Epoch 39/100\n",
            "100/100 [==============================] - 63s 629ms/step - loss: 0.0602 - acc: 0.9807 - val_loss: 0.2249 - val_acc: 0.9490\n",
            "Epoch 40/100\n",
            "100/100 [==============================] - 63s 629ms/step - loss: 0.0563 - acc: 0.9790 - val_loss: 0.1911 - val_acc: 0.9510\n",
            "Epoch 41/100\n",
            "100/100 [==============================] - 63s 629ms/step - loss: 0.0536 - acc: 0.9823 - val_loss: 0.1497 - val_acc: 0.9650\n",
            "Epoch 42/100\n",
            "100/100 [==============================] - 63s 628ms/step - loss: 0.0604 - acc: 0.9763 - val_loss: 0.3092 - val_acc: 0.9400\n",
            "Epoch 43/100\n",
            "100/100 [==============================] - 63s 629ms/step - loss: 0.0664 - acc: 0.9767 - val_loss: 0.1921 - val_acc: 0.9470\n",
            "Epoch 44/100\n",
            "100/100 [==============================] - 63s 629ms/step - loss: 0.0486 - acc: 0.9810 - val_loss: 0.2121 - val_acc: 0.9580\n",
            "Epoch 45/100\n",
            "100/100 [==============================] - 63s 629ms/step - loss: 0.0473 - acc: 0.9833 - val_loss: 0.1856 - val_acc: 0.9600\n",
            "Epoch 46/100\n",
            "100/100 [==============================] - 63s 628ms/step - loss: 0.0458 - acc: 0.9847 - val_loss: 0.1372 - val_acc: 0.9690\n",
            "Epoch 47/100\n",
            "100/100 [==============================] - 63s 629ms/step - loss: 0.0410 - acc: 0.9843 - val_loss: 0.1785 - val_acc: 0.9630\n",
            "Epoch 48/100\n",
            "100/100 [==============================] - 63s 628ms/step - loss: 0.0513 - acc: 0.9840 - val_loss: 0.1933 - val_acc: 0.9520\n",
            "Epoch 49/100\n",
            "100/100 [==============================] - 63s 627ms/step - loss: 0.0442 - acc: 0.9837 - val_loss: 0.1688 - val_acc: 0.9610\n",
            "Epoch 50/100\n",
            "100/100 [==============================] - 63s 628ms/step - loss: 0.0435 - acc: 0.9850 - val_loss: 0.1729 - val_acc: 0.9590\n",
            "Epoch 51/100\n",
            "100/100 [==============================] - 63s 628ms/step - loss: 0.0292 - acc: 0.9877 - val_loss: 0.1411 - val_acc: 0.9680\n",
            "Epoch 52/100\n",
            "100/100 [==============================] - 63s 628ms/step - loss: 0.0377 - acc: 0.9880 - val_loss: 0.1496 - val_acc: 0.9650\n",
            "Epoch 53/100\n",
            "100/100 [==============================] - 63s 628ms/step - loss: 0.0317 - acc: 0.9873 - val_loss: 0.1668 - val_acc: 0.9640\n",
            "Epoch 54/100\n",
            "100/100 [==============================] - 63s 627ms/step - loss: 0.0354 - acc: 0.9873 - val_loss: 0.1695 - val_acc: 0.9640\n",
            "Epoch 55/100\n",
            "100/100 [==============================] - 63s 629ms/step - loss: 0.0432 - acc: 0.9843 - val_loss: 0.1490 - val_acc: 0.9670\n",
            "Epoch 56/100\n",
            "100/100 [==============================] - 63s 628ms/step - loss: 0.0390 - acc: 0.9850 - val_loss: 0.1855 - val_acc: 0.9610\n",
            "Epoch 57/100\n",
            "100/100 [==============================] - 63s 628ms/step - loss: 0.0431 - acc: 0.9833 - val_loss: 0.1593 - val_acc: 0.9690\n",
            "Epoch 58/100\n",
            "100/100 [==============================] - 63s 628ms/step - loss: 0.0385 - acc: 0.9877 - val_loss: 0.2552 - val_acc: 0.9530\n",
            "Epoch 59/100\n",
            "100/100 [==============================] - 63s 628ms/step - loss: 0.0314 - acc: 0.9883 - val_loss: 0.1790 - val_acc: 0.9650\n",
            "Epoch 60/100\n",
            "100/100 [==============================] - 63s 628ms/step - loss: 0.0318 - acc: 0.9880 - val_loss: 0.2561 - val_acc: 0.9550\n"
          ],
          "name": "stdout"
        },
        {
          "output_type": "stream",
          "text": [
            "Epoch 61/100\n",
            "100/100 [==============================] - 63s 629ms/step - loss: 0.0345 - acc: 0.9897 - val_loss: 0.1929 - val_acc: 0.9650\n",
            "Epoch 62/100\n",
            "100/100 [==============================] - 63s 628ms/step - loss: 0.0435 - acc: 0.9860 - val_loss: 0.1807 - val_acc: 0.9630\n",
            "Epoch 63/100\n",
            "100/100 [==============================] - 63s 627ms/step - loss: 0.0362 - acc: 0.9860 - val_loss: 0.2241 - val_acc: 0.9560\n",
            "Epoch 64/100\n",
            "100/100 [==============================] - 63s 629ms/step - loss: 0.0268 - acc: 0.9923 - val_loss: 0.1873 - val_acc: 0.9630\n",
            "Epoch 65/100\n",
            "100/100 [==============================] - 63s 628ms/step - loss: 0.0359 - acc: 0.9893 - val_loss: 0.1920 - val_acc: 0.9640\n",
            "Epoch 66/100\n",
            "100/100 [==============================] - 63s 627ms/step - loss: 0.0338 - acc: 0.9867 - val_loss: 0.2174 - val_acc: 0.9610\n",
            "Epoch 67/100\n",
            "100/100 [==============================] - 63s 629ms/step - loss: 0.0397 - acc: 0.9873 - val_loss: 0.1981 - val_acc: 0.9620\n",
            "Epoch 68/100\n",
            "100/100 [==============================] - 63s 628ms/step - loss: 0.0238 - acc: 0.9913 - val_loss: 0.1847 - val_acc: 0.9640\n",
            "Epoch 69/100\n",
            "100/100 [==============================] - 63s 626ms/step - loss: 0.0264 - acc: 0.9927 - val_loss: 0.1616 - val_acc: 0.9650\n",
            "Epoch 70/100\n",
            "100/100 [==============================] - 63s 626ms/step - loss: 0.0302 - acc: 0.9893 - val_loss: 0.1804 - val_acc: 0.9620\n",
            "Epoch 71/100\n",
            "100/100 [==============================] - 63s 626ms/step - loss: 0.0281 - acc: 0.9917 - val_loss: 0.2727 - val_acc: 0.9570\n",
            "Epoch 72/100\n",
            "100/100 [==============================] - 63s 627ms/step - loss: 0.0357 - acc: 0.9867 - val_loss: 0.2178 - val_acc: 0.9600\n",
            "Epoch 73/100\n",
            "100/100 [==============================] - 63s 628ms/step - loss: 0.0361 - acc: 0.9897 - val_loss: 0.2487 - val_acc: 0.9580\n",
            "Epoch 74/100\n",
            "100/100 [==============================] - 63s 627ms/step - loss: 0.0288 - acc: 0.9900 - val_loss: 0.3093 - val_acc: 0.9530\n",
            "Epoch 75/100\n",
            "100/100 [==============================] - 63s 626ms/step - loss: 0.0303 - acc: 0.9917 - val_loss: 0.2144 - val_acc: 0.9690\n",
            "Epoch 76/100\n",
            "100/100 [==============================] - 63s 626ms/step - loss: 0.0301 - acc: 0.9913 - val_loss: 0.2272 - val_acc: 0.9640\n",
            "Epoch 77/100\n",
            "100/100 [==============================] - 63s 625ms/step - loss: 0.0197 - acc: 0.9937 - val_loss: 0.3306 - val_acc: 0.9520\n",
            "Epoch 78/100\n",
            "100/100 [==============================] - 63s 625ms/step - loss: 0.0333 - acc: 0.9880 - val_loss: 0.1950 - val_acc: 0.9620\n",
            "Epoch 79/100\n",
            "100/100 [==============================] - 63s 626ms/step - loss: 0.0292 - acc: 0.9923 - val_loss: 0.2467 - val_acc: 0.9630\n",
            "Epoch 80/100\n",
            "100/100 [==============================] - 63s 626ms/step - loss: 0.0327 - acc: 0.9893 - val_loss: 0.1697 - val_acc: 0.9720\n",
            "Epoch 81/100\n",
            "100/100 [==============================] - 63s 625ms/step - loss: 0.0332 - acc: 0.9907 - val_loss: 0.1934 - val_acc: 0.9700\n",
            "Epoch 82/100\n",
            "100/100 [==============================] - 63s 625ms/step - loss: 0.0238 - acc: 0.9920 - val_loss: 0.2538 - val_acc: 0.9590\n",
            "Epoch 83/100\n",
            "100/100 [==============================] - 62s 624ms/step - loss: 0.0321 - acc: 0.9910 - val_loss: 0.2038 - val_acc: 0.9680\n",
            "Epoch 84/100\n",
            "100/100 [==============================] - 63s 626ms/step - loss: 0.0274 - acc: 0.9913 - val_loss: 0.1714 - val_acc: 0.9710\n",
            "Epoch 85/100\n",
            "100/100 [==============================] - 63s 626ms/step - loss: 0.0168 - acc: 0.9937 - val_loss: 0.2719 - val_acc: 0.9620\n",
            "Epoch 86/100\n",
            "100/100 [==============================] - 63s 625ms/step - loss: 0.0258 - acc: 0.9913 - val_loss: 0.3180 - val_acc: 0.9570\n",
            "Epoch 87/100\n",
            "100/100 [==============================] - 62s 625ms/step - loss: 0.0256 - acc: 0.9923 - val_loss: 0.2234 - val_acc: 0.9660\n",
            "Epoch 88/100\n",
            "100/100 [==============================] - 63s 625ms/step - loss: 0.0326 - acc: 0.9900 - val_loss: 0.1895 - val_acc: 0.9680\n",
            "Epoch 89/100\n",
            "100/100 [==============================] - 62s 625ms/step - loss: 0.0268 - acc: 0.9930 - val_loss: 0.1658 - val_acc: 0.9690\n",
            "Epoch 90/100\n",
            "100/100 [==============================] - 63s 625ms/step - loss: 0.0293 - acc: 0.9890 - val_loss: 0.2215 - val_acc: 0.9670\n",
            "Epoch 91/100\n",
            "100/100 [==============================] - 63s 625ms/step - loss: 0.0224 - acc: 0.9930 - val_loss: 0.2652 - val_acc: 0.9600\n",
            "Epoch 92/100\n",
            "100/100 [==============================] - 63s 627ms/step - loss: 0.0201 - acc: 0.9923 - val_loss: 0.4052 - val_acc: 0.9480\n",
            "Epoch 93/100\n",
            "100/100 [==============================] - 63s 627ms/step - loss: 0.0280 - acc: 0.9903 - val_loss: 0.2210 - val_acc: 0.9620\n",
            "Epoch 94/100\n",
            "100/100 [==============================] - 63s 629ms/step - loss: 0.0309 - acc: 0.9897 - val_loss: 0.1893 - val_acc: 0.9700\n",
            "Epoch 95/100\n",
            "100/100 [==============================] - 63s 629ms/step - loss: 0.0280 - acc: 0.9897 - val_loss: 0.2075 - val_acc: 0.9650\n",
            "Epoch 96/100\n",
            "100/100 [==============================] - 63s 628ms/step - loss: 0.0139 - acc: 0.9957 - val_loss: 0.1962 - val_acc: 0.9710\n",
            "Epoch 97/100\n",
            "100/100 [==============================] - 63s 627ms/step - loss: 0.0286 - acc: 0.9910 - val_loss: 0.2180 - val_acc: 0.9650\n",
            "Epoch 98/100\n",
            "100/100 [==============================] - 63s 628ms/step - loss: 0.0207 - acc: 0.9927 - val_loss: 0.2869 - val_acc: 0.9600\n",
            "Epoch 99/100\n",
            "100/100 [==============================] - 63s 629ms/step - loss: 0.0243 - acc: 0.9913 - val_loss: 0.2861 - val_acc: 0.9620\n",
            "Epoch 100/100\n",
            "100/100 [==============================] - 63s 629ms/step - loss: 0.0226 - acc: 0.9930 - val_loss: 0.3002 - val_acc: 0.9610\n"
          ],
          "name": "stdout"
        }
      ]
    },
    {
      "metadata": {
        "id": "UbwooKfaj0Ej",
        "colab_type": "code",
        "outputId": "b04019ee-5d8c-4ee7-c1fc-503fb3515e89",
        "colab": {}
      },
      "cell_type": "code",
      "source": [
        "f, (ax1, ax2) = plt.subplots(1, 2, figsize=(12, 4))\n",
        "t = f.suptitle('Pre-trained CNN (Transfer Learning) with Fine-Tuning & Image Augmentation Performance', fontsize=12)\n",
        "f.subplots_adjust(top=0.85, wspace=0.3)\n",
        "\n",
        "epoch_list = list(range(1,101))\n",
        "ax1.plot(epoch_list, history.history['acc'], label='Train Accuracy')\n",
        "ax1.plot(epoch_list, history.history['val_acc'], label='Validation Accuracy')\n",
        "ax1.set_xticks(np.arange(0, 101, 10))\n",
        "ax1.set_ylabel('Accuracy Value')\n",
        "ax1.set_xlabel('Epoch')\n",
        "ax1.set_title('Accuracy')\n",
        "l1 = ax1.legend(loc=\"best\")\n",
        "\n",
        "ax2.plot(epoch_list, history.history['loss'], label='Train Loss')\n",
        "ax2.plot(epoch_list, history.history['val_loss'], label='Validation Loss')\n",
        "ax2.set_xticks(np.arange(0, 101, 10))\n",
        "ax2.set_ylabel('Loss Value')\n",
        "ax2.set_xlabel('Epoch')\n",
        "ax2.set_title('Loss')\n",
        "l2 = ax2.legend(loc=\"best\")"
      ],
      "execution_count": 0,
      "outputs": [
        {
          "output_type": "display_data",
          "data": {
            "image/png": "[encoded data removed]",
            "text/plain": [
              "<matplotlib.figure.Figure at 0x7f2684045358>"
            ]
          },
          "metadata": {
            "tags": []
          }
        }
      ]
    },
    {
      "metadata": {
        "id": "YeI4uzxpj0Es",
        "colab_type": "code",
        "colab": {}
      },
      "cell_type": "code",
      "source": [
        "model.save('cats_dogs_tlearn_finetune_img_aug_cnn.h5')"
      ],
      "execution_count": 0,
      "outputs": []
    }
  ]
}