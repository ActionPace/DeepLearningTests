{
  "nbformat": 4,
  "nbformat_minor": 0,
  "metadata": {
    "colab": {
      "name": "KerasApplications.ipynb",
      "version": "0.3.2",
      "provenance": [],
      "collapsed_sections": [],
      "include_colab_link": true
    },
    "kernelspec": {
      "name": "python3",
      "display_name": "Python 3"
    }
  },
  "cells": [
    {
      "cell_type": "markdown",
      "metadata": {
        "id": "view-in-github",
        "colab_type": "text"
      },
      "source": [
        "<a href=\"https://colab.research.google.com/github/ActionPace/DeepLearningTests/blob/master/KerasApplications.ipynb\" target=\"_parent\"><img src=\"https://colab.research.google.com/assets/colab-badge.svg\" alt=\"Open In Colab\"/></a>"
      ]
    },
    {
      "cell_type": "code",
      "metadata": {
        "id": "ru56i053c9ED",
        "colab_type": "code",
        "colab": {}
      },
      "source": [
        ""
      ],
      "execution_count": 0,
      "outputs": []
    },
    {
      "cell_type": "markdown",
      "metadata": {
        "id": "Mxa7V5fddr4P",
        "colab_type": "text"
      },
      "source": [
        "## Usage examples for image classification models\n",
        "\n",
        "### Classify ImageNet classes with ResNet50"
      ]
    },
    {
      "cell_type": "code",
      "metadata": {
        "id": "u_QRTcG6du2y",
        "colab_type": "code",
        "outputId": "33ecaa82-ee37-4bc5-fa16-d64ee400b8dd",
        "colab": {
          "base_uri": "https://localhost:8080/",
          "height": 35
        }
      },
      "source": [
        "from keras.applications.resnet50 import ResNet50\n",
        "from keras.preprocessing import image\n",
        "from keras.applications.resnet50 import preprocess_input, decode_predictions\n",
        "import numpy as np"
      ],
      "execution_count": 0,
      "outputs": [
        {
          "output_type": "stream",
          "text": [
            "Using TensorFlow backend.\n"
          ],
          "name": "stderr"
        }
      ]
    },
    {
      "cell_type": "code",
      "metadata": {
        "id": "hFKbrgN8dy7m",
        "colab_type": "code",
        "outputId": "ab904902-e3bb-486d-c11b-ddbfe421e2d9",
        "colab": {
          "base_uri": "https://localhost:8080/",
          "height": 89
        }
      },
      "source": [
        "model = ResNet50(weights='imagenet')"
      ],
      "execution_count": 0,
      "outputs": [
        {
          "output_type": "stream",
          "text": [
            "WARNING:tensorflow:From /usr/local/lib/python3.6/dist-packages/tensorflow/python/framework/op_def_library.py:263: colocate_with (from tensorflow.python.framework.ops) is deprecated and will be removed in a future version.\n",
            "Instructions for updating:\n",
            "Colocations handled automatically by placer.\n"
          ],
          "name": "stdout"
        }
      ]
    },
    {
      "cell_type": "code",
      "metadata": {
        "id": "nqqq-gshd2_F",
        "colab_type": "code",
        "outputId": "7aeeecee-9260-487b-f618-4873f090b7c9",
        "colab": {
          "base_uri": "https://localhost:8080/",
          "height": 315
        }
      },
      "source": [
        "!wget https://github.com/keras-team/keras-applications/raw/master/tests/data/elephant.jpg"
      ],
      "execution_count": 0,
      "outputs": [
        {
          "output_type": "stream",
          "text": [
            "--2019-04-22 00:35:26--  https://github.com/keras-team/keras-applications/raw/master/tests/data/elephant.jpg\n",
            "Resolving github.com (github.com)... 192.30.253.113, 192.30.253.112\n",
            "Connecting to github.com (github.com)|192.30.253.113|:443... connected.\n",
            "HTTP request sent, awaiting response... 302 Found\n",
            "Location: https://raw.githubusercontent.com/keras-team/keras-applications/master/tests/data/elephant.jpg [following]\n",
            "--2019-04-22 00:35:27--  https://raw.githubusercontent.com/keras-team/keras-applications/master/tests/data/elephant.jpg\n",
            "Resolving raw.githubusercontent.com (raw.githubusercontent.com)... 151.101.0.133, 151.101.64.133, 151.101.128.133, ...\n",
            "Connecting to raw.githubusercontent.com (raw.githubusercontent.com)|151.101.0.133|:443... connected.\n",
            "HTTP request sent, awaiting response... 200 OK\n",
            "Length: 251780 (246K) [image/jpeg]\n",
            "Saving to: ‘elephant.jpg’\n",
            "\n",
            "elephant.jpg        100%[===================>] 245.88K  --.-KB/s    in 0.03s   \n",
            "\n",
            "2019-04-22 00:35:27 (8.07 MB/s) - ‘elephant.jpg’ saved [251780/251780]\n",
            "\n"
          ],
          "name": "stdout"
        }
      ]
    },
    {
      "cell_type": "code",
      "metadata": {
        "id": "XcpN0YB7eBBg",
        "colab_type": "code",
        "colab": {}
      },
      "source": [
        "img_path = 'elephant.jpg'\n",
        "img = image.load_img(img_path, target_size=(224, 224))\n",
        "x = image.img_to_array(img)\n",
        "x = np.expand_dims(x, axis=0)\n",
        "x = preprocess_input(x)"
      ],
      "execution_count": 0,
      "outputs": []
    },
    {
      "cell_type": "code",
      "metadata": {
        "id": "iWpB9aseedOM",
        "colab_type": "code",
        "outputId": "4ff08b51-26c6-4be5-a5ce-9f235909fcde",
        "colab": {
          "base_uri": "https://localhost:8080/",
          "height": 55
        }
      },
      "source": [
        "preds = model.predict(x)\n",
        "# decode the results into a list of tuples (class, description, probability)\n",
        "# (one such list for each sample in the batch)\n",
        "print('Predicted:', decode_predictions(preds, top=3)[0])\n",
        "# Predicted: [(u'n02504013', u'Indian_elephant', 0.82658225), (u'n01871265', u'tusker', 0.1122357), (u'n02504458', u'African_elephant', 0.061040461)]"
      ],
      "execution_count": 0,
      "outputs": [
        {
          "output_type": "stream",
          "text": [
            "Predicted: [('n02504458', 'African_elephant', 0.7855698), ('n01871265', 'tusker', 0.19807458), ('n02504013', 'Indian_elephant', 0.01611219)]\n"
          ],
          "name": "stdout"
        }
      ]
    },
    {
      "cell_type": "markdown",
      "metadata": {
        "id": "zUsx0pImemLF",
        "colab_type": "text"
      },
      "source": [
        "##Extract features with VGG16"
      ]
    },
    {
      "cell_type": "code",
      "metadata": {
        "id": "x_cd9cnuehO4",
        "colab_type": "code",
        "colab": {}
      },
      "source": [
        "from keras.applications.vgg16 import VGG16\n",
        "from keras.preprocessing import image\n",
        "from keras.applications.vgg16 import preprocess_input\n",
        "import numpy as np"
      ],
      "execution_count": 0,
      "outputs": []
    },
    {
      "cell_type": "code",
      "metadata": {
        "id": "FK3wGpeVeqqT",
        "colab_type": "code",
        "colab": {}
      },
      "source": [
        "model = VGG16(weights='imagenet', include_top=False)"
      ],
      "execution_count": 0,
      "outputs": []
    },
    {
      "cell_type": "code",
      "metadata": {
        "id": "ZCjIGkw-etI1",
        "colab_type": "code",
        "colab": {}
      },
      "source": [
        "model = VGG16(weights='imagenet', include_top=False)\n",
        "\n",
        "img_path = 'elephant.jpg'\n",
        "img = image.load_img(img_path, target_size=(224, 224))\n",
        "x = image.img_to_array(img)\n",
        "x = np.expand_dims(x, axis=0)\n",
        "x = preprocess_input(x)\n",
        "\n",
        "features = model.predict(x)"
      ],
      "execution_count": 0,
      "outputs": []
    },
    {
      "cell_type": "markdown",
      "metadata": {
        "id": "9RW6-DUDfAUz",
        "colab_type": "text"
      },
      "source": [
        "## Extract features from an arbitrary intermediate layer with VGG19"
      ]
    },
    {
      "cell_type": "code",
      "metadata": {
        "id": "ovol9Zz3ezHO",
        "colab_type": "code",
        "colab": {}
      },
      "source": [
        "from keras.applications.vgg19 import VGG19\n",
        "from keras.preprocessing import image\n",
        "from keras.applications.vgg19 import preprocess_input\n",
        "from keras.models import Model\n",
        "import numpy as np"
      ],
      "execution_count": 0,
      "outputs": []
    },
    {
      "cell_type": "code",
      "metadata": {
        "id": "vVqcfTzIfEgh",
        "colab_type": "code",
        "outputId": "afd9c51e-98ee-4572-9a21-c9b36bcd8a4b",
        "colab": {
          "base_uri": "https://localhost:8080/",
          "height": 72
        }
      },
      "source": [
        "base_model = VGG19(weights='imagenet')\n",
        "model = Model(inputs=base_model.input, outputs=base_model.get_layer('block4_pool').output)"
      ],
      "execution_count": 0,
      "outputs": [
        {
          "output_type": "stream",
          "text": [
            "Downloading data from https://github.com/fchollet/deep-learning-models/releases/download/v0.1/vgg19_weights_tf_dim_ordering_tf_kernels.h5\n",
            "574717952/574710816 [==============================] - 56s 0us/step\n"
          ],
          "name": "stdout"
        }
      ]
    },
    {
      "cell_type": "code",
      "metadata": {
        "id": "qEcnL5TifIr8",
        "colab_type": "code",
        "colab": {}
      },
      "source": [
        "img_path = 'elephant.jpg'\n",
        "img = image.load_img(img_path, target_size=(224, 224))\n",
        "x = image.img_to_array(img)\n",
        "x = np.expand_dims(x, axis=0)\n",
        "x = preprocess_input(x)\n",
        "\n",
        "block4_pool_features = model.predict(x)"
      ],
      "execution_count": 0,
      "outputs": []
    },
    {
      "cell_type": "markdown",
      "metadata": {
        "id": "ZOZEsB7AfeCr",
        "colab_type": "text"
      },
      "source": [
        "## Fine-tune InceptionV3 on a new set of classes"
      ]
    },
    {
      "cell_type": "code",
      "metadata": {
        "id": "lxbLeFKQfaPk",
        "colab_type": "code",
        "colab": {}
      },
      "source": [
        "from keras.applications.inception_v3 import InceptionV3\n",
        "from keras.preprocessing import image\n",
        "from keras.models import Model\n",
        "from keras.layers import Dense, GlobalAveragePooling2D\n",
        "from keras import backend as K"
      ],
      "execution_count": 0,
      "outputs": []
    },
    {
      "cell_type": "code",
      "metadata": {
        "id": "MnM35Bv0fhbp",
        "colab_type": "code",
        "outputId": "7f87eb40-63b0-4fbe-bae9-ab681dde0082",
        "colab": {
          "base_uri": "https://localhost:8080/",
          "height": 72
        }
      },
      "source": [
        "# create the base pre-trained model\n",
        "base_model = InceptionV3(weights='imagenet', include_top=False)"
      ],
      "execution_count": 0,
      "outputs": [
        {
          "output_type": "stream",
          "text": [
            "Downloading data from https://github.com/fchollet/deep-learning-models/releases/download/v0.5/inception_v3_weights_tf_dim_ordering_tf_kernels_notop.h5\n",
            "87916544/87910968 [==============================] - 2s 0us/step\n"
          ],
          "name": "stdout"
        }
      ]
    },
    {
      "cell_type": "code",
      "metadata": {
        "id": "l5rUyscCfkmq",
        "colab_type": "code",
        "colab": {}
      },
      "source": [
        "# add a global spatial average pooling layer\n",
        "x = base_model.output\n",
        "x = GlobalAveragePooling2D()(x)\n",
        "# let's add a fully-connected layer\n",
        "x = Dense(1024, activation='relu')(x)\n",
        "# and a logistic layer -- let's say we have 200 classes\n",
        "predictions = Dense(200, activation='softmax')(x)"
      ],
      "execution_count": 0,
      "outputs": []
    },
    {
      "cell_type": "code",
      "metadata": {
        "id": "VOkXH5Fvft1J",
        "colab_type": "code",
        "colab": {}
      },
      "source": [
        "# this is the model we will train\n",
        "model = Model(inputs=base_model.input, outputs=predictions)"
      ],
      "execution_count": 0,
      "outputs": []
    },
    {
      "cell_type": "code",
      "metadata": {
        "id": "SkNq_j_nfw6D",
        "colab_type": "code",
        "colab": {}
      },
      "source": [
        "# first: train only the top layers (which were randomly initialized)\n",
        "# i.e. freeze all convolutional InceptionV3 layers\n",
        "for layer in base_model.layers:\n",
        "    layer.trainable = False"
      ],
      "execution_count": 0,
      "outputs": []
    },
    {
      "cell_type": "code",
      "metadata": {
        "id": "vMKwNJidfzaj",
        "colab_type": "code",
        "colab": {}
      },
      "source": [
        "# compile the model (should be done *after* setting layers to non-trainable)\n",
        "model.compile(optimizer='rmsprop', loss='categorical_crossentropy')"
      ],
      "execution_count": 0,
      "outputs": []
    },
    {
      "cell_type": "code",
      "metadata": {
        "id": "5TH3Y_C5f2h0",
        "colab_type": "code",
        "colab": {}
      },
      "source": [
        "# train the model on the new data for a few epochs\n",
        "#model.fit_generator(...)"
      ],
      "execution_count": 0,
      "outputs": []
    },
    {
      "cell_type": "code",
      "metadata": {
        "id": "lcpjqN6Lf7gA",
        "colab_type": "code",
        "colab": {}
      },
      "source": [
        "# at this point, the top layers are well trained and we can start fine-tuning\n",
        "# convolutional layers from inception V3. We will freeze the bottom N layers\n",
        "# and train the remaining top layers."
      ],
      "execution_count": 0,
      "outputs": []
    },
    {
      "cell_type": "code",
      "metadata": {
        "id": "zfvdZtiQf-cQ",
        "colab_type": "code",
        "outputId": "452b9fcf-30d5-439d-b73f-2546ca4106b3",
        "colab": {
          "base_uri": "https://localhost:8080/",
          "height": 5408
        }
      },
      "source": [
        "# let's visualize layer names and layer indices to see how many layers\n",
        "# we should freeze:\n",
        "for i, layer in enumerate(base_model.layers):\n",
        "   print(i, layer.name)"
      ],
      "execution_count": 0,
      "outputs": [
        {
          "output_type": "stream",
          "text": [
            "0 input_5\n",
            "1 conv2d_1\n",
            "2 batch_normalization_1\n",
            "3 activation_50\n",
            "4 conv2d_2\n",
            "5 batch_normalization_2\n",
            "6 activation_51\n",
            "7 conv2d_3\n",
            "8 batch_normalization_3\n",
            "9 activation_52\n",
            "10 max_pooling2d_2\n",
            "11 conv2d_4\n",
            "12 batch_normalization_4\n",
            "13 activation_53\n",
            "14 conv2d_5\n",
            "15 batch_normalization_5\n",
            "16 activation_54\n",
            "17 max_pooling2d_3\n",
            "18 conv2d_9\n",
            "19 batch_normalization_9\n",
            "20 activation_58\n",
            "21 conv2d_7\n",
            "22 conv2d_10\n",
            "23 batch_normalization_7\n",
            "24 batch_normalization_10\n",
            "25 activation_56\n",
            "26 activation_59\n",
            "27 average_pooling2d_1\n",
            "28 conv2d_6\n",
            "29 conv2d_8\n",
            "30 conv2d_11\n",
            "31 conv2d_12\n",
            "32 batch_normalization_6\n",
            "33 batch_normalization_8\n",
            "34 batch_normalization_11\n",
            "35 batch_normalization_12\n",
            "36 activation_55\n",
            "37 activation_57\n",
            "38 activation_60\n",
            "39 activation_61\n",
            "40 mixed0\n",
            "41 conv2d_16\n",
            "42 batch_normalization_16\n",
            "43 activation_65\n",
            "44 conv2d_14\n",
            "45 conv2d_17\n",
            "46 batch_normalization_14\n",
            "47 batch_normalization_17\n",
            "48 activation_63\n",
            "49 activation_66\n",
            "50 average_pooling2d_2\n",
            "51 conv2d_13\n",
            "52 conv2d_15\n",
            "53 conv2d_18\n",
            "54 conv2d_19\n",
            "55 batch_normalization_13\n",
            "56 batch_normalization_15\n",
            "57 batch_normalization_18\n",
            "58 batch_normalization_19\n",
            "59 activation_62\n",
            "60 activation_64\n",
            "61 activation_67\n",
            "62 activation_68\n",
            "63 mixed1\n",
            "64 conv2d_23\n",
            "65 batch_normalization_23\n",
            "66 activation_72\n",
            "67 conv2d_21\n",
            "68 conv2d_24\n",
            "69 batch_normalization_21\n",
            "70 batch_normalization_24\n",
            "71 activation_70\n",
            "72 activation_73\n",
            "73 average_pooling2d_3\n",
            "74 conv2d_20\n",
            "75 conv2d_22\n",
            "76 conv2d_25\n",
            "77 conv2d_26\n",
            "78 batch_normalization_20\n",
            "79 batch_normalization_22\n",
            "80 batch_normalization_25\n",
            "81 batch_normalization_26\n",
            "82 activation_69\n",
            "83 activation_71\n",
            "84 activation_74\n",
            "85 activation_75\n",
            "86 mixed2\n",
            "87 conv2d_28\n",
            "88 batch_normalization_28\n",
            "89 activation_77\n",
            "90 conv2d_29\n",
            "91 batch_normalization_29\n",
            "92 activation_78\n",
            "93 conv2d_27\n",
            "94 conv2d_30\n",
            "95 batch_normalization_27\n",
            "96 batch_normalization_30\n",
            "97 activation_76\n",
            "98 activation_79\n",
            "99 max_pooling2d_4\n",
            "100 mixed3\n",
            "101 conv2d_35\n",
            "102 batch_normalization_35\n",
            "103 activation_84\n",
            "104 conv2d_36\n",
            "105 batch_normalization_36\n",
            "106 activation_85\n",
            "107 conv2d_32\n",
            "108 conv2d_37\n",
            "109 batch_normalization_32\n",
            "110 batch_normalization_37\n",
            "111 activation_81\n",
            "112 activation_86\n",
            "113 conv2d_33\n",
            "114 conv2d_38\n",
            "115 batch_normalization_33\n",
            "116 batch_normalization_38\n",
            "117 activation_82\n",
            "118 activation_87\n",
            "119 average_pooling2d_4\n",
            "120 conv2d_31\n",
            "121 conv2d_34\n",
            "122 conv2d_39\n",
            "123 conv2d_40\n",
            "124 batch_normalization_31\n",
            "125 batch_normalization_34\n",
            "126 batch_normalization_39\n",
            "127 batch_normalization_40\n",
            "128 activation_80\n",
            "129 activation_83\n",
            "130 activation_88\n",
            "131 activation_89\n",
            "132 mixed4\n",
            "133 conv2d_45\n",
            "134 batch_normalization_45\n",
            "135 activation_94\n",
            "136 conv2d_46\n",
            "137 batch_normalization_46\n",
            "138 activation_95\n",
            "139 conv2d_42\n",
            "140 conv2d_47\n",
            "141 batch_normalization_42\n",
            "142 batch_normalization_47\n",
            "143 activation_91\n",
            "144 activation_96\n",
            "145 conv2d_43\n",
            "146 conv2d_48\n",
            "147 batch_normalization_43\n",
            "148 batch_normalization_48\n",
            "149 activation_92\n",
            "150 activation_97\n",
            "151 average_pooling2d_5\n",
            "152 conv2d_41\n",
            "153 conv2d_44\n",
            "154 conv2d_49\n",
            "155 conv2d_50\n",
            "156 batch_normalization_41\n",
            "157 batch_normalization_44\n",
            "158 batch_normalization_49\n",
            "159 batch_normalization_50\n",
            "160 activation_90\n",
            "161 activation_93\n",
            "162 activation_98\n",
            "163 activation_99\n",
            "164 mixed5\n",
            "165 conv2d_55\n",
            "166 batch_normalization_55\n",
            "167 activation_104\n",
            "168 conv2d_56\n",
            "169 batch_normalization_56\n",
            "170 activation_105\n",
            "171 conv2d_52\n",
            "172 conv2d_57\n",
            "173 batch_normalization_52\n",
            "174 batch_normalization_57\n",
            "175 activation_101\n",
            "176 activation_106\n",
            "177 conv2d_53\n",
            "178 conv2d_58\n",
            "179 batch_normalization_53\n",
            "180 batch_normalization_58\n",
            "181 activation_102\n",
            "182 activation_107\n",
            "183 average_pooling2d_6\n",
            "184 conv2d_51\n",
            "185 conv2d_54\n",
            "186 conv2d_59\n",
            "187 conv2d_60\n",
            "188 batch_normalization_51\n",
            "189 batch_normalization_54\n",
            "190 batch_normalization_59\n",
            "191 batch_normalization_60\n",
            "192 activation_100\n",
            "193 activation_103\n",
            "194 activation_108\n",
            "195 activation_109\n",
            "196 mixed6\n",
            "197 conv2d_65\n",
            "198 batch_normalization_65\n",
            "199 activation_114\n",
            "200 conv2d_66\n",
            "201 batch_normalization_66\n",
            "202 activation_115\n",
            "203 conv2d_62\n",
            "204 conv2d_67\n",
            "205 batch_normalization_62\n",
            "206 batch_normalization_67\n",
            "207 activation_111\n",
            "208 activation_116\n",
            "209 conv2d_63\n",
            "210 conv2d_68\n",
            "211 batch_normalization_63\n",
            "212 batch_normalization_68\n",
            "213 activation_112\n",
            "214 activation_117\n",
            "215 average_pooling2d_7\n",
            "216 conv2d_61\n",
            "217 conv2d_64\n",
            "218 conv2d_69\n",
            "219 conv2d_70\n",
            "220 batch_normalization_61\n",
            "221 batch_normalization_64\n",
            "222 batch_normalization_69\n",
            "223 batch_normalization_70\n",
            "224 activation_110\n",
            "225 activation_113\n",
            "226 activation_118\n",
            "227 activation_119\n",
            "228 mixed7\n",
            "229 conv2d_73\n",
            "230 batch_normalization_73\n",
            "231 activation_122\n",
            "232 conv2d_74\n",
            "233 batch_normalization_74\n",
            "234 activation_123\n",
            "235 conv2d_71\n",
            "236 conv2d_75\n",
            "237 batch_normalization_71\n",
            "238 batch_normalization_75\n",
            "239 activation_120\n",
            "240 activation_124\n",
            "241 conv2d_72\n",
            "242 conv2d_76\n",
            "243 batch_normalization_72\n",
            "244 batch_normalization_76\n",
            "245 activation_121\n",
            "246 activation_125\n",
            "247 max_pooling2d_5\n",
            "248 mixed8\n",
            "249 conv2d_81\n",
            "250 batch_normalization_81\n",
            "251 activation_130\n",
            "252 conv2d_78\n",
            "253 conv2d_82\n",
            "254 batch_normalization_78\n",
            "255 batch_normalization_82\n",
            "256 activation_127\n",
            "257 activation_131\n",
            "258 conv2d_79\n",
            "259 conv2d_80\n",
            "260 conv2d_83\n",
            "261 conv2d_84\n",
            "262 average_pooling2d_8\n",
            "263 conv2d_77\n",
            "264 batch_normalization_79\n",
            "265 batch_normalization_80\n",
            "266 batch_normalization_83\n",
            "267 batch_normalization_84\n",
            "268 conv2d_85\n",
            "269 batch_normalization_77\n",
            "270 activation_128\n",
            "271 activation_129\n",
            "272 activation_132\n",
            "273 activation_133\n",
            "274 batch_normalization_85\n",
            "275 activation_126\n",
            "276 mixed9_0\n",
            "277 concatenate_1\n",
            "278 activation_134\n",
            "279 mixed9\n",
            "280 conv2d_90\n",
            "281 batch_normalization_90\n",
            "282 activation_139\n",
            "283 conv2d_87\n",
            "284 conv2d_91\n",
            "285 batch_normalization_87\n",
            "286 batch_normalization_91\n",
            "287 activation_136\n",
            "288 activation_140\n",
            "289 conv2d_88\n",
            "290 conv2d_89\n",
            "291 conv2d_92\n",
            "292 conv2d_93\n",
            "293 average_pooling2d_9\n",
            "294 conv2d_86\n",
            "295 batch_normalization_88\n",
            "296 batch_normalization_89\n",
            "297 batch_normalization_92\n",
            "298 batch_normalization_93\n",
            "299 conv2d_94\n",
            "300 batch_normalization_86\n",
            "301 activation_137\n",
            "302 activation_138\n",
            "303 activation_141\n",
            "304 activation_142\n",
            "305 batch_normalization_94\n",
            "306 activation_135\n",
            "307 mixed9_1\n",
            "308 concatenate_2\n",
            "309 activation_143\n",
            "310 mixed10\n"
          ],
          "name": "stdout"
        }
      ]
    },
    {
      "cell_type": "code",
      "metadata": {
        "id": "uaG82ChugA2I",
        "colab_type": "code",
        "colab": {}
      },
      "source": [
        "# we chose to train the top 2 inception blocks, i.e. we will freeze\n",
        "# the first 249 layers and unfreeze the rest:\n",
        "for layer in model.layers[:249]:\n",
        "   layer.trainable = False\n",
        "for layer in model.layers[249:]:\n",
        "   layer.trainable = True"
      ],
      "execution_count": 0,
      "outputs": []
    },
    {
      "cell_type": "code",
      "metadata": {
        "id": "i07hQ1WMgJnD",
        "colab_type": "code",
        "colab": {}
      },
      "source": [
        "# we need to recompile the model for these modifications to take effect\n",
        "# we use SGD with a low learning rate\n",
        "from keras.optimizers import SGD\n",
        "model.compile(optimizer=SGD(lr=0.0001, momentum=0.9), loss='categorical_crossentropy')"
      ],
      "execution_count": 0,
      "outputs": []
    },
    {
      "cell_type": "code",
      "metadata": {
        "id": "PWXJL0g-gN7G",
        "colab_type": "code",
        "colab": {}
      },
      "source": [
        "# we train our model again (this time fine-tuning the top 2 inception blocks\n",
        "# alongside the top Dense layers\n",
        "#model.fit_generator(...)"
      ],
      "execution_count": 0,
      "outputs": []
    },
    {
      "cell_type": "markdown",
      "metadata": {
        "id": "ER99NNXWgpUV",
        "colab_type": "text"
      },
      "source": [
        "## Build InceptionV3 over a custom input tensor"
      ]
    },
    {
      "cell_type": "code",
      "metadata": {
        "id": "HMlEIYbDgSAh",
        "colab_type": "code",
        "colab": {}
      },
      "source": [
        "from keras.applications.inception_v3 import InceptionV3\n",
        "from keras.layers import Input"
      ],
      "execution_count": 0,
      "outputs": []
    },
    {
      "cell_type": "code",
      "metadata": {
        "id": "GCunsWPugsiw",
        "colab_type": "code",
        "colab": {}
      },
      "source": [
        "# this could also be the output a different Keras model or layer\n",
        "input_tensor = Input(shape=(224, 224, 3))  # this assumes K.image_data_format() == 'channels_last'"
      ],
      "execution_count": 0,
      "outputs": []
    },
    {
      "cell_type": "code",
      "metadata": {
        "id": "UvmNwwxmgvmg",
        "colab_type": "code",
        "colab": {}
      },
      "source": [
        "model = InceptionV3(input_tensor=input_tensor, weights='imagenet', include_top=True)"
      ],
      "execution_count": 0,
      "outputs": []
    },
    {
      "cell_type": "markdown",
      "metadata": {
        "id": "z5AWonYTiLaw",
        "colab_type": "text"
      },
      "source": [
        "## How to use models from keras.applications for transfer learning?\n",
        "\n",
        "https://stackoverflow.com/questions/41378461/how-to-use-models-from-keras-applications-for-transfer-learnig"
      ]
    },
    {
      "cell_type": "markdown",
      "metadata": {
        "id": "lZ_XeZKQigW5",
        "colab_type": "text"
      },
      "source": [
        "I want to get pretrained VGG16 model in Keras, remove its output layer, and then put a new output layer with the number of classes suited for my problem, and then to fit it on new data. For this reason, I am trying to use the model here: https://keras.io/applications/#vgg16, but since it is not Sequential, I cannot just model.pop(). Popping from layers and adding it also does not work, because in the predictions it still expects the old shape. How would I do that? Is there a way to convert this type of model to Sequential?"
      ]
    },
    {
      "cell_type": "markdown",
      "metadata": {
        "id": "GHsLXYAvinSI",
        "colab_type": "text"
      },
      "source": [
        "You can use pop() on model.layers and then use model.layers[-1].output to create new layers.\n",
        "\n",
        "Example:"
      ]
    },
    {
      "cell_type": "code",
      "metadata": {
        "id": "RNlUBfx3gzQb",
        "colab_type": "code",
        "colab": {}
      },
      "source": [
        "from keras.models import Model\n",
        "from keras.layers import Dense,Flatten\n",
        "from keras.applications import vgg16\n",
        "from keras import backend as K"
      ],
      "execution_count": 0,
      "outputs": []
    },
    {
      "cell_type": "code",
      "metadata": {
        "id": "gShlnQtCis1D",
        "colab_type": "code",
        "colab": {}
      },
      "source": [
        "model = vgg16.VGG16(weights='imagenet', include_top=True)"
      ],
      "execution_count": 0,
      "outputs": []
    },
    {
      "cell_type": "code",
      "metadata": {
        "id": "d3lMvZrKiwUj",
        "colab_type": "code",
        "outputId": "f005f15e-9952-48ef-f123-8be8517cf625",
        "colab": {
          "base_uri": "https://localhost:8080/",
          "height": 35
        }
      },
      "source": [
        "model.input"
      ],
      "execution_count": 0,
      "outputs": [
        {
          "output_type": "execute_result",
          "data": {
            "text/plain": [
              "<tf.Tensor 'input_7:0' shape=(?, 224, 224, 3) dtype=float32>"
            ]
          },
          "metadata": {
            "tags": []
          },
          "execution_count": 30
        }
      ]
    },
    {
      "cell_type": "code",
      "metadata": {
        "id": "p1-Vykbli4we",
        "colab_type": "code",
        "outputId": "17a41d6f-cbe3-4430-a575-a3b44767f366",
        "colab": {
          "base_uri": "https://localhost:8080/",
          "height": 956
        }
      },
      "source": [
        "model.summary(line_length=150)"
      ],
      "execution_count": 0,
      "outputs": [
        {
          "output_type": "stream",
          "text": [
            "______________________________________________________________________________________________________________________________________________________\n",
            "Layer (type)                                                       Output Shape                                                Param #                \n",
            "======================================================================================================================================================\n",
            "input_7 (InputLayer)                                               (None, 224, 224, 3)                                         0                      \n",
            "______________________________________________________________________________________________________________________________________________________\n",
            "block1_conv1 (Conv2D)                                              (None, 224, 224, 64)                                        1792                   \n",
            "______________________________________________________________________________________________________________________________________________________\n",
            "block1_conv2 (Conv2D)                                              (None, 224, 224, 64)                                        36928                  \n",
            "______________________________________________________________________________________________________________________________________________________\n",
            "block1_pool (MaxPooling2D)                                         (None, 112, 112, 64)                                        0                      \n",
            "______________________________________________________________________________________________________________________________________________________\n",
            "block2_conv1 (Conv2D)                                              (None, 112, 112, 128)                                       73856                  \n",
            "______________________________________________________________________________________________________________________________________________________\n",
            "block2_conv2 (Conv2D)                                              (None, 112, 112, 128)                                       147584                 \n",
            "______________________________________________________________________________________________________________________________________________________\n",
            "block2_pool (MaxPooling2D)                                         (None, 56, 56, 128)                                         0                      \n",
            "______________________________________________________________________________________________________________________________________________________\n",
            "block3_conv1 (Conv2D)                                              (None, 56, 56, 256)                                         295168                 \n",
            "______________________________________________________________________________________________________________________________________________________\n",
            "block3_conv2 (Conv2D)                                              (None, 56, 56, 256)                                         590080                 \n",
            "______________________________________________________________________________________________________________________________________________________\n",
            "block3_conv3 (Conv2D)                                              (None, 56, 56, 256)                                         590080                 \n",
            "______________________________________________________________________________________________________________________________________________________\n",
            "block3_pool (MaxPooling2D)                                         (None, 28, 28, 256)                                         0                      \n",
            "______________________________________________________________________________________________________________________________________________________\n",
            "block4_conv1 (Conv2D)                                              (None, 28, 28, 512)                                         1180160                \n",
            "______________________________________________________________________________________________________________________________________________________\n",
            "block4_conv2 (Conv2D)                                              (None, 28, 28, 512)                                         2359808                \n",
            "______________________________________________________________________________________________________________________________________________________\n",
            "block4_conv3 (Conv2D)                                              (None, 28, 28, 512)                                         2359808                \n",
            "______________________________________________________________________________________________________________________________________________________\n",
            "block4_pool (MaxPooling2D)                                         (None, 14, 14, 512)                                         0                      \n",
            "______________________________________________________________________________________________________________________________________________________\n",
            "block5_conv1 (Conv2D)                                              (None, 14, 14, 512)                                         2359808                \n",
            "______________________________________________________________________________________________________________________________________________________\n",
            "block5_conv2 (Conv2D)                                              (None, 14, 14, 512)                                         2359808                \n",
            "______________________________________________________________________________________________________________________________________________________\n",
            "block5_conv3 (Conv2D)                                              (None, 14, 14, 512)                                         2359808                \n",
            "______________________________________________________________________________________________________________________________________________________\n",
            "block5_pool (MaxPooling2D)                                         (None, 7, 7, 512)                                           0                      \n",
            "______________________________________________________________________________________________________________________________________________________\n",
            "flatten (Flatten)                                                  (None, 25088)                                               0                      \n",
            "______________________________________________________________________________________________________________________________________________________\n",
            "fc1 (Dense)                                                        (None, 4096)                                                102764544              \n",
            "______________________________________________________________________________________________________________________________________________________\n",
            "fc2 (Dense)                                                        (None, 4096)                                                16781312               \n",
            "______________________________________________________________________________________________________________________________________________________\n",
            "predictions (Dense)                                                (None, 1000)                                                4097000                \n",
            "======================================================================================================================================================\n",
            "Total params: 138,357,544\n",
            "Trainable params: 138,357,544\n",
            "Non-trainable params: 0\n",
            "______________________________________________________________________________________________________________________________________________________\n"
          ],
          "name": "stdout"
        }
      ]
    },
    {
      "cell_type": "code",
      "metadata": {
        "id": "p6UhoKSCi7xl",
        "colab_type": "code",
        "outputId": "51754e1d-4a2f-4dd5-b53b-bcdc317ce238",
        "colab": {
          "base_uri": "https://localhost:8080/",
          "height": 35
        }
      },
      "source": [
        "model.layers.pop()\n",
        "model.layers.pop()"
      ],
      "execution_count": 0,
      "outputs": [
        {
          "output_type": "execute_result",
          "data": {
            "text/plain": [
              "<keras.layers.core.Dense at 0x7f72702fa630>"
            ]
          },
          "metadata": {
            "tags": []
          },
          "execution_count": 32
        }
      ]
    },
    {
      "cell_type": "code",
      "metadata": {
        "id": "7tGYLRHii-tg",
        "colab_type": "code",
        "outputId": "2a03930e-8632-4ce4-cb20-3b2d18f8f9a4",
        "colab": {
          "base_uri": "https://localhost:8080/",
          "height": 887
        }
      },
      "source": [
        "model.summary(line_length=150)"
      ],
      "execution_count": 0,
      "outputs": [
        {
          "output_type": "stream",
          "text": [
            "______________________________________________________________________________________________________________________________________________________\n",
            "Layer (type)                                                       Output Shape                                                Param #                \n",
            "======================================================================================================================================================\n",
            "input_7 (InputLayer)                                               (None, 224, 224, 3)                                         0                      \n",
            "______________________________________________________________________________________________________________________________________________________\n",
            "block1_conv1 (Conv2D)                                              (None, 224, 224, 64)                                        1792                   \n",
            "______________________________________________________________________________________________________________________________________________________\n",
            "block1_conv2 (Conv2D)                                              (None, 224, 224, 64)                                        36928                  \n",
            "______________________________________________________________________________________________________________________________________________________\n",
            "block1_pool (MaxPooling2D)                                         (None, 112, 112, 64)                                        0                      \n",
            "______________________________________________________________________________________________________________________________________________________\n",
            "block2_conv1 (Conv2D)                                              (None, 112, 112, 128)                                       73856                  \n",
            "______________________________________________________________________________________________________________________________________________________\n",
            "block2_conv2 (Conv2D)                                              (None, 112, 112, 128)                                       147584                 \n",
            "______________________________________________________________________________________________________________________________________________________\n",
            "block2_pool (MaxPooling2D)                                         (None, 56, 56, 128)                                         0                      \n",
            "______________________________________________________________________________________________________________________________________________________\n",
            "block3_conv1 (Conv2D)                                              (None, 56, 56, 256)                                         295168                 \n",
            "______________________________________________________________________________________________________________________________________________________\n",
            "block3_conv2 (Conv2D)                                              (None, 56, 56, 256)                                         590080                 \n",
            "______________________________________________________________________________________________________________________________________________________\n",
            "block3_conv3 (Conv2D)                                              (None, 56, 56, 256)                                         590080                 \n",
            "______________________________________________________________________________________________________________________________________________________\n",
            "block3_pool (MaxPooling2D)                                         (None, 28, 28, 256)                                         0                      \n",
            "______________________________________________________________________________________________________________________________________________________\n",
            "block4_conv1 (Conv2D)                                              (None, 28, 28, 512)                                         1180160                \n",
            "______________________________________________________________________________________________________________________________________________________\n",
            "block4_conv2 (Conv2D)                                              (None, 28, 28, 512)                                         2359808                \n",
            "______________________________________________________________________________________________________________________________________________________\n",
            "block4_conv3 (Conv2D)                                              (None, 28, 28, 512)                                         2359808                \n",
            "______________________________________________________________________________________________________________________________________________________\n",
            "block4_pool (MaxPooling2D)                                         (None, 14, 14, 512)                                         0                      \n",
            "______________________________________________________________________________________________________________________________________________________\n",
            "block5_conv1 (Conv2D)                                              (None, 14, 14, 512)                                         2359808                \n",
            "______________________________________________________________________________________________________________________________________________________\n",
            "block5_conv2 (Conv2D)                                              (None, 14, 14, 512)                                         2359808                \n",
            "______________________________________________________________________________________________________________________________________________________\n",
            "block5_conv3 (Conv2D)                                              (None, 14, 14, 512)                                         2359808                \n",
            "______________________________________________________________________________________________________________________________________________________\n",
            "block5_pool (MaxPooling2D)                                         (None, 7, 7, 512)                                           0                      \n",
            "______________________________________________________________________________________________________________________________________________________\n",
            "flatten (Flatten)                                                  (None, 25088)                                               0                      \n",
            "______________________________________________________________________________________________________________________________________________________\n",
            "fc1 (Dense)                                                        (None, 4096)                                                102764544              \n",
            "======================================================================================================================================================\n",
            "Total params: 117,479,232\n",
            "Trainable params: 117,479,232\n",
            "Non-trainable params: 0\n",
            "______________________________________________________________________________________________________________________________________________________\n"
          ],
          "name": "stdout"
        }
      ]
    },
    {
      "cell_type": "code",
      "metadata": {
        "id": "Nq-XwX1mjCHO",
        "colab_type": "code",
        "colab": {}
      },
      "source": [
        "new_layer = Dense(10, activation='softmax', name='my_dense')"
      ],
      "execution_count": 0,
      "outputs": []
    },
    {
      "cell_type": "code",
      "metadata": {
        "id": "h7sFjP2wjHtr",
        "colab_type": "code",
        "colab": {}
      },
      "source": [
        "inp = model.input\n",
        "out = new_layer(model.layers[-1].output)"
      ],
      "execution_count": 0,
      "outputs": []
    },
    {
      "cell_type": "code",
      "metadata": {
        "id": "R8_vhak6jMPt",
        "colab_type": "code",
        "outputId": "6dea3b69-0d38-420e-8b10-04e28e62fd76",
        "colab": {
          "base_uri": "https://localhost:8080/",
          "height": 921
        }
      },
      "source": [
        "model2 = Model(inp, out)\n",
        "model2.summary(line_length=150)"
      ],
      "execution_count": 0,
      "outputs": [
        {
          "output_type": "stream",
          "text": [
            "______________________________________________________________________________________________________________________________________________________\n",
            "Layer (type)                                                       Output Shape                                                Param #                \n",
            "======================================================================================================================================================\n",
            "input_7 (InputLayer)                                               (None, 224, 224, 3)                                         0                      \n",
            "______________________________________________________________________________________________________________________________________________________\n",
            "block1_conv1 (Conv2D)                                              (None, 224, 224, 64)                                        1792                   \n",
            "______________________________________________________________________________________________________________________________________________________\n",
            "block1_conv2 (Conv2D)                                              (None, 224, 224, 64)                                        36928                  \n",
            "______________________________________________________________________________________________________________________________________________________\n",
            "block1_pool (MaxPooling2D)                                         (None, 112, 112, 64)                                        0                      \n",
            "______________________________________________________________________________________________________________________________________________________\n",
            "block2_conv1 (Conv2D)                                              (None, 112, 112, 128)                                       73856                  \n",
            "______________________________________________________________________________________________________________________________________________________\n",
            "block2_conv2 (Conv2D)                                              (None, 112, 112, 128)                                       147584                 \n",
            "______________________________________________________________________________________________________________________________________________________\n",
            "block2_pool (MaxPooling2D)                                         (None, 56, 56, 128)                                         0                      \n",
            "______________________________________________________________________________________________________________________________________________________\n",
            "block3_conv1 (Conv2D)                                              (None, 56, 56, 256)                                         295168                 \n",
            "______________________________________________________________________________________________________________________________________________________\n",
            "block3_conv2 (Conv2D)                                              (None, 56, 56, 256)                                         590080                 \n",
            "______________________________________________________________________________________________________________________________________________________\n",
            "block3_conv3 (Conv2D)                                              (None, 56, 56, 256)                                         590080                 \n",
            "______________________________________________________________________________________________________________________________________________________\n",
            "block3_pool (MaxPooling2D)                                         (None, 28, 28, 256)                                         0                      \n",
            "______________________________________________________________________________________________________________________________________________________\n",
            "block4_conv1 (Conv2D)                                              (None, 28, 28, 512)                                         1180160                \n",
            "______________________________________________________________________________________________________________________________________________________\n",
            "block4_conv2 (Conv2D)                                              (None, 28, 28, 512)                                         2359808                \n",
            "______________________________________________________________________________________________________________________________________________________\n",
            "block4_conv3 (Conv2D)                                              (None, 28, 28, 512)                                         2359808                \n",
            "______________________________________________________________________________________________________________________________________________________\n",
            "block4_pool (MaxPooling2D)                                         (None, 14, 14, 512)                                         0                      \n",
            "______________________________________________________________________________________________________________________________________________________\n",
            "block5_conv1 (Conv2D)                                              (None, 14, 14, 512)                                         2359808                \n",
            "______________________________________________________________________________________________________________________________________________________\n",
            "block5_conv2 (Conv2D)                                              (None, 14, 14, 512)                                         2359808                \n",
            "______________________________________________________________________________________________________________________________________________________\n",
            "block5_conv3 (Conv2D)                                              (None, 14, 14, 512)                                         2359808                \n",
            "______________________________________________________________________________________________________________________________________________________\n",
            "block5_pool (MaxPooling2D)                                         (None, 7, 7, 512)                                           0                      \n",
            "______________________________________________________________________________________________________________________________________________________\n",
            "flatten (Flatten)                                                  (None, 25088)                                               0                      \n",
            "______________________________________________________________________________________________________________________________________________________\n",
            "fc1 (Dense)                                                        (None, 4096)                                                102764544              \n",
            "______________________________________________________________________________________________________________________________________________________\n",
            "my_dense (Dense)                                                   (None, 10)                                                  40970                  \n",
            "======================================================================================================================================================\n",
            "Total params: 117,520,202\n",
            "Trainable params: 117,520,202\n",
            "Non-trainable params: 0\n",
            "______________________________________________________________________________________________________________________________________________________\n"
          ],
          "name": "stdout"
        }
      ]
    },
    {
      "cell_type": "markdown",
      "metadata": {
        "id": "snpixmIsjW9G",
        "colab_type": "text"
      },
      "source": [
        "Alternatively, you can use include_top=False option of these models. In this case if you need to use flatten the layer then you need to pass the input_shape also."
      ]
    },
    {
      "cell_type": "code",
      "metadata": {
        "id": "apqwra3hjP65",
        "colab_type": "code",
        "outputId": "138a1898-d7a3-4c3a-c4bb-a073a62f0b5c",
        "colab": {
          "base_uri": "https://localhost:8080/",
          "height": 817
        }
      },
      "source": [
        "model3 = vgg16.VGG16(weights='imagenet', include_top=False, input_shape=(224, 224, 3))\n",
        "model3.summary(line_length=150)"
      ],
      "execution_count": 0,
      "outputs": [
        {
          "output_type": "stream",
          "text": [
            "______________________________________________________________________________________________________________________________________________________\n",
            "Layer (type)                                                       Output Shape                                                Param #                \n",
            "======================================================================================================================================================\n",
            "input_8 (InputLayer)                                               (None, 224, 224, 3)                                         0                      \n",
            "______________________________________________________________________________________________________________________________________________________\n",
            "block1_conv1 (Conv2D)                                              (None, 224, 224, 64)                                        1792                   \n",
            "______________________________________________________________________________________________________________________________________________________\n",
            "block1_conv2 (Conv2D)                                              (None, 224, 224, 64)                                        36928                  \n",
            "______________________________________________________________________________________________________________________________________________________\n",
            "block1_pool (MaxPooling2D)                                         (None, 112, 112, 64)                                        0                      \n",
            "______________________________________________________________________________________________________________________________________________________\n",
            "block2_conv1 (Conv2D)                                              (None, 112, 112, 128)                                       73856                  \n",
            "______________________________________________________________________________________________________________________________________________________\n",
            "block2_conv2 (Conv2D)                                              (None, 112, 112, 128)                                       147584                 \n",
            "______________________________________________________________________________________________________________________________________________________\n",
            "block2_pool (MaxPooling2D)                                         (None, 56, 56, 128)                                         0                      \n",
            "______________________________________________________________________________________________________________________________________________________\n",
            "block3_conv1 (Conv2D)                                              (None, 56, 56, 256)                                         295168                 \n",
            "______________________________________________________________________________________________________________________________________________________\n",
            "block3_conv2 (Conv2D)                                              (None, 56, 56, 256)                                         590080                 \n",
            "______________________________________________________________________________________________________________________________________________________\n",
            "block3_conv3 (Conv2D)                                              (None, 56, 56, 256)                                         590080                 \n",
            "______________________________________________________________________________________________________________________________________________________\n",
            "block3_pool (MaxPooling2D)                                         (None, 28, 28, 256)                                         0                      \n",
            "______________________________________________________________________________________________________________________________________________________\n",
            "block4_conv1 (Conv2D)                                              (None, 28, 28, 512)                                         1180160                \n",
            "______________________________________________________________________________________________________________________________________________________\n",
            "block4_conv2 (Conv2D)                                              (None, 28, 28, 512)                                         2359808                \n",
            "______________________________________________________________________________________________________________________________________________________\n",
            "block4_conv3 (Conv2D)                                              (None, 28, 28, 512)                                         2359808                \n",
            "______________________________________________________________________________________________________________________________________________________\n",
            "block4_pool (MaxPooling2D)                                         (None, 14, 14, 512)                                         0                      \n",
            "______________________________________________________________________________________________________________________________________________________\n",
            "block5_conv1 (Conv2D)                                              (None, 14, 14, 512)                                         2359808                \n",
            "______________________________________________________________________________________________________________________________________________________\n",
            "block5_conv2 (Conv2D)                                              (None, 14, 14, 512)                                         2359808                \n",
            "______________________________________________________________________________________________________________________________________________________\n",
            "block5_conv3 (Conv2D)                                              (None, 14, 14, 512)                                         2359808                \n",
            "______________________________________________________________________________________________________________________________________________________\n",
            "block5_pool (MaxPooling2D)                                         (None, 7, 7, 512)                                           0                      \n",
            "======================================================================================================================================================\n",
            "Total params: 14,714,688\n",
            "Trainable params: 14,714,688\n",
            "Non-trainable params: 0\n",
            "______________________________________________________________________________________________________________________________________________________\n"
          ],
          "name": "stdout"
        }
      ]
    },
    {
      "cell_type": "code",
      "metadata": {
        "id": "q3ZseGc1jaRB",
        "colab_type": "code",
        "colab": {}
      },
      "source": [
        "flatten = Flatten()\n",
        "new_layer2 = Dense(10, activation='softmax', name='my_dense_2')"
      ],
      "execution_count": 0,
      "outputs": []
    },
    {
      "cell_type": "code",
      "metadata": {
        "id": "-NTS3v9Sje9L",
        "colab_type": "code",
        "colab": {}
      },
      "source": [
        "inp2 = model3.input\n",
        "out2 = new_layer2(flatten(model3.output))"
      ],
      "execution_count": 0,
      "outputs": []
    },
    {
      "cell_type": "code",
      "metadata": {
        "id": "iTd-a40SjhGN",
        "colab_type": "code",
        "outputId": "b4b647fd-5f3a-48a8-a802-43d86411abe0",
        "colab": {
          "base_uri": "https://localhost:8080/",
          "height": 887
        }
      },
      "source": [
        "model4 = Model(inp2, out2)\n",
        "model4.summary(line_length=150)"
      ],
      "execution_count": 0,
      "outputs": [
        {
          "output_type": "stream",
          "text": [
            "______________________________________________________________________________________________________________________________________________________\n",
            "Layer (type)                                                       Output Shape                                                Param #                \n",
            "======================================================================================================================================================\n",
            "input_8 (InputLayer)                                               (None, 224, 224, 3)                                         0                      \n",
            "______________________________________________________________________________________________________________________________________________________\n",
            "block1_conv1 (Conv2D)                                              (None, 224, 224, 64)                                        1792                   \n",
            "______________________________________________________________________________________________________________________________________________________\n",
            "block1_conv2 (Conv2D)                                              (None, 224, 224, 64)                                        36928                  \n",
            "______________________________________________________________________________________________________________________________________________________\n",
            "block1_pool (MaxPooling2D)                                         (None, 112, 112, 64)                                        0                      \n",
            "______________________________________________________________________________________________________________________________________________________\n",
            "block2_conv1 (Conv2D)                                              (None, 112, 112, 128)                                       73856                  \n",
            "______________________________________________________________________________________________________________________________________________________\n",
            "block2_conv2 (Conv2D)                                              (None, 112, 112, 128)                                       147584                 \n",
            "______________________________________________________________________________________________________________________________________________________\n",
            "block2_pool (MaxPooling2D)                                         (None, 56, 56, 128)                                         0                      \n",
            "______________________________________________________________________________________________________________________________________________________\n",
            "block3_conv1 (Conv2D)                                              (None, 56, 56, 256)                                         295168                 \n",
            "______________________________________________________________________________________________________________________________________________________\n",
            "block3_conv2 (Conv2D)                                              (None, 56, 56, 256)                                         590080                 \n",
            "______________________________________________________________________________________________________________________________________________________\n",
            "block3_conv3 (Conv2D)                                              (None, 56, 56, 256)                                         590080                 \n",
            "______________________________________________________________________________________________________________________________________________________\n",
            "block3_pool (MaxPooling2D)                                         (None, 28, 28, 256)                                         0                      \n",
            "______________________________________________________________________________________________________________________________________________________\n",
            "block4_conv1 (Conv2D)                                              (None, 28, 28, 512)                                         1180160                \n",
            "______________________________________________________________________________________________________________________________________________________\n",
            "block4_conv2 (Conv2D)                                              (None, 28, 28, 512)                                         2359808                \n",
            "______________________________________________________________________________________________________________________________________________________\n",
            "block4_conv3 (Conv2D)                                              (None, 28, 28, 512)                                         2359808                \n",
            "______________________________________________________________________________________________________________________________________________________\n",
            "block4_pool (MaxPooling2D)                                         (None, 14, 14, 512)                                         0                      \n",
            "______________________________________________________________________________________________________________________________________________________\n",
            "block5_conv1 (Conv2D)                                              (None, 14, 14, 512)                                         2359808                \n",
            "______________________________________________________________________________________________________________________________________________________\n",
            "block5_conv2 (Conv2D)                                              (None, 14, 14, 512)                                         2359808                \n",
            "______________________________________________________________________________________________________________________________________________________\n",
            "block5_conv3 (Conv2D)                                              (None, 14, 14, 512)                                         2359808                \n",
            "______________________________________________________________________________________________________________________________________________________\n",
            "block5_pool (MaxPooling2D)                                         (None, 7, 7, 512)                                           0                      \n",
            "______________________________________________________________________________________________________________________________________________________\n",
            "flatten_1 (Flatten)                                                (None, 25088)                                               0                      \n",
            "______________________________________________________________________________________________________________________________________________________\n",
            "my_dense_2 (Dense)                                                 (None, 10)                                                  250890                 \n",
            "======================================================================================================================================================\n",
            "Total params: 14,965,578\n",
            "Trainable params: 14,965,578\n",
            "Non-trainable params: 0\n",
            "______________________________________________________________________________________________________________________________________________________\n"
          ],
          "name": "stdout"
        }
      ]
    },
    {
      "cell_type": "markdown",
      "metadata": {
        "id": "U9kQq4XfmUlk",
        "colab_type": "text"
      },
      "source": [
        "## Transfer Learning using Keras\n",
        "\n",
        "https://medium.com/@14prakash/transfer-learning-using-keras-d804b2e04ef8\n"
      ]
    },
    {
      "cell_type": "code",
      "metadata": {
        "id": "TRC7tsGljkA6",
        "colab_type": "code",
        "colab": {}
      },
      "source": [
        "from keras import applications\n",
        "from keras.preprocessing.image import ImageDataGenerator\n",
        "from keras import optimizers\n",
        "from keras.models import Sequential, Model \n",
        "from keras.layers import Dropout, Flatten, Dense, GlobalAveragePooling2D\n",
        "from keras import backend as k \n",
        "from keras.callbacks import ModelCheckpoint, LearningRateScheduler, TensorBoard, EarlyStopping"
      ],
      "execution_count": 0,
      "outputs": []
    },
    {
      "cell_type": "code",
      "metadata": {
        "id": "qD-n1fuHmjJz",
        "colab_type": "code",
        "colab": {}
      },
      "source": [
        "img_width, img_height = 256, 256\n",
        "train_data_dir = \"data/train\"\n",
        "validation_data_dir = \"data/val\"\n",
        "nb_train_samples = 4125\n",
        "nb_validation_samples = 466 \n",
        "batch_size = 16\n",
        "epochs = 50"
      ],
      "execution_count": 0,
      "outputs": []
    },
    {
      "cell_type": "code",
      "metadata": {
        "id": "Ygf_HBtrmp2C",
        "colab_type": "code",
        "outputId": "ec643592-559e-472f-9e9e-1f83dba3b6ae",
        "colab": {
          "base_uri": "https://localhost:8080/",
          "height": 72
        }
      },
      "source": [
        "model = applications.VGG19(weights = \"imagenet\", include_top=False, input_shape = (img_width, img_height, 3))"
      ],
      "execution_count": 0,
      "outputs": [
        {
          "output_type": "stream",
          "text": [
            "Downloading data from https://github.com/fchollet/deep-learning-models/releases/download/v0.1/vgg19_weights_tf_dim_ordering_tf_kernels_notop.h5\n",
            "80142336/80134624 [==============================] - 5s 0us/step\n"
          ],
          "name": "stdout"
        }
      ]
    },
    {
      "cell_type": "code",
      "metadata": {
        "id": "ScG7Rf41mvx_",
        "colab_type": "code",
        "outputId": "5f21eb8c-84f3-4c8a-a6a6-bde8a0a3b92f",
        "colab": {
          "base_uri": "https://localhost:8080/",
          "height": 901
        }
      },
      "source": [
        "model.summary()"
      ],
      "execution_count": 0,
      "outputs": [
        {
          "output_type": "stream",
          "text": [
            "_________________________________________________________________\n",
            "Layer (type)                 Output Shape              Param #   \n",
            "=================================================================\n",
            "input_9 (InputLayer)         (None, 256, 256, 3)       0         \n",
            "_________________________________________________________________\n",
            "block1_conv1 (Conv2D)        (None, 256, 256, 64)      1792      \n",
            "_________________________________________________________________\n",
            "block1_conv2 (Conv2D)        (None, 256, 256, 64)      36928     \n",
            "_________________________________________________________________\n",
            "block1_pool (MaxPooling2D)   (None, 128, 128, 64)      0         \n",
            "_________________________________________________________________\n",
            "block2_conv1 (Conv2D)        (None, 128, 128, 128)     73856     \n",
            "_________________________________________________________________\n",
            "block2_conv2 (Conv2D)        (None, 128, 128, 128)     147584    \n",
            "_________________________________________________________________\n",
            "block2_pool (MaxPooling2D)   (None, 64, 64, 128)       0         \n",
            "_________________________________________________________________\n",
            "block3_conv1 (Conv2D)        (None, 64, 64, 256)       295168    \n",
            "_________________________________________________________________\n",
            "block3_conv2 (Conv2D)        (None, 64, 64, 256)       590080    \n",
            "_________________________________________________________________\n",
            "block3_conv3 (Conv2D)        (None, 64, 64, 256)       590080    \n",
            "_________________________________________________________________\n",
            "block3_conv4 (Conv2D)        (None, 64, 64, 256)       590080    \n",
            "_________________________________________________________________\n",
            "block3_pool (MaxPooling2D)   (None, 32, 32, 256)       0         \n",
            "_________________________________________________________________\n",
            "block4_conv1 (Conv2D)        (None, 32, 32, 512)       1180160   \n",
            "_________________________________________________________________\n",
            "block4_conv2 (Conv2D)        (None, 32, 32, 512)       2359808   \n",
            "_________________________________________________________________\n",
            "block4_conv3 (Conv2D)        (None, 32, 32, 512)       2359808   \n",
            "_________________________________________________________________\n",
            "block4_conv4 (Conv2D)        (None, 32, 32, 512)       2359808   \n",
            "_________________________________________________________________\n",
            "block4_pool (MaxPooling2D)   (None, 16, 16, 512)       0         \n",
            "_________________________________________________________________\n",
            "block5_conv1 (Conv2D)        (None, 16, 16, 512)       2359808   \n",
            "_________________________________________________________________\n",
            "block5_conv2 (Conv2D)        (None, 16, 16, 512)       2359808   \n",
            "_________________________________________________________________\n",
            "block5_conv3 (Conv2D)        (None, 16, 16, 512)       2359808   \n",
            "_________________________________________________________________\n",
            "block5_conv4 (Conv2D)        (None, 16, 16, 512)       2359808   \n",
            "_________________________________________________________________\n",
            "block5_pool (MaxPooling2D)   (None, 8, 8, 512)         0         \n",
            "=================================================================\n",
            "Total params: 20,024,384\n",
            "Trainable params: 20,024,384\n",
            "Non-trainable params: 0\n",
            "_________________________________________________________________\n"
          ],
          "name": "stdout"
        }
      ]
    },
    {
      "cell_type": "code",
      "metadata": {
        "id": "iMVE2Ltam6-d",
        "colab_type": "code",
        "colab": {}
      },
      "source": [
        "# Freeze the layers which you don't want to train. Here I am freezing the first 5 layers.\n",
        "for layer in model.layers[:5]:\n",
        "    layer.trainable = False"
      ],
      "execution_count": 0,
      "outputs": []
    },
    {
      "cell_type": "code",
      "metadata": {
        "id": "__qD-n-Im_j7",
        "colab_type": "code",
        "outputId": "92c46674-5a5a-4e66-c1a7-b4ac343ec195",
        "colab": {
          "base_uri": "https://localhost:8080/",
          "height": 901
        }
      },
      "source": [
        "model.summary()"
      ],
      "execution_count": 0,
      "outputs": [
        {
          "output_type": "stream",
          "text": [
            "_________________________________________________________________\n",
            "Layer (type)                 Output Shape              Param #   \n",
            "=================================================================\n",
            "input_9 (InputLayer)         (None, 256, 256, 3)       0         \n",
            "_________________________________________________________________\n",
            "block1_conv1 (Conv2D)        (None, 256, 256, 64)      1792      \n",
            "_________________________________________________________________\n",
            "block1_conv2 (Conv2D)        (None, 256, 256, 64)      36928     \n",
            "_________________________________________________________________\n",
            "block1_pool (MaxPooling2D)   (None, 128, 128, 64)      0         \n",
            "_________________________________________________________________\n",
            "block2_conv1 (Conv2D)        (None, 128, 128, 128)     73856     \n",
            "_________________________________________________________________\n",
            "block2_conv2 (Conv2D)        (None, 128, 128, 128)     147584    \n",
            "_________________________________________________________________\n",
            "block2_pool (MaxPooling2D)   (None, 64, 64, 128)       0         \n",
            "_________________________________________________________________\n",
            "block3_conv1 (Conv2D)        (None, 64, 64, 256)       295168    \n",
            "_________________________________________________________________\n",
            "block3_conv2 (Conv2D)        (None, 64, 64, 256)       590080    \n",
            "_________________________________________________________________\n",
            "block3_conv3 (Conv2D)        (None, 64, 64, 256)       590080    \n",
            "_________________________________________________________________\n",
            "block3_conv4 (Conv2D)        (None, 64, 64, 256)       590080    \n",
            "_________________________________________________________________\n",
            "block3_pool (MaxPooling2D)   (None, 32, 32, 256)       0         \n",
            "_________________________________________________________________\n",
            "block4_conv1 (Conv2D)        (None, 32, 32, 512)       1180160   \n",
            "_________________________________________________________________\n",
            "block4_conv2 (Conv2D)        (None, 32, 32, 512)       2359808   \n",
            "_________________________________________________________________\n",
            "block4_conv3 (Conv2D)        (None, 32, 32, 512)       2359808   \n",
            "_________________________________________________________________\n",
            "block4_conv4 (Conv2D)        (None, 32, 32, 512)       2359808   \n",
            "_________________________________________________________________\n",
            "block4_pool (MaxPooling2D)   (None, 16, 16, 512)       0         \n",
            "_________________________________________________________________\n",
            "block5_conv1 (Conv2D)        (None, 16, 16, 512)       2359808   \n",
            "_________________________________________________________________\n",
            "block5_conv2 (Conv2D)        (None, 16, 16, 512)       2359808   \n",
            "_________________________________________________________________\n",
            "block5_conv3 (Conv2D)        (None, 16, 16, 512)       2359808   \n",
            "_________________________________________________________________\n",
            "block5_conv4 (Conv2D)        (None, 16, 16, 512)       2359808   \n",
            "_________________________________________________________________\n",
            "block5_pool (MaxPooling2D)   (None, 8, 8, 512)         0         \n",
            "=================================================================\n",
            "Total params: 20,024,384\n",
            "Trainable params: 19,911,808\n",
            "Non-trainable params: 112,576\n",
            "_________________________________________________________________\n"
          ],
          "name": "stdout"
        }
      ]
    },
    {
      "cell_type": "code",
      "metadata": {
        "id": "k6f570UInCRT",
        "colab_type": "code",
        "outputId": "7e3c21e0-dc34-4c5e-e078-e71b18a0b5f8",
        "colab": {
          "base_uri": "https://localhost:8080/",
          "height": 89
        }
      },
      "source": [
        "#Adding custom Layers \n",
        "x = model.output\n",
        "x = Flatten()(x)\n",
        "x = Dense(1024, activation=\"relu\")(x)\n",
        "x = Dropout(0.5)(x)\n",
        "x = Dense(1024, activation=\"relu\")(x)\n",
        "predictions = Dense(16, activation=\"softmax\")(x)"
      ],
      "execution_count": 0,
      "outputs": [
        {
          "output_type": "stream",
          "text": [
            "WARNING:tensorflow:From /usr/local/lib/python3.6/dist-packages/keras/backend/tensorflow_backend.py:3445: calling dropout (from tensorflow.python.ops.nn_ops) with keep_prob is deprecated and will be removed in a future version.\n",
            "Instructions for updating:\n",
            "Please use `rate` instead of `keep_prob`. Rate should be set to `rate = 1 - keep_prob`.\n"
          ],
          "name": "stdout"
        }
      ]
    },
    {
      "cell_type": "code",
      "metadata": {
        "id": "hFL1ySuanJ6o",
        "colab_type": "code",
        "outputId": "f8581683-9991-4950-a516-fe94229c2498",
        "colab": {
          "base_uri": "https://localhost:8080/",
          "height": 72
        }
      },
      "source": [
        "# creating the final model \n",
        "model_final = Model(input = model.input, output = predictions)"
      ],
      "execution_count": 0,
      "outputs": [
        {
          "output_type": "stream",
          "text": [
            "/usr/local/lib/python3.6/dist-packages/ipykernel_launcher.py:1: UserWarning: Update your `Model` call to the Keras 2 API: `Model(inputs=Tensor(\"in..., outputs=Tensor(\"de...)`\n",
            "  \"\"\"Entry point for launching an IPython kernel.\n"
          ],
          "name": "stderr"
        }
      ]
    },
    {
      "cell_type": "code",
      "metadata": {
        "id": "-ujW4rbonR1v",
        "colab_type": "code",
        "colab": {}
      },
      "source": [
        "# compile the model \n",
        "model_final.compile(loss = \"categorical_crossentropy\", optimizer = optimizers.SGD(lr=0.0001, momentum=0.9), metrics=[\"accuracy\"])"
      ],
      "execution_count": 0,
      "outputs": []
    },
    {
      "cell_type": "code",
      "metadata": {
        "id": "gU5HDgxLnb8_",
        "colab_type": "code",
        "outputId": "c1bc1860-1afd-4cc4-8025-73265b9da038",
        "colab": {
          "base_uri": "https://localhost:8080/",
          "height": 901
        }
      },
      "source": [
        "model.summary()"
      ],
      "execution_count": 0,
      "outputs": [
        {
          "output_type": "stream",
          "text": [
            "_________________________________________________________________\n",
            "Layer (type)                 Output Shape              Param #   \n",
            "=================================================================\n",
            "input_9 (InputLayer)         (None, 256, 256, 3)       0         \n",
            "_________________________________________________________________\n",
            "block1_conv1 (Conv2D)        (None, 256, 256, 64)      1792      \n",
            "_________________________________________________________________\n",
            "block1_conv2 (Conv2D)        (None, 256, 256, 64)      36928     \n",
            "_________________________________________________________________\n",
            "block1_pool (MaxPooling2D)   (None, 128, 128, 64)      0         \n",
            "_________________________________________________________________\n",
            "block2_conv1 (Conv2D)        (None, 128, 128, 128)     73856     \n",
            "_________________________________________________________________\n",
            "block2_conv2 (Conv2D)        (None, 128, 128, 128)     147584    \n",
            "_________________________________________________________________\n",
            "block2_pool (MaxPooling2D)   (None, 64, 64, 128)       0         \n",
            "_________________________________________________________________\n",
            "block3_conv1 (Conv2D)        (None, 64, 64, 256)       295168    \n",
            "_________________________________________________________________\n",
            "block3_conv2 (Conv2D)        (None, 64, 64, 256)       590080    \n",
            "_________________________________________________________________\n",
            "block3_conv3 (Conv2D)        (None, 64, 64, 256)       590080    \n",
            "_________________________________________________________________\n",
            "block3_conv4 (Conv2D)        (None, 64, 64, 256)       590080    \n",
            "_________________________________________________________________\n",
            "block3_pool (MaxPooling2D)   (None, 32, 32, 256)       0         \n",
            "_________________________________________________________________\n",
            "block4_conv1 (Conv2D)        (None, 32, 32, 512)       1180160   \n",
            "_________________________________________________________________\n",
            "block4_conv2 (Conv2D)        (None, 32, 32, 512)       2359808   \n",
            "_________________________________________________________________\n",
            "block4_conv3 (Conv2D)        (None, 32, 32, 512)       2359808   \n",
            "_________________________________________________________________\n",
            "block4_conv4 (Conv2D)        (None, 32, 32, 512)       2359808   \n",
            "_________________________________________________________________\n",
            "block4_pool (MaxPooling2D)   (None, 16, 16, 512)       0         \n",
            "_________________________________________________________________\n",
            "block5_conv1 (Conv2D)        (None, 16, 16, 512)       2359808   \n",
            "_________________________________________________________________\n",
            "block5_conv2 (Conv2D)        (None, 16, 16, 512)       2359808   \n",
            "_________________________________________________________________\n",
            "block5_conv3 (Conv2D)        (None, 16, 16, 512)       2359808   \n",
            "_________________________________________________________________\n",
            "block5_conv4 (Conv2D)        (None, 16, 16, 512)       2359808   \n",
            "_________________________________________________________________\n",
            "block5_pool (MaxPooling2D)   (None, 8, 8, 512)         0         \n",
            "=================================================================\n",
            "Total params: 20,024,384\n",
            "Trainable params: 19,911,808\n",
            "Non-trainable params: 112,576\n",
            "_________________________________________________________________\n"
          ],
          "name": "stdout"
        }
      ]
    },
    {
      "cell_type": "code",
      "metadata": {
        "id": "t9nzbsfpni6e",
        "colab_type": "code",
        "colab": {}
      },
      "source": [
        "# Initiate the train and test generators with data Augumentation \n",
        "train_datagen = ImageDataGenerator(\n",
        "rescale = 1./255,\n",
        "horizontal_flip = True,\n",
        "fill_mode = \"nearest\",\n",
        "zoom_range = 0.3,\n",
        "width_shift_range = 0.3,\n",
        "height_shift_range=0.3,\n",
        "rotation_range=30)"
      ],
      "execution_count": 0,
      "outputs": []
    },
    {
      "cell_type": "code",
      "metadata": {
        "id": "bvJK6t8bnnTV",
        "colab_type": "code",
        "colab": {}
      },
      "source": [
        "test_datagen = ImageDataGenerator(\n",
        "rescale = 1./255,\n",
        "horizontal_flip = True,\n",
        "fill_mode = \"nearest\",\n",
        "zoom_range = 0.3,\n",
        "width_shift_range = 0.3,\n",
        "height_shift_range=0.3,\n",
        "rotation_range=30)"
      ],
      "execution_count": 0,
      "outputs": []
    },
    {
      "cell_type": "code",
      "metadata": {
        "id": "TjKTCfFjnqYi",
        "colab_type": "code",
        "outputId": "3b3a1a03-ea2f-4653-b1d8-36431572cc3d",
        "colab": {
          "base_uri": "https://localhost:8080/",
          "height": 463
        }
      },
      "source": [
        "train_generator = train_datagen.flow_from_directory(\n",
        "train_data_dir,\n",
        "target_size = (img_height, img_width),\n",
        "batch_size = batch_size, \n",
        "class_mode = \"categorical\")"
      ],
      "execution_count": 0,
      "outputs": [
        {
          "output_type": "error",
          "ename": "FileNotFoundError",
          "evalue": "ignored",
          "traceback": [
            "\u001b[0;31m---------------------------------------------------------------------------\u001b[0m",
            "\u001b[0;31mFileNotFoundError\u001b[0m                         Traceback (most recent call last)",
            "\u001b[0;32m<ipython-input-54-15155c918739>\u001b[0m in \u001b[0;36m<module>\u001b[0;34m()\u001b[0m\n\u001b[1;32m      3\u001b[0m \u001b[0mtarget_size\u001b[0m \u001b[0;34m=\u001b[0m \u001b[0;34m(\u001b[0m\u001b[0mimg_height\u001b[0m\u001b[0;34m,\u001b[0m \u001b[0mimg_width\u001b[0m\u001b[0;34m)\u001b[0m\u001b[0;34m,\u001b[0m\u001b[0;34m\u001b[0m\u001b[0;34m\u001b[0m\u001b[0m\n\u001b[1;32m      4\u001b[0m \u001b[0mbatch_size\u001b[0m \u001b[0;34m=\u001b[0m \u001b[0mbatch_size\u001b[0m\u001b[0;34m,\u001b[0m\u001b[0;34m\u001b[0m\u001b[0;34m\u001b[0m\u001b[0m\n\u001b[0;32m----> 5\u001b[0;31m class_mode = \"categorical\")\n\u001b[0m",
            "\u001b[0;32m/usr/local/lib/python3.6/dist-packages/keras_preprocessing/image/image_data_generator.py\u001b[0m in \u001b[0;36mflow_from_directory\u001b[0;34m(self, directory, target_size, color_mode, classes, class_mode, batch_size, shuffle, seed, save_to_dir, save_prefix, save_format, follow_links, subset, interpolation)\u001b[0m\n\u001b[1;32m    536\u001b[0m             \u001b[0mfollow_links\u001b[0m\u001b[0;34m=\u001b[0m\u001b[0mfollow_links\u001b[0m\u001b[0;34m,\u001b[0m\u001b[0;34m\u001b[0m\u001b[0;34m\u001b[0m\u001b[0m\n\u001b[1;32m    537\u001b[0m             \u001b[0msubset\u001b[0m\u001b[0;34m=\u001b[0m\u001b[0msubset\u001b[0m\u001b[0;34m,\u001b[0m\u001b[0;34m\u001b[0m\u001b[0;34m\u001b[0m\u001b[0m\n\u001b[0;32m--> 538\u001b[0;31m             \u001b[0minterpolation\u001b[0m\u001b[0;34m=\u001b[0m\u001b[0minterpolation\u001b[0m\u001b[0;34m\u001b[0m\u001b[0;34m\u001b[0m\u001b[0m\n\u001b[0m\u001b[1;32m    539\u001b[0m         )\n\u001b[1;32m    540\u001b[0m \u001b[0;34m\u001b[0m\u001b[0m\n",
            "\u001b[0;32m/usr/local/lib/python3.6/dist-packages/keras_preprocessing/image/directory_iterator.py\u001b[0m in \u001b[0;36m__init__\u001b[0;34m(self, directory, image_data_generator, target_size, color_mode, classes, class_mode, batch_size, shuffle, seed, data_format, save_to_dir, save_prefix, save_format, follow_links, subset, interpolation, dtype)\u001b[0m\n\u001b[1;32m    103\u001b[0m         \u001b[0;32mif\u001b[0m \u001b[0;32mnot\u001b[0m \u001b[0mclasses\u001b[0m\u001b[0;34m:\u001b[0m\u001b[0;34m\u001b[0m\u001b[0;34m\u001b[0m\u001b[0m\n\u001b[1;32m    104\u001b[0m             \u001b[0mclasses\u001b[0m \u001b[0;34m=\u001b[0m \u001b[0;34m[\u001b[0m\u001b[0;34m]\u001b[0m\u001b[0;34m\u001b[0m\u001b[0;34m\u001b[0m\u001b[0m\n\u001b[0;32m--> 105\u001b[0;31m             \u001b[0;32mfor\u001b[0m \u001b[0msubdir\u001b[0m \u001b[0;32min\u001b[0m \u001b[0msorted\u001b[0m\u001b[0;34m(\u001b[0m\u001b[0mos\u001b[0m\u001b[0;34m.\u001b[0m\u001b[0mlistdir\u001b[0m\u001b[0;34m(\u001b[0m\u001b[0mdirectory\u001b[0m\u001b[0;34m)\u001b[0m\u001b[0;34m)\u001b[0m\u001b[0;34m:\u001b[0m\u001b[0;34m\u001b[0m\u001b[0;34m\u001b[0m\u001b[0m\n\u001b[0m\u001b[1;32m    106\u001b[0m                 \u001b[0;32mif\u001b[0m \u001b[0mos\u001b[0m\u001b[0;34m.\u001b[0m\u001b[0mpath\u001b[0m\u001b[0;34m.\u001b[0m\u001b[0misdir\u001b[0m\u001b[0;34m(\u001b[0m\u001b[0mos\u001b[0m\u001b[0;34m.\u001b[0m\u001b[0mpath\u001b[0m\u001b[0;34m.\u001b[0m\u001b[0mjoin\u001b[0m\u001b[0;34m(\u001b[0m\u001b[0mdirectory\u001b[0m\u001b[0;34m,\u001b[0m \u001b[0msubdir\u001b[0m\u001b[0;34m)\u001b[0m\u001b[0;34m)\u001b[0m\u001b[0;34m:\u001b[0m\u001b[0;34m\u001b[0m\u001b[0;34m\u001b[0m\u001b[0m\n\u001b[1;32m    107\u001b[0m                     \u001b[0mclasses\u001b[0m\u001b[0;34m.\u001b[0m\u001b[0mappend\u001b[0m\u001b[0;34m(\u001b[0m\u001b[0msubdir\u001b[0m\u001b[0;34m)\u001b[0m\u001b[0;34m\u001b[0m\u001b[0;34m\u001b[0m\u001b[0m\n",
            "\u001b[0;31mFileNotFoundError\u001b[0m: [Errno 2] No such file or directory: 'data/train'"
          ]
        }
      ]
    },
    {
      "cell_type": "code",
      "metadata": {
        "id": "dVkvM3jnnta9",
        "colab_type": "code",
        "outputId": "28d7344d-6dc6-497f-f23e-71cd2c9e10bc",
        "colab": {
          "base_uri": "https://localhost:8080/",
          "height": 463
        }
      },
      "source": [
        "validation_generator = test_datagen.flow_from_directory(\n",
        "validation_data_dir,\n",
        "target_size = (img_height, img_width),\n",
        "class_mode = \"categorical\")"
      ],
      "execution_count": 0,
      "outputs": [
        {
          "output_type": "error",
          "ename": "FileNotFoundError",
          "evalue": "ignored",
          "traceback": [
            "\u001b[0;31m---------------------------------------------------------------------------\u001b[0m",
            "\u001b[0;31mFileNotFoundError\u001b[0m                         Traceback (most recent call last)",
            "\u001b[0;32m<ipython-input-55-1f3d40823870>\u001b[0m in \u001b[0;36m<module>\u001b[0;34m()\u001b[0m\n\u001b[1;32m      2\u001b[0m \u001b[0mvalidation_data_dir\u001b[0m\u001b[0;34m,\u001b[0m\u001b[0;34m\u001b[0m\u001b[0;34m\u001b[0m\u001b[0m\n\u001b[1;32m      3\u001b[0m \u001b[0mtarget_size\u001b[0m \u001b[0;34m=\u001b[0m \u001b[0;34m(\u001b[0m\u001b[0mimg_height\u001b[0m\u001b[0;34m,\u001b[0m \u001b[0mimg_width\u001b[0m\u001b[0;34m)\u001b[0m\u001b[0;34m,\u001b[0m\u001b[0;34m\u001b[0m\u001b[0;34m\u001b[0m\u001b[0m\n\u001b[0;32m----> 4\u001b[0;31m class_mode = \"categorical\")\n\u001b[0m",
            "\u001b[0;32m/usr/local/lib/python3.6/dist-packages/keras_preprocessing/image/image_data_generator.py\u001b[0m in \u001b[0;36mflow_from_directory\u001b[0;34m(self, directory, target_size, color_mode, classes, class_mode, batch_size, shuffle, seed, save_to_dir, save_prefix, save_format, follow_links, subset, interpolation)\u001b[0m\n\u001b[1;32m    536\u001b[0m             \u001b[0mfollow_links\u001b[0m\u001b[0;34m=\u001b[0m\u001b[0mfollow_links\u001b[0m\u001b[0;34m,\u001b[0m\u001b[0;34m\u001b[0m\u001b[0;34m\u001b[0m\u001b[0m\n\u001b[1;32m    537\u001b[0m             \u001b[0msubset\u001b[0m\u001b[0;34m=\u001b[0m\u001b[0msubset\u001b[0m\u001b[0;34m,\u001b[0m\u001b[0;34m\u001b[0m\u001b[0;34m\u001b[0m\u001b[0m\n\u001b[0;32m--> 538\u001b[0;31m             \u001b[0minterpolation\u001b[0m\u001b[0;34m=\u001b[0m\u001b[0minterpolation\u001b[0m\u001b[0;34m\u001b[0m\u001b[0;34m\u001b[0m\u001b[0m\n\u001b[0m\u001b[1;32m    539\u001b[0m         )\n\u001b[1;32m    540\u001b[0m \u001b[0;34m\u001b[0m\u001b[0m\n",
            "\u001b[0;32m/usr/local/lib/python3.6/dist-packages/keras_preprocessing/image/directory_iterator.py\u001b[0m in \u001b[0;36m__init__\u001b[0;34m(self, directory, image_data_generator, target_size, color_mode, classes, class_mode, batch_size, shuffle, seed, data_format, save_to_dir, save_prefix, save_format, follow_links, subset, interpolation, dtype)\u001b[0m\n\u001b[1;32m    103\u001b[0m         \u001b[0;32mif\u001b[0m \u001b[0;32mnot\u001b[0m \u001b[0mclasses\u001b[0m\u001b[0;34m:\u001b[0m\u001b[0;34m\u001b[0m\u001b[0;34m\u001b[0m\u001b[0m\n\u001b[1;32m    104\u001b[0m             \u001b[0mclasses\u001b[0m \u001b[0;34m=\u001b[0m \u001b[0;34m[\u001b[0m\u001b[0;34m]\u001b[0m\u001b[0;34m\u001b[0m\u001b[0;34m\u001b[0m\u001b[0m\n\u001b[0;32m--> 105\u001b[0;31m             \u001b[0;32mfor\u001b[0m \u001b[0msubdir\u001b[0m \u001b[0;32min\u001b[0m \u001b[0msorted\u001b[0m\u001b[0;34m(\u001b[0m\u001b[0mos\u001b[0m\u001b[0;34m.\u001b[0m\u001b[0mlistdir\u001b[0m\u001b[0;34m(\u001b[0m\u001b[0mdirectory\u001b[0m\u001b[0;34m)\u001b[0m\u001b[0;34m)\u001b[0m\u001b[0;34m:\u001b[0m\u001b[0;34m\u001b[0m\u001b[0;34m\u001b[0m\u001b[0m\n\u001b[0m\u001b[1;32m    106\u001b[0m                 \u001b[0;32mif\u001b[0m \u001b[0mos\u001b[0m\u001b[0;34m.\u001b[0m\u001b[0mpath\u001b[0m\u001b[0;34m.\u001b[0m\u001b[0misdir\u001b[0m\u001b[0;34m(\u001b[0m\u001b[0mos\u001b[0m\u001b[0;34m.\u001b[0m\u001b[0mpath\u001b[0m\u001b[0;34m.\u001b[0m\u001b[0mjoin\u001b[0m\u001b[0;34m(\u001b[0m\u001b[0mdirectory\u001b[0m\u001b[0;34m,\u001b[0m \u001b[0msubdir\u001b[0m\u001b[0;34m)\u001b[0m\u001b[0;34m)\u001b[0m\u001b[0;34m:\u001b[0m\u001b[0;34m\u001b[0m\u001b[0;34m\u001b[0m\u001b[0m\n\u001b[1;32m    107\u001b[0m                     \u001b[0mclasses\u001b[0m\u001b[0;34m.\u001b[0m\u001b[0mappend\u001b[0m\u001b[0;34m(\u001b[0m\u001b[0msubdir\u001b[0m\u001b[0;34m)\u001b[0m\u001b[0;34m\u001b[0m\u001b[0;34m\u001b[0m\u001b[0m\n",
            "\u001b[0;31mFileNotFoundError\u001b[0m: [Errno 2] No such file or directory: 'data/val'"
          ]
        }
      ]
    },
    {
      "cell_type": "code",
      "metadata": {
        "id": "Eye2-Fa1n3O7",
        "colab_type": "code",
        "colab": {}
      },
      "source": [
        "# Save the model according to the conditions  \n",
        "checkpoint = ModelCheckpoint(\"vgg16_1.h5\", monitor='val_acc', verbose=1, save_best_only=True, save_weights_only=False, mode='auto', period=1)\n",
        "early = EarlyStopping(monitor='val_acc', min_delta=0, patience=10, verbose=1, mode='auto')"
      ],
      "execution_count": 0,
      "outputs": []
    },
    {
      "cell_type": "code",
      "metadata": {
        "id": "I_XL4EcKn9Y-",
        "colab_type": "code",
        "outputId": "a8c404ce-df43-4b65-c27f-026cbeb9d2e4",
        "colab": {
          "base_uri": "https://localhost:8080/",
          "height": 235
        }
      },
      "source": [
        "# Train the model \n",
        "model_final.fit_generator(\n",
        "train_generator,\n",
        "samples_per_epoch = nb_train_samples,\n",
        "epochs = epochs,\n",
        "validation_data = validation_generator,\n",
        "nb_val_samples = nb_validation_samples,\n",
        "callbacks = [checkpoint, early])"
      ],
      "execution_count": 0,
      "outputs": [
        {
          "output_type": "error",
          "ename": "NameError",
          "evalue": "ignored",
          "traceback": [
            "\u001b[0;31m---------------------------------------------------------------------------\u001b[0m",
            "\u001b[0;31mNameError\u001b[0m                                 Traceback (most recent call last)",
            "\u001b[0;32m<ipython-input-57-4bce080f2ea9>\u001b[0m in \u001b[0;36m<module>\u001b[0;34m()\u001b[0m\n\u001b[1;32m      1\u001b[0m model_final.fit_generator(\n\u001b[0;32m----> 2\u001b[0;31m \u001b[0mtrain_generator\u001b[0m\u001b[0;34m,\u001b[0m\u001b[0;34m\u001b[0m\u001b[0;34m\u001b[0m\u001b[0m\n\u001b[0m\u001b[1;32m      3\u001b[0m \u001b[0msamples_per_epoch\u001b[0m \u001b[0;34m=\u001b[0m \u001b[0mnb_train_samples\u001b[0m\u001b[0;34m,\u001b[0m\u001b[0;34m\u001b[0m\u001b[0;34m\u001b[0m\u001b[0m\n\u001b[1;32m      4\u001b[0m \u001b[0mepochs\u001b[0m \u001b[0;34m=\u001b[0m \u001b[0mepochs\u001b[0m\u001b[0;34m,\u001b[0m\u001b[0;34m\u001b[0m\u001b[0;34m\u001b[0m\u001b[0m\n\u001b[1;32m      5\u001b[0m \u001b[0mvalidation_data\u001b[0m \u001b[0;34m=\u001b[0m \u001b[0mvalidation_generator\u001b[0m\u001b[0;34m,\u001b[0m\u001b[0;34m\u001b[0m\u001b[0;34m\u001b[0m\u001b[0m\n",
            "\u001b[0;31mNameError\u001b[0m: name 'train_generator' is not defined"
          ]
        }
      ]
    },
    {
      "cell_type": "markdown",
      "metadata": {
        "id": "p2cXZtLrrb3i",
        "colab_type": "text"
      },
      "source": [
        "## Transfer Learning for Image Classification using Keras\n",
        "https://towardsdatascience.com/transfer-learning-for-image-classification-using-keras-c47ccf09c8c8\n",
        "https://github.com/aditya9898/transfer-learning\n"
      ]
    },
    {
      "cell_type": "code",
      "metadata": {
        "id": "C3idM6b9oAe-",
        "colab_type": "code",
        "outputId": "91b8570b-18ef-47f5-9a33-d462b0b0ff2d",
        "colab": {
          "base_uri": "https://localhost:8080/",
          "height": 104
        }
      },
      "source": [
        "!git clone https://github.com/aditya9898/transfer-learning"
      ],
      "execution_count": 0,
      "outputs": [
        {
          "output_type": "stream",
          "text": [
            "Cloning into 'transfer-learning'...\n",
            "remote: Enumerating objects: 211, done.\u001b[K\n",
            "remote: Total 211 (delta 0), reused 0 (delta 0), pack-reused 211\u001b[K\n",
            "Receiving objects: 100% (211/211), 1.37 MiB | 26.05 MiB/s, done.\n",
            "Resolving deltas: 100% (1/1), done.\n"
          ],
          "name": "stdout"
        }
      ]
    },
    {
      "cell_type": "code",
      "metadata": {
        "id": "I6Gk3i3Arj-X",
        "colab_type": "code",
        "colab": {}
      },
      "source": [
        "import pandas as pd\n",
        "import numpy as np\n",
        "import os\n",
        "import keras\n",
        "import matplotlib.pyplot as plt\n",
        "from keras.layers import Dense,GlobalAveragePooling2D\n",
        "from keras.applications import MobileNet\n",
        "from keras.preprocessing import image\n",
        "from keras.applications.mobilenet import preprocess_input\n",
        "from keras.preprocessing.image import ImageDataGenerator\n",
        "from keras.models import Model\n",
        "from keras.optimizers import Adam"
      ],
      "execution_count": 0,
      "outputs": []
    },
    {
      "cell_type": "code",
      "metadata": {
        "id": "K-oTz2QFryQV",
        "colab_type": "code",
        "outputId": "d26ac5b3-a885-4a3c-c3c5-c90c1e8b8c0b",
        "colab": {
          "base_uri": "https://localhost:8080/",
          "height": 107
        }
      },
      "source": [
        "base_model=MobileNet(weights='imagenet',include_top=False) #imports the mobilenet model and discards the last 1000 neuron layer.\n",
        "\n",
        "x=base_model.output\n",
        "x=GlobalAveragePooling2D()(x)\n",
        "x=Dense(1024,activation='relu')(x) #we add dense layers so that the model can learn more complex functions and classify for better results.\n",
        "x=Dense(1024,activation='relu')(x) #dense layer 2\n",
        "x=Dense(512,activation='relu')(x) #dense layer 3\n",
        "preds=Dense(3,activation='softmax')(x) #final layer with softmax activation"
      ],
      "execution_count": 0,
      "outputs": [
        {
          "output_type": "stream",
          "text": [
            "/usr/local/lib/python3.6/dist-packages/keras_applications/mobilenet.py:208: UserWarning: MobileNet shape is undefined. Weights for input shape (224, 224) will be loaded.\n",
            "  warnings.warn('MobileNet shape is undefined.'\n"
          ],
          "name": "stderr"
        },
        {
          "output_type": "stream",
          "text": [
            "Downloading data from https://github.com/fchollet/deep-learning-models/releases/download/v0.6/mobilenet_1_0_224_tf_no_top.h5\n",
            "17227776/17225924 [==============================] - 1s 0us/step\n"
          ],
          "name": "stdout"
        }
      ]
    },
    {
      "cell_type": "code",
      "metadata": {
        "id": "L7wyp4_Vr2aM",
        "colab_type": "code",
        "colab": {}
      },
      "source": [
        "\n",
        "model=Model(inputs=base_model.input,outputs=preds)\n",
        "#specify the inputs\n",
        "#specify the outputs\n",
        "#now a model has been created based on our architecture"
      ],
      "execution_count": 0,
      "outputs": []
    },
    {
      "cell_type": "code",
      "metadata": {
        "id": "1X73fDcWr9Ql",
        "colab_type": "code",
        "colab": {}
      },
      "source": [
        "for layer in model.layers[:20]:\n",
        "    layer.trainable=False\n",
        "for layer in model.layers[20:]:\n",
        "    layer.trainable=True"
      ],
      "execution_count": 0,
      "outputs": []
    },
    {
      "cell_type": "code",
      "metadata": {
        "id": "xZZJ1geZsBgS",
        "colab_type": "code",
        "outputId": "91256a1f-7391-41ac-e02c-893531e16526",
        "colab": {
          "base_uri": "https://localhost:8080/",
          "height": 35
        }
      },
      "source": [
        "train_datagen=ImageDataGenerator(preprocessing_function=preprocess_input) #included in our dependencies\n",
        "\n",
        "train_generator=train_datagen.flow_from_directory('./transfer-learning/train/', # this is where you specify the path to the main data folder\n",
        "                                                 target_size=(224,224),\n",
        "                                                 color_mode='rgb',\n",
        "                                                 batch_size=32,\n",
        "                                                 class_mode='categorical',\n",
        "                                                 shuffle=True)"
      ],
      "execution_count": 0,
      "outputs": [
        {
          "output_type": "stream",
          "text": [
            "Found 197 images belonging to 3 classes.\n"
          ],
          "name": "stdout"
        }
      ]
    },
    {
      "cell_type": "code",
      "metadata": {
        "id": "KMzizr1asIlL",
        "colab_type": "code",
        "outputId": "00264261-802d-4901-bb85-445bcf958855",
        "colab": {
          "base_uri": "https://localhost:8080/",
          "height": 280
        }
      },
      "source": [
        "model.compile(optimizer='Adam',loss='categorical_crossentropy',metrics=['accuracy'])\n",
        "# Adam optimizer\n",
        "# loss function will be categorical cross entropy\n",
        "# evaluation metric will be accuracy\n",
        "\n",
        "step_size_train=train_generator.n//train_generator.batch_size\n",
        "model.fit_generator(generator=train_generator,\n",
        "                   steps_per_epoch=step_size_train,\n",
        "                   epochs=5)"
      ],
      "execution_count": 0,
      "outputs": [
        {
          "output_type": "stream",
          "text": [
            "WARNING:tensorflow:From /usr/local/lib/python3.6/dist-packages/tensorflow/python/ops/math_ops.py:3066: to_int32 (from tensorflow.python.ops.math_ops) is deprecated and will be removed in a future version.\n",
            "Instructions for updating:\n",
            "Use tf.cast instead.\n",
            "Epoch 1/5\n",
            "6/6 [==============================] - 52s 9s/step - loss: 1.3322 - acc: 0.5781\n",
            "Epoch 2/5\n",
            "6/6 [==============================] - 39s 6s/step - loss: 0.3696 - acc: 0.9386\n",
            "Epoch 3/5\n",
            "6/6 [==============================] - 37s 6s/step - loss: 0.0270 - acc: 1.0000\n",
            "Epoch 4/5\n",
            "6/6 [==============================] - 40s 7s/step - loss: 0.0027 - acc: 1.0000\n",
            "Epoch 5/5\n",
            "6/6 [==============================] - 40s 7s/step - loss: 2.1193e-04 - acc: 1.0000\n"
          ],
          "name": "stdout"
        },
        {
          "output_type": "execute_result",
          "data": {
            "text/plain": [
              "<keras.callbacks.History at 0x7f726dfd6be0>"
            ]
          },
          "metadata": {
            "tags": []
          },
          "execution_count": 64
        }
      ]
    },
    {
      "cell_type": "code",
      "metadata": {
        "id": "MWu-3NgNsN-H",
        "colab_type": "code",
        "colab": {}
      },
      "source": [
        ""
      ],
      "execution_count": 0,
      "outputs": []
    }
  ]
}