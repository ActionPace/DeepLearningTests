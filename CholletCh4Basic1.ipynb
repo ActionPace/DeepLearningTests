{
  "nbformat": 4,
  "nbformat_minor": 0,
  "metadata": {
    "colab": {
      "name": "CholletCh4Basic1.ipynb",
      "version": "0.3.2",
      "provenance": [],
      "collapsed_sections": [],
      "include_colab_link": true
    },
    "kernelspec": {
      "name": "python3",
      "display_name": "Python 3"
    },
    "accelerator": "GPU"
  },
  "cells": [
    {
      "cell_type": "markdown",
      "metadata": {
        "id": "view-in-github",
        "colab_type": "text"
      },
      "source": [
        "<a href=\"https://colab.research.google.com/github/ActionPace/DeepLearningTests/blob/master/CholletCh4Basic1.ipynb\" target=\"_parent\"><img src=\"https://colab.research.google.com/assets/colab-badge.svg\" alt=\"Open In Colab\"/></a>"
      ]
    },
    {
      "cell_type": "code",
      "metadata": {
        "id": "VIIJU_danmkT",
        "colab_type": "code",
        "colab": {}
      },
      "source": [
        ""
      ],
      "execution_count": 0,
      "outputs": []
    },
    {
      "cell_type": "markdown",
      "metadata": {
        "id": "240zWZSgn6_f",
        "colab_type": "text"
      },
      "source": [
        "### "
      ]
    },
    {
      "cell_type": "markdown",
      "metadata": {
        "id": "DXRwrMLeNx3k",
        "colab_type": "text"
      },
      "source": [
        "## TRAINING A CONVNET FROM SCRATCH ON A SMALL DATASET\n"
      ]
    },
    {
      "cell_type": "code",
      "metadata": {
        "id": "pGlnDzyuoD1_",
        "colab_type": "code",
        "colab": {}
      },
      "source": [
        "!wget -q https://s3.amazonaws.com/machinelearningfiles/dogsandcats-train.zip"
      ],
      "execution_count": 0,
      "outputs": []
    },
    {
      "cell_type": "code",
      "metadata": {
        "id": "rz0kunWkoID_",
        "colab_type": "code",
        "colab": {}
      },
      "source": [
        "!unzip -q dogsandcats-train.zip\n",
        "!rm dogsandcats-train.zip\n"
      ],
      "execution_count": 0,
      "outputs": []
    },
    {
      "cell_type": "code",
      "metadata": {
        "id": "DHGhVJQJoURZ",
        "colab_type": "code",
        "colab": {}
      },
      "source": [
        "import os, shutil\n",
        "\n",
        "original_dataset_dir = './train'    \n",
        "\n",
        "base_dir = './cats_and_dogs_small'                 \n",
        "os.mkdir(base_dir)\n",
        "\n",
        "train_dir = os.path.join(base_dir, 'train')                                \n",
        "os.mkdir(train_dir)\n",
        "validation_dir = os.path.join(base_dir, 'validation')                      \n",
        "os.mkdir(validation_dir)\n",
        "test_dir = os.path.join(base_dir, 'test')                                  \n",
        "os.mkdir(test_dir)\n",
        "\n",
        "train_cats_dir = os.path.join(train_dir, 'cats')                           \n",
        "os.mkdir(train_cats_dir)                                                   \n",
        "\n",
        "train_dogs_dir = os.path.join(train_dir, 'dogs')                           \n",
        "os.mkdir(train_dogs_dir)                                                   \n",
        "\n",
        "validation_cats_dir = os.path.join(validation_dir, 'cats')                 \n",
        "os.mkdir(validation_cats_dir)                                              \n",
        "\n",
        "validation_dogs_dir = os.path.join(validation_dir, 'dogs')                 \n",
        "os.mkdir(validation_dogs_dir)                                              \n",
        "\n",
        "test_cats_dir = os.path.join(test_dir, 'cats')                             \n",
        "os.mkdir(test_cats_dir)                                                    \n",
        "\n",
        "test_dogs_dir = os.path.join(test_dir, 'dogs')                             \n",
        "os.mkdir(test_dogs_dir)                                                    \n",
        "\n",
        "fnames = ['cat.{}.jpg'.format(i) for i in range(1000)]                     \n",
        "for fname in fnames:                                                       \n",
        "    src = os.path.join(original_dataset_dir, fname)                       \n",
        "    dst = os.path.join(train_cats_dir, fname)                              \n",
        "    shutil.copyfile(src, dst)                                              \n",
        "\n",
        "fnames = ['cat.{}.jpg'.format(i) for i in range(1000, 1500)]               \n",
        "for fname in fnames:                                                       \n",
        "    src = os.path.join(original_dataset_dir, fname)                        \n",
        "    dst = os.path.join(validation_cats_dir, fname)                         \n",
        "    shutil.copyfile(src, dst)                                              \n",
        "\n",
        "fnames = ['cat.{}.jpg'.format(i) for i in range(1500, 2000)]               \n",
        "for fname in fnames:                                                       \n",
        "    src = os.path.join(original_dataset_dir, fname)                        \n",
        "    dst = os.path.join(test_cats_dir, fname)                               \n",
        "    shutil.copyfile(src, dst)                                              \n",
        "\n",
        "fnames = ['dog.{}.jpg'.format(i) for i in range(1000)]                     \n",
        "for fname in fnames:                                                       \n",
        "    src = os.path.join(original_dataset_dir, fname)                        \n",
        "    dst = os.path.join(train_dogs_dir, fname)                              \n",
        "    shutil.copyfile(src, dst)                                              \n",
        "fnames = ['dog.{}.jpg'.format(i) for i in range(1000, 1500)]               \n",
        "for fname in fnames:                                                       \n",
        "    src = os.path.join(original_dataset_dir, fname)                        \n",
        "    dst = os.path.join(validation_dogs_dir, fname)                         \n",
        "    shutil.copyfile(src, dst)                                              \n",
        "\n",
        "fnames = ['dog.{}.jpg'.format(i) for i in range(1500, 2000)]               \n",
        "for fname in fnames:                                                       \n",
        "    src = os.path.join(original_dataset_dir, fname)                        \n",
        "    dst = os.path.join(test_dogs_dir, fname)                               \n",
        "    shutil.copyfile(src, dst) "
      ],
      "execution_count": 0,
      "outputs": []
    },
    {
      "cell_type": "code",
      "metadata": {
        "id": "bSGsK8W7ojuG",
        "colab_type": "code",
        "outputId": "c73427ca-09b2-4873-f4f9-d3c5776a4e43",
        "colab": {
          "base_uri": "https://localhost:8080/",
          "height": 121
        }
      },
      "source": [
        "print('total training cat images:', len(os.listdir(train_cats_dir)))\n",
        "print('total training dog images:', len(os.listdir(train_dogs_dir)))\n",
        "print('total validation cat images:', len(os.listdir(validation_cats_dir)))\n",
        "print('total validation dog images:', len(os.listdir(validation_dogs_dir)))\n",
        "print('total test cat images:', len(os.listdir(test_cats_dir)))\n",
        "print('total test dog images:', len(os.listdir(test_dogs_dir)))\n"
      ],
      "execution_count": 0,
      "outputs": [
        {
          "output_type": "stream",
          "text": [
            "total training cat images: 1000\n",
            "total training dog images: 1000\n",
            "total validation cat images: 500\n",
            "total validation dog images: 500\n",
            "total test cat images: 500\n",
            "total test dog images: 500\n"
          ],
          "name": "stdout"
        }
      ]
    },
    {
      "cell_type": "code",
      "metadata": {
        "id": "kHJLcgqNonFE",
        "colab_type": "code",
        "outputId": "3a5ee47b-6e39-416a-ec2c-e8438dfef250",
        "colab": {
          "base_uri": "https://localhost:8080/",
          "height": 35
        }
      },
      "source": [
        "from keras import layers\n",
        "from keras import models"
      ],
      "execution_count": 0,
      "outputs": [
        {
          "output_type": "stream",
          "text": [
            "Using TensorFlow backend.\n"
          ],
          "name": "stderr"
        }
      ]
    },
    {
      "cell_type": "code",
      "metadata": {
        "id": "gUbcpNQrorUK",
        "colab_type": "code",
        "outputId": "f9118877-1a3b-4ecb-87ed-09ed9846efd6",
        "colab": {
          "base_uri": "https://localhost:8080/",
          "height": 89
        }
      },
      "source": [
        "model = models.Sequential()\n",
        "model.add(layers.Conv2D(32, (3, 3), activation='relu',\n",
        "                        input_shape=(150, 150, 3)))\n",
        "model.add(layers.MaxPooling2D((2, 2)))\n",
        "model.add(layers.Conv2D(64, (3, 3), activation='relu'))\n",
        "model.add(layers.MaxPooling2D((2, 2)))\n",
        "model.add(layers.Conv2D(128, (3, 3), activation='relu'))\n",
        "model.add(layers.MaxPooling2D((2, 2)))\n",
        "model.add(layers.Conv2D(128, (3, 3), activation='relu'))\n",
        "model.add(layers.MaxPooling2D((2, 2)))\n",
        "model.add(layers.Flatten())\n",
        "model.add(layers.Dense(512, activation='relu'))\n",
        "model.add(layers.Dense(1, activation='sigmoid'))"
      ],
      "execution_count": 0,
      "outputs": [
        {
          "output_type": "stream",
          "text": [
            "WARNING:tensorflow:From /usr/local/lib/python3.6/dist-packages/tensorflow/python/framework/op_def_library.py:263: colocate_with (from tensorflow.python.framework.ops) is deprecated and will be removed in a future version.\n",
            "Instructions for updating:\n",
            "Colocations handled automatically by placer.\n"
          ],
          "name": "stdout"
        }
      ]
    },
    {
      "cell_type": "code",
      "metadata": {
        "id": "subCl_zSouQa",
        "colab_type": "code",
        "outputId": "033b902b-09fb-4155-8e6e-4c18b0cc5f8a",
        "colab": {
          "base_uri": "https://localhost:8080/",
          "height": 520
        }
      },
      "source": [
        "model.summary()"
      ],
      "execution_count": 0,
      "outputs": [
        {
          "output_type": "stream",
          "text": [
            "_________________________________________________________________\n",
            "Layer (type)                 Output Shape              Param #   \n",
            "=================================================================\n",
            "conv2d_1 (Conv2D)            (None, 148, 148, 32)      896       \n",
            "_________________________________________________________________\n",
            "max_pooling2d_1 (MaxPooling2 (None, 74, 74, 32)        0         \n",
            "_________________________________________________________________\n",
            "conv2d_2 (Conv2D)            (None, 72, 72, 64)        18496     \n",
            "_________________________________________________________________\n",
            "max_pooling2d_2 (MaxPooling2 (None, 36, 36, 64)        0         \n",
            "_________________________________________________________________\n",
            "conv2d_3 (Conv2D)            (None, 34, 34, 128)       73856     \n",
            "_________________________________________________________________\n",
            "max_pooling2d_3 (MaxPooling2 (None, 17, 17, 128)       0         \n",
            "_________________________________________________________________\n",
            "conv2d_4 (Conv2D)            (None, 15, 15, 128)       147584    \n",
            "_________________________________________________________________\n",
            "max_pooling2d_4 (MaxPooling2 (None, 7, 7, 128)         0         \n",
            "_________________________________________________________________\n",
            "flatten_1 (Flatten)          (None, 6272)              0         \n",
            "_________________________________________________________________\n",
            "dense_1 (Dense)              (None, 512)               3211776   \n",
            "_________________________________________________________________\n",
            "dense_2 (Dense)              (None, 1)                 513       \n",
            "=================================================================\n",
            "Total params: 3,453,121\n",
            "Trainable params: 3,453,121\n",
            "Non-trainable params: 0\n",
            "_________________________________________________________________\n"
          ],
          "name": "stdout"
        }
      ]
    },
    {
      "cell_type": "code",
      "metadata": {
        "id": "84NnkyGhowlg",
        "colab_type": "code",
        "colab": {}
      },
      "source": [
        "from keras import optimizers\n",
        "\n",
        "model.compile(loss='binary_crossentropy',\n",
        "              optimizer=optimizers.RMSprop(lr=1e-4),\n",
        "              metrics=['acc'])"
      ],
      "execution_count": 0,
      "outputs": []
    },
    {
      "cell_type": "code",
      "metadata": {
        "id": "KfFKe7wwo1_b",
        "colab_type": "code",
        "outputId": "2387c938-8c58-4951-caed-3c90172f8275",
        "colab": {
          "base_uri": "https://localhost:8080/",
          "height": 52
        }
      },
      "source": [
        "from keras.preprocessing.image import ImageDataGenerator\n",
        "\n",
        "train_datagen = ImageDataGenerator(rescale=1./255)             \n",
        "test_datagen = ImageDataGenerator(rescale=1./255)              \n",
        "\n",
        "train_generator = train_datagen.flow_from_directory(\n",
        "        train_dir,                                             \n",
        "        target_size=(150, 150),                                 \n",
        "        batch_size=20,\n",
        "        class_mode='binary')                                   \n",
        "\n",
        "validation_generator = test_datagen.flow_from_directory(\n",
        "        validation_dir,\n",
        "        target_size=(150, 150),\n",
        "        batch_size=20,\n",
        "        class_mode='binary')"
      ],
      "execution_count": 0,
      "outputs": [
        {
          "output_type": "stream",
          "text": [
            "Found 2000 images belonging to 2 classes.\n",
            "Found 1000 images belonging to 2 classes.\n"
          ],
          "name": "stdout"
        }
      ]
    },
    {
      "cell_type": "code",
      "metadata": {
        "id": "jkKo-29ro5py",
        "colab_type": "code",
        "outputId": "440cf285-c7e0-4269-ad89-f9acdbabf1d5",
        "colab": {
          "base_uri": "https://localhost:8080/",
          "height": 52
        }
      },
      "source": [
        "for data_batch, labels_batch in train_generator:\n",
        "     print('data batch shape:', data_batch.shape)\n",
        "     print('labels batch shape:', labels_batch.shape)\n",
        "     break"
      ],
      "execution_count": 0,
      "outputs": [
        {
          "output_type": "stream",
          "text": [
            "data batch shape: (20, 150, 150, 3)\n",
            "labels batch shape: (20,)\n"
          ],
          "name": "stdout"
        }
      ]
    },
    {
      "cell_type": "code",
      "metadata": {
        "id": "wDlNqKiSo87S",
        "colab_type": "code",
        "outputId": "10660725-ff50-495b-aad7-1409ccbd622d",
        "colab": {
          "base_uri": "https://localhost:8080/",
          "height": 1129
        }
      },
      "source": [
        "history = model.fit_generator(\n",
        "      train_generator,\n",
        "      steps_per_epoch=100,\n",
        "      epochs=30,\n",
        "      validation_data=validation_generator,\n",
        "      validation_steps=50)"
      ],
      "execution_count": 0,
      "outputs": [
        {
          "output_type": "stream",
          "text": [
            "WARNING:tensorflow:From /usr/local/lib/python3.6/dist-packages/tensorflow/python/ops/math_ops.py:3066: to_int32 (from tensorflow.python.ops.math_ops) is deprecated and will be removed in a future version.\n",
            "Instructions for updating:\n",
            "Use tf.cast instead.\n",
            "Epoch 1/30\n",
            "100/100 [==============================] - 14s 136ms/step - loss: 0.6880 - acc: 0.5375 - val_loss: 0.6796 - val_acc: 0.5070\n",
            "Epoch 2/30\n",
            "100/100 [==============================] - 8s 82ms/step - loss: 0.6579 - acc: 0.6065 - val_loss: 0.6450 - val_acc: 0.6400\n",
            "Epoch 3/30\n",
            "100/100 [==============================] - 9s 87ms/step - loss: 0.6132 - acc: 0.6800 - val_loss: 0.6808 - val_acc: 0.5790\n",
            "Epoch 4/30\n",
            "100/100 [==============================] - 9s 94ms/step - loss: 0.5788 - acc: 0.6955 - val_loss: 0.5919 - val_acc: 0.6710\n",
            "Epoch 5/30\n",
            "100/100 [==============================] - 8s 82ms/step - loss: 0.5375 - acc: 0.7365 - val_loss: 0.5795 - val_acc: 0.6850\n",
            "Epoch 6/30\n",
            "100/100 [==============================] - 8s 82ms/step - loss: 0.5211 - acc: 0.7415 - val_loss: 0.6056 - val_acc: 0.6740\n",
            "Epoch 7/30\n",
            "100/100 [==============================] - 8s 82ms/step - loss: 0.4911 - acc: 0.7590 - val_loss: 0.6141 - val_acc: 0.6760\n",
            "Epoch 8/30\n",
            "100/100 [==============================] - 8s 82ms/step - loss: 0.4664 - acc: 0.7710 - val_loss: 0.5489 - val_acc: 0.7140\n",
            "Epoch 9/30\n",
            "100/100 [==============================] - 8s 83ms/step - loss: 0.4339 - acc: 0.7995 - val_loss: 0.5391 - val_acc: 0.7300\n",
            "Epoch 10/30\n",
            "100/100 [==============================] - 8s 82ms/step - loss: 0.4154 - acc: 0.8070 - val_loss: 0.6151 - val_acc: 0.6990\n",
            "Epoch 11/30\n",
            "100/100 [==============================] - 8s 82ms/step - loss: 0.3963 - acc: 0.8225 - val_loss: 0.6065 - val_acc: 0.7130\n",
            "Epoch 12/30\n",
            "100/100 [==============================] - 8s 83ms/step - loss: 0.3797 - acc: 0.8265 - val_loss: 0.5595 - val_acc: 0.7320\n",
            "Epoch 13/30\n",
            "100/100 [==============================] - 9s 91ms/step - loss: 0.3437 - acc: 0.8495 - val_loss: 0.5637 - val_acc: 0.7270\n",
            "Epoch 14/30\n",
            "100/100 [==============================] - 9s 86ms/step - loss: 0.3206 - acc: 0.8595 - val_loss: 0.5919 - val_acc: 0.7310\n",
            "Epoch 15/30\n",
            "100/100 [==============================] - 8s 83ms/step - loss: 0.3115 - acc: 0.8665 - val_loss: 0.5885 - val_acc: 0.7220\n",
            "Epoch 16/30\n",
            "100/100 [==============================] - 8s 83ms/step - loss: 0.2912 - acc: 0.8790 - val_loss: 0.6303 - val_acc: 0.7170\n",
            "Epoch 17/30\n",
            "100/100 [==============================] - 8s 82ms/step - loss: 0.2700 - acc: 0.8915 - val_loss: 0.5679 - val_acc: 0.7380\n",
            "Epoch 18/30\n",
            "100/100 [==============================] - 8s 82ms/step - loss: 0.2365 - acc: 0.9065 - val_loss: 0.6187 - val_acc: 0.7130\n",
            "Epoch 19/30\n",
            "100/100 [==============================] - 8s 81ms/step - loss: 0.2199 - acc: 0.9160 - val_loss: 0.6664 - val_acc: 0.7140\n",
            "Epoch 20/30\n",
            "100/100 [==============================] - 8s 82ms/step - loss: 0.2038 - acc: 0.9245 - val_loss: 0.6123 - val_acc: 0.7440\n",
            "Epoch 21/30\n",
            "100/100 [==============================] - 8s 82ms/step - loss: 0.1907 - acc: 0.9285 - val_loss: 0.6371 - val_acc: 0.7380\n",
            "Epoch 22/30\n",
            "100/100 [==============================] - 8s 83ms/step - loss: 0.1624 - acc: 0.9390 - val_loss: 0.6687 - val_acc: 0.7300\n",
            "Epoch 23/30\n",
            "100/100 [==============================] - 9s 95ms/step - loss: 0.1463 - acc: 0.9495 - val_loss: 0.7924 - val_acc: 0.7110\n",
            "Epoch 24/30\n",
            "100/100 [==============================] - 8s 84ms/step - loss: 0.1344 - acc: 0.9560 - val_loss: 0.7336 - val_acc: 0.7310\n",
            "Epoch 25/30\n",
            "100/100 [==============================] - 8s 82ms/step - loss: 0.1209 - acc: 0.9565 - val_loss: 0.7361 - val_acc: 0.7250\n",
            "Epoch 26/30\n",
            "100/100 [==============================] - 8s 82ms/step - loss: 0.0988 - acc: 0.9725 - val_loss: 0.7570 - val_acc: 0.7330\n",
            "Epoch 27/30\n",
            "100/100 [==============================] - 8s 82ms/step - loss: 0.0894 - acc: 0.9710 - val_loss: 0.7866 - val_acc: 0.7190\n",
            "Epoch 28/30\n",
            "100/100 [==============================] - 8s 81ms/step - loss: 0.0761 - acc: 0.9770 - val_loss: 0.8274 - val_acc: 0.7450\n",
            "Epoch 29/30\n",
            "100/100 [==============================] - 8s 82ms/step - loss: 0.0688 - acc: 0.9825 - val_loss: 0.8456 - val_acc: 0.7350\n",
            "Epoch 30/30\n",
            "100/100 [==============================] - 8s 82ms/step - loss: 0.0537 - acc: 0.9850 - val_loss: 0.8441 - val_acc: 0.7400\n"
          ],
          "name": "stdout"
        }
      ]
    },
    {
      "cell_type": "code",
      "metadata": {
        "id": "1Y2Du0Ofo_eU",
        "colab_type": "code",
        "colab": {}
      },
      "source": [
        "model.save('cats_and_dogs_small_1.h5')"
      ],
      "execution_count": 0,
      "outputs": []
    },
    {
      "cell_type": "code",
      "metadata": {
        "id": "g3Vvbxyjq0rV",
        "colab_type": "code",
        "outputId": "0b5b0674-2db0-4861-872a-330407bda45e",
        "colab": {
          "base_uri": "https://localhost:8080/",
          "height": 316
        }
      },
      "source": [
        "import matplotlib.pyplot as plt\n",
        "\n",
        "acc = history.history['acc']\n",
        "val_acc = history.history['val_acc']\n",
        "loss = history.history['loss']\n",
        "val_loss = history.history['val_loss']\n",
        "\n",
        "epochs = range(1, len(acc) + 1)\n",
        "\n",
        "plt.plot(epochs, acc, 'bo', label='Training acc')\n",
        "plt.plot(epochs, val_acc, 'b', label='Validation acc')\n",
        "plt.title('Training and validation accuracy')\n",
        "plt.legend()\n",
        "\n",
        "plt.figure()"
      ],
      "execution_count": 0,
      "outputs": [
        {
          "output_type": "execute_result",
          "data": {
            "text/plain": [
              "<Figure size 432x288 with 0 Axes>"
            ]
          },
          "metadata": {
            "tags": []
          },
          "execution_count": 13
        },
        {
          "output_type": "display_data",
          "data": {
            "image/png": "[encoded data removed]",
            "text/plain": [
              "<Figure size 432x288 with 1 Axes>"
            ]
          },
          "metadata": {
            "tags": []
          }
        },
        {
          "output_type": "display_data",
          "data": {
            "text/plain": [
              "<Figure size 432x288 with 0 Axes>"
            ]
          },
          "metadata": {
            "tags": []
          }
        }
      ]
    },
    {
      "cell_type": "code",
      "metadata": {
        "id": "AX3qeSwYq6fU",
        "colab_type": "code",
        "outputId": "0f19e0cf-cb31-48f0-b01e-698fe89e7126",
        "colab": {
          "base_uri": "https://localhost:8080/",
          "height": 281
        }
      },
      "source": [
        "plt.plot(epochs, loss, 'bo', label='Training loss')\n",
        "plt.plot(epochs, val_loss, 'b', label='Validation loss')\n",
        "plt.title('Training and validation loss')\n",
        "plt.legend()\n",
        "\n",
        "plt.show()"
      ],
      "execution_count": 0,
      "outputs": [
        {
          "output_type": "display_data",
          "data": {
            "image/png": "[encoded data removed]",
            "text/plain": [
              "<Figure size 432x288 with 1 Axes>"
            ]
          },
          "metadata": {
            "tags": []
          }
        }
      ]
    },
    {
      "cell_type": "markdown",
      "metadata": {
        "id": "8pOr_uC3rF4Z",
        "colab_type": "text"
      },
      "source": [
        "### Using data augmentation\n",
        "\n",
        "Need GPU"
      ]
    },
    {
      "cell_type": "markdown",
      "metadata": {
        "id": "cA0Rry3arU37",
        "colab_type": "text"
      },
      "source": [
        "### USING A PRETRAINED CONVNET\n"
      ]
    },
    {
      "cell_type": "code",
      "metadata": {
        "id": "JL_X-XDZq-0j",
        "colab_type": "code",
        "outputId": "3eca269d-702d-43b1-9f18-48e0a958ae6b",
        "colab": {
          "base_uri": "https://localhost:8080/",
          "height": 72
        }
      },
      "source": [
        "from keras.applications import VGG16\n",
        "\n",
        "conv_base = VGG16(weights='imagenet',\n",
        "                  include_top=False,\n",
        "                  input_shape=(150, 150, 3))"
      ],
      "execution_count": 0,
      "outputs": [
        {
          "output_type": "stream",
          "text": [
            "Downloading data from https://github.com/fchollet/deep-learning-models/releases/download/v0.1/vgg16_weights_tf_dim_ordering_tf_kernels_notop.h5\n",
            "58892288/58889256 [==============================] - 2s 0us/step\n"
          ],
          "name": "stdout"
        }
      ]
    },
    {
      "cell_type": "code",
      "metadata": {
        "id": "BwNnJlZFrdD5",
        "colab_type": "code",
        "outputId": "c1bfcd0b-c08c-4994-8cb5-8d88a66d07a9",
        "colab": {
          "base_uri": "https://localhost:8080/",
          "height": 797
        }
      },
      "source": [
        "conv_base.summary()"
      ],
      "execution_count": 0,
      "outputs": [
        {
          "output_type": "stream",
          "text": [
            "_________________________________________________________________\n",
            "Layer (type)                 Output Shape              Param #   \n",
            "=================================================================\n",
            "input_1 (InputLayer)         (None, 150, 150, 3)       0         \n",
            "_________________________________________________________________\n",
            "block1_conv1 (Conv2D)        (None, 150, 150, 64)      1792      \n",
            "_________________________________________________________________\n",
            "block1_conv2 (Conv2D)        (None, 150, 150, 64)      36928     \n",
            "_________________________________________________________________\n",
            "block1_pool (MaxPooling2D)   (None, 75, 75, 64)        0         \n",
            "_________________________________________________________________\n",
            "block2_conv1 (Conv2D)        (None, 75, 75, 128)       73856     \n",
            "_________________________________________________________________\n",
            "block2_conv2 (Conv2D)        (None, 75, 75, 128)       147584    \n",
            "_________________________________________________________________\n",
            "block2_pool (MaxPooling2D)   (None, 37, 37, 128)       0         \n",
            "_________________________________________________________________\n",
            "block3_conv1 (Conv2D)        (None, 37, 37, 256)       295168    \n",
            "_________________________________________________________________\n",
            "block3_conv2 (Conv2D)        (None, 37, 37, 256)       590080    \n",
            "_________________________________________________________________\n",
            "block3_conv3 (Conv2D)        (None, 37, 37, 256)       590080    \n",
            "_________________________________________________________________\n",
            "block3_pool (MaxPooling2D)   (None, 18, 18, 256)       0         \n",
            "_________________________________________________________________\n",
            "block4_conv1 (Conv2D)        (None, 18, 18, 512)       1180160   \n",
            "_________________________________________________________________\n",
            "block4_conv2 (Conv2D)        (None, 18, 18, 512)       2359808   \n",
            "_________________________________________________________________\n",
            "block4_conv3 (Conv2D)        (None, 18, 18, 512)       2359808   \n",
            "_________________________________________________________________\n",
            "block4_pool (MaxPooling2D)   (None, 9, 9, 512)         0         \n",
            "_________________________________________________________________\n",
            "block5_conv1 (Conv2D)        (None, 9, 9, 512)         2359808   \n",
            "_________________________________________________________________\n",
            "block5_conv2 (Conv2D)        (None, 9, 9, 512)         2359808   \n",
            "_________________________________________________________________\n",
            "block5_conv3 (Conv2D)        (None, 9, 9, 512)         2359808   \n",
            "_________________________________________________________________\n",
            "block5_pool (MaxPooling2D)   (None, 4, 4, 512)         0         \n",
            "=================================================================\n",
            "Total params: 14,714,688\n",
            "Trainable params: 14,714,688\n",
            "Non-trainable params: 0\n",
            "_________________________________________________________________\n"
          ],
          "name": "stdout"
        }
      ]
    },
    {
      "cell_type": "markdown",
      "metadata": {
        "id": "YYSDhT7-rqGO",
        "colab_type": "text"
      },
      "source": [
        "### Fast feature extraction without data augmentation"
      ]
    },
    {
      "cell_type": "code",
      "metadata": {
        "id": "s7PyOefdriZD",
        "colab_type": "code",
        "colab": {}
      },
      "source": [
        "import os\n",
        "import numpy as np\n",
        "from keras.preprocessing.image import ImageDataGenerator\n",
        "\n"
      ],
      "execution_count": 0,
      "outputs": []
    },
    {
      "cell_type": "code",
      "metadata": {
        "id": "R6QeYaFlrzL-",
        "colab_type": "code",
        "outputId": "de7a0bfa-ae9b-4b2e-9c40-02e0c0a42238",
        "colab": {
          "base_uri": "https://localhost:8080/",
          "height": 69
        }
      },
      "source": [
        "base_dir = './cats_and_dogs_small'\n",
        "train_dir = os.path.join(base_dir, 'train')\n",
        "validation_dir = os.path.join(base_dir, 'validation')\n",
        "test_dir = os.path.join(base_dir, 'test')\n",
        "\n",
        "datagen = ImageDataGenerator(rescale=1./255)\n",
        "batch_size = 20\n",
        "\n",
        "def extract_features(directory, sample_count):\n",
        "    features = np.zeros(shape=(sample_count, 4, 4, 512))\n",
        "    labels = np.zeros(shape=(sample_count))\n",
        "    generator = datagen.flow_from_directory(\n",
        "        directory,\n",
        "        target_size=(150, 150),\n",
        "        batch_size=batch_size,\n",
        "        class_mode='binary')\n",
        "    i = 0\n",
        "    for inputs_batch, labels_batch in generator:\n",
        "        features_batch = conv_base.predict(inputs_batch)\n",
        "        features[i * batch_size : (i + 1) * batch_size] = features_batch\n",
        "        labels[i * batch_size : (i + 1) * batch_size] = labels_batch\n",
        "        i += 1\n",
        "        if i * batch_size >= sample_count:\n",
        "            break                                                           \n",
        "    return features, labels\n",
        "\n",
        "train_features, train_labels = extract_features(train_dir, 2000)\n",
        "validation_features, validation_labels = extract_features(validation_dir, 1000)\n",
        "test_features, test_labels = extract_features(test_dir, 1000)"
      ],
      "execution_count": 0,
      "outputs": [
        {
          "output_type": "stream",
          "text": [
            "Found 2000 images belonging to 2 classes.\n",
            "Found 1000 images belonging to 2 classes.\n",
            "Found 1000 images belonging to 2 classes.\n"
          ],
          "name": "stdout"
        }
      ]
    },
    {
      "cell_type": "code",
      "metadata": {
        "id": "sZvABHQvr2Nw",
        "colab_type": "code",
        "colab": {}
      },
      "source": [
        "train_features = np.reshape(train_features, (2000, 4 * 4 * 512))\n",
        "validation_features = np.reshape(validation_features, (1000, 4 * 4 * 512))\n",
        "test_features = np.reshape(test_features, (1000, 4 * 4 * 512))"
      ],
      "execution_count": 0,
      "outputs": []
    },
    {
      "cell_type": "code",
      "metadata": {
        "id": "2l2WOk8Lr-Pr",
        "colab_type": "code",
        "colab": {}
      },
      "source": [
        "from keras import models\n",
        "from keras import layers\n",
        "from keras import optimizers"
      ],
      "execution_count": 0,
      "outputs": []
    },
    {
      "cell_type": "code",
      "metadata": {
        "id": "o3CRwx0-sBdk",
        "colab_type": "code",
        "outputId": "fc1449fd-4644-4c24-a04c-899521d16234",
        "colab": {
          "base_uri": "https://localhost:8080/",
          "height": 89
        }
      },
      "source": [
        "model = models.Sequential()\n",
        "model.add(layers.Dense(256, activation='relu', input_dim=4 * 4 * 512))\n",
        "model.add(layers.Dropout(0.5))\n",
        "model.add(layers.Dense(1, activation='sigmoid'))\n"
      ],
      "execution_count": 0,
      "outputs": [
        {
          "output_type": "stream",
          "text": [
            "WARNING:tensorflow:From /usr/local/lib/python3.6/dist-packages/keras/backend/tensorflow_backend.py:3445: calling dropout (from tensorflow.python.ops.nn_ops) with keep_prob is deprecated and will be removed in a future version.\n",
            "Instructions for updating:\n",
            "Please use `rate` instead of `keep_prob`. Rate should be set to `rate = 1 - keep_prob`.\n"
          ],
          "name": "stdout"
        }
      ]
    },
    {
      "cell_type": "code",
      "metadata": {
        "id": "P_vuSVhvsFiU",
        "colab_type": "code",
        "colab": {}
      },
      "source": [
        "model.compile(optimizer=optimizers.RMSprop(lr=2e-5),\n",
        "              loss='binary_crossentropy',\n",
        "              metrics=['acc'])"
      ],
      "execution_count": 0,
      "outputs": []
    },
    {
      "cell_type": "code",
      "metadata": {
        "id": "rWFPnJTWsJhu",
        "colab_type": "code",
        "outputId": "d7e09a0c-6a07-42fc-d745-c230cc8e61ed",
        "colab": {
          "base_uri": "https://localhost:8080/",
          "height": 1095
        }
      },
      "source": [
        "history = model.fit(train_features, train_labels,\n",
        "                    epochs=30,\n",
        "                    batch_size=20,\n",
        "                    validation_data=(validation_features, validation_labels))"
      ],
      "execution_count": 0,
      "outputs": [
        {
          "output_type": "stream",
          "text": [
            "Train on 2000 samples, validate on 1000 samples\n",
            "Epoch 1/30\n",
            "2000/2000 [==============================] - 1s 440us/step - loss: 0.6121 - acc: 0.6620 - val_loss: 0.4502 - val_acc: 0.8080\n",
            "Epoch 2/30\n",
            "2000/2000 [==============================] - 1s 290us/step - loss: 0.4330 - acc: 0.7945 - val_loss: 0.3634 - val_acc: 0.8630\n",
            "Epoch 3/30\n",
            "2000/2000 [==============================] - 1s 288us/step - loss: 0.3642 - acc: 0.8410 - val_loss: 0.3303 - val_acc: 0.8670\n",
            "Epoch 4/30\n",
            "2000/2000 [==============================] - 1s 292us/step - loss: 0.3161 - acc: 0.8730 - val_loss: 0.3010 - val_acc: 0.8890\n",
            "Epoch 5/30\n",
            "2000/2000 [==============================] - 1s 263us/step - loss: 0.2869 - acc: 0.8910 - val_loss: 0.2889 - val_acc: 0.8900\n",
            "Epoch 6/30\n",
            "2000/2000 [==============================] - 1s 255us/step - loss: 0.2746 - acc: 0.8820 - val_loss: 0.2742 - val_acc: 0.8910\n",
            "Epoch 7/30\n",
            "2000/2000 [==============================] - 1s 261us/step - loss: 0.2530 - acc: 0.9070 - val_loss: 0.2673 - val_acc: 0.8920\n",
            "Epoch 8/30\n",
            "2000/2000 [==============================] - 1s 258us/step - loss: 0.2407 - acc: 0.9030 - val_loss: 0.2606 - val_acc: 0.8940\n",
            "Epoch 9/30\n",
            "2000/2000 [==============================] - 1s 263us/step - loss: 0.2281 - acc: 0.9175 - val_loss: 0.2579 - val_acc: 0.8930\n",
            "Epoch 10/30\n",
            "2000/2000 [==============================] - 1s 256us/step - loss: 0.2092 - acc: 0.9235 - val_loss: 0.2638 - val_acc: 0.8890\n",
            "Epoch 11/30\n",
            "2000/2000 [==============================] - 1s 264us/step - loss: 0.2022 - acc: 0.9245 - val_loss: 0.2453 - val_acc: 0.9010\n",
            "Epoch 12/30\n",
            "2000/2000 [==============================] - 1s 257us/step - loss: 0.1811 - acc: 0.9380 - val_loss: 0.2426 - val_acc: 0.9020\n",
            "Epoch 13/30\n",
            "2000/2000 [==============================] - 1s 259us/step - loss: 0.1843 - acc: 0.9335 - val_loss: 0.2400 - val_acc: 0.9020\n",
            "Epoch 14/30\n",
            "2000/2000 [==============================] - 1s 253us/step - loss: 0.1759 - acc: 0.9375 - val_loss: 0.2424 - val_acc: 0.9050\n",
            "Epoch 15/30\n",
            "2000/2000 [==============================] - 1s 263us/step - loss: 0.1593 - acc: 0.9465 - val_loss: 0.2394 - val_acc: 0.9060\n",
            "Epoch 16/30\n",
            "2000/2000 [==============================] - 1s 256us/step - loss: 0.1553 - acc: 0.9450 - val_loss: 0.2391 - val_acc: 0.9070\n",
            "Epoch 17/30\n",
            "2000/2000 [==============================] - 1s 261us/step - loss: 0.1483 - acc: 0.9490 - val_loss: 0.2365 - val_acc: 0.9080\n",
            "Epoch 18/30\n",
            "2000/2000 [==============================] - 1s 258us/step - loss: 0.1451 - acc: 0.9420 - val_loss: 0.2350 - val_acc: 0.9050\n",
            "Epoch 19/30\n",
            "2000/2000 [==============================] - 1s 260us/step - loss: 0.1375 - acc: 0.9575 - val_loss: 0.2341 - val_acc: 0.9050\n",
            "Epoch 20/30\n",
            "2000/2000 [==============================] - 1s 254us/step - loss: 0.1289 - acc: 0.9565 - val_loss: 0.2337 - val_acc: 0.9060\n",
            "Epoch 21/30\n",
            "2000/2000 [==============================] - 1s 260us/step - loss: 0.1291 - acc: 0.9510 - val_loss: 0.2336 - val_acc: 0.9060\n",
            "Epoch 22/30\n",
            "2000/2000 [==============================] - 1s 255us/step - loss: 0.1268 - acc: 0.9600 - val_loss: 0.2352 - val_acc: 0.9090\n",
            "Epoch 23/30\n",
            "2000/2000 [==============================] - 1s 271us/step - loss: 0.1195 - acc: 0.9585 - val_loss: 0.2356 - val_acc: 0.9030\n",
            "Epoch 24/30\n",
            "2000/2000 [==============================] - 1s 258us/step - loss: 0.1155 - acc: 0.9610 - val_loss: 0.2438 - val_acc: 0.9030\n",
            "Epoch 25/30\n",
            "2000/2000 [==============================] - 1s 261us/step - loss: 0.1108 - acc: 0.9660 - val_loss: 0.2371 - val_acc: 0.9020\n",
            "Epoch 26/30\n",
            "2000/2000 [==============================] - 1s 258us/step - loss: 0.1049 - acc: 0.9685 - val_loss: 0.2398 - val_acc: 0.9070\n",
            "Epoch 27/30\n",
            "2000/2000 [==============================] - 1s 264us/step - loss: 0.1031 - acc: 0.9675 - val_loss: 0.2359 - val_acc: 0.9040\n",
            "Epoch 28/30\n",
            "2000/2000 [==============================] - 1s 256us/step - loss: 0.0992 - acc: 0.9665 - val_loss: 0.2461 - val_acc: 0.9020\n",
            "Epoch 29/30\n",
            "2000/2000 [==============================] - 1s 258us/step - loss: 0.0937 - acc: 0.9735 - val_loss: 0.2373 - val_acc: 0.9030\n",
            "Epoch 30/30\n",
            "2000/2000 [==============================] - 1s 257us/step - loss: 0.0948 - acc: 0.9720 - val_loss: 0.2433 - val_acc: 0.9060\n"
          ],
          "name": "stdout"
        }
      ]
    },
    {
      "cell_type": "code",
      "metadata": {
        "id": "mwexi3casMbG",
        "colab_type": "code",
        "outputId": "bc7caf90-214f-48fc-f567-c96d33005bac",
        "colab": {
          "base_uri": "https://localhost:8080/",
          "height": 545
        }
      },
      "source": [
        "import matplotlib.pyplot as plt\n",
        "\n",
        "acc = history.history['acc']\n",
        "val_acc = history.history['val_acc']\n",
        "loss = history.history['loss']\n",
        "val_loss = history.history['val_loss']\n",
        "\n",
        "epochs = range(1, len(acc) + 1)\n",
        "\n",
        "plt.plot(epochs, acc, 'bo', label='Training acc')\n",
        "plt.plot(epochs, val_acc, 'b', label='Validation acc')\n",
        "plt.title('Training and validation accuracy')\n",
        "plt.legend()\n",
        "\n",
        "plt.figure()\n",
        "\n",
        "plt.plot(epochs, loss, 'bo', label='Training loss')\n",
        "plt.plot(epochs, val_loss, 'b', label='Validation loss')\n",
        "plt.title('Training and validation loss')\n",
        "plt.legend()\n",
        "\n",
        "plt.show()"
      ],
      "execution_count": 0,
      "outputs": [
        {
          "output_type": "display_data",
          "data": {
            "image/png": "[encoded data removed]",
            "text/plain": [
              "<Figure size 432x288 with 1 Axes>"
            ]
          },
          "metadata": {
            "tags": []
          }
        },
        {
          "output_type": "display_data",
          "data": {
            "image/png": "[encoded data removed]",
            "text/plain": [
              "<Figure size 432x288 with 1 Axes>"
            ]
          },
          "metadata": {
            "tags": []
          }
        }
      ]
    },
    {
      "cell_type": "markdown",
      "metadata": {
        "id": "ZIN4OGeasihx",
        "colab_type": "text"
      },
      "source": [
        "### Feature extraction with data augmentation\n",
        "\n",
        "Need GPU"
      ]
    },
    {
      "cell_type": "code",
      "metadata": {
        "id": "vTSb_UX2saMF",
        "colab_type": "code",
        "colab": {}
      },
      "source": [
        "from keras import models\n",
        "from keras import layers\n",
        "\n",
        "model = models.Sequential()\n",
        "model.add(conv_base)\n",
        "model.add(layers.Flatten())\n",
        "model.add(layers.Dense(256, activation='relu'))\n",
        "model.add(layers.Dense(1, activation='sigmoid'))"
      ],
      "execution_count": 0,
      "outputs": []
    },
    {
      "cell_type": "code",
      "metadata": {
        "id": "DlFTYBhltCRA",
        "colab_type": "code",
        "outputId": "842f942d-963a-4a5a-eb2e-a5a90ef9daca",
        "colab": {
          "base_uri": "https://localhost:8080/",
          "height": 277
        }
      },
      "source": [
        "model.summary()"
      ],
      "execution_count": 0,
      "outputs": [
        {
          "output_type": "stream",
          "text": [
            "_________________________________________________________________\n",
            "Layer (type)                 Output Shape              Param #   \n",
            "=================================================================\n",
            "vgg16 (Model)                (None, 4, 4, 512)         14714688  \n",
            "_________________________________________________________________\n",
            "flatten_2 (Flatten)          (None, 8192)              0         \n",
            "_________________________________________________________________\n",
            "dense_5 (Dense)              (None, 256)               2097408   \n",
            "_________________________________________________________________\n",
            "dense_6 (Dense)              (None, 1)                 257       \n",
            "=================================================================\n",
            "Total params: 16,812,353\n",
            "Trainable params: 16,812,353\n",
            "Non-trainable params: 0\n",
            "_________________________________________________________________\n"
          ],
          "name": "stdout"
        }
      ]
    },
    {
      "cell_type": "code",
      "metadata": {
        "id": "aeWGZmCGtEnp",
        "colab_type": "code",
        "outputId": "1d297456-c164-4ec6-d7f5-22d40350c424",
        "colab": {
          "base_uri": "https://localhost:8080/",
          "height": 52
        }
      },
      "source": [
        "print('This is the number of trainable weights '\n",
        "         'before freezing the conv base:', len(model.trainable_weights))\n",
        "conv_base.trainable = False\n",
        "print('This is the number of trainable weights '\n",
        "          'after freezing the conv base:', len(model.trainable_weights))"
      ],
      "execution_count": 0,
      "outputs": [
        {
          "output_type": "stream",
          "text": [
            "This is the number of trainable weights before freezing the conv base: 30\n",
            "This is the number of trainable weights after freezing the conv base: 4\n"
          ],
          "name": "stdout"
        }
      ]
    },
    {
      "cell_type": "code",
      "metadata": {
        "id": "13iQ4QbbtSX4",
        "colab_type": "code",
        "colab": {}
      },
      "source": [
        "from keras.preprocessing.image import ImageDataGenerator\n",
        "from keras import optimizers"
      ],
      "execution_count": 0,
      "outputs": []
    },
    {
      "cell_type": "code",
      "metadata": {
        "id": "2j_OfL2-tjTI",
        "colab_type": "code",
        "colab": {}
      },
      "source": [
        "train_datagen = ImageDataGenerator(\n",
        "      rescale=1./255,\n",
        "      rotation_range=40,\n",
        "      width_shift_range=0.2,\n",
        "      height_shift_range=0.2,\n",
        "      shear_range=0.2,\n",
        "      zoom_range=0.2,\n",
        "      horizontal_flip=True,\n",
        "      fill_mode='nearest')"
      ],
      "execution_count": 0,
      "outputs": []
    },
    {
      "cell_type": "code",
      "metadata": {
        "id": "OFAkZ5dJtlmr",
        "colab_type": "code",
        "outputId": "dd72e6a8-de16-4a59-b308-59e773b4ecbe",
        "colab": {
          "base_uri": "https://localhost:8080/",
          "height": 52
        }
      },
      "source": [
        "test_datagen = ImageDataGenerator(rescale=1./255)                \n",
        "\n",
        "train_generator = train_datagen.flow_from_directory(\n",
        "        train_dir,                                               \n",
        "        target_size=(150, 150),                                  \n",
        "        batch_size=20,\n",
        "        class_mode='binary')                                     \n",
        "\n",
        "validation_generator = test_datagen.flow_from_directory(\n",
        "        validation_dir,\n",
        "        target_size=(150, 150),\n",
        "        batch_size=20,\n",
        "        class_mode='binary')\n",
        "\n",
        "model.compile(loss='binary_crossentropy',\n",
        "              optimizer=optimizers.RMSprop(lr=2e-5),\n",
        "              metrics=['acc'])"
      ],
      "execution_count": 0,
      "outputs": [
        {
          "output_type": "stream",
          "text": [
            "Found 2000 images belonging to 2 classes.\n",
            "Found 1000 images belonging to 2 classes.\n"
          ],
          "name": "stdout"
        }
      ]
    },
    {
      "cell_type": "code",
      "metadata": {
        "id": "evWfVF9Jtomo",
        "colab_type": "code",
        "colab": {}
      },
      "source": [
        "# 100 epochs, 30 secs per epoch on Colab GPU\n",
        "#history = model.fit_generator(\n",
        "#      train_generator,\n",
        "#      steps_per_epoch=100,\n",
        "#      epochs=30,\n",
        "#      validation_data=validation_generator,\n",
        "#      validation_steps=50)"
      ],
      "execution_count": 0,
      "outputs": []
    },
    {
      "cell_type": "markdown",
      "metadata": {
        "id": "O_AvdaESt-X8",
        "colab_type": "text"
      },
      "source": [
        "### Fine-tuning"
      ]
    },
    {
      "cell_type": "code",
      "metadata": {
        "id": "oZHBt_lDtxbn",
        "colab_type": "code",
        "outputId": "b078d36a-7bdd-4d08-ecc7-6760a61f7e08",
        "colab": {
          "base_uri": "https://localhost:8080/",
          "height": 797
        }
      },
      "source": [
        "conv_base.summary()"
      ],
      "execution_count": 0,
      "outputs": [
        {
          "output_type": "stream",
          "text": [
            "_________________________________________________________________\n",
            "Layer (type)                 Output Shape              Param #   \n",
            "=================================================================\n",
            "input_1 (InputLayer)         (None, 150, 150, 3)       0         \n",
            "_________________________________________________________________\n",
            "block1_conv1 (Conv2D)        (None, 150, 150, 64)      1792      \n",
            "_________________________________________________________________\n",
            "block1_conv2 (Conv2D)        (None, 150, 150, 64)      36928     \n",
            "_________________________________________________________________\n",
            "block1_pool (MaxPooling2D)   (None, 75, 75, 64)        0         \n",
            "_________________________________________________________________\n",
            "block2_conv1 (Conv2D)        (None, 75, 75, 128)       73856     \n",
            "_________________________________________________________________\n",
            "block2_conv2 (Conv2D)        (None, 75, 75, 128)       147584    \n",
            "_________________________________________________________________\n",
            "block2_pool (MaxPooling2D)   (None, 37, 37, 128)       0         \n",
            "_________________________________________________________________\n",
            "block3_conv1 (Conv2D)        (None, 37, 37, 256)       295168    \n",
            "_________________________________________________________________\n",
            "block3_conv2 (Conv2D)        (None, 37, 37, 256)       590080    \n",
            "_________________________________________________________________\n",
            "block3_conv3 (Conv2D)        (None, 37, 37, 256)       590080    \n",
            "_________________________________________________________________\n",
            "block3_pool (MaxPooling2D)   (None, 18, 18, 256)       0         \n",
            "_________________________________________________________________\n",
            "block4_conv1 (Conv2D)        (None, 18, 18, 512)       1180160   \n",
            "_________________________________________________________________\n",
            "block4_conv2 (Conv2D)        (None, 18, 18, 512)       2359808   \n",
            "_________________________________________________________________\n",
            "block4_conv3 (Conv2D)        (None, 18, 18, 512)       2359808   \n",
            "_________________________________________________________________\n",
            "block4_pool (MaxPooling2D)   (None, 9, 9, 512)         0         \n",
            "_________________________________________________________________\n",
            "block5_conv1 (Conv2D)        (None, 9, 9, 512)         2359808   \n",
            "_________________________________________________________________\n",
            "block5_conv2 (Conv2D)        (None, 9, 9, 512)         2359808   \n",
            "_________________________________________________________________\n",
            "block5_conv3 (Conv2D)        (None, 9, 9, 512)         2359808   \n",
            "_________________________________________________________________\n",
            "block5_pool (MaxPooling2D)   (None, 4, 4, 512)         0         \n",
            "=================================================================\n",
            "Total params: 14,714,688\n",
            "Trainable params: 0\n",
            "Non-trainable params: 14,714,688\n",
            "_________________________________________________________________\n"
          ],
          "name": "stdout"
        }
      ]
    },
    {
      "cell_type": "code",
      "metadata": {
        "id": "g-jrUGTYuEOI",
        "colab_type": "code",
        "colab": {}
      },
      "source": [
        "conv_base.trainable = True\n",
        "\n",
        "set_trainable = False\n",
        "for layer in conv_base.layers:\n",
        "    if layer.name == 'block5_conv1':\n",
        "        set_trainable = True\n",
        "    if set_trainable:\n",
        "        layer.trainable = True\n",
        "    else:\n",
        "        layer.trainable = False"
      ],
      "execution_count": 0,
      "outputs": []
    },
    {
      "cell_type": "code",
      "metadata": {
        "id": "_tOipAmSuMrO",
        "colab_type": "code",
        "outputId": "ca3254e9-ef02-4edf-a737-5f33199548b3",
        "colab": {
          "base_uri": "https://localhost:8080/",
          "height": 797
        }
      },
      "source": [
        "conv_base.summary()"
      ],
      "execution_count": 0,
      "outputs": [
        {
          "output_type": "stream",
          "text": [
            "_________________________________________________________________\n",
            "Layer (type)                 Output Shape              Param #   \n",
            "=================================================================\n",
            "input_1 (InputLayer)         (None, 150, 150, 3)       0         \n",
            "_________________________________________________________________\n",
            "block1_conv1 (Conv2D)        (None, 150, 150, 64)      1792      \n",
            "_________________________________________________________________\n",
            "block1_conv2 (Conv2D)        (None, 150, 150, 64)      36928     \n",
            "_________________________________________________________________\n",
            "block1_pool (MaxPooling2D)   (None, 75, 75, 64)        0         \n",
            "_________________________________________________________________\n",
            "block2_conv1 (Conv2D)        (None, 75, 75, 128)       73856     \n",
            "_________________________________________________________________\n",
            "block2_conv2 (Conv2D)        (None, 75, 75, 128)       147584    \n",
            "_________________________________________________________________\n",
            "block2_pool (MaxPooling2D)   (None, 37, 37, 128)       0         \n",
            "_________________________________________________________________\n",
            "block3_conv1 (Conv2D)        (None, 37, 37, 256)       295168    \n",
            "_________________________________________________________________\n",
            "block3_conv2 (Conv2D)        (None, 37, 37, 256)       590080    \n",
            "_________________________________________________________________\n",
            "block3_conv3 (Conv2D)        (None, 37, 37, 256)       590080    \n",
            "_________________________________________________________________\n",
            "block3_pool (MaxPooling2D)   (None, 18, 18, 256)       0         \n",
            "_________________________________________________________________\n",
            "block4_conv1 (Conv2D)        (None, 18, 18, 512)       1180160   \n",
            "_________________________________________________________________\n",
            "block4_conv2 (Conv2D)        (None, 18, 18, 512)       2359808   \n",
            "_________________________________________________________________\n",
            "block4_conv3 (Conv2D)        (None, 18, 18, 512)       2359808   \n",
            "_________________________________________________________________\n",
            "block4_pool (MaxPooling2D)   (None, 9, 9, 512)         0         \n",
            "_________________________________________________________________\n",
            "block5_conv1 (Conv2D)        (None, 9, 9, 512)         2359808   \n",
            "_________________________________________________________________\n",
            "block5_conv2 (Conv2D)        (None, 9, 9, 512)         2359808   \n",
            "_________________________________________________________________\n",
            "block5_conv3 (Conv2D)        (None, 9, 9, 512)         2359808   \n",
            "_________________________________________________________________\n",
            "block5_pool (MaxPooling2D)   (None, 4, 4, 512)         0         \n",
            "=================================================================\n",
            "Total params: 14,714,688\n",
            "Trainable params: 7,079,424\n",
            "Non-trainable params: 7,635,264\n",
            "_________________________________________________________________\n"
          ],
          "name": "stdout"
        }
      ]
    },
    {
      "cell_type": "code",
      "metadata": {
        "id": "OPsI5WdouRNA",
        "colab_type": "code",
        "colab": {}
      },
      "source": [
        "model.compile(loss='binary_crossentropy',\n",
        "              optimizer=optimizers.RMSprop(lr=1e-5),\n",
        "              metrics=['acc'])\n"
      ],
      "execution_count": 0,
      "outputs": []
    },
    {
      "cell_type": "code",
      "metadata": {
        "id": "Eq99VE6HuoKl",
        "colab_type": "code",
        "outputId": "62d19965-453f-4533-86ff-ae00a9b15377",
        "colab": {
          "base_uri": "https://localhost:8080/",
          "height": 3504
        }
      },
      "source": [
        "# 100 epochs, 30 secs per epoch on Colab GPU\n",
        "history = model.fit_generator(\n",
        "      train_generator,\n",
        "      steps_per_epoch=100,\n",
        "      epochs=100,\n",
        "      validation_data=validation_generator,\n",
        "      validation_steps=50)"
      ],
      "execution_count": 0,
      "outputs": [
        {
          "output_type": "stream",
          "text": [
            "Epoch 1/100\n",
            "100/100 [==============================] - 19s 194ms/step - loss: 0.5623 - acc: 0.7125 - val_loss: 0.3504 - val_acc: 0.8640\n",
            "Epoch 2/100\n",
            "100/100 [==============================] - 18s 177ms/step - loss: 0.3755 - acc: 0.8365 - val_loss: 0.2969 - val_acc: 0.8690\n",
            "Epoch 3/100\n",
            "100/100 [==============================] - 19s 187ms/step - loss: 0.3325 - acc: 0.8450 - val_loss: 0.2262 - val_acc: 0.9030\n",
            "Epoch 4/100\n",
            "100/100 [==============================] - 18s 184ms/step - loss: 0.2844 - acc: 0.8835 - val_loss: 0.2237 - val_acc: 0.9090\n",
            "Epoch 5/100\n",
            "100/100 [==============================] - 18s 183ms/step - loss: 0.2634 - acc: 0.8785 - val_loss: 0.2303 - val_acc: 0.9080\n",
            "Epoch 6/100\n",
            "100/100 [==============================] - 18s 176ms/step - loss: 0.2589 - acc: 0.8905 - val_loss: 0.1851 - val_acc: 0.9200\n",
            "Epoch 7/100\n",
            "100/100 [==============================] - 18s 181ms/step - loss: 0.2464 - acc: 0.9030 - val_loss: 0.1925 - val_acc: 0.9130\n",
            "Epoch 8/100\n",
            "100/100 [==============================] - 18s 184ms/step - loss: 0.2268 - acc: 0.9070 - val_loss: 0.2236 - val_acc: 0.9090\n",
            "Epoch 9/100\n",
            "100/100 [==============================] - 18s 177ms/step - loss: 0.2063 - acc: 0.9140 - val_loss: 0.1739 - val_acc: 0.9310\n",
            "Epoch 10/100\n",
            "100/100 [==============================] - 18s 176ms/step - loss: 0.2155 - acc: 0.9165 - val_loss: 0.1699 - val_acc: 0.9330\n",
            "Epoch 11/100\n",
            "100/100 [==============================] - 18s 176ms/step - loss: 0.1849 - acc: 0.9285 - val_loss: 0.1673 - val_acc: 0.9270\n",
            "Epoch 12/100\n",
            "100/100 [==============================] - 19s 187ms/step - loss: 0.1916 - acc: 0.9210 - val_loss: 0.1635 - val_acc: 0.9290\n",
            "Epoch 13/100\n",
            "100/100 [==============================] - 17s 175ms/step - loss: 0.1824 - acc: 0.9310 - val_loss: 0.1695 - val_acc: 0.9310\n",
            "Epoch 14/100\n",
            "100/100 [==============================] - 18s 176ms/step - loss: 0.1611 - acc: 0.9375 - val_loss: 0.1770 - val_acc: 0.9300\n",
            "Epoch 15/100\n",
            "100/100 [==============================] - 18s 175ms/step - loss: 0.1623 - acc: 0.9340 - val_loss: 0.1646 - val_acc: 0.9310\n",
            "Epoch 16/100\n",
            "100/100 [==============================] - 18s 179ms/step - loss: 0.1510 - acc: 0.9360 - val_loss: 0.1706 - val_acc: 0.9320\n",
            "Epoch 17/100\n",
            "100/100 [==============================] - 18s 182ms/step - loss: 0.1512 - acc: 0.9380 - val_loss: 0.2083 - val_acc: 0.9200\n",
            "Epoch 18/100\n",
            "100/100 [==============================] - 18s 176ms/step - loss: 0.1359 - acc: 0.9480 - val_loss: 0.1715 - val_acc: 0.9310\n",
            "Epoch 19/100\n",
            "100/100 [==============================] - 17s 174ms/step - loss: 0.1375 - acc: 0.9440 - val_loss: 0.1859 - val_acc: 0.9300\n",
            "Epoch 20/100\n",
            "100/100 [==============================] - 17s 174ms/step - loss: 0.1365 - acc: 0.9505 - val_loss: 0.1625 - val_acc: 0.9280\n",
            "Epoch 21/100\n",
            "100/100 [==============================] - 19s 186ms/step - loss: 0.1254 - acc: 0.9505 - val_loss: 0.2179 - val_acc: 0.9240\n",
            "Epoch 22/100\n",
            "100/100 [==============================] - 19s 190ms/step - loss: 0.1287 - acc: 0.9540 - val_loss: 0.1653 - val_acc: 0.9320\n",
            "Epoch 23/100\n",
            "100/100 [==============================] - 17s 175ms/step - loss: 0.1290 - acc: 0.9510 - val_loss: 0.1595 - val_acc: 0.9350\n",
            "Epoch 24/100\n",
            "100/100 [==============================] - 17s 175ms/step - loss: 0.1139 - acc: 0.9545 - val_loss: 0.1647 - val_acc: 0.9350\n",
            "Epoch 25/100\n",
            "100/100 [==============================] - 18s 178ms/step - loss: 0.1164 - acc: 0.9540 - val_loss: 0.1897 - val_acc: 0.9300\n",
            "Epoch 26/100\n",
            "100/100 [==============================] - 18s 183ms/step - loss: 0.1124 - acc: 0.9585 - val_loss: 0.1730 - val_acc: 0.9240\n",
            "Epoch 27/100\n",
            "100/100 [==============================] - 17s 175ms/step - loss: 0.1151 - acc: 0.9565 - val_loss: 0.1636 - val_acc: 0.9340\n",
            "Epoch 28/100\n",
            "100/100 [==============================] - 18s 176ms/step - loss: 0.1014 - acc: 0.9635 - val_loss: 0.1724 - val_acc: 0.9390\n",
            "Epoch 29/100\n",
            "100/100 [==============================] - 18s 182ms/step - loss: 0.1036 - acc: 0.9560 - val_loss: 0.1824 - val_acc: 0.9320\n",
            "Epoch 30/100\n",
            "100/100 [==============================] - 19s 187ms/step - loss: 0.0890 - acc: 0.9640 - val_loss: 0.2332 - val_acc: 0.9170\n",
            "Epoch 31/100\n",
            "100/100 [==============================] - 18s 175ms/step - loss: 0.0936 - acc: 0.9645 - val_loss: 0.1739 - val_acc: 0.9330\n",
            "Epoch 32/100\n",
            "100/100 [==============================] - 18s 175ms/step - loss: 0.0884 - acc: 0.9655 - val_loss: 0.2271 - val_acc: 0.9220\n",
            "Epoch 33/100\n",
            "100/100 [==============================] - 18s 175ms/step - loss: 0.0886 - acc: 0.9645 - val_loss: 0.1817 - val_acc: 0.9250\n",
            "Epoch 34/100\n",
            "100/100 [==============================] - 18s 179ms/step - loss: 0.0859 - acc: 0.9665 - val_loss: 0.1826 - val_acc: 0.9350\n",
            "Epoch 35/100\n",
            "100/100 [==============================] - 18s 182ms/step - loss: 0.0788 - acc: 0.9695 - val_loss: 0.1722 - val_acc: 0.9360\n",
            "Epoch 36/100\n",
            "100/100 [==============================] - 17s 174ms/step - loss: 0.0778 - acc: 0.9725 - val_loss: 0.1781 - val_acc: 0.9350\n",
            "Epoch 37/100\n",
            "100/100 [==============================] - 17s 173ms/step - loss: 0.0768 - acc: 0.9750 - val_loss: 0.1921 - val_acc: 0.9330\n",
            "Epoch 38/100\n",
            "100/100 [==============================] - 17s 173ms/step - loss: 0.0700 - acc: 0.9710 - val_loss: 0.1766 - val_acc: 0.9280\n",
            "Epoch 39/100\n",
            "100/100 [==============================] - 19s 190ms/step - loss: 0.0602 - acc: 0.9815 - val_loss: 0.3893 - val_acc: 0.9000\n",
            "Epoch 40/100\n",
            "100/100 [==============================] - 17s 174ms/step - loss: 0.0807 - acc: 0.9695 - val_loss: 0.2232 - val_acc: 0.9280\n",
            "Epoch 41/100\n",
            "100/100 [==============================] - 17s 172ms/step - loss: 0.0623 - acc: 0.9775 - val_loss: 0.2149 - val_acc: 0.9290\n",
            "Epoch 42/100\n",
            "100/100 [==============================] - 17s 173ms/step - loss: 0.0702 - acc: 0.9735 - val_loss: 0.2195 - val_acc: 0.9280\n",
            "Epoch 43/100\n",
            "100/100 [==============================] - 17s 174ms/step - loss: 0.0678 - acc: 0.9745 - val_loss: 0.1862 - val_acc: 0.9330\n",
            "Epoch 44/100\n",
            "100/100 [==============================] - 19s 185ms/step - loss: 0.0518 - acc: 0.9815 - val_loss: 0.2230 - val_acc: 0.9370\n",
            "Epoch 45/100\n",
            "100/100 [==============================] - 17s 174ms/step - loss: 0.0546 - acc: 0.9820 - val_loss: 0.1842 - val_acc: 0.9390\n",
            "Epoch 46/100\n",
            "100/100 [==============================] - 18s 176ms/step - loss: 0.0526 - acc: 0.9805 - val_loss: 0.2605 - val_acc: 0.9200\n",
            "Epoch 47/100\n",
            "100/100 [==============================] - 18s 179ms/step - loss: 0.0625 - acc: 0.9780 - val_loss: 0.1835 - val_acc: 0.9400\n",
            "Epoch 48/100\n",
            "100/100 [==============================] - 19s 188ms/step - loss: 0.0539 - acc: 0.9750 - val_loss: 0.1710 - val_acc: 0.9410\n",
            "Epoch 49/100\n",
            "100/100 [==============================] - 17s 173ms/step - loss: 0.0632 - acc: 0.9760 - val_loss: 0.1967 - val_acc: 0.9310\n",
            "Epoch 50/100\n",
            "100/100 [==============================] - 17s 173ms/step - loss: 0.0581 - acc: 0.9790 - val_loss: 0.1723 - val_acc: 0.9390\n",
            "Epoch 51/100\n",
            "100/100 [==============================] - 17s 172ms/step - loss: 0.0608 - acc: 0.9765 - val_loss: 0.1768 - val_acc: 0.9310\n",
            "Epoch 52/100\n",
            "100/100 [==============================] - 17s 172ms/step - loss: 0.0521 - acc: 0.9815 - val_loss: 0.2467 - val_acc: 0.9280\n",
            "Epoch 53/100\n",
            "100/100 [==============================] - 18s 185ms/step - loss: 0.0484 - acc: 0.9815 - val_loss: 0.2891 - val_acc: 0.9290\n",
            "Epoch 54/100\n",
            "100/100 [==============================] - 17s 173ms/step - loss: 0.0493 - acc: 0.9815 - val_loss: 0.2837 - val_acc: 0.9240\n",
            "Epoch 55/100\n",
            "100/100 [==============================] - 18s 176ms/step - loss: 0.0496 - acc: 0.9820 - val_loss: 0.1774 - val_acc: 0.9370\n",
            "Epoch 56/100\n",
            "100/100 [==============================] - 17s 173ms/step - loss: 0.0439 - acc: 0.9825 - val_loss: 0.1747 - val_acc: 0.9420\n",
            "Epoch 57/100\n",
            "100/100 [==============================] - 20s 200ms/step - loss: 0.0470 - acc: 0.9820 - val_loss: 0.2172 - val_acc: 0.9330\n",
            "Epoch 58/100\n",
            "100/100 [==============================] - 17s 174ms/step - loss: 0.0393 - acc: 0.9875 - val_loss: 0.1826 - val_acc: 0.9410\n",
            "Epoch 59/100\n",
            "100/100 [==============================] - 17s 172ms/step - loss: 0.0439 - acc: 0.9825 - val_loss: 0.2820 - val_acc: 0.9250\n",
            "Epoch 60/100\n",
            "100/100 [==============================] - 17s 173ms/step - loss: 0.0353 - acc: 0.9865 - val_loss: 0.1899 - val_acc: 0.9410\n",
            "Epoch 61/100\n",
            "100/100 [==============================] - 17s 173ms/step - loss: 0.0407 - acc: 0.9840 - val_loss: 0.2087 - val_acc: 0.9430\n",
            "Epoch 62/100\n",
            "100/100 [==============================] - 19s 186ms/step - loss: 0.0294 - acc: 0.9900 - val_loss: 0.2536 - val_acc: 0.9380\n",
            "Epoch 63/100\n",
            "100/100 [==============================] - 17s 173ms/step - loss: 0.0404 - acc: 0.9850 - val_loss: 0.2233 - val_acc: 0.9370\n",
            "Epoch 64/100\n",
            "100/100 [==============================] - 18s 180ms/step - loss: 0.0324 - acc: 0.9885 - val_loss: 0.3037 - val_acc: 0.9300\n",
            "Epoch 65/100\n",
            "100/100 [==============================] - 17s 173ms/step - loss: 0.0326 - acc: 0.9885 - val_loss: 0.2076 - val_acc: 0.9360\n",
            "Epoch 66/100\n",
            "100/100 [==============================] - 18s 182ms/step - loss: 0.0376 - acc: 0.9875 - val_loss: 0.2929 - val_acc: 0.9290\n",
            "Epoch 67/100\n",
            "100/100 [==============================] - 18s 177ms/step - loss: 0.0468 - acc: 0.9845 - val_loss: 0.2112 - val_acc: 0.9450\n",
            "Epoch 68/100\n",
            "100/100 [==============================] - 17s 173ms/step - loss: 0.0403 - acc: 0.9880 - val_loss: 0.2077 - val_acc: 0.9390\n",
            "Epoch 69/100\n",
            "100/100 [==============================] - 17s 173ms/step - loss: 0.0399 - acc: 0.9830 - val_loss: 0.2513 - val_acc: 0.9320\n",
            "Epoch 70/100\n",
            "100/100 [==============================] - 17s 173ms/step - loss: 0.0316 - acc: 0.9885 - val_loss: 0.2241 - val_acc: 0.9370\n",
            "Epoch 71/100\n",
            "100/100 [==============================] - 19s 186ms/step - loss: 0.0356 - acc: 0.9890 - val_loss: 0.2512 - val_acc: 0.9350\n",
            "Epoch 72/100\n",
            "100/100 [==============================] - 17s 172ms/step - loss: 0.0280 - acc: 0.9905 - val_loss: 0.2368 - val_acc: 0.9380\n",
            "Epoch 73/100\n",
            "100/100 [==============================] - 17s 172ms/step - loss: 0.0268 - acc: 0.9880 - val_loss: 0.1985 - val_acc: 0.9450\n",
            "Epoch 74/100\n",
            "100/100 [==============================] - 18s 184ms/step - loss: 0.0319 - acc: 0.9885 - val_loss: 0.2523 - val_acc: 0.9360\n",
            "Epoch 75/100\n",
            "100/100 [==============================] - 18s 184ms/step - loss: 0.0423 - acc: 0.9805 - val_loss: 0.2334 - val_acc: 0.9320\n",
            "Epoch 76/100\n",
            "100/100 [==============================] - 18s 178ms/step - loss: 0.0327 - acc: 0.9895 - val_loss: 0.3006 - val_acc: 0.9210\n",
            "Epoch 77/100\n",
            "100/100 [==============================] - 17s 172ms/step - loss: 0.0292 - acc: 0.9880 - val_loss: 0.4410 - val_acc: 0.9100\n",
            "Epoch 78/100\n",
            "100/100 [==============================] - 17s 173ms/step - loss: 0.0329 - acc: 0.9885 - val_loss: 0.2214 - val_acc: 0.9360\n",
            "Epoch 79/100\n",
            "100/100 [==============================] - 17s 173ms/step - loss: 0.0228 - acc: 0.9905 - val_loss: 0.2021 - val_acc: 0.9380\n",
            "Epoch 80/100\n",
            "100/100 [==============================] - 19s 186ms/step - loss: 0.0386 - acc: 0.9885 - val_loss: 0.2080 - val_acc: 0.9390\n",
            "Epoch 81/100\n",
            "100/100 [==============================] - 18s 180ms/step - loss: 0.0225 - acc: 0.9900 - val_loss: 0.3497 - val_acc: 0.9210\n",
            "Epoch 82/100\n",
            "100/100 [==============================] - 17s 173ms/step - loss: 0.0363 - acc: 0.9870 - val_loss: 0.2118 - val_acc: 0.9350\n",
            "Epoch 83/100\n",
            "100/100 [==============================] - 17s 172ms/step - loss: 0.0348 - acc: 0.9880 - val_loss: 0.2632 - val_acc: 0.9270\n",
            "Epoch 84/100\n",
            "100/100 [==============================] - 18s 178ms/step - loss: 0.0227 - acc: 0.9900 - val_loss: 0.2249 - val_acc: 0.9380\n",
            "Epoch 85/100\n",
            "100/100 [==============================] - 18s 183ms/step - loss: 0.0272 - acc: 0.9915 - val_loss: 0.1979 - val_acc: 0.9410\n",
            "Epoch 86/100\n",
            "100/100 [==============================] - 17s 174ms/step - loss: 0.0302 - acc: 0.9880 - val_loss: 0.3292 - val_acc: 0.9260\n",
            "Epoch 87/100\n",
            "100/100 [==============================] - 17s 174ms/step - loss: 0.0275 - acc: 0.9915 - val_loss: 0.2929 - val_acc: 0.9280\n",
            "Epoch 88/100\n",
            "100/100 [==============================] - 17s 174ms/step - loss: 0.0322 - acc: 0.9895 - val_loss: 0.4167 - val_acc: 0.9200\n",
            "Epoch 89/100\n",
            "100/100 [==============================] - 19s 186ms/step - loss: 0.0273 - acc: 0.9885 - val_loss: 0.2658 - val_acc: 0.9300\n",
            "Epoch 90/100\n",
            "100/100 [==============================] - 17s 173ms/step - loss: 0.0244 - acc: 0.9950 - val_loss: 0.2280 - val_acc: 0.9450\n",
            "Epoch 91/100\n",
            "100/100 [==============================] - 17s 172ms/step - loss: 0.0204 - acc: 0.9905 - val_loss: 0.2414 - val_acc: 0.9430\n",
            "Epoch 92/100\n",
            "100/100 [==============================] - 19s 189ms/step - loss: 0.0218 - acc: 0.9905 - val_loss: 0.2257 - val_acc: 0.9430\n",
            "Epoch 93/100\n",
            "100/100 [==============================] - 18s 177ms/step - loss: 0.0245 - acc: 0.9910 - val_loss: 0.2555 - val_acc: 0.9400\n",
            "Epoch 94/100\n",
            "100/100 [==============================] - 18s 183ms/step - loss: 0.0303 - acc: 0.9880 - val_loss: 0.2165 - val_acc: 0.9390\n",
            "Epoch 95/100\n",
            "100/100 [==============================] - 17s 173ms/step - loss: 0.0257 - acc: 0.9930 - val_loss: 0.2381 - val_acc: 0.9340\n",
            "Epoch 96/100\n",
            "100/100 [==============================] - 17s 173ms/step - loss: 0.0202 - acc: 0.9925 - val_loss: 0.3611 - val_acc: 0.9300\n",
            "Epoch 97/100\n",
            "100/100 [==============================] - 17s 173ms/step - loss: 0.0241 - acc: 0.9910 - val_loss: 0.2681 - val_acc: 0.9380\n",
            "Epoch 98/100\n",
            "100/100 [==============================] - 19s 186ms/step - loss: 0.0254 - acc: 0.9925 - val_loss: 0.2676 - val_acc: 0.9360\n",
            "Epoch 99/100\n",
            "100/100 [==============================] - 17s 171ms/step - loss: 0.0204 - acc: 0.9925 - val_loss: 0.4855 - val_acc: 0.9120\n",
            "Epoch 100/100\n",
            "100/100 [==============================] - 17s 172ms/step - loss: 0.0224 - acc: 0.9910 - val_loss: 0.2943 - val_acc: 0.9330\n"
          ],
          "name": "stdout"
        }
      ]
    },
    {
      "cell_type": "code",
      "metadata": {
        "id": "xWow9h9OuwgO",
        "colab_type": "code",
        "colab": {}
      },
      "source": [
        "model.save('cats_and_dogs_small_3.h5')"
      ],
      "execution_count": 0,
      "outputs": []
    },
    {
      "cell_type": "code",
      "metadata": {
        "id": "SsyaPl541pog",
        "colab_type": "code",
        "outputId": "a29fce77-ba0c-4c55-ba58-373ebdd7d191",
        "colab": {
          "base_uri": "https://localhost:8080/",
          "height": 545
        }
      },
      "source": [
        "import matplotlib.pyplot as plt\n",
        "\n",
        "acc = history.history['acc']\n",
        "val_acc = history.history['val_acc']\n",
        "loss = history.history['loss']\n",
        "val_loss = history.history['val_loss']\n",
        "\n",
        "epochs = range(1, len(acc) + 1)\n",
        "\n",
        "plt.plot(epochs, acc, 'bo', label='Training acc')\n",
        "plt.plot(epochs, val_acc, 'b', label='Validation acc')\n",
        "plt.title('Training and validation accuracy')\n",
        "plt.legend()\n",
        "\n",
        "plt.figure()\n",
        "\n",
        "plt.plot(epochs, loss, 'bo', label='Training loss')\n",
        "plt.plot(epochs, val_loss, 'b', label='Validation loss')\n",
        "plt.title('Training and validation loss')\n",
        "plt.legend()\n",
        "\n",
        "plt.show()"
      ],
      "execution_count": 0,
      "outputs": [
        {
          "output_type": "display_data",
          "data": {
            "image/png": "[encoded data removed]",
            "text/plain": [
              "<Figure size 432x288 with 1 Axes>"
            ]
          },
          "metadata": {
            "tags": []
          }
        },
        {
          "output_type": "display_data",
          "data": {
            "image/png": "[encoded data removed]",
            "text/plain": [
              "<Figure size 432x288 with 1 Axes>"
            ]
          },
          "metadata": {
            "tags": []
          }
        }
      ]
    },
    {
      "cell_type": "code",
      "metadata": {
        "id": "OWSt2OJ41vSq",
        "colab_type": "code",
        "outputId": "34c9f5a5-358e-443d-9cf9-59f0669d59c9",
        "colab": {
          "base_uri": "https://localhost:8080/",
          "height": 545
        }
      },
      "source": [
        "def smooth_curve(points, factor=0.8):\n",
        "  smoothed_points = []\n",
        "  for point in points:\n",
        "    if smoothed_points:\n",
        "      previous = smoothed_points[-1]\n",
        "      smoothed_points.append(previous * factor + point * (1 - factor))\n",
        "    else:\n",
        "      smoothed_points.append(point)\n",
        "  return smoothed_points\n",
        "\n",
        "plt.plot(epochs,\n",
        "         smooth_curve(acc), 'bo', label='Smoothed training acc')\n",
        "plt.plot(epochs,\n",
        "         smooth_curve(val_acc), 'b', label='Smoothed validation acc')\n",
        "plt.title('Training and validation accuracy')\n",
        "plt.legend()\n",
        "\n",
        "plt.figure()\n",
        "\n",
        "plt.plot(epochs,\n",
        "         smooth_curve(loss), 'bo', label='Smoothed training loss')\n",
        "plt.plot(epochs,\n",
        "         smooth_curve(val_loss), 'b', label='Smoothed validation loss')\n",
        "plt.title('Training and validation loss')\n",
        "plt.legend()\n",
        "\n",
        "plt.show()"
      ],
      "execution_count": 0,
      "outputs": [
        {
          "output_type": "display_data",
          "data": {
            "image/png": "[encoded data removed]",
            "text/plain": [
              "<Figure size 432x288 with 1 Axes>"
            ]
          },
          "metadata": {
            "tags": []
          }
        },
        {
          "output_type": "display_data",
          "data": {
            "image/png": "[encoded data removed]",
            "text/plain": [
              "<Figure size 432x288 with 1 Axes>"
            ]
          },
          "metadata": {
            "tags": []
          }
        }
      ]
    },
    {
      "cell_type": "code",
      "metadata": {
        "id": "arah287011YK",
        "colab_type": "code",
        "outputId": "006e2cd8-8ae9-4883-f913-84473fe18525",
        "colab": {
          "base_uri": "https://localhost:8080/",
          "height": 52
        }
      },
      "source": [
        "test_generator = test_datagen.flow_from_directory(\n",
        "        test_dir,\n",
        "        target_size=(150, 150),\n",
        "        batch_size=20,\n",
        "        class_mode='binary')\n",
        "\n",
        "test_loss, test_acc = model.evaluate_generator(test_generator, steps=50)\n",
        "print('test acc:', test_acc)"
      ],
      "execution_count": 0,
      "outputs": [
        {
          "output_type": "stream",
          "text": [
            "Found 1000 images belonging to 2 classes.\n",
            "test acc: 0.9329999899864196\n"
          ],
          "name": "stdout"
        }
      ]
    },
    {
      "cell_type": "code",
      "metadata": {
        "id": "NiWmH9o116ab",
        "colab_type": "code",
        "outputId": "b458731e-84af-4cd4-8766-074e6e48ed19",
        "colab": {
          "base_uri": "https://localhost:8080/",
          "height": 124
        }
      },
      "source": [
        "from google.colab import drive\n",
        "drive.mount('/content/gdrive')"
      ],
      "execution_count": 0,
      "outputs": [
        {
          "output_type": "stream",
          "text": [
            "Go to this URL in a browser: https://accounts.google.com/o/oauth2/auth?client_id=947318989803-6bn6qk8qdgf4n4g3pfee6491hc0brc4i.apps.googleusercontent.com&redirect_uri=urn%3Aietf%3Awg%3Aoauth%3A2.0%3Aoob&scope=email%20https%3A%2F%2Fwww.googleapis.com%2Fauth%2Fdocs.test%20https%3A%2F%2Fwww.googleapis.com%2Fauth%2Fdrive%20https%3A%2F%2Fwww.googleapis.com%2Fauth%2Fdrive.photos.readonly%20https%3A%2F%2Fwww.googleapis.com%2Fauth%2Fpeopleapi.readonly&response_type=code\n",
            "\n",
            "Enter your authorization code:\n",
            "··········\n",
            "Mounted at /content/gdrive\n"
          ],
          "name": "stdout"
        }
      ]
    },
    {
      "cell_type": "code",
      "metadata": {
        "id": "vnj_AJl53j8V",
        "colab_type": "code",
        "outputId": "a6316c4b-b361-4e7f-dfa5-aa2bdf49180e",
        "colab": {
          "base_uri": "https://localhost:8080/",
          "height": 55
        }
      },
      "source": [
        "!ls /content/gdrive/My\\ Drive/DeepLearningFiles"
      ],
      "execution_count": 0,
      "outputs": [
        {
          "output_type": "stream",
          "text": [
            "cats_and_dogs_small_1.h5  cats_and_dogs_small_3.h5  foo2.txt  foo3.txt\tfoo.txt\n"
          ],
          "name": "stdout"
        }
      ]
    },
    {
      "cell_type": "code",
      "metadata": {
        "id": "RNVNvaBE4YFy",
        "colab_type": "code",
        "outputId": "926b64fe-345f-4540-aa42-0aad73c10503",
        "colab": {
          "base_uri": "https://localhost:8080/",
          "height": 52
        }
      },
      "source": [
        "!ls "
      ],
      "execution_count": 0,
      "outputs": [
        {
          "output_type": "stream",
          "text": [
            "cats_and_dogs_small\t  cats_and_dogs_small_3.h5  sample_data\n",
            "cats_and_dogs_small_1.h5  gdrive\t\t    train\n"
          ],
          "name": "stdout"
        }
      ]
    },
    {
      "cell_type": "code",
      "metadata": {
        "id": "p0iKeUB44bcX",
        "colab_type": "code",
        "colab": {}
      },
      "source": [
        "!cp *.h5 /content/gdrive/My\\ Drive/DeepLearningFiles"
      ],
      "execution_count": 0,
      "outputs": []
    },
    {
      "cell_type": "code",
      "metadata": {
        "id": "ybs4zqts44g0",
        "colab_type": "code",
        "colab": {}
      },
      "source": [
        ""
      ],
      "execution_count": 0,
      "outputs": []
    }
  ]
}